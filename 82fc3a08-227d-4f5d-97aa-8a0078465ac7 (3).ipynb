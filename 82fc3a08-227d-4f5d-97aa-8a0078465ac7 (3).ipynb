﻿{
 "cells": [
  {
   "cell_type": "markdown",
   "metadata": {},
   "source": [
    "<div class=\"alert alert-success\">\n",
    "<font size=\"4\"><b>Комментарий ревьюера</b></font>\n",
    "    <br /> \n",
    "    <font size=\"3\", color = \"black\">\n",
    "<br />\n",
    "    Привет, Наталья :) Спасибо, что прислала задание :) Меня зовут Ринат Хисамов и я буду проверять твой проект. Предлагаю обращаться друг к другу на ты. Так нам будет гораздо проще и удобней общаться\n",
    "\n",
    "Мои комментарии обозначены пометкой <b>Комментарий ревьюера</b>. Далее в файле сможешь найти их в похожих ячейках (если фон комментария зелёный — всё сделано правильно (✔️), рекомендации таким же цветом. Отдельным цветом — блок ссылок (примеры ниже, 🍕). Оранжевым или светло желтым рекомендации, которые, хоть и не обязательны, но точно сделают ревью лучше. (⚠️); <u> красный комментарий</u>: код, график или вывод стоит переделать (❌)). \n",
    "\n",
    "Не удаляй все эти комментарии и постарайся учесть их в ходе выполнения данного проекта. \n",
    "Будет замечательно, если добавишь свои комментарии и пояснения✍\n",
    "        \n",
    "Поехали 🚀\n",
    "    <br />\n",
    "    </font>\n",
    "\n",
    "</div>"
   ]
  },
  {
   "cell_type": "markdown",
   "metadata": {},
   "source": [
    "<div style=\"border:solid steelblue 1px; padding: 20px\">\n",
    "    \n",
    "<font size=\"4\"><p style=\"text-align:center\"><b>Примеры комментариев </b></p></font>\n",
    "    \n",
    "<div style=\"border:solid steelblue 3px; padding: 20px\">\n",
    "<font size=\"4\"><b>🍕 Пример комментария - совета, здесь м.б. просто ссылка</b></font>\n",
    "    <br /> \n",
    "        <font size=\"3\", color = \"black\">\n",
    "<br />\n",
    "    Тут всего такого разного и вкусного :), есть способы прокачать проект визуализациями (ценит большинство \"боссов\")  <br /><br />\n",
    "        <a href=\"https://pyprog.pro/mpl/mpl_short_guide.html\">Краткое руководство по Matplotlib</a>\n",
    "        На сайте много полезных материалов, мне самому очень помогло в свое время, до сих пор подсматриваю :)\n",
    "\n",
    "\n",
    "</div>\n",
    "    \n",
    "<div class=\"alert alert-warning\", style=\"border:solid coral 3px; padding: 20px\">\n",
    "    <font size=\"3\"><b>⚠️ Пример оформления некритичного комментария</b>\n",
    "    <br /> \n",
    "    <font size=\"2\", color = \"black\">\n",
    "<br />\n",
    "    Рекомендации, которые, хоть и не обязательны, но точно сделают ревью лучше\n",
    "    <br />\n",
    "    </font>\n",
    "\n",
    "</div>\n",
    "    \n",
    "<div class=\"alert alert-danger\">\n",
    "<font size=\"3\"><b>❌ Пример оформления комментария к блоку(строке) программного кода (или выводу), который стоит переделать</b></font>\n",
    "    <br /> \n",
    "    <font size=\"2\", color = \"black\">\n",
    "<br />\n",
    "    Отправлен не тот проект, напиши в своих комментариях, что случилось? жду — <b>это пример</b>\n",
    "    <br />\n",
    "    </font>\n",
    "\n",
    "</div>\n",
    "    \n",
    "<div class=\"alert alert-success\">\n",
    "<font size=\"4\"><b>✔️ Пример оформления комментария, который нравится большинству студентов</b></font>\n",
    "    <br /> \n",
    "    <font size=\"3\", color = \"black\">\n",
    "<br />\n",
    "    Круто, молодец, отлично, логично, или — 👌, 👍, или — выводы отвечают на все вопросы к данным и проекту\n",
    "    <br />\n",
    "    </font>\n",
    "\n",
    "</div>"
   ]
  },
  {
   "cell_type": "markdown",
   "metadata": {},
   "source": [
    "# Для твоих вопросов или комментариев оставлю такую ячейку, чтобы было удобнее взаимодействовать на проекте"
   ]
  },
  {
   "cell_type": "markdown",
   "metadata": {},
   "source": [
    "<div class=\"alert alert-info\">\n",
    "<font size=\"4\", color = \"black\"><b>✍ Комментарий студента</b></font>\n",
    "    <br /> \n",
    "    <font size=\"3\", color = \"black\">\n",
    "<br /> ... , вот мой вопрос ...\n",
    "        \n",
    "        "
   ]
  },
  {
   "cell_type": "markdown",
   "metadata": {},
   "source": [
    "# Анализ и исследование продаж по компьютерным играм\n",
    "\n",
    "Вы работаете в интернет-магазине «Стримчик», который продаёт по всему миру компьютерные игры. Из открытых источников доступны исторические данные о продажах игр, оценки пользователей и экспертов, жанры и платформы (например, Xbox или PlayStation). Вам нужно выявить определяющие успешность игры закономерности. Это позволит сделать ставку на потенциально популярный продукт и спланировать рекламные кампании."
   ]
  },
  {
   "cell_type": "markdown",
   "metadata": {},
   "source": [
    "Этапы нашего анализа:  \n",
    "**Шаг 1.** Открыть файл с данными и изучить общую информацию  \n",
    "**Шаг 2.** Подготовить данные (преобразование данных в нужный тип, работа с пропусками, дубликаты и тд.)  \n",
    "Посчитать суммарные продажи во всех регионах и запишите их в отдельный столбец.  \n",
    "**Шаг 3.** Провести исследовательский анализ данных   \n",
    "**Шаг 4.** Составить портрет пользователя каждого региона    \n",
    "**Шаг 5.** Проверить гипотезы  \n",
    "**Шаг 6.** Написать общий вывод  \n",
    "\n",
    "**Описание данных**  \n",
    "**Name** — название игры  \n",
    "**Platform** — платформа  \n",
    "**Year_of_Release** — год выпуска  \n",
    "**Genre** — жанр игры  \n",
    "**NA_sales** — продажи в Северной Америке (миллионы проданных копий)  \n",
    "**EU_sales** — продажи в Европе (миллионы проданных копий)  \n",
    "**JP_sales** — продажи в Японии (миллионы проданных копий)  \n",
    "**Other_sales** — продажи в других странах (миллионы проданных копий)  \n",
    "**Critic_Score** — оценка критиков (максимум 100)  \n",
    "**User_Score** — оценка пользователей (максимум 10)  \n",
    "**Rating** — рейтинг от организации ESRB (англ. Entertainment Software Rating Board). Эта ассоциация определяет рейтинг компьютерных игр и присваивает им подходящую возрастную категорию.  \n",
    "Данные за 2016 год могут быть неполными.  "
   ]
  },
  {
   "cell_type": "markdown",
   "metadata": {},
   "source": [
    "<div class=\"alert alert-warning\", style=\"border:solid coral 3px; padding: 20px\">\n",
    "<font size=\"4\", color = \"DimGrey\"><b>⚠️ Комментарий ревьюера</b></font>\n",
    "    <br /> \n",
    "    <font size=\"3\", color = \"black\">\n",
    "<br />\n",
    "Название, краткое вступление в работу и главная задача зафиксированы. \n",
    "        \n",
    "Четкий план работ и перечень основных задач позволит коллегам быстрее вникнуть в суть проекта, + будет легче  идти к главной цели проекта"
   ]
  },
  {
   "cell_type": "markdown",
   "metadata": {},
   "source": [
    "<div class=\"alert alert-info\">\n",
    "<font size=\"4\", color = \"black\"><b>✍ Комментарий студента</b></font>\n",
    "    <br /> \n",
    "    <font size=\"3\", color = \"black\">\n",
    "<br />         \n",
    "Ринат, привет! Спасибо, что взялся за мой проект) Раз уж править проект, то и по желтым правкам я решилась пройтись.\n",
    "Подскажи, пожалуйста,  насколько \"большое\" может быть вступление? Я решила максимально сократить наши шаги по проекту, чтобы тот, кто читает мое исследование, возможно, сразу заглянул в интересующий его шаг. А вот нужно ли там расписывать более подробно что и как мы будем делать? И нужно ли описание данных?\n",
    "        \n",
    "        "
   ]
  },
  {
   "cell_type": "markdown",
   "metadata": {},
   "source": [
    "## Откроем файл с данными и изучим общую информацию"
   ]
  },
  {
   "cell_type": "code",
   "execution_count": 1,
   "metadata": {},
   "outputs": [],
   "source": [
    "# импорт библиотек\n",
    "import pandas as pd\n",
    "import numpy as np\n",
    "from matplotlib import pyplot as plt\n",
    "import matplotlib\n",
    "import seaborn as sns\n",
    "from scipy import stats as st"
   ]
  },
  {
   "cell_type": "markdown",
   "metadata": {},
   "source": [
    "<div class=\"alert alert-success\">\n",
    "<font size=\"4\", color= \"seagreen\"><b>✔️ Комментарий ревьюера</b></font>\n",
    "    <br /> \n",
    "    <font size=\"3\", color = \"black\">\n",
    "<br />Молодец, что делишь блоки загрузки библиотек и датасета, в случае необходимости добавления новых библиотек не придется загружать весь датасет заново и перезапускать проект целиком"
   ]
  },
  {
   "cell_type": "code",
   "execution_count": 2,
   "metadata": {},
   "outputs": [],
   "source": [
    "# чтение файла с данными и сохранение в data\n",
    "try:\n",
    "    data = pd.read_csv('games.csv', sep = ',')\n",
    "except:\n",
    "    data = pd.read_csv('/datasets/games.csv', sep = ',')\n",
    "    "
   ]
  },
  {
   "cell_type": "code",
   "execution_count": 3,
   "metadata": {},
   "outputs": [
    {
     "data": {
      "text/html": [
       "<div>\n",
       "<style scoped>\n",
       "    .dataframe tbody tr th:only-of-type {\n",
       "        vertical-align: middle;\n",
       "    }\n",
       "\n",
       "    .dataframe tbody tr th {\n",
       "        vertical-align: top;\n",
       "    }\n",
       "\n",
       "    .dataframe thead th {\n",
       "        text-align: right;\n",
       "    }\n",
       "</style>\n",
       "<table border=\"1\" class=\"dataframe\">\n",
       "  <thead>\n",
       "    <tr style=\"text-align: right;\">\n",
       "      <th></th>\n",
       "      <th>Name</th>\n",
       "      <th>Platform</th>\n",
       "      <th>Year_of_Release</th>\n",
       "      <th>Genre</th>\n",
       "      <th>NA_sales</th>\n",
       "      <th>EU_sales</th>\n",
       "      <th>JP_sales</th>\n",
       "      <th>Other_sales</th>\n",
       "      <th>Critic_Score</th>\n",
       "      <th>User_Score</th>\n",
       "      <th>Rating</th>\n",
       "    </tr>\n",
       "  </thead>\n",
       "  <tbody>\n",
       "    <tr>\n",
       "      <th>0</th>\n",
       "      <td>Wii Sports</td>\n",
       "      <td>Wii</td>\n",
       "      <td>2006.0</td>\n",
       "      <td>Sports</td>\n",
       "      <td>41.36</td>\n",
       "      <td>28.96</td>\n",
       "      <td>3.77</td>\n",
       "      <td>8.45</td>\n",
       "      <td>76.0</td>\n",
       "      <td>8</td>\n",
       "      <td>E</td>\n",
       "    </tr>\n",
       "    <tr>\n",
       "      <th>1</th>\n",
       "      <td>Super Mario Bros.</td>\n",
       "      <td>NES</td>\n",
       "      <td>1985.0</td>\n",
       "      <td>Platform</td>\n",
       "      <td>29.08</td>\n",
       "      <td>3.58</td>\n",
       "      <td>6.81</td>\n",
       "      <td>0.77</td>\n",
       "      <td>NaN</td>\n",
       "      <td>NaN</td>\n",
       "      <td>NaN</td>\n",
       "    </tr>\n",
       "    <tr>\n",
       "      <th>2</th>\n",
       "      <td>Mario Kart Wii</td>\n",
       "      <td>Wii</td>\n",
       "      <td>2008.0</td>\n",
       "      <td>Racing</td>\n",
       "      <td>15.68</td>\n",
       "      <td>12.76</td>\n",
       "      <td>3.79</td>\n",
       "      <td>3.29</td>\n",
       "      <td>82.0</td>\n",
       "      <td>8.3</td>\n",
       "      <td>E</td>\n",
       "    </tr>\n",
       "    <tr>\n",
       "      <th>3</th>\n",
       "      <td>Wii Sports Resort</td>\n",
       "      <td>Wii</td>\n",
       "      <td>2009.0</td>\n",
       "      <td>Sports</td>\n",
       "      <td>15.61</td>\n",
       "      <td>10.93</td>\n",
       "      <td>3.28</td>\n",
       "      <td>2.95</td>\n",
       "      <td>80.0</td>\n",
       "      <td>8</td>\n",
       "      <td>E</td>\n",
       "    </tr>\n",
       "    <tr>\n",
       "      <th>4</th>\n",
       "      <td>Pokemon Red/Pokemon Blue</td>\n",
       "      <td>GB</td>\n",
       "      <td>1996.0</td>\n",
       "      <td>Role-Playing</td>\n",
       "      <td>11.27</td>\n",
       "      <td>8.89</td>\n",
       "      <td>10.22</td>\n",
       "      <td>1.00</td>\n",
       "      <td>NaN</td>\n",
       "      <td>NaN</td>\n",
       "      <td>NaN</td>\n",
       "    </tr>\n",
       "    <tr>\n",
       "      <th>5</th>\n",
       "      <td>Tetris</td>\n",
       "      <td>GB</td>\n",
       "      <td>1989.0</td>\n",
       "      <td>Puzzle</td>\n",
       "      <td>23.20</td>\n",
       "      <td>2.26</td>\n",
       "      <td>4.22</td>\n",
       "      <td>0.58</td>\n",
       "      <td>NaN</td>\n",
       "      <td>NaN</td>\n",
       "      <td>NaN</td>\n",
       "    </tr>\n",
       "    <tr>\n",
       "      <th>6</th>\n",
       "      <td>New Super Mario Bros.</td>\n",
       "      <td>DS</td>\n",
       "      <td>2006.0</td>\n",
       "      <td>Platform</td>\n",
       "      <td>11.28</td>\n",
       "      <td>9.14</td>\n",
       "      <td>6.50</td>\n",
       "      <td>2.88</td>\n",
       "      <td>89.0</td>\n",
       "      <td>8.5</td>\n",
       "      <td>E</td>\n",
       "    </tr>\n",
       "    <tr>\n",
       "      <th>7</th>\n",
       "      <td>Wii Play</td>\n",
       "      <td>Wii</td>\n",
       "      <td>2006.0</td>\n",
       "      <td>Misc</td>\n",
       "      <td>13.96</td>\n",
       "      <td>9.18</td>\n",
       "      <td>2.93</td>\n",
       "      <td>2.84</td>\n",
       "      <td>58.0</td>\n",
       "      <td>6.6</td>\n",
       "      <td>E</td>\n",
       "    </tr>\n",
       "    <tr>\n",
       "      <th>8</th>\n",
       "      <td>New Super Mario Bros. Wii</td>\n",
       "      <td>Wii</td>\n",
       "      <td>2009.0</td>\n",
       "      <td>Platform</td>\n",
       "      <td>14.44</td>\n",
       "      <td>6.94</td>\n",
       "      <td>4.70</td>\n",
       "      <td>2.24</td>\n",
       "      <td>87.0</td>\n",
       "      <td>8.4</td>\n",
       "      <td>E</td>\n",
       "    </tr>\n",
       "    <tr>\n",
       "      <th>9</th>\n",
       "      <td>Duck Hunt</td>\n",
       "      <td>NES</td>\n",
       "      <td>1984.0</td>\n",
       "      <td>Shooter</td>\n",
       "      <td>26.93</td>\n",
       "      <td>0.63</td>\n",
       "      <td>0.28</td>\n",
       "      <td>0.47</td>\n",
       "      <td>NaN</td>\n",
       "      <td>NaN</td>\n",
       "      <td>NaN</td>\n",
       "    </tr>\n",
       "  </tbody>\n",
       "</table>\n",
       "</div>"
      ],
      "text/plain": [
       "                        Name Platform  Year_of_Release         Genre  \\\n",
       "0                 Wii Sports      Wii           2006.0        Sports   \n",
       "1          Super Mario Bros.      NES           1985.0      Platform   \n",
       "2             Mario Kart Wii      Wii           2008.0        Racing   \n",
       "3          Wii Sports Resort      Wii           2009.0        Sports   \n",
       "4   Pokemon Red/Pokemon Blue       GB           1996.0  Role-Playing   \n",
       "5                     Tetris       GB           1989.0        Puzzle   \n",
       "6      New Super Mario Bros.       DS           2006.0      Platform   \n",
       "7                   Wii Play      Wii           2006.0          Misc   \n",
       "8  New Super Mario Bros. Wii      Wii           2009.0      Platform   \n",
       "9                  Duck Hunt      NES           1984.0       Shooter   \n",
       "\n",
       "   NA_sales  EU_sales  JP_sales  Other_sales  Critic_Score User_Score Rating  \n",
       "0     41.36     28.96      3.77         8.45          76.0          8      E  \n",
       "1     29.08      3.58      6.81         0.77           NaN        NaN    NaN  \n",
       "2     15.68     12.76      3.79         3.29          82.0        8.3      E  \n",
       "3     15.61     10.93      3.28         2.95          80.0          8      E  \n",
       "4     11.27      8.89     10.22         1.00           NaN        NaN    NaN  \n",
       "5     23.20      2.26      4.22         0.58           NaN        NaN    NaN  \n",
       "6     11.28      9.14      6.50         2.88          89.0        8.5      E  \n",
       "7     13.96      9.18      2.93         2.84          58.0        6.6      E  \n",
       "8     14.44      6.94      4.70         2.24          87.0        8.4      E  \n",
       "9     26.93      0.63      0.28         0.47           NaN        NaN    NaN  "
      ]
     },
     "execution_count": 3,
     "metadata": {},
     "output_type": "execute_result"
    }
   ],
   "source": [
    "#получение первых 10 строк таблицы data\n",
    "data.head(10)"
   ]
  },
  {
   "cell_type": "code",
   "execution_count": 4,
   "metadata": {},
   "outputs": [
    {
     "name": "stdout",
     "output_type": "stream",
     "text": [
      "<class 'pandas.core.frame.DataFrame'>\n",
      "RangeIndex: 16715 entries, 0 to 16714\n",
      "Data columns (total 11 columns):\n",
      " #   Column           Non-Null Count  Dtype  \n",
      "---  ------           --------------  -----  \n",
      " 0   Name             16713 non-null  object \n",
      " 1   Platform         16715 non-null  object \n",
      " 2   Year_of_Release  16446 non-null  float64\n",
      " 3   Genre            16713 non-null  object \n",
      " 4   NA_sales         16715 non-null  float64\n",
      " 5   EU_sales         16715 non-null  float64\n",
      " 6   JP_sales         16715 non-null  float64\n",
      " 7   Other_sales      16715 non-null  float64\n",
      " 8   Critic_Score     8137 non-null   float64\n",
      " 9   User_Score       10014 non-null  object \n",
      " 10  Rating           9949 non-null   object \n",
      "dtypes: float64(6), object(5)\n",
      "memory usage: 1.4+ MB\n"
     ]
    }
   ],
   "source": [
    "#вывод основной информации о таблице data\n",
    "data.info()"
   ]
  },
  {
   "cell_type": "markdown",
   "metadata": {},
   "source": [
    "<div class=\"alert alert-success\">\n",
    "<font size=\"4\", color= \"seagreen\"><b>✔️ Комментарий ревьюера</b></font>\n",
    "    <br /> \n",
    "    <font size=\"3\", color = \"black\">\n",
    "<br /> обзор данных проведен корректно"
   ]
  },
  {
   "cell_type": "markdown",
   "metadata": {},
   "source": [
    "## Подготовим данные"
   ]
  },
  {
   "cell_type": "code",
   "execution_count": 5,
   "metadata": {},
   "outputs": [
    {
     "data": {
      "text/plain": [
       "Index(['name', 'platform', 'year_of_release', 'genre', 'na_sales', 'eu_sales',\n",
       "       'jp_sales', 'other_sales', 'critic_score', 'user_score', 'rating'],\n",
       "      dtype='object')"
      ]
     },
     "execution_count": 5,
     "metadata": {},
     "output_type": "execute_result"
    }
   ],
   "source": [
    "#приведем столбцы к нижнему регистру название столбцов\n",
    "data.columns = data.columns.str.lower()\n",
    "data.columns"
   ]
  },
  {
   "cell_type": "markdown",
   "metadata": {},
   "source": [
    "<div class=\"alert alert-success\">\n",
    "<font size=\"4\", color= \"seagreen\"><b>✔️ Комментарий ревьюера</b></font>\n",
    "    <br /> \n",
    "    <font size=\"3\", color = \"black\">\n",
    "<br />стоит привести к нижнему регистру и содержимое категориальных столбцов, в т.ч. с целью поиска дубликатов"
   ]
  },
  {
   "cell_type": "code",
   "execution_count": 6,
   "metadata": {},
   "outputs": [
    {
     "data": {
      "text/plain": [
       "name                  2\n",
       "platform              0\n",
       "year_of_release     269\n",
       "genre                 2\n",
       "na_sales              0\n",
       "eu_sales              0\n",
       "jp_sales              0\n",
       "other_sales           0\n",
       "critic_score       8578\n",
       "user_score         6701\n",
       "rating             6766\n",
       "dtype: int64"
      ]
     },
     "execution_count": 6,
     "metadata": {},
     "output_type": "execute_result"
    }
   ],
   "source": [
    "#посмотрим общее количество пропусков по столбцам\n",
    "\n",
    "data.isna().sum()"
   ]
  },
  {
   "cell_type": "code",
   "execution_count": 7,
   "metadata": {},
   "outputs": [
    {
     "data": {
      "text/html": [
       "<style  type=\"text/css\" >\n",
       "#T_d8aea_row0_col0,#T_d8aea_row1_col0,#T_d8aea_row3_col0,#T_d8aea_row4_col0,#T_d8aea_row5_col0,#T_d8aea_row6_col0,#T_d8aea_row7_col0{\n",
       "            background-color:  #3b4cc0;\n",
       "            color:  #f1f1f1;\n",
       "        }#T_d8aea_row2_col0{\n",
       "            background-color:  #4358cb;\n",
       "            color:  #f1f1f1;\n",
       "        }#T_d8aea_row8_col0{\n",
       "            background-color:  #b40426;\n",
       "            color:  #f1f1f1;\n",
       "        }#T_d8aea_row9_col0{\n",
       "            background-color:  #f08b6e;\n",
       "            color:  #000000;\n",
       "        }#T_d8aea_row10_col0{\n",
       "            background-color:  #ef886b;\n",
       "            color:  #000000;\n",
       "        }</style><table id=\"T_d8aea_\" ><thead>    <tr>        <th class=\"blank level0\" ></th>        <th class=\"col_heading level0 col0\" >0</th>    </tr></thead><tbody>\n",
       "                <tr>\n",
       "                        <th id=\"T_d8aea_level0_row0\" class=\"row_heading level0 row0\" >name</th>\n",
       "                        <td id=\"T_d8aea_row0_col0\" class=\"data row0 col0\" >0.000000</td>\n",
       "            </tr>\n",
       "            <tr>\n",
       "                        <th id=\"T_d8aea_level0_row1\" class=\"row_heading level0 row1\" >platform</th>\n",
       "                        <td id=\"T_d8aea_row1_col0\" class=\"data row1 col0\" >0.000000</td>\n",
       "            </tr>\n",
       "            <tr>\n",
       "                        <th id=\"T_d8aea_level0_row2\" class=\"row_heading level0 row2\" >year_of_release</th>\n",
       "                        <td id=\"T_d8aea_row2_col0\" class=\"data row2 col0\" >1.600000</td>\n",
       "            </tr>\n",
       "            <tr>\n",
       "                        <th id=\"T_d8aea_level0_row3\" class=\"row_heading level0 row3\" >genre</th>\n",
       "                        <td id=\"T_d8aea_row3_col0\" class=\"data row3 col0\" >0.000000</td>\n",
       "            </tr>\n",
       "            <tr>\n",
       "                        <th id=\"T_d8aea_level0_row4\" class=\"row_heading level0 row4\" >na_sales</th>\n",
       "                        <td id=\"T_d8aea_row4_col0\" class=\"data row4 col0\" >0.000000</td>\n",
       "            </tr>\n",
       "            <tr>\n",
       "                        <th id=\"T_d8aea_level0_row5\" class=\"row_heading level0 row5\" >eu_sales</th>\n",
       "                        <td id=\"T_d8aea_row5_col0\" class=\"data row5 col0\" >0.000000</td>\n",
       "            </tr>\n",
       "            <tr>\n",
       "                        <th id=\"T_d8aea_level0_row6\" class=\"row_heading level0 row6\" >jp_sales</th>\n",
       "                        <td id=\"T_d8aea_row6_col0\" class=\"data row6 col0\" >0.000000</td>\n",
       "            </tr>\n",
       "            <tr>\n",
       "                        <th id=\"T_d8aea_level0_row7\" class=\"row_heading level0 row7\" >other_sales</th>\n",
       "                        <td id=\"T_d8aea_row7_col0\" class=\"data row7 col0\" >0.000000</td>\n",
       "            </tr>\n",
       "            <tr>\n",
       "                        <th id=\"T_d8aea_level0_row8\" class=\"row_heading level0 row8\" >critic_score</th>\n",
       "                        <td id=\"T_d8aea_row8_col0\" class=\"data row8 col0\" >51.300000</td>\n",
       "            </tr>\n",
       "            <tr>\n",
       "                        <th id=\"T_d8aea_level0_row9\" class=\"row_heading level0 row9\" >user_score</th>\n",
       "                        <td id=\"T_d8aea_row9_col0\" class=\"data row9 col0\" >40.100000</td>\n",
       "            </tr>\n",
       "            <tr>\n",
       "                        <th id=\"T_d8aea_level0_row10\" class=\"row_heading level0 row10\" >rating</th>\n",
       "                        <td id=\"T_d8aea_row10_col0\" class=\"data row10 col0\" >40.500000</td>\n",
       "            </tr>\n",
       "    </tbody></table>"
      ],
      "text/plain": [
       "<pandas.io.formats.style.Styler at 0x7f64eb407eb0>"
      ]
     },
     "execution_count": 7,
     "metadata": {},
     "output_type": "execute_result"
    }
   ],
   "source": [
    "pd.DataFrame(round(data.isna().mean()*100,1)).style.background_gradient('coolwarm')"
   ]
  },
  {
   "cell_type": "code",
   "execution_count": 8,
   "metadata": {
    "scrolled": true
   },
   "outputs": [
    {
     "data": {
      "text/html": [
       "<div>\n",
       "<style scoped>\n",
       "    .dataframe tbody tr th:only-of-type {\n",
       "        vertical-align: middle;\n",
       "    }\n",
       "\n",
       "    .dataframe tbody tr th {\n",
       "        vertical-align: top;\n",
       "    }\n",
       "\n",
       "    .dataframe thead th {\n",
       "        text-align: right;\n",
       "    }\n",
       "</style>\n",
       "<table border=\"1\" class=\"dataframe\">\n",
       "  <thead>\n",
       "    <tr style=\"text-align: right;\">\n",
       "      <th></th>\n",
       "      <th>name</th>\n",
       "      <th>platform</th>\n",
       "      <th>year_of_release</th>\n",
       "      <th>genre</th>\n",
       "      <th>na_sales</th>\n",
       "      <th>eu_sales</th>\n",
       "      <th>jp_sales</th>\n",
       "      <th>other_sales</th>\n",
       "      <th>critic_score</th>\n",
       "      <th>user_score</th>\n",
       "      <th>rating</th>\n",
       "    </tr>\n",
       "  </thead>\n",
       "  <tbody>\n",
       "    <tr>\n",
       "      <th>659</th>\n",
       "      <td>NaN</td>\n",
       "      <td>GEN</td>\n",
       "      <td>1993.0</td>\n",
       "      <td>NaN</td>\n",
       "      <td>1.78</td>\n",
       "      <td>0.53</td>\n",
       "      <td>0.00</td>\n",
       "      <td>0.08</td>\n",
       "      <td>NaN</td>\n",
       "      <td>NaN</td>\n",
       "      <td>NaN</td>\n",
       "    </tr>\n",
       "    <tr>\n",
       "      <th>14244</th>\n",
       "      <td>NaN</td>\n",
       "      <td>GEN</td>\n",
       "      <td>1993.0</td>\n",
       "      <td>NaN</td>\n",
       "      <td>0.00</td>\n",
       "      <td>0.00</td>\n",
       "      <td>0.03</td>\n",
       "      <td>0.00</td>\n",
       "      <td>NaN</td>\n",
       "      <td>NaN</td>\n",
       "      <td>NaN</td>\n",
       "    </tr>\n",
       "  </tbody>\n",
       "</table>\n",
       "</div>"
      ],
      "text/plain": [
       "      name platform  year_of_release genre  na_sales  eu_sales  jp_sales  \\\n",
       "659    NaN      GEN           1993.0   NaN      1.78      0.53      0.00   \n",
       "14244  NaN      GEN           1993.0   NaN      0.00      0.00      0.03   \n",
       "\n",
       "       other_sales  critic_score user_score rating  \n",
       "659           0.08           NaN        NaN    NaN  \n",
       "14244         0.00           NaN        NaN    NaN  "
      ]
     },
     "execution_count": 8,
     "metadata": {},
     "output_type": "execute_result"
    }
   ],
   "source": [
    "#посмотрим пропуски в столбце name \n",
    "data.loc[data['name'].isna() == True]"
   ]
  },
  {
   "cell_type": "markdown",
   "metadata": {},
   "source": [
    "В этих двух строчках также пропущены значения в столбце жанр, оценки и рейтинг. Восстановить мы их не сможем,а них отсутствует важная для нас информация, поэтому удалим их."
   ]
  },
  {
   "cell_type": "markdown",
   "metadata": {},
   "source": [
    "<div class=\"alert alert-success\">\n",
    "<font size=\"4\", color= \"seagreen\"><b>✔️ Комментарий ревьюера</b></font>\n",
    "    <br /> \n",
    "    <font size=\"3\", color = \"black\">\n",
    "<br />верное решение"
   ]
  },
  {
   "cell_type": "code",
   "execution_count": 9,
   "metadata": {},
   "outputs": [],
   "source": [
    "data = data.dropna(subset=['name']) "
   ]
  },
  {
   "cell_type": "code",
   "execution_count": 10,
   "metadata": {
    "scrolled": true
   },
   "outputs": [
    {
     "data": {
      "text/plain": [
       "array([2006., 1985., 2008., 2009., 1996., 1989., 1984., 2005., 1999.,\n",
       "       2007., 2010., 2013., 2004., 1990., 1988., 2002., 2001., 2011.,\n",
       "       1998., 2015., 2012., 2014., 1992., 1997., 1993., 1994., 1982.,\n",
       "       2016., 2003., 1986., 2000.,   nan, 1995., 1991., 1981., 1987.,\n",
       "       1980., 1983.])"
      ]
     },
     "execution_count": 10,
     "metadata": {},
     "output_type": "execute_result"
    }
   ],
   "source": [
    "#посмотрим на данные в столбце year_of_release\n",
    "data['year_of_release'].unique()"
   ]
  },
  {
   "cell_type": "code",
   "execution_count": 11,
   "metadata": {
    "scrolled": false
   },
   "outputs": [
    {
     "name": "stdout",
     "output_type": "stream",
     "text": [
      "59.15\n",
      "4400.570000000001\n",
      "24.46\n",
      "6.699999999999999\n",
      "8.610000000000003\n"
     ]
    }
   ],
   "source": [
    "#проверить сумму продаж по регионам, где имеются пропуски в столбце year_of_release\n",
    "print(data.query('year_of_release.isna()')['na_sales'].sum())\n",
    "print(data.query('year_of_release != 0')['na_sales'].sum())\n",
    "print(data.query('year_of_release.isna()')['eu_sales'].sum())\n",
    "print(data.query('year_of_release.isna()')['jp_sales'].sum())\n",
    "print(data.query('year_of_release.isna()')['other_sales'].sum())"
   ]
  },
  {
   "cell_type": "markdown",
   "metadata": {},
   "source": [
    "Так как пропусков по столбцу *year_of_release* не так много (1,6 % от общего количества)и мы проверили, что сумма продаж по ним не составляет большим сумм, то есть не исказит сильно наши данные, мы их удалим.Восстановить, если мы и сможем, то только часть(например, если в названии игры встречается год и то, это не 100% факт, что игра вышла в этом году), а в нашем анализе данный столбец важен для дальнейшего исследования."
   ]
  },
  {
   "cell_type": "code",
   "execution_count": 12,
   "metadata": {},
   "outputs": [],
   "source": [
    "data = data.dropna(subset=['year_of_release']) \n"
   ]
  },
  {
   "cell_type": "markdown",
   "metadata": {},
   "source": [
    "<div class=\"alert alert-warning\", style=\"border:solid coral 3px; padding: 20px\">\n",
    "<font size=\"4\", color = \"DimGrey\"><b>⚠️ Комментарий ревьюера</b></font>\n",
    "    <br /> \n",
    "    <font size=\"3\", color = \"black\">\n",
    "<br />Решение верное, перед удалением стоит посмотреть на записи — может они по 100 млн. продаж принесли ..."
   ]
  },
  {
   "cell_type": "markdown",
   "metadata": {},
   "source": [
    "<div class=\"alert alert-info\">\n",
    "<font size=\"4\", color = \"black\"><b>✍ Комментарий студента</b></font>\n",
    "    <br /> \n",
    "    <font size=\"3\", color = \"black\">\n",
    "<br />         \n",
    "Тут я добавила проверку по продажам"
   ]
  },
  {
   "cell_type": "code",
   "execution_count": 13,
   "metadata": {},
   "outputs": [],
   "source": [
    "# изменим данные в стоблце year_of_release на int, так как год не может быть числом с плавающей точкой\n",
    "data['year_of_release'] = data['year_of_release'].astype('int')"
   ]
  },
  {
   "cell_type": "code",
   "execution_count": 14,
   "metadata": {
    "scrolled": false
   },
   "outputs": [
    {
     "data": {
      "text/plain": [
       "array([76., nan, 82., 80., 89., 58., 87., 91., 61., 97., 95., 77., 88.,\n",
       "       83., 94., 93., 85., 86., 98., 96., 90., 84., 73., 74., 78., 92.,\n",
       "       71., 72., 68., 62., 49., 67., 81., 66., 56., 79., 70., 59., 64.,\n",
       "       75., 60., 63., 69., 50., 25., 42., 44., 55., 48., 57., 29., 47.,\n",
       "       65., 54., 20., 53., 37., 38., 33., 52., 30., 32., 43., 45., 51.,\n",
       "       40., 46., 39., 34., 41., 36., 31., 27., 35., 26., 19., 28., 23.,\n",
       "       24., 21., 17., 13.])"
      ]
     },
     "execution_count": 14,
     "metadata": {},
     "output_type": "execute_result"
    }
   ],
   "source": [
    "# посмотрим детальнее значения в столбце critic_score\n",
    "data['critic_score'].unique()"
   ]
  },
  {
   "cell_type": "markdown",
   "metadata": {},
   "source": [
    "В данном столбце все данные целые, поэтому приведем его к соответствующему формату."
   ]
  },
  {
   "cell_type": "code",
   "execution_count": 15,
   "metadata": {
    "scrolled": false
   },
   "outputs": [],
   "source": [
    "data['critic_score'] = data['critic_score'].astype('Int64')"
   ]
  },
  {
   "cell_type": "code",
   "execution_count": 16,
   "metadata": {
    "scrolled": true
   },
   "outputs": [
    {
     "data": {
      "text/plain": [
       "array(['8', nan, '8.3', '8.5', '6.6', '8.4', '8.6', '7.7', '6.3', '7.4',\n",
       "       '8.2', '9', '7.9', '8.1', '8.7', '7.1', '3.4', '5.3', '4.8', '3.2',\n",
       "       '8.9', '6.4', '7.8', '7.5', '2.6', '7.2', '9.2', '7', '7.3', '4.3',\n",
       "       '7.6', '5.7', '5', '9.1', '6.5', 'tbd', '8.8', '6.9', '9.4', '6.8',\n",
       "       '6.1', '6.7', '5.4', '4', '4.9', '4.5', '9.3', '6.2', '4.2', '6',\n",
       "       '3.7', '4.1', '5.8', '5.6', '5.5', '4.4', '4.6', '5.9', '3.9',\n",
       "       '3.1', '2.9', '5.2', '3.3', '4.7', '5.1', '3.5', '2.5', '1.9', '3',\n",
       "       '2.7', '2.2', '2', '9.5', '2.1', '3.6', '2.8', '1.8', '3.8', '0',\n",
       "       '1.6', '9.6', '2.4', '1.7', '1.1', '0.3', '1.5', '0.7', '1.2',\n",
       "       '2.3', '0.5', '1.3', '0.2', '0.6', '1.4', '0.9', '1', '9.7'],\n",
       "      dtype=object)"
      ]
     },
     "execution_count": 16,
     "metadata": {},
     "output_type": "execute_result"
    }
   ],
   "source": [
    "# посмотрим детальнее значения в столбце user_score\n",
    "data['user_score'].unique()"
   ]
  },
  {
   "cell_type": "code",
   "execution_count": 17,
   "metadata": {
    "scrolled": false
   },
   "outputs": [
    {
     "data": {
      "text/html": [
       "<div>\n",
       "<style scoped>\n",
       "    .dataframe tbody tr th:only-of-type {\n",
       "        vertical-align: middle;\n",
       "    }\n",
       "\n",
       "    .dataframe tbody tr th {\n",
       "        vertical-align: top;\n",
       "    }\n",
       "\n",
       "    .dataframe thead th {\n",
       "        text-align: right;\n",
       "    }\n",
       "</style>\n",
       "<table border=\"1\" class=\"dataframe\">\n",
       "  <thead>\n",
       "    <tr style=\"text-align: right;\">\n",
       "      <th></th>\n",
       "      <th>name</th>\n",
       "      <th>platform</th>\n",
       "      <th>year_of_release</th>\n",
       "      <th>genre</th>\n",
       "      <th>na_sales</th>\n",
       "      <th>eu_sales</th>\n",
       "      <th>jp_sales</th>\n",
       "      <th>other_sales</th>\n",
       "      <th>critic_score</th>\n",
       "      <th>user_score</th>\n",
       "      <th>rating</th>\n",
       "    </tr>\n",
       "  </thead>\n",
       "  <tbody>\n",
       "    <tr>\n",
       "      <th>119</th>\n",
       "      <td>Zumba Fitness</td>\n",
       "      <td>Wii</td>\n",
       "      <td>2010</td>\n",
       "      <td>Sports</td>\n",
       "      <td>3.45</td>\n",
       "      <td>2.59</td>\n",
       "      <td>0.0</td>\n",
       "      <td>0.66</td>\n",
       "      <td>&lt;NA&gt;</td>\n",
       "      <td>tbd</td>\n",
       "      <td>E</td>\n",
       "    </tr>\n",
       "    <tr>\n",
       "      <th>301</th>\n",
       "      <td>Namco Museum: 50th Anniversary</td>\n",
       "      <td>PS2</td>\n",
       "      <td>2005</td>\n",
       "      <td>Misc</td>\n",
       "      <td>2.08</td>\n",
       "      <td>1.35</td>\n",
       "      <td>0.0</td>\n",
       "      <td>0.54</td>\n",
       "      <td>61</td>\n",
       "      <td>tbd</td>\n",
       "      <td>E10+</td>\n",
       "    </tr>\n",
       "    <tr>\n",
       "      <th>520</th>\n",
       "      <td>Zumba Fitness 2</td>\n",
       "      <td>Wii</td>\n",
       "      <td>2011</td>\n",
       "      <td>Sports</td>\n",
       "      <td>1.51</td>\n",
       "      <td>1.03</td>\n",
       "      <td>0.0</td>\n",
       "      <td>0.27</td>\n",
       "      <td>&lt;NA&gt;</td>\n",
       "      <td>tbd</td>\n",
       "      <td>T</td>\n",
       "    </tr>\n",
       "    <tr>\n",
       "      <th>645</th>\n",
       "      <td>uDraw Studio</td>\n",
       "      <td>Wii</td>\n",
       "      <td>2010</td>\n",
       "      <td>Misc</td>\n",
       "      <td>1.65</td>\n",
       "      <td>0.57</td>\n",
       "      <td>0.0</td>\n",
       "      <td>0.20</td>\n",
       "      <td>71</td>\n",
       "      <td>tbd</td>\n",
       "      <td>E</td>\n",
       "    </tr>\n",
       "    <tr>\n",
       "      <th>718</th>\n",
       "      <td>Just Dance Kids</td>\n",
       "      <td>Wii</td>\n",
       "      <td>2010</td>\n",
       "      <td>Misc</td>\n",
       "      <td>1.52</td>\n",
       "      <td>0.54</td>\n",
       "      <td>0.0</td>\n",
       "      <td>0.18</td>\n",
       "      <td>&lt;NA&gt;</td>\n",
       "      <td>tbd</td>\n",
       "      <td>E</td>\n",
       "    </tr>\n",
       "    <tr>\n",
       "      <th>...</th>\n",
       "      <td>...</td>\n",
       "      <td>...</td>\n",
       "      <td>...</td>\n",
       "      <td>...</td>\n",
       "      <td>...</td>\n",
       "      <td>...</td>\n",
       "      <td>...</td>\n",
       "      <td>...</td>\n",
       "      <td>...</td>\n",
       "      <td>...</td>\n",
       "      <td>...</td>\n",
       "    </tr>\n",
       "    <tr>\n",
       "      <th>16695</th>\n",
       "      <td>Planet Monsters</td>\n",
       "      <td>GBA</td>\n",
       "      <td>2001</td>\n",
       "      <td>Action</td>\n",
       "      <td>0.01</td>\n",
       "      <td>0.00</td>\n",
       "      <td>0.0</td>\n",
       "      <td>0.00</td>\n",
       "      <td>67</td>\n",
       "      <td>tbd</td>\n",
       "      <td>E</td>\n",
       "    </tr>\n",
       "    <tr>\n",
       "      <th>16697</th>\n",
       "      <td>Bust-A-Move 3000</td>\n",
       "      <td>GC</td>\n",
       "      <td>2003</td>\n",
       "      <td>Puzzle</td>\n",
       "      <td>0.01</td>\n",
       "      <td>0.00</td>\n",
       "      <td>0.0</td>\n",
       "      <td>0.00</td>\n",
       "      <td>53</td>\n",
       "      <td>tbd</td>\n",
       "      <td>E</td>\n",
       "    </tr>\n",
       "    <tr>\n",
       "      <th>16698</th>\n",
       "      <td>Mega Brain Boost</td>\n",
       "      <td>DS</td>\n",
       "      <td>2008</td>\n",
       "      <td>Puzzle</td>\n",
       "      <td>0.01</td>\n",
       "      <td>0.00</td>\n",
       "      <td>0.0</td>\n",
       "      <td>0.00</td>\n",
       "      <td>48</td>\n",
       "      <td>tbd</td>\n",
       "      <td>E</td>\n",
       "    </tr>\n",
       "    <tr>\n",
       "      <th>16704</th>\n",
       "      <td>Plushees</td>\n",
       "      <td>DS</td>\n",
       "      <td>2008</td>\n",
       "      <td>Simulation</td>\n",
       "      <td>0.01</td>\n",
       "      <td>0.00</td>\n",
       "      <td>0.0</td>\n",
       "      <td>0.00</td>\n",
       "      <td>&lt;NA&gt;</td>\n",
       "      <td>tbd</td>\n",
       "      <td>E</td>\n",
       "    </tr>\n",
       "    <tr>\n",
       "      <th>16706</th>\n",
       "      <td>Men in Black II: Alien Escape</td>\n",
       "      <td>GC</td>\n",
       "      <td>2003</td>\n",
       "      <td>Shooter</td>\n",
       "      <td>0.01</td>\n",
       "      <td>0.00</td>\n",
       "      <td>0.0</td>\n",
       "      <td>0.00</td>\n",
       "      <td>&lt;NA&gt;</td>\n",
       "      <td>tbd</td>\n",
       "      <td>T</td>\n",
       "    </tr>\n",
       "  </tbody>\n",
       "</table>\n",
       "<p>2376 rows × 11 columns</p>\n",
       "</div>"
      ],
      "text/plain": [
       "                                 name platform  year_of_release       genre  \\\n",
       "119                     Zumba Fitness      Wii             2010      Sports   \n",
       "301    Namco Museum: 50th Anniversary      PS2             2005        Misc   \n",
       "520                   Zumba Fitness 2      Wii             2011      Sports   \n",
       "645                      uDraw Studio      Wii             2010        Misc   \n",
       "718                   Just Dance Kids      Wii             2010        Misc   \n",
       "...                               ...      ...              ...         ...   \n",
       "16695                 Planet Monsters      GBA             2001      Action   \n",
       "16697                Bust-A-Move 3000       GC             2003      Puzzle   \n",
       "16698                Mega Brain Boost       DS             2008      Puzzle   \n",
       "16704                        Plushees       DS             2008  Simulation   \n",
       "16706   Men in Black II: Alien Escape       GC             2003     Shooter   \n",
       "\n",
       "       na_sales  eu_sales  jp_sales  other_sales  critic_score user_score  \\\n",
       "119        3.45      2.59       0.0         0.66          <NA>        tbd   \n",
       "301        2.08      1.35       0.0         0.54            61        tbd   \n",
       "520        1.51      1.03       0.0         0.27          <NA>        tbd   \n",
       "645        1.65      0.57       0.0         0.20            71        tbd   \n",
       "718        1.52      0.54       0.0         0.18          <NA>        tbd   \n",
       "...         ...       ...       ...          ...           ...        ...   \n",
       "16695      0.01      0.00       0.0         0.00            67        tbd   \n",
       "16697      0.01      0.00       0.0         0.00            53        tbd   \n",
       "16698      0.01      0.00       0.0         0.00            48        tbd   \n",
       "16704      0.01      0.00       0.0         0.00          <NA>        tbd   \n",
       "16706      0.01      0.00       0.0         0.00          <NA>        tbd   \n",
       "\n",
       "      rating  \n",
       "119        E  \n",
       "301     E10+  \n",
       "520        T  \n",
       "645        E  \n",
       "718        E  \n",
       "...      ...  \n",
       "16695      E  \n",
       "16697      E  \n",
       "16698      E  \n",
       "16704      E  \n",
       "16706      T  \n",
       "\n",
       "[2376 rows x 11 columns]"
      ]
     },
     "execution_count": 17,
     "metadata": {},
     "output_type": "execute_result"
    }
   ],
   "source": [
    "data.query('user_score == \"tbd\"')"
   ]
  },
  {
   "cell_type": "markdown",
   "metadata": {},
   "source": [
    "В данном столбце нам встретилось помимо nan значений, такой вид, как tbd, который говорит нам о том, что оценка еще не определена. Практически, для нашего анализа это значение nan,но в отличие от него, с tbd мы не сможем преобразовать данный столбец в нужный нам тип, поэтому заменим tbd на nan."
   ]
  },
  {
   "cell_type": "code",
   "execution_count": 18,
   "metadata": {},
   "outputs": [],
   "source": [
    "data.loc[data['user_score'] == \"tbd\", 'user_score'] = np.nan"
   ]
  },
  {
   "cell_type": "markdown",
   "metadata": {},
   "source": [
    "<div class=\"alert alert-success\">\n",
    "<font size=\"4\", color= \"seagreen\"><b>✔️ Комментарий ревьюера</b></font>\n",
    "    <br /> \n",
    "    <font size=\"3\", color = \"black\">\n",
    "<br />\n",
    "Верно, по своей сути tbd и является Nan. Отлично, что определяешь неявные пропущенные значения."
   ]
  },
  {
   "cell_type": "code",
   "execution_count": 19,
   "metadata": {},
   "outputs": [],
   "source": [
    "# изменим тип данных в столбце user_score\n",
    "data['user_score'] = data['user_score'].astype('float64')"
   ]
  },
  {
   "cell_type": "markdown",
   "metadata": {},
   "source": [
    "Изначально пропусков с толбцах *critic_score* и *user_score* было 51.3% и 40.1% соответственно, а после перевода в столбце user_score из 'tbd' в nan, их стало еще больше. Но эти данные нет возможности заполнить средним либо медианой по какому-либо столбцу, так как они зависят только от субьективного мнения людей, экспертов. Поэтому мы вынуждены оставить данные пропуски нетронутые. При дальнейшем анализе, где необходимо будет обращаться к этим данным, мы будем делать срез."
   ]
  },
  {
   "cell_type": "code",
   "execution_count": 20,
   "metadata": {
    "scrolled": true
   },
   "outputs": [
    {
     "data": {
      "text/plain": [
       "array(['E', nan, 'M', 'T', 'E10+', 'K-A', 'AO', 'EC', 'RP'], dtype=object)"
      ]
     },
     "execution_count": 20,
     "metadata": {},
     "output_type": "execute_result"
    }
   ],
   "source": [
    "# посмотрим детальнее значения в столбце rating\n",
    "data['rating'].unique()"
   ]
  },
  {
   "cell_type": "markdown",
   "metadata": {},
   "source": [
    "Изучив данные типы рейтингов, было обнаружено,что K-A -это предыдущая версия рейтинга E, поэтому заменим его на более новый вариант."
   ]
  },
  {
   "cell_type": "code",
   "execution_count": 21,
   "metadata": {},
   "outputs": [],
   "source": [
    "data['rating'] = data['rating'].replace('K-A', 'E')"
   ]
  },
  {
   "cell_type": "code",
   "execution_count": 22,
   "metadata": {},
   "outputs": [
    {
     "data": {
      "text/plain": [
       "E       3924\n",
       "T       2905\n",
       "M       1536\n",
       "E10+    1393\n",
       "EC         8\n",
       "RP         1\n",
       "AO         1\n",
       "Name: rating, dtype: int64"
      ]
     },
     "execution_count": 22,
     "metadata": {},
     "output_type": "execute_result"
    }
   ],
   "source": [
    "#проверим нашу замену\n",
    "data['rating'].value_counts()"
   ]
  },
  {
   "cell_type": "code",
   "execution_count": 23,
   "metadata": {
    "scrolled": true
   },
   "outputs": [
    {
     "data": {
      "text/html": [
       "<div>\n",
       "<style scoped>\n",
       "    .dataframe tbody tr th:only-of-type {\n",
       "        vertical-align: middle;\n",
       "    }\n",
       "\n",
       "    .dataframe tbody tr th {\n",
       "        vertical-align: top;\n",
       "    }\n",
       "\n",
       "    .dataframe thead th {\n",
       "        text-align: right;\n",
       "    }\n",
       "</style>\n",
       "<table border=\"1\" class=\"dataframe\">\n",
       "  <thead>\n",
       "    <tr style=\"text-align: right;\">\n",
       "      <th></th>\n",
       "      <th>name</th>\n",
       "      <th>platform</th>\n",
       "      <th>year_of_release</th>\n",
       "      <th>genre</th>\n",
       "      <th>na_sales</th>\n",
       "      <th>eu_sales</th>\n",
       "      <th>jp_sales</th>\n",
       "      <th>other_sales</th>\n",
       "      <th>critic_score</th>\n",
       "      <th>user_score</th>\n",
       "      <th>rating</th>\n",
       "    </tr>\n",
       "  </thead>\n",
       "  <tbody>\n",
       "    <tr>\n",
       "      <th>1</th>\n",
       "      <td>Super Mario Bros.</td>\n",
       "      <td>NES</td>\n",
       "      <td>1985</td>\n",
       "      <td>Platform</td>\n",
       "      <td>29.08</td>\n",
       "      <td>3.58</td>\n",
       "      <td>6.81</td>\n",
       "      <td>0.77</td>\n",
       "      <td>&lt;NA&gt;</td>\n",
       "      <td>NaN</td>\n",
       "      <td>NaN</td>\n",
       "    </tr>\n",
       "    <tr>\n",
       "      <th>5</th>\n",
       "      <td>Tetris</td>\n",
       "      <td>GB</td>\n",
       "      <td>1989</td>\n",
       "      <td>Puzzle</td>\n",
       "      <td>23.20</td>\n",
       "      <td>2.26</td>\n",
       "      <td>4.22</td>\n",
       "      <td>0.58</td>\n",
       "      <td>&lt;NA&gt;</td>\n",
       "      <td>NaN</td>\n",
       "      <td>NaN</td>\n",
       "    </tr>\n",
       "    <tr>\n",
       "      <th>9</th>\n",
       "      <td>Duck Hunt</td>\n",
       "      <td>NES</td>\n",
       "      <td>1984</td>\n",
       "      <td>Shooter</td>\n",
       "      <td>26.93</td>\n",
       "      <td>0.63</td>\n",
       "      <td>0.28</td>\n",
       "      <td>0.47</td>\n",
       "      <td>&lt;NA&gt;</td>\n",
       "      <td>NaN</td>\n",
       "      <td>NaN</td>\n",
       "    </tr>\n",
       "    <tr>\n",
       "      <th>18</th>\n",
       "      <td>Super Mario World</td>\n",
       "      <td>SNES</td>\n",
       "      <td>1990</td>\n",
       "      <td>Platform</td>\n",
       "      <td>12.78</td>\n",
       "      <td>3.75</td>\n",
       "      <td>3.54</td>\n",
       "      <td>0.55</td>\n",
       "      <td>&lt;NA&gt;</td>\n",
       "      <td>NaN</td>\n",
       "      <td>NaN</td>\n",
       "    </tr>\n",
       "    <tr>\n",
       "      <th>21</th>\n",
       "      <td>Super Mario Land</td>\n",
       "      <td>GB</td>\n",
       "      <td>1989</td>\n",
       "      <td>Platform</td>\n",
       "      <td>10.83</td>\n",
       "      <td>2.71</td>\n",
       "      <td>4.18</td>\n",
       "      <td>0.42</td>\n",
       "      <td>&lt;NA&gt;</td>\n",
       "      <td>NaN</td>\n",
       "      <td>NaN</td>\n",
       "    </tr>\n",
       "    <tr>\n",
       "      <th>...</th>\n",
       "      <td>...</td>\n",
       "      <td>...</td>\n",
       "      <td>...</td>\n",
       "      <td>...</td>\n",
       "      <td>...</td>\n",
       "      <td>...</td>\n",
       "      <td>...</td>\n",
       "      <td>...</td>\n",
       "      <td>...</td>\n",
       "      <td>...</td>\n",
       "      <td>...</td>\n",
       "    </tr>\n",
       "    <tr>\n",
       "      <th>13343</th>\n",
       "      <td>Beyond Oasis</td>\n",
       "      <td>GEN</td>\n",
       "      <td>1993</td>\n",
       "      <td>Role-Playing</td>\n",
       "      <td>0.00</td>\n",
       "      <td>0.00</td>\n",
       "      <td>0.05</td>\n",
       "      <td>0.00</td>\n",
       "      <td>&lt;NA&gt;</td>\n",
       "      <td>NaN</td>\n",
       "      <td>NaN</td>\n",
       "    </tr>\n",
       "    <tr>\n",
       "      <th>13571</th>\n",
       "      <td>Sonic the Hedgehog 2 (8-bit)</td>\n",
       "      <td>GG</td>\n",
       "      <td>1992</td>\n",
       "      <td>Platform</td>\n",
       "      <td>0.00</td>\n",
       "      <td>0.00</td>\n",
       "      <td>0.04</td>\n",
       "      <td>0.00</td>\n",
       "      <td>&lt;NA&gt;</td>\n",
       "      <td>NaN</td>\n",
       "      <td>NaN</td>\n",
       "    </tr>\n",
       "    <tr>\n",
       "      <th>15692</th>\n",
       "      <td>Empire Deluxe</td>\n",
       "      <td>PC</td>\n",
       "      <td>1992</td>\n",
       "      <td>Strategy</td>\n",
       "      <td>0.02</td>\n",
       "      <td>0.00</td>\n",
       "      <td>0.00</td>\n",
       "      <td>0.00</td>\n",
       "      <td>&lt;NA&gt;</td>\n",
       "      <td>NaN</td>\n",
       "      <td>NaN</td>\n",
       "    </tr>\n",
       "    <tr>\n",
       "      <th>15957</th>\n",
       "      <td>Strongest Tokyo University Shogi DS</td>\n",
       "      <td>DS</td>\n",
       "      <td>1985</td>\n",
       "      <td>Action</td>\n",
       "      <td>0.00</td>\n",
       "      <td>0.00</td>\n",
       "      <td>0.02</td>\n",
       "      <td>0.00</td>\n",
       "      <td>&lt;NA&gt;</td>\n",
       "      <td>NaN</td>\n",
       "      <td>NaN</td>\n",
       "    </tr>\n",
       "    <tr>\n",
       "      <th>16207</th>\n",
       "      <td>Rock N' Roll Racing</td>\n",
       "      <td>SNES</td>\n",
       "      <td>1993</td>\n",
       "      <td>Racing</td>\n",
       "      <td>0.00</td>\n",
       "      <td>0.00</td>\n",
       "      <td>0.01</td>\n",
       "      <td>0.00</td>\n",
       "      <td>&lt;NA&gt;</td>\n",
       "      <td>NaN</td>\n",
       "      <td>NaN</td>\n",
       "    </tr>\n",
       "  </tbody>\n",
       "</table>\n",
       "<p>361 rows × 11 columns</p>\n",
       "</div>"
      ],
      "text/plain": [
       "                                      name platform  year_of_release  \\\n",
       "1                        Super Mario Bros.      NES             1985   \n",
       "5                                   Tetris       GB             1989   \n",
       "9                                Duck Hunt      NES             1984   \n",
       "18                       Super Mario World     SNES             1990   \n",
       "21                        Super Mario Land       GB             1989   \n",
       "...                                    ...      ...              ...   \n",
       "13343                         Beyond Oasis      GEN             1993   \n",
       "13571         Sonic the Hedgehog 2 (8-bit)       GG             1992   \n",
       "15692                        Empire Deluxe       PC             1992   \n",
       "15957  Strongest Tokyo University Shogi DS       DS             1985   \n",
       "16207                  Rock N' Roll Racing     SNES             1993   \n",
       "\n",
       "              genre  na_sales  eu_sales  jp_sales  other_sales  critic_score  \\\n",
       "1          Platform     29.08      3.58      6.81         0.77          <NA>   \n",
       "5            Puzzle     23.20      2.26      4.22         0.58          <NA>   \n",
       "9           Shooter     26.93      0.63      0.28         0.47          <NA>   \n",
       "18         Platform     12.78      3.75      3.54         0.55          <NA>   \n",
       "21         Platform     10.83      2.71      4.18         0.42          <NA>   \n",
       "...             ...       ...       ...       ...          ...           ...   \n",
       "13343  Role-Playing      0.00      0.00      0.05         0.00          <NA>   \n",
       "13571      Platform      0.00      0.00      0.04         0.00          <NA>   \n",
       "15692      Strategy      0.02      0.00      0.00         0.00          <NA>   \n",
       "15957        Action      0.00      0.00      0.02         0.00          <NA>   \n",
       "16207        Racing      0.00      0.00      0.01         0.00          <NA>   \n",
       "\n",
       "       user_score rating  \n",
       "1             NaN    NaN  \n",
       "5             NaN    NaN  \n",
       "9             NaN    NaN  \n",
       "18            NaN    NaN  \n",
       "21            NaN    NaN  \n",
       "...           ...    ...  \n",
       "13343         NaN    NaN  \n",
       "13571         NaN    NaN  \n",
       "15692         NaN    NaN  \n",
       "15957         NaN    NaN  \n",
       "16207         NaN    NaN  \n",
       "\n",
       "[361 rows x 11 columns]"
      ]
     },
     "execution_count": 23,
     "metadata": {},
     "output_type": "execute_result"
    }
   ],
   "source": [
    "#выделим данные по пропускам в столбце рейтинг и году реализации ранее 1994 года\n",
    "data.query(('rating.isna() and year_of_release < 1994'))"
   ]
  },
  {
   "cell_type": "code",
   "execution_count": 24,
   "metadata": {
    "scrolled": true
   },
   "outputs": [
    {
     "data": {
      "text/html": [
       "<div>\n",
       "<style scoped>\n",
       "    .dataframe tbody tr th:only-of-type {\n",
       "        vertical-align: middle;\n",
       "    }\n",
       "\n",
       "    .dataframe tbody tr th {\n",
       "        vertical-align: top;\n",
       "    }\n",
       "\n",
       "    .dataframe thead th {\n",
       "        text-align: right;\n",
       "    }\n",
       "</style>\n",
       "<table border=\"1\" class=\"dataframe\">\n",
       "  <thead>\n",
       "    <tr style=\"text-align: right;\">\n",
       "      <th></th>\n",
       "      <th>name</th>\n",
       "      <th>platform</th>\n",
       "      <th>year_of_release</th>\n",
       "      <th>genre</th>\n",
       "      <th>na_sales</th>\n",
       "      <th>eu_sales</th>\n",
       "      <th>jp_sales</th>\n",
       "      <th>other_sales</th>\n",
       "      <th>critic_score</th>\n",
       "      <th>user_score</th>\n",
       "      <th>rating</th>\n",
       "    </tr>\n",
       "  </thead>\n",
       "  <tbody>\n",
       "    <tr>\n",
       "      <th>1</th>\n",
       "      <td>Super Mario Bros.</td>\n",
       "      <td>NES</td>\n",
       "      <td>1985</td>\n",
       "      <td>Platform</td>\n",
       "      <td>29.08</td>\n",
       "      <td>3.58</td>\n",
       "      <td>6.81</td>\n",
       "      <td>0.77</td>\n",
       "      <td>&lt;NA&gt;</td>\n",
       "      <td>NaN</td>\n",
       "      <td>NaN</td>\n",
       "    </tr>\n",
       "    <tr>\n",
       "      <th>4</th>\n",
       "      <td>Pokemon Red/Pokemon Blue</td>\n",
       "      <td>GB</td>\n",
       "      <td>1996</td>\n",
       "      <td>Role-Playing</td>\n",
       "      <td>11.27</td>\n",
       "      <td>8.89</td>\n",
       "      <td>10.22</td>\n",
       "      <td>1.00</td>\n",
       "      <td>&lt;NA&gt;</td>\n",
       "      <td>NaN</td>\n",
       "      <td>NaN</td>\n",
       "    </tr>\n",
       "    <tr>\n",
       "      <th>5</th>\n",
       "      <td>Tetris</td>\n",
       "      <td>GB</td>\n",
       "      <td>1989</td>\n",
       "      <td>Puzzle</td>\n",
       "      <td>23.20</td>\n",
       "      <td>2.26</td>\n",
       "      <td>4.22</td>\n",
       "      <td>0.58</td>\n",
       "      <td>&lt;NA&gt;</td>\n",
       "      <td>NaN</td>\n",
       "      <td>NaN</td>\n",
       "    </tr>\n",
       "    <tr>\n",
       "      <th>9</th>\n",
       "      <td>Duck Hunt</td>\n",
       "      <td>NES</td>\n",
       "      <td>1984</td>\n",
       "      <td>Shooter</td>\n",
       "      <td>26.93</td>\n",
       "      <td>0.63</td>\n",
       "      <td>0.28</td>\n",
       "      <td>0.47</td>\n",
       "      <td>&lt;NA&gt;</td>\n",
       "      <td>NaN</td>\n",
       "      <td>NaN</td>\n",
       "    </tr>\n",
       "    <tr>\n",
       "      <th>10</th>\n",
       "      <td>Nintendogs</td>\n",
       "      <td>DS</td>\n",
       "      <td>2005</td>\n",
       "      <td>Simulation</td>\n",
       "      <td>9.05</td>\n",
       "      <td>10.95</td>\n",
       "      <td>1.93</td>\n",
       "      <td>2.74</td>\n",
       "      <td>&lt;NA&gt;</td>\n",
       "      <td>NaN</td>\n",
       "      <td>NaN</td>\n",
       "    </tr>\n",
       "    <tr>\n",
       "      <th>...</th>\n",
       "      <td>...</td>\n",
       "      <td>...</td>\n",
       "      <td>...</td>\n",
       "      <td>...</td>\n",
       "      <td>...</td>\n",
       "      <td>...</td>\n",
       "      <td>...</td>\n",
       "      <td>...</td>\n",
       "      <td>...</td>\n",
       "      <td>...</td>\n",
       "      <td>...</td>\n",
       "    </tr>\n",
       "    <tr>\n",
       "      <th>16703</th>\n",
       "      <td>Strawberry Nauts</td>\n",
       "      <td>PSV</td>\n",
       "      <td>2016</td>\n",
       "      <td>Adventure</td>\n",
       "      <td>0.00</td>\n",
       "      <td>0.00</td>\n",
       "      <td>0.01</td>\n",
       "      <td>0.00</td>\n",
       "      <td>&lt;NA&gt;</td>\n",
       "      <td>NaN</td>\n",
       "      <td>NaN</td>\n",
       "    </tr>\n",
       "    <tr>\n",
       "      <th>16707</th>\n",
       "      <td>Aiyoku no Eustia</td>\n",
       "      <td>PSV</td>\n",
       "      <td>2014</td>\n",
       "      <td>Misc</td>\n",
       "      <td>0.00</td>\n",
       "      <td>0.00</td>\n",
       "      <td>0.01</td>\n",
       "      <td>0.00</td>\n",
       "      <td>&lt;NA&gt;</td>\n",
       "      <td>NaN</td>\n",
       "      <td>NaN</td>\n",
       "    </tr>\n",
       "    <tr>\n",
       "      <th>16710</th>\n",
       "      <td>Samurai Warriors: Sanada Maru</td>\n",
       "      <td>PS3</td>\n",
       "      <td>2016</td>\n",
       "      <td>Action</td>\n",
       "      <td>0.00</td>\n",
       "      <td>0.00</td>\n",
       "      <td>0.01</td>\n",
       "      <td>0.00</td>\n",
       "      <td>&lt;NA&gt;</td>\n",
       "      <td>NaN</td>\n",
       "      <td>NaN</td>\n",
       "    </tr>\n",
       "    <tr>\n",
       "      <th>16712</th>\n",
       "      <td>Haitaka no Psychedelica</td>\n",
       "      <td>PSV</td>\n",
       "      <td>2016</td>\n",
       "      <td>Adventure</td>\n",
       "      <td>0.00</td>\n",
       "      <td>0.00</td>\n",
       "      <td>0.01</td>\n",
       "      <td>0.00</td>\n",
       "      <td>&lt;NA&gt;</td>\n",
       "      <td>NaN</td>\n",
       "      <td>NaN</td>\n",
       "    </tr>\n",
       "    <tr>\n",
       "      <th>16714</th>\n",
       "      <td>Winning Post 8 2016</td>\n",
       "      <td>PSV</td>\n",
       "      <td>2016</td>\n",
       "      <td>Simulation</td>\n",
       "      <td>0.00</td>\n",
       "      <td>0.00</td>\n",
       "      <td>0.01</td>\n",
       "      <td>0.00</td>\n",
       "      <td>&lt;NA&gt;</td>\n",
       "      <td>NaN</td>\n",
       "      <td>NaN</td>\n",
       "    </tr>\n",
       "  </tbody>\n",
       "</table>\n",
       "<p>3956 rows × 11 columns</p>\n",
       "</div>"
      ],
      "text/plain": [
       "                                name platform  year_of_release         genre  \\\n",
       "1                  Super Mario Bros.      NES             1985      Platform   \n",
       "4           Pokemon Red/Pokemon Blue       GB             1996  Role-Playing   \n",
       "5                             Tetris       GB             1989        Puzzle   \n",
       "9                          Duck Hunt      NES             1984       Shooter   \n",
       "10                        Nintendogs       DS             2005    Simulation   \n",
       "...                              ...      ...              ...           ...   \n",
       "16703               Strawberry Nauts      PSV             2016     Adventure   \n",
       "16707               Aiyoku no Eustia      PSV             2014          Misc   \n",
       "16710  Samurai Warriors: Sanada Maru      PS3             2016        Action   \n",
       "16712        Haitaka no Psychedelica      PSV             2016     Adventure   \n",
       "16714            Winning Post 8 2016      PSV             2016    Simulation   \n",
       "\n",
       "       na_sales  eu_sales  jp_sales  other_sales  critic_score  user_score  \\\n",
       "1         29.08      3.58      6.81         0.77          <NA>         NaN   \n",
       "4         11.27      8.89     10.22         1.00          <NA>         NaN   \n",
       "5         23.20      2.26      4.22         0.58          <NA>         NaN   \n",
       "9         26.93      0.63      0.28         0.47          <NA>         NaN   \n",
       "10         9.05     10.95      1.93         2.74          <NA>         NaN   \n",
       "...         ...       ...       ...          ...           ...         ...   \n",
       "16703      0.00      0.00      0.01         0.00          <NA>         NaN   \n",
       "16707      0.00      0.00      0.01         0.00          <NA>         NaN   \n",
       "16710      0.00      0.00      0.01         0.00          <NA>         NaN   \n",
       "16712      0.00      0.00      0.01         0.00          <NA>         NaN   \n",
       "16714      0.00      0.00      0.01         0.00          <NA>         NaN   \n",
       "\n",
       "      rating  \n",
       "1        NaN  \n",
       "4        NaN  \n",
       "5        NaN  \n",
       "9        NaN  \n",
       "10       NaN  \n",
       "...      ...  \n",
       "16703    NaN  \n",
       "16707    NaN  \n",
       "16710    NaN  \n",
       "16712    NaN  \n",
       "16714    NaN  \n",
       "\n",
       "[3956 rows x 11 columns]"
      ]
     },
     "execution_count": 24,
     "metadata": {},
     "output_type": "execute_result"
    }
   ],
   "source": [
    "#выделим данные по пропускам в столбце рейтинг и по столбцу продаж в Японии, где есть продажи\n",
    "data.query(('rating.isna() and jp_sales > 0'))"
   ]
  },
  {
   "cell_type": "markdown",
   "metadata": {},
   "source": [
    "Рейтинг от организации ESRB стал присваиваться с 1994 года, а также он применяется к играм, которые были произведены в Канаде и США, то есть, например, игры в других странах не имеют данного рейтинга(поэтому много пропусков по рейтингу по продаваемым играм в Японии).В связи с этим можно объяснить часть пропусков, а также то, что рейтинг на некоторые игры не был присвоен на момент выборки. Так как этот столбец мы будет в дальнейшем изучать более детально, заполним пропуски."
   ]
  },
  {
   "cell_type": "code",
   "execution_count": 25,
   "metadata": {},
   "outputs": [],
   "source": [
    "data['rating'] = data['rating'].fillna('undefined')"
   ]
  },
  {
   "cell_type": "code",
   "execution_count": 26,
   "metadata": {},
   "outputs": [
    {
     "data": {
      "text/plain": [
       "0"
      ]
     },
     "execution_count": 26,
     "metadata": {},
     "output_type": "execute_result"
    }
   ],
   "source": [
    "#проверим данные на наличие явных дубликатов\n",
    "data.duplicated().sum()"
   ]
  },
  {
   "cell_type": "code",
   "execution_count": 27,
   "metadata": {
    "scrolled": true
   },
   "outputs": [
    {
     "name": "stdout",
     "output_type": "stream",
     "text": [
      "<class 'pandas.core.frame.DataFrame'>\n",
      "Int64Index: 16444 entries, 0 to 16714\n",
      "Data columns (total 11 columns):\n",
      " #   Column           Non-Null Count  Dtype  \n",
      "---  ------           --------------  -----  \n",
      " 0   name             16444 non-null  object \n",
      " 1   platform         16444 non-null  object \n",
      " 2   year_of_release  16444 non-null  int64  \n",
      " 3   genre            16444 non-null  object \n",
      " 4   na_sales         16444 non-null  float64\n",
      " 5   eu_sales         16444 non-null  float64\n",
      " 6   jp_sales         16444 non-null  float64\n",
      " 7   other_sales      16444 non-null  float64\n",
      " 8   critic_score     7983 non-null   Int64  \n",
      " 9   user_score       7463 non-null   float64\n",
      " 10  rating           16444 non-null  object \n",
      "dtypes: Int64(1), float64(5), int64(1), object(4)\n",
      "memory usage: 1.5+ MB\n"
     ]
    }
   ],
   "source": [
    "data.info()"
   ]
  },
  {
   "cell_type": "markdown",
   "metadata": {},
   "source": [
    "<div class=\"alert alert-danger\">\n",
    "<font size=\"4\"><b>❌ Комментарий ревьюера</b></font>\n",
    "    <br /> \n",
    "    <font size=\"3\", color = \"black\">\n",
    "<br />          \n",
    "Рейтинг ESRB — категориальные данные, стоит предложить чем заполнить пропуски, дополнительно можно подумать над сокращением количества категорий\n",
    "        \n",
    "Т.к. записи с пропусками не учитываются при группировке данных, мы не сможем выявить реальный портрет клиента"
   ]
  },
  {
   "cell_type": "markdown",
   "metadata": {},
   "source": [
    "<div class=\"alert alert-info\">\n",
    "<font size=\"4\", color = \"black\"><b>✍ Комментарий студента</b></font>\n",
    "    <br /> \n",
    "    <font size=\"3\", color = \"black\">\n",
    "<br />         \n",
    "Соединила два типа рейтингов(более старый с новым) и заменила пропуски на 'заглушку'"
   ]
  },
  {
   "cell_type": "code",
   "execution_count": 28,
   "metadata": {},
   "outputs": [
    {
     "data": {
      "text/plain": [
       "name                  0\n",
       "platform              0\n",
       "year_of_release       0\n",
       "genre                 0\n",
       "na_sales              0\n",
       "eu_sales              0\n",
       "jp_sales              0\n",
       "other_sales           0\n",
       "critic_score       8461\n",
       "user_score         8981\n",
       "rating                0\n",
       "dtype: int64"
      ]
     },
     "execution_count": 28,
     "metadata": {},
     "output_type": "execute_result"
    }
   ],
   "source": [
    "data.isna().sum()"
   ]
  },
  {
   "cell_type": "code",
   "execution_count": 29,
   "metadata": {
    "scrolled": true
   },
   "outputs": [
    {
     "data": {
      "text/html": [
       "<div>\n",
       "<style scoped>\n",
       "    .dataframe tbody tr th:only-of-type {\n",
       "        vertical-align: middle;\n",
       "    }\n",
       "\n",
       "    .dataframe tbody tr th {\n",
       "        vertical-align: top;\n",
       "    }\n",
       "\n",
       "    .dataframe thead th {\n",
       "        text-align: right;\n",
       "    }\n",
       "</style>\n",
       "<table border=\"1\" class=\"dataframe\">\n",
       "  <thead>\n",
       "    <tr style=\"text-align: right;\">\n",
       "      <th></th>\n",
       "      <th>name</th>\n",
       "      <th>platform</th>\n",
       "      <th>year_of_release</th>\n",
       "      <th>genre</th>\n",
       "      <th>na_sales</th>\n",
       "      <th>eu_sales</th>\n",
       "      <th>jp_sales</th>\n",
       "      <th>other_sales</th>\n",
       "      <th>critic_score</th>\n",
       "      <th>user_score</th>\n",
       "      <th>rating</th>\n",
       "      <th>total_sales</th>\n",
       "    </tr>\n",
       "  </thead>\n",
       "  <tbody>\n",
       "    <tr>\n",
       "      <th>0</th>\n",
       "      <td>Wii Sports</td>\n",
       "      <td>Wii</td>\n",
       "      <td>2006</td>\n",
       "      <td>Sports</td>\n",
       "      <td>41.36</td>\n",
       "      <td>28.96</td>\n",
       "      <td>3.77</td>\n",
       "      <td>8.45</td>\n",
       "      <td>76</td>\n",
       "      <td>8.0</td>\n",
       "      <td>E</td>\n",
       "      <td>82.54</td>\n",
       "    </tr>\n",
       "    <tr>\n",
       "      <th>1</th>\n",
       "      <td>Super Mario Bros.</td>\n",
       "      <td>NES</td>\n",
       "      <td>1985</td>\n",
       "      <td>Platform</td>\n",
       "      <td>29.08</td>\n",
       "      <td>3.58</td>\n",
       "      <td>6.81</td>\n",
       "      <td>0.77</td>\n",
       "      <td>&lt;NA&gt;</td>\n",
       "      <td>NaN</td>\n",
       "      <td>undefined</td>\n",
       "      <td>40.24</td>\n",
       "    </tr>\n",
       "    <tr>\n",
       "      <th>2</th>\n",
       "      <td>Mario Kart Wii</td>\n",
       "      <td>Wii</td>\n",
       "      <td>2008</td>\n",
       "      <td>Racing</td>\n",
       "      <td>15.68</td>\n",
       "      <td>12.76</td>\n",
       "      <td>3.79</td>\n",
       "      <td>3.29</td>\n",
       "      <td>82</td>\n",
       "      <td>8.3</td>\n",
       "      <td>E</td>\n",
       "      <td>35.52</td>\n",
       "    </tr>\n",
       "    <tr>\n",
       "      <th>3</th>\n",
       "      <td>Wii Sports Resort</td>\n",
       "      <td>Wii</td>\n",
       "      <td>2009</td>\n",
       "      <td>Sports</td>\n",
       "      <td>15.61</td>\n",
       "      <td>10.93</td>\n",
       "      <td>3.28</td>\n",
       "      <td>2.95</td>\n",
       "      <td>80</td>\n",
       "      <td>8.0</td>\n",
       "      <td>E</td>\n",
       "      <td>32.77</td>\n",
       "    </tr>\n",
       "    <tr>\n",
       "      <th>4</th>\n",
       "      <td>Pokemon Red/Pokemon Blue</td>\n",
       "      <td>GB</td>\n",
       "      <td>1996</td>\n",
       "      <td>Role-Playing</td>\n",
       "      <td>11.27</td>\n",
       "      <td>8.89</td>\n",
       "      <td>10.22</td>\n",
       "      <td>1.00</td>\n",
       "      <td>&lt;NA&gt;</td>\n",
       "      <td>NaN</td>\n",
       "      <td>undefined</td>\n",
       "      <td>31.38</td>\n",
       "    </tr>\n",
       "    <tr>\n",
       "      <th>...</th>\n",
       "      <td>...</td>\n",
       "      <td>...</td>\n",
       "      <td>...</td>\n",
       "      <td>...</td>\n",
       "      <td>...</td>\n",
       "      <td>...</td>\n",
       "      <td>...</td>\n",
       "      <td>...</td>\n",
       "      <td>...</td>\n",
       "      <td>...</td>\n",
       "      <td>...</td>\n",
       "      <td>...</td>\n",
       "    </tr>\n",
       "    <tr>\n",
       "      <th>16710</th>\n",
       "      <td>Samurai Warriors: Sanada Maru</td>\n",
       "      <td>PS3</td>\n",
       "      <td>2016</td>\n",
       "      <td>Action</td>\n",
       "      <td>0.00</td>\n",
       "      <td>0.00</td>\n",
       "      <td>0.01</td>\n",
       "      <td>0.00</td>\n",
       "      <td>&lt;NA&gt;</td>\n",
       "      <td>NaN</td>\n",
       "      <td>undefined</td>\n",
       "      <td>0.01</td>\n",
       "    </tr>\n",
       "    <tr>\n",
       "      <th>16711</th>\n",
       "      <td>LMA Manager 2007</td>\n",
       "      <td>X360</td>\n",
       "      <td>2006</td>\n",
       "      <td>Sports</td>\n",
       "      <td>0.00</td>\n",
       "      <td>0.01</td>\n",
       "      <td>0.00</td>\n",
       "      <td>0.00</td>\n",
       "      <td>&lt;NA&gt;</td>\n",
       "      <td>NaN</td>\n",
       "      <td>undefined</td>\n",
       "      <td>0.01</td>\n",
       "    </tr>\n",
       "    <tr>\n",
       "      <th>16712</th>\n",
       "      <td>Haitaka no Psychedelica</td>\n",
       "      <td>PSV</td>\n",
       "      <td>2016</td>\n",
       "      <td>Adventure</td>\n",
       "      <td>0.00</td>\n",
       "      <td>0.00</td>\n",
       "      <td>0.01</td>\n",
       "      <td>0.00</td>\n",
       "      <td>&lt;NA&gt;</td>\n",
       "      <td>NaN</td>\n",
       "      <td>undefined</td>\n",
       "      <td>0.01</td>\n",
       "    </tr>\n",
       "    <tr>\n",
       "      <th>16713</th>\n",
       "      <td>Spirits &amp; Spells</td>\n",
       "      <td>GBA</td>\n",
       "      <td>2003</td>\n",
       "      <td>Platform</td>\n",
       "      <td>0.01</td>\n",
       "      <td>0.00</td>\n",
       "      <td>0.00</td>\n",
       "      <td>0.00</td>\n",
       "      <td>&lt;NA&gt;</td>\n",
       "      <td>NaN</td>\n",
       "      <td>undefined</td>\n",
       "      <td>0.01</td>\n",
       "    </tr>\n",
       "    <tr>\n",
       "      <th>16714</th>\n",
       "      <td>Winning Post 8 2016</td>\n",
       "      <td>PSV</td>\n",
       "      <td>2016</td>\n",
       "      <td>Simulation</td>\n",
       "      <td>0.00</td>\n",
       "      <td>0.00</td>\n",
       "      <td>0.01</td>\n",
       "      <td>0.00</td>\n",
       "      <td>&lt;NA&gt;</td>\n",
       "      <td>NaN</td>\n",
       "      <td>undefined</td>\n",
       "      <td>0.01</td>\n",
       "    </tr>\n",
       "  </tbody>\n",
       "</table>\n",
       "<p>16444 rows × 12 columns</p>\n",
       "</div>"
      ],
      "text/plain": [
       "                                name platform  year_of_release         genre  \\\n",
       "0                         Wii Sports      Wii             2006        Sports   \n",
       "1                  Super Mario Bros.      NES             1985      Platform   \n",
       "2                     Mario Kart Wii      Wii             2008        Racing   \n",
       "3                  Wii Sports Resort      Wii             2009        Sports   \n",
       "4           Pokemon Red/Pokemon Blue       GB             1996  Role-Playing   \n",
       "...                              ...      ...              ...           ...   \n",
       "16710  Samurai Warriors: Sanada Maru      PS3             2016        Action   \n",
       "16711               LMA Manager 2007     X360             2006        Sports   \n",
       "16712        Haitaka no Psychedelica      PSV             2016     Adventure   \n",
       "16713               Spirits & Spells      GBA             2003      Platform   \n",
       "16714            Winning Post 8 2016      PSV             2016    Simulation   \n",
       "\n",
       "       na_sales  eu_sales  jp_sales  other_sales  critic_score  user_score  \\\n",
       "0         41.36     28.96      3.77         8.45            76         8.0   \n",
       "1         29.08      3.58      6.81         0.77          <NA>         NaN   \n",
       "2         15.68     12.76      3.79         3.29            82         8.3   \n",
       "3         15.61     10.93      3.28         2.95            80         8.0   \n",
       "4         11.27      8.89     10.22         1.00          <NA>         NaN   \n",
       "...         ...       ...       ...          ...           ...         ...   \n",
       "16710      0.00      0.00      0.01         0.00          <NA>         NaN   \n",
       "16711      0.00      0.01      0.00         0.00          <NA>         NaN   \n",
       "16712      0.00      0.00      0.01         0.00          <NA>         NaN   \n",
       "16713      0.01      0.00      0.00         0.00          <NA>         NaN   \n",
       "16714      0.00      0.00      0.01         0.00          <NA>         NaN   \n",
       "\n",
       "          rating  total_sales  \n",
       "0              E        82.54  \n",
       "1      undefined        40.24  \n",
       "2              E        35.52  \n",
       "3              E        32.77  \n",
       "4      undefined        31.38  \n",
       "...          ...          ...  \n",
       "16710  undefined         0.01  \n",
       "16711  undefined         0.01  \n",
       "16712  undefined         0.01  \n",
       "16713  undefined         0.01  \n",
       "16714  undefined         0.01  \n",
       "\n",
       "[16444 rows x 12 columns]"
      ]
     },
     "execution_count": 29,
     "metadata": {},
     "output_type": "execute_result"
    }
   ],
   "source": [
    "# посчитаем суммарные продажи во всех регионах и запишем их в отдельный столбец\n",
    "data['total_sales'] = data['na_sales'] + data['eu_sales'] + data['jp_sales'] + data['other_sales'] \n",
    "data"
   ]
  },
  {
   "cell_type": "markdown",
   "metadata": {},
   "source": [
    "<div style=\"border:solid steelblue 3px; padding: 20px\">\n",
    "<font size=\"4\">🍕<b> Комментарий ревьюера</b></font>\n",
    "<br /> \n",
    "<font size=\"3\", color = \"black\">\n",
    "<br />\n",
    "можно\n",
    "    \n",
    "    df['total_sales'] = df[['na_sales','eu_sales','jp_sales', 'other_sales']].sum(axis = 1)"
   ]
  },
  {
   "cell_type": "markdown",
   "metadata": {},
   "source": [
    "Вывод: На данном этапе нашего исседования, мы обработали имеющуюся выборку. Удалили те данные, которые восстановить невозможно, но пропуски в них будут мешать нам в дальнейшем (строчки с пропусками в имени и жанре, а также с пропусками в столбце год реализации),a процент пропусков был незначительный. \n",
    "Пропуски в остальных столбцах мы изучили, заполнены они независимо от других столбов, а на основании мнений экспертов и игроков, поэтому заполнить корректными данными мы их не смогли. Сама причина данных пропусков может быть то, что некоторые игры находились в стадии оценки, какие-то вышли  в те года, когда играм еще не присуждались ни рейтинг ни оценки,рейтинг ESRB, как мы указали выше, присуждался только играм, произведенным в США и Канаде, а также не исключено, что изначально какие-то данные некорректно заполнялись либо выгружались.\n"
   ]
  },
  {
   "cell_type": "markdown",
   "metadata": {},
   "source": [
    "## Проведение исследовательский анализ данных\n"
   ]
  },
  {
   "cell_type": "markdown",
   "metadata": {},
   "source": [
    "### Cколько игр выпускалось в разные годы"
   ]
  },
  {
   "cell_type": "code",
   "execution_count": 30,
   "metadata": {
    "scrolled": false
   },
   "outputs": [
    {
     "data": {
      "text/html": [
       "<div>\n",
       "<style scoped>\n",
       "    .dataframe tbody tr th:only-of-type {\n",
       "        vertical-align: middle;\n",
       "    }\n",
       "\n",
       "    .dataframe tbody tr th {\n",
       "        vertical-align: top;\n",
       "    }\n",
       "\n",
       "    .dataframe thead th {\n",
       "        text-align: right;\n",
       "    }\n",
       "</style>\n",
       "<table border=\"1\" class=\"dataframe\">\n",
       "  <thead>\n",
       "    <tr style=\"text-align: right;\">\n",
       "      <th></th>\n",
       "      <th>name</th>\n",
       "    </tr>\n",
       "    <tr>\n",
       "      <th>year_of_release</th>\n",
       "      <th></th>\n",
       "    </tr>\n",
       "  </thead>\n",
       "  <tbody>\n",
       "    <tr>\n",
       "      <th>2016</th>\n",
       "      <td>502</td>\n",
       "    </tr>\n",
       "    <tr>\n",
       "      <th>2015</th>\n",
       "      <td>606</td>\n",
       "    </tr>\n",
       "    <tr>\n",
       "      <th>2014</th>\n",
       "      <td>581</td>\n",
       "    </tr>\n",
       "    <tr>\n",
       "      <th>2013</th>\n",
       "      <td>544</td>\n",
       "    </tr>\n",
       "    <tr>\n",
       "      <th>2012</th>\n",
       "      <td>653</td>\n",
       "    </tr>\n",
       "    <tr>\n",
       "      <th>2011</th>\n",
       "      <td>1136</td>\n",
       "    </tr>\n",
       "    <tr>\n",
       "      <th>2010</th>\n",
       "      <td>1255</td>\n",
       "    </tr>\n",
       "    <tr>\n",
       "      <th>2009</th>\n",
       "      <td>1426</td>\n",
       "    </tr>\n",
       "    <tr>\n",
       "      <th>2008</th>\n",
       "      <td>1427</td>\n",
       "    </tr>\n",
       "    <tr>\n",
       "      <th>2007</th>\n",
       "      <td>1197</td>\n",
       "    </tr>\n",
       "    <tr>\n",
       "      <th>2006</th>\n",
       "      <td>1006</td>\n",
       "    </tr>\n",
       "    <tr>\n",
       "      <th>2005</th>\n",
       "      <td>939</td>\n",
       "    </tr>\n",
       "    <tr>\n",
       "      <th>2004</th>\n",
       "      <td>762</td>\n",
       "    </tr>\n",
       "    <tr>\n",
       "      <th>2003</th>\n",
       "      <td>775</td>\n",
       "    </tr>\n",
       "    <tr>\n",
       "      <th>2002</th>\n",
       "      <td>829</td>\n",
       "    </tr>\n",
       "    <tr>\n",
       "      <th>2001</th>\n",
       "      <td>482</td>\n",
       "    </tr>\n",
       "    <tr>\n",
       "      <th>2000</th>\n",
       "      <td>350</td>\n",
       "    </tr>\n",
       "    <tr>\n",
       "      <th>1999</th>\n",
       "      <td>338</td>\n",
       "    </tr>\n",
       "    <tr>\n",
       "      <th>1998</th>\n",
       "      <td>379</td>\n",
       "    </tr>\n",
       "    <tr>\n",
       "      <th>1997</th>\n",
       "      <td>289</td>\n",
       "    </tr>\n",
       "    <tr>\n",
       "      <th>1996</th>\n",
       "      <td>263</td>\n",
       "    </tr>\n",
       "    <tr>\n",
       "      <th>1995</th>\n",
       "      <td>219</td>\n",
       "    </tr>\n",
       "    <tr>\n",
       "      <th>1994</th>\n",
       "      <td>121</td>\n",
       "    </tr>\n",
       "    <tr>\n",
       "      <th>1993</th>\n",
       "      <td>60</td>\n",
       "    </tr>\n",
       "    <tr>\n",
       "      <th>1992</th>\n",
       "      <td>43</td>\n",
       "    </tr>\n",
       "    <tr>\n",
       "      <th>1991</th>\n",
       "      <td>41</td>\n",
       "    </tr>\n",
       "    <tr>\n",
       "      <th>1990</th>\n",
       "      <td>16</td>\n",
       "    </tr>\n",
       "    <tr>\n",
       "      <th>1989</th>\n",
       "      <td>17</td>\n",
       "    </tr>\n",
       "    <tr>\n",
       "      <th>1988</th>\n",
       "      <td>15</td>\n",
       "    </tr>\n",
       "    <tr>\n",
       "      <th>1987</th>\n",
       "      <td>16</td>\n",
       "    </tr>\n",
       "  </tbody>\n",
       "</table>\n",
       "</div>"
      ],
      "text/plain": [
       "                 name\n",
       "year_of_release      \n",
       "2016              502\n",
       "2015              606\n",
       "2014              581\n",
       "2013              544\n",
       "2012              653\n",
       "2011             1136\n",
       "2010             1255\n",
       "2009             1426\n",
       "2008             1427\n",
       "2007             1197\n",
       "2006             1006\n",
       "2005              939\n",
       "2004              762\n",
       "2003              775\n",
       "2002              829\n",
       "2001              482\n",
       "2000              350\n",
       "1999              338\n",
       "1998              379\n",
       "1997              289\n",
       "1996              263\n",
       "1995              219\n",
       "1994              121\n",
       "1993               60\n",
       "1992               43\n",
       "1991               41\n",
       "1990               16\n",
       "1989               17\n",
       "1988               15\n",
       "1987               16"
      ]
     },
     "execution_count": 30,
     "metadata": {},
     "output_type": "execute_result"
    }
   ],
   "source": [
    "#Посмотрим сколько игр выпускалось в разные годы\n",
    "data_games = data.pivot_table(index='year_of_release', values='name', aggfunc='count')\\\n",
    ".sort_values(by='year_of_release', ascending =False)\n",
    "data_games.head(30)\n"
   ]
  },
  {
   "cell_type": "code",
   "execution_count": 31,
   "metadata": {},
   "outputs": [
    {
     "data": {
      "image/png": "[encoded data removed]",
      "text/plain": [
       "<Figure size 504x288 with 1 Axes>"
      ]
     },
     "metadata": {
      "needs_background": "light"
     },
     "output_type": "display_data"
    }
   ],
   "source": [
    "# построим график \n",
    "data_games.plot(grid=True, figsize=(7, 4), title= 'Количество игр по годам', style = '--', color = 'green')\n",
    "plt.show()"
   ]
  },
  {
   "cell_type": "code",
   "execution_count": 32,
   "metadata": {
    "scrolled": true
   },
   "outputs": [
    {
     "data": {
      "image/png": "[encoded data removed]",
      "text/plain": [
       "<Figure size 504x360 with 1 Axes>"
      ]
     },
     "metadata": {
      "needs_background": "light"
     },
     "output_type": "display_data"
    }
   ],
   "source": [
    "#Построим гистограмму\n",
    "data_games.sort_values(by='year_of_release').plot(figsize=(7,5), title='Количество игр по годам', kind='bar')\n",
    "plt.xlabel('год')\n",
    "plt.ylabel('количество игр')\n",
    "plt.show()"
   ]
  },
  {
   "cell_type": "markdown",
   "metadata": {},
   "source": [
    "По графикам видно, что количество игр активно начало увеличиваться с 1994 года, до этого их было минимальное количество. Пиковые значения были достигнулы в 2008-2009 годах, а далее постепенный спад, который достигает своего максимума в 2012 году. Будем рассматривать период продаж с 2014-го года, так как более ранняя информация потеряла свою актуальность для нашего исследования."
   ]
  },
  {
   "cell_type": "markdown",
   "metadata": {},
   "source": [
    "<div class=\"alert alert-success\">\n",
    "<font size=\"4\", color= \"seagreen\"><b>✔️ Комментарий ревьюера</b></font>\n",
    "    <br /> \n",
    "    <font size=\"3\", color = \"black\">\n",
    "<br /> Классный график, все элементы добавлены, молодец"
   ]
  },
  {
   "cell_type": "markdown",
   "metadata": {},
   "source": [
    "### Посмотрим, как менялись продажи по платформам"
   ]
  },
  {
   "cell_type": "code",
   "execution_count": 33,
   "metadata": {
    "scrolled": true
   },
   "outputs": [
    {
     "data": {
      "text/html": [
       "<div>\n",
       "<style scoped>\n",
       "    .dataframe tbody tr th:only-of-type {\n",
       "        vertical-align: middle;\n",
       "    }\n",
       "\n",
       "    .dataframe tbody tr th {\n",
       "        vertical-align: top;\n",
       "    }\n",
       "\n",
       "    .dataframe thead th {\n",
       "        text-align: right;\n",
       "    }\n",
       "</style>\n",
       "<table border=\"1\" class=\"dataframe\">\n",
       "  <thead>\n",
       "    <tr style=\"text-align: right;\">\n",
       "      <th></th>\n",
       "      <th>sum</th>\n",
       "      <th>count</th>\n",
       "    </tr>\n",
       "    <tr>\n",
       "      <th>platform</th>\n",
       "      <th></th>\n",
       "      <th></th>\n",
       "    </tr>\n",
       "  </thead>\n",
       "  <tbody>\n",
       "    <tr>\n",
       "      <th>PS2</th>\n",
       "      <td>2127</td>\n",
       "      <td>1233.56</td>\n",
       "    </tr>\n",
       "    <tr>\n",
       "      <th>DS</th>\n",
       "      <td>2121</td>\n",
       "      <td>802.78</td>\n",
       "    </tr>\n",
       "    <tr>\n",
       "      <th>PS3</th>\n",
       "      <td>1306</td>\n",
       "      <td>931.34</td>\n",
       "    </tr>\n",
       "    <tr>\n",
       "      <th>Wii</th>\n",
       "      <td>1286</td>\n",
       "      <td>891.18</td>\n",
       "    </tr>\n",
       "    <tr>\n",
       "      <th>X360</th>\n",
       "      <td>1232</td>\n",
       "      <td>961.24</td>\n",
       "    </tr>\n",
       "    <tr>\n",
       "      <th>PSP</th>\n",
       "      <td>1193</td>\n",
       "      <td>289.53</td>\n",
       "    </tr>\n",
       "    <tr>\n",
       "      <th>PS</th>\n",
       "      <td>1190</td>\n",
       "      <td>727.58</td>\n",
       "    </tr>\n",
       "    <tr>\n",
       "      <th>PC</th>\n",
       "      <td>957</td>\n",
       "      <td>255.76</td>\n",
       "    </tr>\n",
       "    <tr>\n",
       "      <th>GBA</th>\n",
       "      <td>811</td>\n",
       "      <td>312.88</td>\n",
       "    </tr>\n",
       "    <tr>\n",
       "      <th>XB</th>\n",
       "      <td>803</td>\n",
       "      <td>251.57</td>\n",
       "    </tr>\n",
       "  </tbody>\n",
       "</table>\n",
       "</div>"
      ],
      "text/plain": [
       "           sum    count\n",
       "platform               \n",
       "PS2       2127  1233.56\n",
       "DS        2121   802.78\n",
       "PS3       1306   931.34\n",
       "Wii       1286   891.18\n",
       "X360      1232   961.24\n",
       "PSP       1193   289.53\n",
       "PS        1190   727.58\n",
       "PC         957   255.76\n",
       "GBA        811   312.88\n",
       "XB         803   251.57"
      ]
     },
     "execution_count": 33,
     "metadata": {},
     "output_type": "execute_result"
    }
   ],
   "source": [
    "#посмотрим общую сумму продаж по платформам\n",
    "data_platform= data.pivot_table(index = 'platform', values = 'total_sales', aggfunc={'sum','count'})\n",
    "data_platform.columns = ['sum', 'count']\n",
    "data_platform = data_platform.sort_values('sum', ascending = False).head(10)\n",
    "data_platform\n"
   ]
  },
  {
   "cell_type": "markdown",
   "metadata": {},
   "source": [
    "Рассмотрим более детально продажи платформ с суммарными продажами более 950 млн."
   ]
  },
  {
   "cell_type": "code",
   "execution_count": 34,
   "metadata": {
    "scrolled": true
   },
   "outputs": [
    {
     "data": {
      "image/png": "[encoded data removed]",
      "text/plain": [
       "<Figure size 360x360 with 1 Axes>"
      ]
     },
     "metadata": {
      "needs_background": "light"
     },
     "output_type": "display_data"
    }
   ],
   "source": [
    "# продажи по годам для PS2\n",
    "data.query('platform == \"PS2\"').pivot_table(index='year_of_release', values='total_sales', aggfunc='sum')\\\n",
    ".sort_values(by='year_of_release').plot(figsize=(5,5), title='Продажи по годам для PS2', kind='bar')\n",
    "plt.xlabel('год')\n",
    "plt.ylabel('продажи')\n",
    "plt.show()"
   ]
  },
  {
   "cell_type": "markdown",
   "metadata": {},
   "source": [
    "<div class=\"alert alert-warning\", style=\"border:solid coral 3px; padding: 20px\">\n",
    "<font size=\"4\"><b>⚠️ Комментарий ревьюера</b></font>\n",
    "    <br /> \n",
    "    <font size=\"3\", color = \"black\">\n",
    "<br />\n",
    "Для красоты («продаваемости») всего проекта не стоит выходить за видимую ширину тетради юпитер ноутбука, коллеги ценят удобство прочтения кода. Широкие строки кода рекомендуется — делить <a href=\"https://qastack.ru/programming/53162/how-can-i-do-a-line-break-line-continuation-in-python\">Перенос длинных строк кода</a>. \n",
    "    \n",
    "</div>"
   ]
  },
  {
   "cell_type": "markdown",
   "metadata": {},
   "source": [
    "<div class=\"alert alert-info\">\n",
    "<font size=\"4\", color = \"black\"><b>✍ Комментарий студента</b></font>\n",
    "    <br /> \n",
    "    <font size=\"3\", color = \"black\">\n",
    "<br /> Мне самой не нравилась это длинная строка, очень неудобно. Спасибо за подсказку! Исправила)\n",
    "        \n",
    "        "
   ]
  },
  {
   "cell_type": "code",
   "execution_count": 35,
   "metadata": {
    "scrolled": false
   },
   "outputs": [
    {
     "data": {
      "image/png": "[encoded data removed]",
      "text/plain": [
       "<Figure size 360x360 with 1 Axes>"
      ]
     },
     "metadata": {
      "needs_background": "light"
     },
     "output_type": "display_data"
    }
   ],
   "source": [
    "# продажи по годам для DS\n",
    "data.query('platform == \"DS\"').pivot_table(index='year_of_release', values='total_sales', aggfunc='sum')\\\n",
    ".sort_values(by='year_of_release').plot(figsize=(5,5), title='Продажи по годам для DS', kind='bar')\n",
    "plt.xlabel('год')\n",
    "plt.ylabel('продажи')\n",
    "plt.show()"
   ]
  },
  {
   "cell_type": "markdown",
   "metadata": {},
   "source": [
    "Платформа DS была выпущена в 2004 году, посмотрим, что за значения у нас в данных в 1985 году."
   ]
  },
  {
   "cell_type": "code",
   "execution_count": 36,
   "metadata": {
    "scrolled": true
   },
   "outputs": [
    {
     "data": {
      "text/html": [
       "<div>\n",
       "<style scoped>\n",
       "    .dataframe tbody tr th:only-of-type {\n",
       "        vertical-align: middle;\n",
       "    }\n",
       "\n",
       "    .dataframe tbody tr th {\n",
       "        vertical-align: top;\n",
       "    }\n",
       "\n",
       "    .dataframe thead th {\n",
       "        text-align: right;\n",
       "    }\n",
       "</style>\n",
       "<table border=\"1\" class=\"dataframe\">\n",
       "  <thead>\n",
       "    <tr style=\"text-align: right;\">\n",
       "      <th></th>\n",
       "      <th>name</th>\n",
       "      <th>platform</th>\n",
       "      <th>year_of_release</th>\n",
       "      <th>genre</th>\n",
       "      <th>na_sales</th>\n",
       "      <th>eu_sales</th>\n",
       "      <th>jp_sales</th>\n",
       "      <th>other_sales</th>\n",
       "      <th>critic_score</th>\n",
       "      <th>user_score</th>\n",
       "      <th>rating</th>\n",
       "      <th>total_sales</th>\n",
       "    </tr>\n",
       "  </thead>\n",
       "  <tbody>\n",
       "    <tr>\n",
       "      <th>15957</th>\n",
       "      <td>Strongest Tokyo University Shogi DS</td>\n",
       "      <td>DS</td>\n",
       "      <td>1985</td>\n",
       "      <td>Action</td>\n",
       "      <td>0.0</td>\n",
       "      <td>0.0</td>\n",
       "      <td>0.02</td>\n",
       "      <td>0.0</td>\n",
       "      <td>&lt;NA&gt;</td>\n",
       "      <td>NaN</td>\n",
       "      <td>undefined</td>\n",
       "      <td>0.02</td>\n",
       "    </tr>\n",
       "  </tbody>\n",
       "</table>\n",
       "</div>"
      ],
      "text/plain": [
       "                                      name platform  year_of_release   genre  \\\n",
       "15957  Strongest Tokyo University Shogi DS       DS             1985  Action   \n",
       "\n",
       "       na_sales  eu_sales  jp_sales  other_sales  critic_score  user_score  \\\n",
       "15957       0.0       0.0      0.02          0.0          <NA>         NaN   \n",
       "\n",
       "          rating  total_sales  \n",
       "15957  undefined         0.02  "
      ]
     },
     "execution_count": 36,
     "metadata": {},
     "output_type": "execute_result"
    }
   ],
   "source": [
    "data.query('platform == \"DS\" and year_of_release == 1985')\n"
   ]
  },
  {
   "cell_type": "code",
   "execution_count": 37,
   "metadata": {},
   "outputs": [],
   "source": [
    "#удалим эту строчку\n",
    "data = data.query('not(platform == \"DS\" and year_of_release == 1985)')\n",
    "\n"
   ]
  },
  {
   "cell_type": "markdown",
   "metadata": {},
   "source": [
    "<div class=\"alert alert-danger\">\n",
    "<font size=\"4\"><b>❌ Комментарий ревьюера</b></font>\n",
    "    <br /> \n",
    "    <font size=\"3\", color = \"black\">\n",
    "<br />\n",
    "Странный выброс 1985 года у DS, можно посмотреть когда платформу выпустили на рынок, стоит удалить аномалию"
   ]
  },
  {
   "cell_type": "markdown",
   "metadata": {},
   "source": [
    "<div class=\"alert alert-info\">\n",
    "<font size=\"4\", color = \"black\"><b>✍ Комментарий студента</b></font>\n",
    "    <br /> \n",
    "    <font size=\"3\", color = \"black\">\n",
    "<br /> Вот тут я даже не обратила внимание на аномальный год, спасибо!"
   ]
  },
  {
   "cell_type": "code",
   "execution_count": 38,
   "metadata": {
    "scrolled": true
   },
   "outputs": [
    {
     "data": {
      "image/png": "[encoded data removed]",
      "text/plain": [
       "<Figure size 360x360 with 1 Axes>"
      ]
     },
     "metadata": {
      "needs_background": "light"
     },
     "output_type": "display_data"
    }
   ],
   "source": [
    "# продажи по годам для PS3\n",
    "data.query('platform == \"PS3\"').pivot_table(index='year_of_release', values='total_sales', aggfunc='sum')\\\n",
    ".sort_values(by='year_of_release').plot(figsize=(5,5), title='Продажи по годам для PS3', kind='bar')\n",
    "plt.xlabel('год')\n",
    "plt.ylabel('продажи')\n",
    "plt.show()"
   ]
  },
  {
   "cell_type": "code",
   "execution_count": 39,
   "metadata": {
    "scrolled": false
   },
   "outputs": [
    {
     "data": {
      "image/png": "[encoded data removed]",
      "text/plain": [
       "<Figure size 360x360 with 1 Axes>"
      ]
     },
     "metadata": {
      "needs_background": "light"
     },
     "output_type": "display_data"
    }
   ],
   "source": [
    "# продажи по годам для Wii\n",
    "data.query('platform == \"Wii\"').pivot_table(index='year_of_release', values='total_sales', aggfunc='sum')\\\n",
    ".sort_values(by='year_of_release').plot(figsize=(5,5), title='Продажи по годам для Wii', kind='bar')\n",
    "plt.xlabel('год')\n",
    "plt.ylabel('продажи')\n",
    "plt.show()"
   ]
  },
  {
   "cell_type": "code",
   "execution_count": 40,
   "metadata": {},
   "outputs": [
    {
     "data": {
      "image/png": "[encoded data removed]",
      "text/plain": [
       "<Figure size 360x360 with 1 Axes>"
      ]
     },
     "metadata": {
      "needs_background": "light"
     },
     "output_type": "display_data"
    }
   ],
   "source": [
    "# продажи по годам для X360\n",
    "data.query('platform == \"X360\"').pivot_table(index='year_of_release', values='total_sales', aggfunc='sum')\\\n",
    ".sort_values(by='year_of_release').plot(figsize=(5,5), title='Продажи по годам для X360', kind='bar')\n",
    "plt.xlabel('год')\n",
    "plt.ylabel('продажи')\n",
    "plt.show()"
   ]
  },
  {
   "cell_type": "code",
   "execution_count": 41,
   "metadata": {},
   "outputs": [
    {
     "data": {
      "image/png": "[encoded data removed]",
      "text/plain": [
       "<Figure size 360x360 with 1 Axes>"
      ]
     },
     "metadata": {
      "needs_background": "light"
     },
     "output_type": "display_data"
    }
   ],
   "source": [
    "# продажи по годам для PSP\n",
    "data.query('platform == \"PSP\"').pivot_table(index='year_of_release', values='total_sales', aggfunc='sum')\\\n",
    ".sort_values(by='year_of_release').plot(figsize=(5,5), title='Продажи по годам для PSP', kind='bar')\n",
    "plt.xlabel('год')\n",
    "plt.ylabel('продажи')\n",
    "plt.show()"
   ]
  },
  {
   "cell_type": "code",
   "execution_count": 42,
   "metadata": {
    "scrolled": false
   },
   "outputs": [
    {
     "data": {
      "image/png": "[encoded data removed]",
      "text/plain": [
       "<Figure size 360x360 with 1 Axes>"
      ]
     },
     "metadata": {
      "needs_background": "light"
     },
     "output_type": "display_data"
    }
   ],
   "source": [
    "# продажи по годам для PS\n",
    "data.query('platform == \"PS\"').pivot_table(index='year_of_release', values='total_sales', aggfunc='sum')\\\n",
    ".sort_values(by='year_of_release').plot(figsize=(5,5), title='Продажи по годам для PS', kind='bar')\n",
    "plt.xlabel('год')\n",
    "plt.ylabel('продажи')\n",
    "plt.show()"
   ]
  },
  {
   "cell_type": "code",
   "execution_count": 43,
   "metadata": {},
   "outputs": [
    {
     "data": {
      "image/png": "[encoded data removed]",
      "text/plain": [
       "<Figure size 360x360 with 1 Axes>"
      ]
     },
     "metadata": {
      "needs_background": "light"
     },
     "output_type": "display_data"
    }
   ],
   "source": [
    "# продажи по годам для PC\n",
    "data.query('platform == \"PC\"').pivot_table(index='year_of_release', values='total_sales', aggfunc='sum')\\\n",
    ".sort_values(by='year_of_release').plot(figsize=(5,5), title='Продажи по годам для PC', kind='bar')\n",
    "plt.xlabel('год')\n",
    "plt.ylabel('продажи')\n",
    "plt.show()"
   ]
  },
  {
   "cell_type": "markdown",
   "metadata": {},
   "source": [
    "По данным графикам можно сделать вывод, что срок жизни игровой платформы в среднем составляет 9-11 лет, далее, скорее всего, приходят на замену более новые версии игр,которые обладают улучшенными характеристиками. Единственной \"аномалией\" является платформа PC,которая ,как оказалось, расшифровывается как персональный компьютер и игры на нем актуальны и по сей день, хотя и продажи не самые большие."
   ]
  },
  {
   "cell_type": "markdown",
   "metadata": {},
   "source": [
    "Для нашего дальнейшего анализа  выделим продажи с 2014 года, чтобы на основании этих данных сделать прогноз на 2017 год."
   ]
  },
  {
   "cell_type": "markdown",
   "metadata": {},
   "source": [
    "<div class=\"alert alert-success\">\n",
    "<font size=\"4\", color= \"seagreen\"><b>✔️ Комментарий ревьюера</b></font>\n",
    "    <br /> \n",
    "    <font size=\"3\", color = \"black\">\n",
    "<br /> Отличное определение жизненного цикла продаж у платформ и актуального периода для анализа, молодец"
   ]
  },
  {
   "cell_type": "markdown",
   "metadata": {},
   "source": [
    "### Рассмотрим продажу платформ в актуальные годы"
   ]
  },
  {
   "cell_type": "code",
   "execution_count": 44,
   "metadata": {
    "scrolled": true
   },
   "outputs": [
    {
     "data": {
      "text/html": [
       "<div>\n",
       "<style scoped>\n",
       "    .dataframe tbody tr th:only-of-type {\n",
       "        vertical-align: middle;\n",
       "    }\n",
       "\n",
       "    .dataframe tbody tr th {\n",
       "        vertical-align: top;\n",
       "    }\n",
       "\n",
       "    .dataframe thead th {\n",
       "        text-align: right;\n",
       "    }\n",
       "</style>\n",
       "<table border=\"1\" class=\"dataframe\">\n",
       "  <thead>\n",
       "    <tr style=\"text-align: right;\">\n",
       "      <th></th>\n",
       "      <th></th>\n",
       "      <th>total_sales</th>\n",
       "    </tr>\n",
       "    <tr>\n",
       "      <th>platform</th>\n",
       "      <th>year_of_release</th>\n",
       "      <th></th>\n",
       "    </tr>\n",
       "  </thead>\n",
       "  <tbody>\n",
       "    <tr>\n",
       "      <th rowspan=\"3\" valign=\"top\">3DS</th>\n",
       "      <th>2014</th>\n",
       "      <td>43.76</td>\n",
       "    </tr>\n",
       "    <tr>\n",
       "      <th>2015</th>\n",
       "      <td>27.78</td>\n",
       "    </tr>\n",
       "    <tr>\n",
       "      <th>2016</th>\n",
       "      <td>15.14</td>\n",
       "    </tr>\n",
       "    <tr>\n",
       "      <th rowspan=\"3\" valign=\"top\">PC</th>\n",
       "      <th>2014</th>\n",
       "      <td>13.28</td>\n",
       "    </tr>\n",
       "    <tr>\n",
       "      <th>2015</th>\n",
       "      <td>8.52</td>\n",
       "    </tr>\n",
       "    <tr>\n",
       "      <th>2016</th>\n",
       "      <td>5.25</td>\n",
       "    </tr>\n",
       "    <tr>\n",
       "      <th rowspan=\"3\" valign=\"top\">PS3</th>\n",
       "      <th>2014</th>\n",
       "      <td>47.76</td>\n",
       "    </tr>\n",
       "    <tr>\n",
       "      <th>2015</th>\n",
       "      <td>16.82</td>\n",
       "    </tr>\n",
       "    <tr>\n",
       "      <th>2016</th>\n",
       "      <td>3.60</td>\n",
       "    </tr>\n",
       "    <tr>\n",
       "      <th rowspan=\"3\" valign=\"top\">PS4</th>\n",
       "      <th>2014</th>\n",
       "      <td>100.00</td>\n",
       "    </tr>\n",
       "    <tr>\n",
       "      <th>2015</th>\n",
       "      <td>118.90</td>\n",
       "    </tr>\n",
       "    <tr>\n",
       "      <th>2016</th>\n",
       "      <td>69.25</td>\n",
       "    </tr>\n",
       "    <tr>\n",
       "      <th rowspan=\"2\" valign=\"top\">PSP</th>\n",
       "      <th>2014</th>\n",
       "      <td>0.24</td>\n",
       "    </tr>\n",
       "    <tr>\n",
       "      <th>2015</th>\n",
       "      <td>0.12</td>\n",
       "    </tr>\n",
       "    <tr>\n",
       "      <th rowspan=\"3\" valign=\"top\">PSV</th>\n",
       "      <th>2014</th>\n",
       "      <td>11.90</td>\n",
       "    </tr>\n",
       "    <tr>\n",
       "      <th>2015</th>\n",
       "      <td>6.25</td>\n",
       "    </tr>\n",
       "    <tr>\n",
       "      <th>2016</th>\n",
       "      <td>4.25</td>\n",
       "    </tr>\n",
       "    <tr>\n",
       "      <th rowspan=\"3\" valign=\"top\">Wii</th>\n",
       "      <th>2014</th>\n",
       "      <td>3.75</td>\n",
       "    </tr>\n",
       "    <tr>\n",
       "      <th>2015</th>\n",
       "      <td>1.14</td>\n",
       "    </tr>\n",
       "    <tr>\n",
       "      <th>2016</th>\n",
       "      <td>0.18</td>\n",
       "    </tr>\n",
       "    <tr>\n",
       "      <th rowspan=\"3\" valign=\"top\">WiiU</th>\n",
       "      <th>2014</th>\n",
       "      <td>22.03</td>\n",
       "    </tr>\n",
       "    <tr>\n",
       "      <th>2015</th>\n",
       "      <td>16.35</td>\n",
       "    </tr>\n",
       "    <tr>\n",
       "      <th>2016</th>\n",
       "      <td>4.60</td>\n",
       "    </tr>\n",
       "    <tr>\n",
       "      <th rowspan=\"3\" valign=\"top\">X360</th>\n",
       "      <th>2014</th>\n",
       "      <td>34.74</td>\n",
       "    </tr>\n",
       "    <tr>\n",
       "      <th>2015</th>\n",
       "      <td>11.96</td>\n",
       "    </tr>\n",
       "    <tr>\n",
       "      <th>2016</th>\n",
       "      <td>1.52</td>\n",
       "    </tr>\n",
       "    <tr>\n",
       "      <th rowspan=\"3\" valign=\"top\">XOne</th>\n",
       "      <th>2014</th>\n",
       "      <td>54.07</td>\n",
       "    </tr>\n",
       "    <tr>\n",
       "      <th>2015</th>\n",
       "      <td>60.14</td>\n",
       "    </tr>\n",
       "    <tr>\n",
       "      <th>2016</th>\n",
       "      <td>26.15</td>\n",
       "    </tr>\n",
       "  </tbody>\n",
       "</table>\n",
       "</div>"
      ],
      "text/plain": [
       "                          total_sales\n",
       "platform year_of_release             \n",
       "3DS      2014                   43.76\n",
       "         2015                   27.78\n",
       "         2016                   15.14\n",
       "PC       2014                   13.28\n",
       "         2015                    8.52\n",
       "         2016                    5.25\n",
       "PS3      2014                   47.76\n",
       "         2015                   16.82\n",
       "         2016                    3.60\n",
       "PS4      2014                  100.00\n",
       "         2015                  118.90\n",
       "         2016                   69.25\n",
       "PSP      2014                    0.24\n",
       "         2015                    0.12\n",
       "PSV      2014                   11.90\n",
       "         2015                    6.25\n",
       "         2016                    4.25\n",
       "Wii      2014                    3.75\n",
       "         2015                    1.14\n",
       "         2016                    0.18\n",
       "WiiU     2014                   22.03\n",
       "         2015                   16.35\n",
       "         2016                    4.60\n",
       "X360     2014                   34.74\n",
       "         2015                   11.96\n",
       "         2016                    1.52\n",
       "XOne     2014                   54.07\n",
       "         2015                   60.14\n",
       "         2016                   26.15"
      ]
     },
     "execution_count": 44,
     "metadata": {},
     "output_type": "execute_result"
    }
   ],
   "source": [
    "#сначала посмотрим продажи по актуальным годам в разрезе платформ.Сразу заведем переменную, включающую года только с 2014-го.\n",
    "data_actual = data.query('year_of_release >= 2014')\n",
    "data_actual.pivot_table(index=['platform','year_of_release'], values='total_sales', aggfunc='sum')"
   ]
  },
  {
   "cell_type": "code",
   "execution_count": 45,
   "metadata": {
    "scrolled": true
   },
   "outputs": [
    {
     "data": {
      "text/html": [
       "<div>\n",
       "<style scoped>\n",
       "    .dataframe tbody tr th:only-of-type {\n",
       "        vertical-align: middle;\n",
       "    }\n",
       "\n",
       "    .dataframe tbody tr th {\n",
       "        vertical-align: top;\n",
       "    }\n",
       "\n",
       "    .dataframe thead th {\n",
       "        text-align: right;\n",
       "    }\n",
       "</style>\n",
       "<table border=\"1\" class=\"dataframe\">\n",
       "  <thead>\n",
       "    <tr style=\"text-align: right;\">\n",
       "      <th></th>\n",
       "      <th>platform</th>\n",
       "      <th>total_sales</th>\n",
       "    </tr>\n",
       "  </thead>\n",
       "  <tbody>\n",
       "    <tr>\n",
       "      <th>0</th>\n",
       "      <td>PS4</td>\n",
       "      <td>288.15</td>\n",
       "    </tr>\n",
       "    <tr>\n",
       "      <th>1</th>\n",
       "      <td>XOne</td>\n",
       "      <td>140.36</td>\n",
       "    </tr>\n",
       "    <tr>\n",
       "      <th>2</th>\n",
       "      <td>3DS</td>\n",
       "      <td>86.68</td>\n",
       "    </tr>\n",
       "    <tr>\n",
       "      <th>3</th>\n",
       "      <td>PS3</td>\n",
       "      <td>68.18</td>\n",
       "    </tr>\n",
       "    <tr>\n",
       "      <th>4</th>\n",
       "      <td>X360</td>\n",
       "      <td>48.22</td>\n",
       "    </tr>\n",
       "    <tr>\n",
       "      <th>5</th>\n",
       "      <td>WiiU</td>\n",
       "      <td>42.98</td>\n",
       "    </tr>\n",
       "    <tr>\n",
       "      <th>6</th>\n",
       "      <td>PC</td>\n",
       "      <td>27.05</td>\n",
       "    </tr>\n",
       "    <tr>\n",
       "      <th>7</th>\n",
       "      <td>PSV</td>\n",
       "      <td>22.40</td>\n",
       "    </tr>\n",
       "    <tr>\n",
       "      <th>8</th>\n",
       "      <td>Wii</td>\n",
       "      <td>5.07</td>\n",
       "    </tr>\n",
       "    <tr>\n",
       "      <th>9</th>\n",
       "      <td>PSP</td>\n",
       "      <td>0.36</td>\n",
       "    </tr>\n",
       "  </tbody>\n",
       "</table>\n",
       "</div>"
      ],
      "text/plain": [
       "  platform  total_sales\n",
       "0      PS4       288.15\n",
       "1     XOne       140.36\n",
       "2      3DS        86.68\n",
       "3      PS3        68.18\n",
       "4     X360        48.22\n",
       "5     WiiU        42.98\n",
       "6       PC        27.05\n",
       "7      PSV        22.40\n",
       "8      Wii         5.07\n",
       "9      PSP         0.36"
      ]
     },
     "execution_count": 45,
     "metadata": {},
     "output_type": "execute_result"
    }
   ],
   "source": [
    "#теперь посмотрим продажи суммарно по платформам за актуальный период\n",
    "data_platform_actual = data_actual.pivot_table(index='platform', values='total_sales', aggfunc='sum')\\\n",
    ".sort_values(by='total_sales', ascending =False).reset_index()\n",
    "data_platform_actual"
   ]
  },
  {
   "cell_type": "code",
   "execution_count": 46,
   "metadata": {
    "scrolled": true
   },
   "outputs": [
    {
     "data": {
      "image/png": "[encoded data removed]",
      "text/plain": [
       "<Figure size 432x288 with 1 Axes>"
      ]
     },
     "metadata": {
      "needs_background": "light"
     },
     "output_type": "display_data"
    }
   ],
   "source": [
    "#построим гистрограмму продаж платформ по годам\n",
    "sns.barplot(data=data_platform_actual, x='platform', y = 'total_sales',ci= None)\n",
    "plt.show()"
   ]
  },
  {
   "cell_type": "markdown",
   "metadata": {},
   "source": [
    "С помощью таблиц выше и графика, мы выяснили, что лидируют по продажам следующие платформы: PS4, XOne, 3DS, PS3, X360,WiiU.Стоит обратить внимание, что две платформы, а именно:PS4, XOne, пришли на смену двух предыдущим платформам PS3, X360.Поэтому на перспективу будем рассматривать новые на момент нашего исследования платформы: PS4, XOne, 3DS,WiiU.  \n",
    "Помня, что данные за 2006 год у нас неполные, мы видим, что за 2014-2015 год продажи , в основном, падали, кроме двух платформ:PS4, XOne, которые являются самыми 'молодыми' из всех и только набирают обороты."
   ]
  },
  {
   "cell_type": "markdown",
   "metadata": {},
   "source": [
    "<div class=\"alert alert-warning\", style=\"border:solid coral 3px; padding: 20px\">\n",
    "<font size=\"4\", color = \"DimGrey\"><b>⚠️ Комментарий ревьюера</b></font>\n",
    "    <br /> \n",
    "    <font size=\"3\", color = \"black\">\n",
    "<br />\n",
    "данные за 2016 год неполные, и делать вывод о падении продаж в 2016 году не стоит, можно сравнивать рост/падение на других промежутках, например 2015 год к 2014 ..."
   ]
  },
  {
   "cell_type": "markdown",
   "metadata": {},
   "source": [
    "<div class=\"alert alert-danger\">\n",
    "<font size=\"4\"><b>❌ Комментарий ревьюера</b></font>\n",
    "    <br /> \n",
    "    <font size=\"3\", color = \"black\">\n",
    "<br />          \n",
    "На этом шаге мы определяем перечень перспективных платформ на 2017 год, стоит четко выделить — что мы рекомендуем маркетологам нашей компании\n",
    "        \n",
    "        С помощью таблиц выше и графика, мы выяснили, что лидируют по продажам следующие платформы: PS4, XOne, 3DS, PS3, X360,WiiU. Но также мы увидели, что продажи по всем этим платформам за наш период сильно упали.\n",
    "        \n",
    "Двум платформам из рекомендации уже по 11 лет или около того, их срок активных продаж уже закончен ..."
   ]
  },
  {
   "cell_type": "markdown",
   "metadata": {},
   "source": [
    "<div class=\"alert alert-info\">\n",
    "<font size=\"4\", color = \"black\"><b>✍ Комментарий студента</b></font>\n",
    "    <br /> \n",
    "    <font size=\"3\", color = \"black\">\n",
    "<br /> исправила вывод по данному пункту"
   ]
  },
  {
   "cell_type": "markdown",
   "metadata": {},
   "source": [
    "### Построим график «ящик с усами» по глобальным продажам игр в разбивке по платформам"
   ]
  },
  {
   "cell_type": "code",
   "execution_count": 47,
   "metadata": {},
   "outputs": [
    {
     "data": {
      "image/png": "[encoded data removed]",
      "text/plain": [
       "<Figure size 720x720 with 1 Axes>"
      ]
     },
     "metadata": {
      "needs_background": "light"
     },
     "output_type": "display_data"
    }
   ],
   "source": [
    "#построим ящик с усами для всех платформ\n",
    "plt.figure(figsize=(10,10))\n",
    "sns.boxplot(data=data_actual, x='platform', y = 'total_sales')\\\n",
    ".set(title='Продажи по платформам', xlabel = 'Платформы', ylabel = 'Продажи', ylim =(0,2))\n",
    "plt.show()"
   ]
  },
  {
   "cell_type": "code",
   "execution_count": 48,
   "metadata": {
    "scrolled": false
   },
   "outputs": [
    {
     "data": {
      "image/png": "[encoded data removed]",
      "text/plain": [
       "<Figure size 576x576 with 1 Axes>"
      ]
     },
     "metadata": {
      "needs_background": "light"
     },
     "output_type": "display_data"
    }
   ],
   "source": [
    "#построим ящик с усами для платформ, которые мы выделили как лидеры продаж в 2014-2016 году\n",
    "platform_list = data_actual.query(\"platform in ['PS4', 'XOne', '3DS', 'PS3', 'X360', 'WiiU']\")\n",
    "plt.figure(figsize=(8,8))\n",
    "sns.boxplot(data=platform_list, x='platform', y = 'total_sales')\\\n",
    ".set(title='Продажи по платформам', xlabel = 'Платформы', ylabel = 'Продажи', ylim =(0,2))\n",
    "plt.show()"
   ]
  },
  {
   "cell_type": "markdown",
   "metadata": {},
   "source": [
    "По графику видно, что медианные значения у PS4,XOne, X360 и WiiU близки к одному значению, продажи по них также самые высокие, судя по \"усам\". Менее продаваемой является платформа 3DS.\n"
   ]
  },
  {
   "cell_type": "markdown",
   "metadata": {},
   "source": [
    "<div class=\"alert alert-warning\", style=\"border:solid coral 3px; padding: 20px\">\n",
    "<font size=\"4\", color = \"DimGrey\"><b>⚠️ Комментарий ревьюера</b></font>\n",
    "    <br /> \n",
    "    <font size=\"3\", color = \"black\">\n",
    "<br />Отлично, ты используешь диаграмму размаха для определения успешности платформы, молодец\n",
    "        \n",
    "Для более полной оценки продаж на платформах стоит добавить график со 100% масштабом, посмотреть на максимальные продажи "
   ]
  },
  {
   "cell_type": "markdown",
   "metadata": {},
   "source": [
    "### Посмотрим, как влияют на продажи платформ отзывы пользователей и критиков. Построим диаграмму рассеяния и посчитаем корреляцию между отзывами и продажами"
   ]
  },
  {
   "cell_type": "markdown",
   "metadata": {},
   "source": [
    "<div class=\"alert alert-info\">\n",
    "<font size=\"4\", color = \"black\"><b>✍ Комментарий студента</b></font>\n",
    "    <br /> \n",
    "    <font size=\"3\", color = \"black\">\n",
    "<br /> \n",
    "        По данному пункту у меня большой вопрос, ну к ящику с усами он тоже относится.  После того, как мы проанализировали платформы у в проекте идут следующие задания:  \n",
    "        \n",
    "*Возьмите данные за соответствующий актуальный период. Актуальный период определите самостоятельно в результате исследования предыдущих вопросов. Основной фактор — эти данные помогут построить прогноз на 2017 год.   \n",
    "* Не учитывайте в работе данные за предыдущие годы.    \n",
    "* Какие платформы лидируют по продажам, растут или падают? Выберите несколько потенциально прибыльных платформ.   \n",
    "* Постройте график «ящик с усами» по глобальным продажам игр в разбивке по платформам. Опишите результат.   \n",
    "* Посмотрите, как влияют на продажи внутри одной популярной платформы отзывы пользователей и критиков. Постройте диаграмму рассеяния и посчитайте корреляцию между отзывами и продажами. Сформулируйте выводы.   \n",
    "* Соотнесите выводы с продажами игр на других платформах.  \n",
    "* Посмотрите на общее распределение игр по жанрам. Что можно сказать о самых прибыльных жанрах? Выделяются ли жанры с высокими и низкими продажами?  \n",
    "        \n",
    "То есть нас четко просят смотреть всю дальнейшую информацию по актуальным годам.  Может быть рассмотреть тут и определенные нами года и все данные, но тогда они могут пойти в разрез друг другу.\n",
    "        \n",
    "        "
   ]
  },
  {
   "cell_type": "code",
   "execution_count": 49,
   "metadata": {},
   "outputs": [
    {
     "data": {
      "image/png": "[encoded data removed]",
      "text/plain": [
       "<Figure size 432x288 with 1 Axes>"
      ]
     },
     "metadata": {
      "needs_background": "light"
     },
     "output_type": "display_data"
    }
   ],
   "source": [
    "#построим диаграммы рассеяния по платформе РS4 для продаж и оценки критиков. Используем усеченный датасет по актуальным годам и также в нем отсечем данные, в которых оценка критиков < 0\n",
    "data_actual_critic = data_actual.query('critic_score >0')\n",
    "data_PS4_сritic = data_actual_critic.query('platform == \"PS4\"')\\\n",
    ".pivot_table(index='critic_score', values='total_sales', aggfunc='sum').sort_values(by='total_sales', ascending =False).reset_index()\n",
    "data_PS4_сritic.plot(x='critic_score', y='total_sales', kind='scatter')\n",
    "plt.show()"
   ]
  },
  {
   "cell_type": "markdown",
   "metadata": {},
   "source": [
    "<div class=\"alert alert-danger\">\n",
    "<font size=\"4\"><b>❌ Комментарий ревьюера</b></font>\n",
    "    <br /> \n",
    "    <font size=\"3\", color = \"black\">\n",
    "<br />Не стоит для поиска зависимостей при помощи точечных диаграмм строить сводные таблицы и находить сумму продаж\n",
    "        \n",
    "        data_actual_critic.query('platform == \"PS4\"').pivot_table(index='critic_score', values='total_sales', aggfunc='sum').sort_values(by='total_sales', ascending =False).reset_index()\n",
    "        \n",
    "        \n",
    "Это может привести к некорректным выводам\n",
    "        \n",
    "        Мы видим, что зависимость между оценкой критиков и продажами прослеживается достаточно явно: чем больше оценка, тем больше продажи\n",
    "        \n",
    "Строим точечную диаграмму и выполняем расчет коэффициента корреляции на сырых данных"
   ]
  },
  {
   "cell_type": "code",
   "execution_count": 50,
   "metadata": {
    "scrolled": true
   },
   "outputs": [
    {
     "data": {
      "text/plain": [
       "0.6777894087959703"
      ]
     },
     "execution_count": 50,
     "metadata": {},
     "output_type": "execute_result"
    }
   ],
   "source": [
    "# вычислим корреляцию между продажами и оценкой критиков\n",
    "data_PS4_сritic['total_sales'].corr(data_PS4_сritic['critic_score'])\n"
   ]
  },
  {
   "cell_type": "code",
   "execution_count": 51,
   "metadata": {},
   "outputs": [
    {
     "data": {
      "image/png": "[encoded data removed]",
      "text/plain": [
       "<Figure size 432x288 with 1 Axes>"
      ]
     },
     "metadata": {
      "needs_background": "light"
     },
     "output_type": "display_data"
    }
   ],
   "source": [
    "#построим диаграммы рассеяния по платформе РS4 для продаж и оценки пользователей.Используем усеченный датасет по актуальным годам и также в нем отсечем данные, в которых оценка пользователей < 0\n",
    "data_actual_user = data_actual.query('user_score >0')\n",
    "data_PS4_user =data_actual_user.query('platform == \"PS4\"')\\\n",
    ".pivot_table(index='user_score', values='total_sales', aggfunc='sum').sort_values(by='total_sales', ascending =False).reset_index()\n",
    "data_PS4_user.plot(x='user_score', y='total_sales', kind='scatter')\n",
    "plt.show()"
   ]
  },
  {
   "cell_type": "code",
   "execution_count": 52,
   "metadata": {},
   "outputs": [
    {
     "data": {
      "text/plain": [
       "0.3876090397769944"
      ]
     },
     "execution_count": 52,
     "metadata": {},
     "output_type": "execute_result"
    }
   ],
   "source": [
    "# вычислим корреляцию между продажами и оценкой пользователей\n",
    "data_PS4_user['total_sales'].corr(data_PS4_user['user_score'])"
   ]
  },
  {
   "cell_type": "markdown",
   "metadata": {},
   "source": [
    "Мы видим, что зависимость между оценкой критиков и продажами прослеживается достаточно явно: чем больше оценка, тем больше продажи, а вот оценки пользователей уже намного меньше ведут к увеличению продаж. "
   ]
  },
  {
   "cell_type": "code",
   "execution_count": 53,
   "metadata": {},
   "outputs": [
    {
     "data": {
      "image/png": "[encoded data removed]",
      "text/plain": [
       "<Figure size 432x288 with 1 Axes>"
      ]
     },
     "metadata": {
      "needs_background": "light"
     },
     "output_type": "display_data"
    }
   ],
   "source": [
    "#построим диаграммы рассеяния по платформе XOne для продаж и оценки критиков\n",
    "data_XOne_сritic = data_actual_critic.query('platform == \"XOne\"')\\\n",
    ".pivot_table(index='critic_score', values='total_sales', aggfunc='sum').sort_values(by='total_sales', ascending =False).reset_index()\n",
    "data_XOne_сritic.plot(x='critic_score', y='total_sales', kind='scatter')\n",
    "plt.show()"
   ]
  },
  {
   "cell_type": "code",
   "execution_count": 54,
   "metadata": {},
   "outputs": [
    {
     "data": {
      "text/plain": [
       "0.5865628396928408"
      ]
     },
     "execution_count": 54,
     "metadata": {},
     "output_type": "execute_result"
    }
   ],
   "source": [
    "# вычислим корреляцию между продажами и оценкой критиков\n",
    "data_XOne_сritic['total_sales'].corr(data_XOne_сritic['critic_score'])"
   ]
  },
  {
   "cell_type": "code",
   "execution_count": 55,
   "metadata": {},
   "outputs": [
    {
     "data": {
      "image/png": "[encoded data removed]",
      "text/plain": [
       "<Figure size 432x288 with 1 Axes>"
      ]
     },
     "metadata": {
      "needs_background": "light"
     },
     "output_type": "display_data"
    }
   ],
   "source": [
    "#построим диаграммы рассеяния по платформе XOne для продаж и оценки пользователей\n",
    "data_XOne_user = data_actual_user.query('platform == \"XOne\"')\\\n",
    ".pivot_table(index='user_score', values='total_sales', aggfunc='sum').sort_values(by='total_sales', ascending =False).reset_index()\n",
    "data_XOne_user.plot(x='user_score', y='total_sales', kind='scatter')\n",
    "plt.show()"
   ]
  },
  {
   "cell_type": "code",
   "execution_count": 56,
   "metadata": {},
   "outputs": [
    {
     "data": {
      "text/plain": [
       "0.06664117326540232"
      ]
     },
     "execution_count": 56,
     "metadata": {},
     "output_type": "execute_result"
    }
   ],
   "source": [
    "# вычислим корреляцию между продажами и оценкой пользователей\n",
    "data_XOne_user['total_sales'].corr(data_XOne_user['user_score'])"
   ]
  },
  {
   "cell_type": "markdown",
   "metadata": {},
   "source": [
    "По платформе XOne мы также наблюдаем зависимость между продажи и оценками критиков, но меньше, чем при продажах PS4, а от оценки пользователей продажи , практически, не зависят, зависимость на графике не прослеживается."
   ]
  },
  {
   "cell_type": "code",
   "execution_count": 57,
   "metadata": {},
   "outputs": [
    {
     "data": {
      "image/png": "[encoded data removed]",
      "text/plain": [
       "<Figure size 432x288 with 1 Axes>"
      ]
     },
     "metadata": {
      "needs_background": "light"
     },
     "output_type": "display_data"
    }
   ],
   "source": [
    "#построим диаграммы рассеяния по платформе 3DS для продаж и оценки критиков\n",
    "data_3DS_сritic = data_actual_critic.query('platform == \"3DS\"')\\\n",
    ".pivot_table(index='critic_score', values='total_sales', aggfunc='sum').sort_values(by='total_sales', ascending =False).reset_index()\n",
    "data_3DS_сritic.plot(x='critic_score', y='total_sales', kind='scatter')\n",
    "plt.show()"
   ]
  },
  {
   "cell_type": "code",
   "execution_count": 58,
   "metadata": {},
   "outputs": [
    {
     "data": {
      "text/plain": [
       "0.4506854592911639"
      ]
     },
     "execution_count": 58,
     "metadata": {},
     "output_type": "execute_result"
    }
   ],
   "source": [
    "# вычислим корреляцию между продажами и оценкой критиков\n",
    "data_3DS_сritic['total_sales'].corr(data_3DS_сritic['critic_score'])"
   ]
  },
  {
   "cell_type": "code",
   "execution_count": 59,
   "metadata": {},
   "outputs": [
    {
     "data": {
      "image/png": "[encoded data removed]",
      "text/plain": [
       "<Figure size 432x288 with 1 Axes>"
      ]
     },
     "metadata": {
      "needs_background": "light"
     },
     "output_type": "display_data"
    }
   ],
   "source": [
    "#построим диаграммы рассеяния по платформе 3DS для продаж и оценки пользователей\n",
    "data_3DS_user = data_actual_user.query('platform == \"3DS\"')\\\n",
    ".pivot_table(index='user_score', values='total_sales', aggfunc='sum').sort_values(by='total_sales', ascending =False).reset_index()\n",
    "data_3DS_user.plot(x='user_score', y='total_sales', kind='scatter')\n",
    "plt.show()"
   ]
  },
  {
   "cell_type": "code",
   "execution_count": 60,
   "metadata": {},
   "outputs": [
    {
     "data": {
      "text/plain": [
       "0.411489067113135"
      ]
     },
     "execution_count": 60,
     "metadata": {},
     "output_type": "execute_result"
    }
   ],
   "source": [
    "# вычислим корреляцию между продажами и оценкой пользователей\n",
    "data_3DS_user['total_sales'].corr(data_3DS_user['user_score'])"
   ]
  },
  {
   "cell_type": "markdown",
   "metadata": {},
   "source": [
    "Продажи по платформе 3DS больше зависят от оценки пользователей, чем от оценки критиков, но практически находятся на одном слабом уровне."
   ]
  },
  {
   "cell_type": "code",
   "execution_count": 61,
   "metadata": {},
   "outputs": [
    {
     "data": {
      "image/png": "[encoded data removed]",
      "text/plain": [
       "<Figure size 432x288 with 1 Axes>"
      ]
     },
     "metadata": {
      "needs_background": "light"
     },
     "output_type": "display_data"
    }
   ],
   "source": [
    "#построим диаграммы рассеяния по платформе PS3 для продаж и оценки критиков\n",
    "data_PS3_сritic = data_actual_critic.query('platform == \"PS3\"')\\\n",
    ".pivot_table(index='critic_score', values='total_sales', aggfunc='sum').sort_values(by='total_sales', ascending =False).reset_index()\n",
    "data_PS3_сritic.plot(x='critic_score', y='total_sales', kind='scatter')\n",
    "plt.show()"
   ]
  },
  {
   "cell_type": "code",
   "execution_count": 62,
   "metadata": {},
   "outputs": [
    {
     "data": {
      "text/plain": [
       "0.4490960383283014"
      ]
     },
     "execution_count": 62,
     "metadata": {},
     "output_type": "execute_result"
    }
   ],
   "source": [
    "# вычислим корреляцию между продажами и оценкой критиков\n",
    "data_PS3_сritic['total_sales'].corr(data_PS3_сritic['critic_score'])"
   ]
  },
  {
   "cell_type": "code",
   "execution_count": 63,
   "metadata": {},
   "outputs": [
    {
     "data": {
      "image/png": "[encoded data removed]",
      "text/plain": [
       "<Figure size 432x288 with 1 Axes>"
      ]
     },
     "metadata": {
      "needs_background": "light"
     },
     "output_type": "display_data"
    }
   ],
   "source": [
    "#построим диаграммы рассеяния по платформе PS3 для продаж и оценки пользователей\n",
    "data_PS3_user = data_actual_user.query('platform == \"PS3\"')\\\n",
    ".pivot_table(index='user_score', values='total_sales', aggfunc='sum').sort_values(by='total_sales', ascending =False).reset_index()\n",
    "data_PS3_user.plot(x='user_score', y='total_sales', kind='scatter')\n",
    "plt.show()"
   ]
  },
  {
   "cell_type": "code",
   "execution_count": 64,
   "metadata": {},
   "outputs": [
    {
     "data": {
      "text/plain": [
       "-0.04900778907846663"
      ]
     },
     "execution_count": 64,
     "metadata": {},
     "output_type": "execute_result"
    }
   ],
   "source": [
    "# вычислим корреляцию между продажами и оценкой пользователей\n",
    "data_PS3_user['total_sales'].corr(data_PS3_user['user_score'])"
   ]
  },
  {
   "cell_type": "markdown",
   "metadata": {},
   "source": [
    "По платформе PS3 наблюдается небольшая зависимость между продажами и оценками критиков и обратная зависимость между продажи и оценкой пользователей."
   ]
  },
  {
   "cell_type": "code",
   "execution_count": 65,
   "metadata": {},
   "outputs": [
    {
     "data": {
      "image/png": "[encoded data removed]",
      "text/plain": [
       "<Figure size 432x288 with 1 Axes>"
      ]
     },
     "metadata": {
      "needs_background": "light"
     },
     "output_type": "display_data"
    }
   ],
   "source": [
    "#построим диаграммы рассеяния по платформе X360 для продаж и оценки критиков\n",
    "data_X360_сritic = data_actual_critic.query('platform == \"X360\"')\\\n",
    ".pivot_table(index='critic_score', values='total_sales', aggfunc='sum').sort_values(by='total_sales', ascending =False).reset_index()\n",
    "data_X360_сritic.plot(x='critic_score', y='total_sales', kind='scatter')\n",
    "plt.show()"
   ]
  },
  {
   "cell_type": "code",
   "execution_count": 66,
   "metadata": {},
   "outputs": [
    {
     "data": {
      "text/plain": [
       "0.2422484243175399"
      ]
     },
     "execution_count": 66,
     "metadata": {},
     "output_type": "execute_result"
    }
   ],
   "source": [
    "# вычислим корреляцию между продажами и оценкой критиков\n",
    "data_X360_сritic['total_sales'].corr(data_PS3_сritic['critic_score'])"
   ]
  },
  {
   "cell_type": "code",
   "execution_count": 67,
   "metadata": {
    "scrolled": true
   },
   "outputs": [
    {
     "data": {
      "image/png": "[encoded data removed]",
      "text/plain": [
       "<Figure size 432x288 with 1 Axes>"
      ]
     },
     "metadata": {
      "needs_background": "light"
     },
     "output_type": "display_data"
    }
   ],
   "source": [
    "#построим диаграммы рассеяния по платформе X360 для продаж и оценки пользователей\n",
    "data_X360_user = data_actual_user.query('platform == \"X360\"')\\\n",
    ".pivot_table(index='user_score', values='total_sales', aggfunc='sum')\\\n",
    ".sort_values(by='total_sales', ascending =False).reset_index()\n",
    "data_X360_user.plot(x='user_score', y='total_sales', kind='scatter')\n",
    "plt.show()"
   ]
  },
  {
   "cell_type": "code",
   "execution_count": 68,
   "metadata": {},
   "outputs": [
    {
     "data": {
      "text/plain": [
       "-0.10903971230630077"
      ]
     },
     "execution_count": 68,
     "metadata": {},
     "output_type": "execute_result"
    }
   ],
   "source": [
    "# вычислим корреляцию между продажами и оценкой пользователей\n",
    "data_X360_user['total_sales'].corr(data_X360_user['user_score'])"
   ]
  },
  {
   "cell_type": "markdown",
   "metadata": {},
   "source": [
    "Продажи по платформе X360 мало зависят и от оценки критиков и слабая обратная зависимость от оценки пользователей."
   ]
  },
  {
   "cell_type": "markdown",
   "metadata": {},
   "source": [
    "На данном этапе исследования, мы обнаружили, что оценки пользователей по всем топовым платформах, практически не влияют на продажи самим платформ. Большего внимания заслуживает оценка критиков, которая  имеет влияние на продажи,особенно на самые топовые платформы, такие как РS4, XOne."
   ]
  },
  {
   "cell_type": "markdown",
   "metadata": {},
   "source": [
    "<div class=\"alert alert-danger\">\n",
    "<font size=\"4\"><b>❌ Комментарий ревьюера</b></font>\n",
    "    <br /> \n",
    "    <font size=\"3\", color = \"black\">\n",
    "<br />Стоит исправить весь раздел\n",
    "        \n",
    "        Не стоит для поиска зависимостей при помощи точечных диаграмм строить сводные таблицы и находить сумму продаж\n",
    "\n",
    "                data_actual_critic.query('platform == \"PS4\"').pivot_table(index='critic_score', values='total_sales', aggfunc='sum').sort_values(by='total_sales', ascending =False).reset_index()\n",
    "\n",
    "\n",
    "        Это может привести к некорректным выводам\n",
    "\n",
    "                Мы видим, что зависимость между оценкой критиков и продажами прослеживается достаточно явно: чем больше оценка, тем больше продажи\n",
    "\n",
    "        Строим точечную диаграмму и выполняем расчет коэффициента корреляции на сырых данных"
   ]
  },
  {
   "cell_type": "markdown",
   "metadata": {},
   "source": [
    "### Посмотрим на общее распределение игр по жанрам."
   ]
  },
  {
   "cell_type": "code",
   "execution_count": 69,
   "metadata": {},
   "outputs": [
    {
     "data": {
      "text/html": [
       "<div>\n",
       "<style scoped>\n",
       "    .dataframe tbody tr th:only-of-type {\n",
       "        vertical-align: middle;\n",
       "    }\n",
       "\n",
       "    .dataframe tbody tr th {\n",
       "        vertical-align: top;\n",
       "    }\n",
       "\n",
       "    .dataframe thead th {\n",
       "        text-align: right;\n",
       "    }\n",
       "</style>\n",
       "<table border=\"1\" class=\"dataframe\">\n",
       "  <thead>\n",
       "    <tr style=\"text-align: right;\">\n",
       "      <th></th>\n",
       "      <th>genre</th>\n",
       "      <th>total_sales</th>\n",
       "    </tr>\n",
       "  </thead>\n",
       "  <tbody>\n",
       "    <tr>\n",
       "      <th>0</th>\n",
       "      <td>Action</td>\n",
       "      <td>199.36</td>\n",
       "    </tr>\n",
       "    <tr>\n",
       "      <th>1</th>\n",
       "      <td>Shooter</td>\n",
       "      <td>170.94</td>\n",
       "    </tr>\n",
       "    <tr>\n",
       "      <th>2</th>\n",
       "      <td>Sports</td>\n",
       "      <td>109.48</td>\n",
       "    </tr>\n",
       "    <tr>\n",
       "      <th>3</th>\n",
       "      <td>Role-Playing</td>\n",
       "      <td>101.44</td>\n",
       "    </tr>\n",
       "    <tr>\n",
       "      <th>4</th>\n",
       "      <td>Misc</td>\n",
       "      <td>37.55</td>\n",
       "    </tr>\n",
       "    <tr>\n",
       "      <th>5</th>\n",
       "      <td>Fighting</td>\n",
       "      <td>28.22</td>\n",
       "    </tr>\n",
       "    <tr>\n",
       "      <th>6</th>\n",
       "      <td>Racing</td>\n",
       "      <td>27.52</td>\n",
       "    </tr>\n",
       "    <tr>\n",
       "      <th>7</th>\n",
       "      <td>Platform</td>\n",
       "      <td>18.09</td>\n",
       "    </tr>\n",
       "    <tr>\n",
       "      <th>8</th>\n",
       "      <td>Adventure</td>\n",
       "      <td>17.55</td>\n",
       "    </tr>\n",
       "    <tr>\n",
       "      <th>9</th>\n",
       "      <td>Simulation</td>\n",
       "      <td>13.13</td>\n",
       "    </tr>\n",
       "    <tr>\n",
       "      <th>10</th>\n",
       "      <td>Strategy</td>\n",
       "      <td>3.96</td>\n",
       "    </tr>\n",
       "    <tr>\n",
       "      <th>11</th>\n",
       "      <td>Puzzle</td>\n",
       "      <td>2.21</td>\n",
       "    </tr>\n",
       "  </tbody>\n",
       "</table>\n",
       "</div>"
      ],
      "text/plain": [
       "           genre  total_sales\n",
       "0         Action       199.36\n",
       "1        Shooter       170.94\n",
       "2         Sports       109.48\n",
       "3   Role-Playing       101.44\n",
       "4           Misc        37.55\n",
       "5       Fighting        28.22\n",
       "6         Racing        27.52\n",
       "7       Platform        18.09\n",
       "8      Adventure        17.55\n",
       "9     Simulation        13.13\n",
       "10      Strategy         3.96\n",
       "11        Puzzle         2.21"
      ]
     },
     "execution_count": 69,
     "metadata": {},
     "output_type": "execute_result"
    }
   ],
   "source": [
    "#посмотрим продажи суммарно по жанрам за актуальный период\n",
    "data_genre_actual = data_actual.pivot_table(index='genre', values='total_sales', aggfunc='sum')\\\n",
    ".sort_values(by='total_sales', ascending =False).reset_index()\n",
    "data_genre_actual"
   ]
  },
  {
   "cell_type": "code",
   "execution_count": 70,
   "metadata": {},
   "outputs": [
    {
     "data": {
      "image/png": "[encoded data removed]",
      "text/plain": [
       "<Figure size 576x360 with 1 Axes>"
      ]
     },
     "metadata": {
      "needs_background": "light"
     },
     "output_type": "display_data"
    }
   ],
   "source": [
    "plt.figure(figsize=(8,5))\n",
    "plt.xticks(rotation=45)\n",
    "sns.barplot(data=data_genre_actual, x='genre', y = 'total_sales',ci= None)\n",
    "plt.show()"
   ]
  },
  {
   "cell_type": "code",
   "execution_count": 71,
   "metadata": {
    "scrolled": false
   },
   "outputs": [
    {
     "data": {
      "image/png": "[encoded data removed]",
      "text/plain": [
       "<Figure size 864x576 with 1 Axes>"
      ]
     },
     "metadata": {
      "needs_background": "light"
     },
     "output_type": "display_data"
    }
   ],
   "source": [
    "#построим ящик с усами для жанров с выбросами\n",
    "plt.figure(figsize=(12,8))\n",
    "sns.boxplot(data=data_actual, x='genre', y = 'total_sales')\\\n",
    ".set(title='Продажи по жанрам', xlabel = 'Жанры', ylabel = 'Продажи', ylim =(0,2))\n",
    "plt.show()"
   ]
  },
  {
   "cell_type": "code",
   "execution_count": 72,
   "metadata": {
    "scrolled": false
   },
   "outputs": [
    {
     "data": {
      "image/png": "[encoded data removed]",
      "text/plain": [
       "<Figure size 792x504 with 1 Axes>"
      ]
     },
     "metadata": {
      "needs_background": "light"
     },
     "output_type": "display_data"
    }
   ],
   "source": [
    "plt.figure(figsize=(11,7))\n",
    "plt.xticks(rotation=60)\n",
    "sns.boxplot(data=data_actual, x='genre', y = 'total_sales')\\\n",
    ".set(title='Продажи по жанрам', xlabel = 'Жанры', ylabel = 'Продажи', ylim =(0,6))\n",
    "plt.show()"
   ]
  },
  {
   "cell_type": "markdown",
   "metadata": {},
   "source": [
    "Самыми прибыльными жанрами игр являются Action, Shooter, Sports, Role-Playing и Misc. Strategy и Puzzle -жанры, с самыми низкими продажами.  \n",
    "На диаграмме размаха можно увидеть, что жанр Shooter имеет наибольшую медиану и межквартальный размах, но уступает Action потому что в послднем жанре, насколько мы можем видеть, очень много 'выбросов', т.е. игр с большей стоимостью, поэтому в общем рейтинге Action на первом месте. В жанре Adventure медиана и сам межквартильный размах меньше, чем , например, у Strategy и Puzzle, но есть много выбивающихся значений, которые и 'подтянули' этот жанр с последних мест, уступая Strategy и Puzzle."
   ]
  },
  {
   "cell_type": "markdown",
   "metadata": {},
   "source": [
    "<div class=\"alert alert-danger\">\n",
    "<font size=\"4\"><b>❌ Комментарий ревьюера</b></font>\n",
    "    <br /> \n",
    "    <font size=\"3\", color = \"black\">\n",
    "<br />        \n",
    "Стоит проанализировать прибыльность жанров на диаграмме размаха, сравнить медианные продажи на каждом жанре и проверить какая из них более стабильна и имеет более длинный ряд успешно продающихся игр\n",
    "        \n",
    "График нарисовать __в двух масштабах с выбросами и без__ (чтобы было видно 0.75-квантиль)"
   ]
  },
  {
   "cell_type": "markdown",
   "metadata": {},
   "source": [
    "<div class=\"alert alert-info\">\n",
    "<font size=\"4\", color = \"black\"><b>✍ Комментарий студента</b></font>\n",
    "    <br /> \n",
    "    <font size=\"3\", color = \"black\">\n",
    "<br /> \n",
    "        Вывод по пункту добавила, ящики на месте"
   ]
  },
  {
   "cell_type": "markdown",
   "metadata": {},
   "source": [
    "## Составим портрет пользователя каждого региона"
   ]
  },
  {
   "cell_type": "markdown",
   "metadata": {},
   "source": [
    "### Определим для пользователя каждого региона самые популярные платформы (топ-5)"
   ]
  },
  {
   "cell_type": "code",
   "execution_count": 89,
   "metadata": {},
   "outputs": [
    {
     "data": {
      "image/png": "[encoded data removed]",
      "text/plain": [
       "<Figure size 1080x360 with 3 Axes>"
      ]
     },
     "metadata": {},
     "output_type": "display_data"
    }
   ],
   "source": [
    "# построим круговые диаграммы для то-платформ по регионам\n",
    "regions_sales = ['na_sales', 'eu_sales', 'jp_sales']\n",
    "\n",
    "with plt.rc_context({'axes.edgecolor':'white', 'xtick.color':'white', 'ytick.color':'white', 'figure.facecolor':'white'}):\n",
    "    fig, ax = plt.subplots(1, len(regions_sales), figsize=(15,5))\n",
    "    for i, region in enumerate(regions_sales):\n",
    "        region_platform = data_actual.groupby('platform').agg({region: 'sum'}).sort_values(by=region, ascending=False).reset_index()\n",
    "        region_platform.loc[5] = ['Другие', region_platform.loc[5:][region].sum().round(2)]\n",
    "        region_top_platform = region_platform.head(6)\n",
    "        region_top_platform.plot(ax=ax[i], x='platform', y=region, kind='pie', legend=False, autopct='%1.1f%%', labels=region_top_platform['platform'])\n",
    "    plt.suptitle('Топ платформ в Северной Америке, Европе и Японии')\n",
    "    plt.show()"
   ]
  },
  {
   "cell_type": "code",
   "execution_count": 73,
   "metadata": {
    "scrolled": false
   },
   "outputs": [
    {
     "data": {
      "text/html": [
       "<div>\n",
       "<style scoped>\n",
       "    .dataframe tbody tr th:only-of-type {\n",
       "        vertical-align: middle;\n",
       "    }\n",
       "\n",
       "    .dataframe tbody tr th {\n",
       "        vertical-align: top;\n",
       "    }\n",
       "\n",
       "    .dataframe thead th {\n",
       "        text-align: right;\n",
       "    }\n",
       "</style>\n",
       "<table border=\"1\" class=\"dataframe\">\n",
       "  <thead>\n",
       "    <tr style=\"text-align: right;\">\n",
       "      <th></th>\n",
       "      <th>platform</th>\n",
       "      <th>na_sales</th>\n",
       "    </tr>\n",
       "  </thead>\n",
       "  <tbody>\n",
       "    <tr>\n",
       "      <th>0</th>\n",
       "      <td>PS4</td>\n",
       "      <td>98.61</td>\n",
       "    </tr>\n",
       "    <tr>\n",
       "      <th>1</th>\n",
       "      <td>XOne</td>\n",
       "      <td>81.27</td>\n",
       "    </tr>\n",
       "    <tr>\n",
       "      <th>2</th>\n",
       "      <td>X360</td>\n",
       "      <td>28.30</td>\n",
       "    </tr>\n",
       "    <tr>\n",
       "      <th>3</th>\n",
       "      <td>3DS</td>\n",
       "      <td>22.64</td>\n",
       "    </tr>\n",
       "    <tr>\n",
       "      <th>4</th>\n",
       "      <td>PS3</td>\n",
       "      <td>22.05</td>\n",
       "    </tr>\n",
       "    <tr>\n",
       "      <th>5</th>\n",
       "      <td>WiiU</td>\n",
       "      <td>19.36</td>\n",
       "    </tr>\n",
       "    <tr>\n",
       "      <th>6</th>\n",
       "      <td>PC</td>\n",
       "      <td>7.23</td>\n",
       "    </tr>\n",
       "    <tr>\n",
       "      <th>7</th>\n",
       "      <td>PSV</td>\n",
       "      <td>2.52</td>\n",
       "    </tr>\n",
       "    <tr>\n",
       "      <th>8</th>\n",
       "      <td>Wii</td>\n",
       "      <td>2.08</td>\n",
       "    </tr>\n",
       "    <tr>\n",
       "      <th>9</th>\n",
       "      <td>PSP</td>\n",
       "      <td>0.00</td>\n",
       "    </tr>\n",
       "  </tbody>\n",
       "</table>\n",
       "</div>"
      ],
      "text/plain": [
       "  platform  na_sales\n",
       "0      PS4     98.61\n",
       "1     XOne     81.27\n",
       "2     X360     28.30\n",
       "3      3DS     22.64\n",
       "4      PS3     22.05\n",
       "5     WiiU     19.36\n",
       "6       PC      7.23\n",
       "7      PSV      2.52\n",
       "8      Wii      2.08\n",
       "9      PSP      0.00"
      ]
     },
     "execution_count": 73,
     "metadata": {},
     "output_type": "execute_result"
    }
   ],
   "source": [
    "# выделим данные из нашего датасета для Северной Америке\n",
    "data_platform_na = data_actual.pivot_table(index='platform', values='na_sales', \n",
    "                                        aggfunc='sum').sort_values('na_sales', ascending=False).reset_index()\n",
    "data_platform_na"
   ]
  },
  {
   "cell_type": "code",
   "execution_count": 74,
   "metadata": {},
   "outputs": [],
   "source": [
    "# переименуем платформы ниже топ-5 в other\n",
    "data_platform_na['platform']=data_platform_na['platform'].replace(['WiiU','PC','PSV','Wii','PSP'], 'other')\n"
   ]
  },
  {
   "cell_type": "code",
   "execution_count": 75,
   "metadata": {
    "scrolled": true
   },
   "outputs": [
    {
     "data": {
      "text/html": [
       "<div>\n",
       "<style scoped>\n",
       "    .dataframe tbody tr th:only-of-type {\n",
       "        vertical-align: middle;\n",
       "    }\n",
       "\n",
       "    .dataframe tbody tr th {\n",
       "        vertical-align: top;\n",
       "    }\n",
       "\n",
       "    .dataframe thead th {\n",
       "        text-align: right;\n",
       "    }\n",
       "</style>\n",
       "<table border=\"1\" class=\"dataframe\">\n",
       "  <thead>\n",
       "    <tr style=\"text-align: right;\">\n",
       "      <th></th>\n",
       "      <th>na_sales</th>\n",
       "    </tr>\n",
       "    <tr>\n",
       "      <th>platform</th>\n",
       "      <th></th>\n",
       "    </tr>\n",
       "  </thead>\n",
       "  <tbody>\n",
       "    <tr>\n",
       "      <th>PS4</th>\n",
       "      <td>98.61</td>\n",
       "    </tr>\n",
       "    <tr>\n",
       "      <th>XOne</th>\n",
       "      <td>81.27</td>\n",
       "    </tr>\n",
       "    <tr>\n",
       "      <th>X360</th>\n",
       "      <td>28.30</td>\n",
       "    </tr>\n",
       "    <tr>\n",
       "      <th>3DS</th>\n",
       "      <td>22.64</td>\n",
       "    </tr>\n",
       "    <tr>\n",
       "      <th>PS3</th>\n",
       "      <td>22.05</td>\n",
       "    </tr>\n",
       "    <tr>\n",
       "      <th>other</th>\n",
       "      <td>19.36</td>\n",
       "    </tr>\n",
       "    <tr>\n",
       "      <th>other</th>\n",
       "      <td>7.23</td>\n",
       "    </tr>\n",
       "    <tr>\n",
       "      <th>other</th>\n",
       "      <td>2.52</td>\n",
       "    </tr>\n",
       "    <tr>\n",
       "      <th>other</th>\n",
       "      <td>2.08</td>\n",
       "    </tr>\n",
       "    <tr>\n",
       "      <th>other</th>\n",
       "      <td>0.00</td>\n",
       "    </tr>\n",
       "  </tbody>\n",
       "</table>\n",
       "</div>"
      ],
      "text/plain": [
       "          na_sales\n",
       "platform          \n",
       "PS4          98.61\n",
       "XOne         81.27\n",
       "X360         28.30\n",
       "3DS          22.64\n",
       "PS3          22.05\n",
       "other        19.36\n",
       "other         7.23\n",
       "other         2.52\n",
       "other         2.08\n",
       "other         0.00"
      ]
     },
     "execution_count": 75,
     "metadata": {},
     "output_type": "execute_result"
    }
   ],
   "source": [
    "data_platform_na.set_index('platform')"
   ]
  },
  {
   "cell_type": "code",
   "execution_count": 76,
   "metadata": {},
   "outputs": [
    {
     "data": {
      "text/html": [
       "<div>\n",
       "<style scoped>\n",
       "    .dataframe tbody tr th:only-of-type {\n",
       "        vertical-align: middle;\n",
       "    }\n",
       "\n",
       "    .dataframe tbody tr th {\n",
       "        vertical-align: top;\n",
       "    }\n",
       "\n",
       "    .dataframe thead th {\n",
       "        text-align: right;\n",
       "    }\n",
       "</style>\n",
       "<table border=\"1\" class=\"dataframe\">\n",
       "  <thead>\n",
       "    <tr style=\"text-align: right;\">\n",
       "      <th></th>\n",
       "      <th>platform</th>\n",
       "      <th>eu_sales</th>\n",
       "    </tr>\n",
       "  </thead>\n",
       "  <tbody>\n",
       "    <tr>\n",
       "      <th>0</th>\n",
       "      <td>PS4</td>\n",
       "      <td>130.04</td>\n",
       "    </tr>\n",
       "    <tr>\n",
       "      <th>1</th>\n",
       "      <td>XOne</td>\n",
       "      <td>46.25</td>\n",
       "    </tr>\n",
       "    <tr>\n",
       "      <th>2</th>\n",
       "      <td>PS3</td>\n",
       "      <td>25.54</td>\n",
       "    </tr>\n",
       "    <tr>\n",
       "      <th>3</th>\n",
       "      <td>PC</td>\n",
       "      <td>17.97</td>\n",
       "    </tr>\n",
       "    <tr>\n",
       "      <th>4</th>\n",
       "      <td>3DS</td>\n",
       "      <td>16.12</td>\n",
       "    </tr>\n",
       "    <tr>\n",
       "      <th>5</th>\n",
       "      <td>X360</td>\n",
       "      <td>15.49</td>\n",
       "    </tr>\n",
       "    <tr>\n",
       "      <th>6</th>\n",
       "      <td>WiiU</td>\n",
       "      <td>13.15</td>\n",
       "    </tr>\n",
       "    <tr>\n",
       "      <th>7</th>\n",
       "      <td>PSV</td>\n",
       "      <td>3.53</td>\n",
       "    </tr>\n",
       "    <tr>\n",
       "      <th>8</th>\n",
       "      <td>Wii</td>\n",
       "      <td>2.59</td>\n",
       "    </tr>\n",
       "    <tr>\n",
       "      <th>9</th>\n",
       "      <td>PSP</td>\n",
       "      <td>0.00</td>\n",
       "    </tr>\n",
       "  </tbody>\n",
       "</table>\n",
       "</div>"
      ],
      "text/plain": [
       "  platform  eu_sales\n",
       "0      PS4    130.04\n",
       "1     XOne     46.25\n",
       "2      PS3     25.54\n",
       "3       PC     17.97\n",
       "4      3DS     16.12\n",
       "5     X360     15.49\n",
       "6     WiiU     13.15\n",
       "7      PSV      3.53\n",
       "8      Wii      2.59\n",
       "9      PSP      0.00"
      ]
     },
     "execution_count": 76,
     "metadata": {},
     "output_type": "execute_result"
    }
   ],
   "source": [
    "# выделим данные из нашего датасета для Европы\n",
    "data_platform_eu = data_actual.pivot_table(index='platform', values='eu_sales',\n",
    "                                        aggfunc='sum').sort_values('eu_sales', ascending=False).reset_index()\n",
    "data_platform_eu"
   ]
  },
  {
   "cell_type": "code",
   "execution_count": 77,
   "metadata": {},
   "outputs": [],
   "source": [
    "# переименуем платформы ниже топ-5 в other\n",
    "data_platform_eu['platform']=data_platform_eu['platform'].replace('WiiU', 'other')\n",
    "data_platform_eu['platform']=data_platform_eu['platform'].replace('X360', 'other')\n",
    "data_platform_eu['platform']=data_platform_eu['platform'].replace('PSV', 'other')\n",
    "data_platform_eu['platform']=data_platform_eu['platform'].replace('Wii', 'other')\n",
    "data_platform_eu['platform']=data_platform_eu['platform'].replace('PSP', 'other')"
   ]
  },
  {
   "cell_type": "code",
   "execution_count": 78,
   "metadata": {},
   "outputs": [
    {
     "data": {
      "text/html": [
       "<div>\n",
       "<style scoped>\n",
       "    .dataframe tbody tr th:only-of-type {\n",
       "        vertical-align: middle;\n",
       "    }\n",
       "\n",
       "    .dataframe tbody tr th {\n",
       "        vertical-align: top;\n",
       "    }\n",
       "\n",
       "    .dataframe thead th {\n",
       "        text-align: right;\n",
       "    }\n",
       "</style>\n",
       "<table border=\"1\" class=\"dataframe\">\n",
       "  <thead>\n",
       "    <tr style=\"text-align: right;\">\n",
       "      <th></th>\n",
       "      <th>eu_sales</th>\n",
       "    </tr>\n",
       "    <tr>\n",
       "      <th>platform</th>\n",
       "      <th></th>\n",
       "    </tr>\n",
       "  </thead>\n",
       "  <tbody>\n",
       "    <tr>\n",
       "      <th>PS4</th>\n",
       "      <td>130.04</td>\n",
       "    </tr>\n",
       "    <tr>\n",
       "      <th>XOne</th>\n",
       "      <td>46.25</td>\n",
       "    </tr>\n",
       "    <tr>\n",
       "      <th>PS3</th>\n",
       "      <td>25.54</td>\n",
       "    </tr>\n",
       "    <tr>\n",
       "      <th>PC</th>\n",
       "      <td>17.97</td>\n",
       "    </tr>\n",
       "    <tr>\n",
       "      <th>3DS</th>\n",
       "      <td>16.12</td>\n",
       "    </tr>\n",
       "    <tr>\n",
       "      <th>other</th>\n",
       "      <td>15.49</td>\n",
       "    </tr>\n",
       "    <tr>\n",
       "      <th>other</th>\n",
       "      <td>13.15</td>\n",
       "    </tr>\n",
       "    <tr>\n",
       "      <th>other</th>\n",
       "      <td>3.53</td>\n",
       "    </tr>\n",
       "    <tr>\n",
       "      <th>other</th>\n",
       "      <td>2.59</td>\n",
       "    </tr>\n",
       "    <tr>\n",
       "      <th>other</th>\n",
       "      <td>0.00</td>\n",
       "    </tr>\n",
       "  </tbody>\n",
       "</table>\n",
       "</div>"
      ],
      "text/plain": [
       "          eu_sales\n",
       "platform          \n",
       "PS4         130.04\n",
       "XOne         46.25\n",
       "PS3          25.54\n",
       "PC           17.97\n",
       "3DS          16.12\n",
       "other        15.49\n",
       "other        13.15\n",
       "other         3.53\n",
       "other         2.59\n",
       "other         0.00"
      ]
     },
     "execution_count": 78,
     "metadata": {},
     "output_type": "execute_result"
    }
   ],
   "source": [
    "data_platform_eu.set_index('platform')"
   ]
  },
  {
   "cell_type": "code",
   "execution_count": 79,
   "metadata": {},
   "outputs": [
    {
     "data": {
      "text/html": [
       "<div>\n",
       "<style scoped>\n",
       "    .dataframe tbody tr th:only-of-type {\n",
       "        vertical-align: middle;\n",
       "    }\n",
       "\n",
       "    .dataframe tbody tr th {\n",
       "        vertical-align: top;\n",
       "    }\n",
       "\n",
       "    .dataframe thead th {\n",
       "        text-align: right;\n",
       "    }\n",
       "</style>\n",
       "<table border=\"1\" class=\"dataframe\">\n",
       "  <thead>\n",
       "    <tr style=\"text-align: right;\">\n",
       "      <th></th>\n",
       "      <th>platform</th>\n",
       "      <th>jp_sales</th>\n",
       "    </tr>\n",
       "  </thead>\n",
       "  <tbody>\n",
       "    <tr>\n",
       "      <th>0</th>\n",
       "      <td>3DS</td>\n",
       "      <td>44.24</td>\n",
       "    </tr>\n",
       "    <tr>\n",
       "      <th>1</th>\n",
       "      <td>PS4</td>\n",
       "      <td>15.02</td>\n",
       "    </tr>\n",
       "    <tr>\n",
       "      <th>2</th>\n",
       "      <td>PSV</td>\n",
       "      <td>14.54</td>\n",
       "    </tr>\n",
       "    <tr>\n",
       "      <th>3</th>\n",
       "      <td>PS3</td>\n",
       "      <td>11.22</td>\n",
       "    </tr>\n",
       "    <tr>\n",
       "      <th>4</th>\n",
       "      <td>WiiU</td>\n",
       "      <td>7.31</td>\n",
       "    </tr>\n",
       "    <tr>\n",
       "      <th>5</th>\n",
       "      <td>PSP</td>\n",
       "      <td>0.36</td>\n",
       "    </tr>\n",
       "    <tr>\n",
       "      <th>6</th>\n",
       "      <td>XOne</td>\n",
       "      <td>0.32</td>\n",
       "    </tr>\n",
       "    <tr>\n",
       "      <th>7</th>\n",
       "      <td>X360</td>\n",
       "      <td>0.08</td>\n",
       "    </tr>\n",
       "    <tr>\n",
       "      <th>8</th>\n",
       "      <td>PC</td>\n",
       "      <td>0.00</td>\n",
       "    </tr>\n",
       "    <tr>\n",
       "      <th>9</th>\n",
       "      <td>Wii</td>\n",
       "      <td>0.00</td>\n",
       "    </tr>\n",
       "  </tbody>\n",
       "</table>\n",
       "</div>"
      ],
      "text/plain": [
       "  platform  jp_sales\n",
       "0      3DS     44.24\n",
       "1      PS4     15.02\n",
       "2      PSV     14.54\n",
       "3      PS3     11.22\n",
       "4     WiiU      7.31\n",
       "5      PSP      0.36\n",
       "6     XOne      0.32\n",
       "7     X360      0.08\n",
       "8       PC      0.00\n",
       "9      Wii      0.00"
      ]
     },
     "execution_count": 79,
     "metadata": {},
     "output_type": "execute_result"
    }
   ],
   "source": [
    "data_platform_jp = data_actual.pivot_table(index='platform', values='jp_sales',\n",
    "                                        aggfunc='sum').sort_values('jp_sales', ascending=False).reset_index()\n",
    "data_platform_jp"
   ]
  },
  {
   "cell_type": "code",
   "execution_count": 80,
   "metadata": {},
   "outputs": [],
   "source": [
    "# переименуем платформы ниже топ-5 в other\n",
    "data_platform_jp['platform']=data_platform_jp['platform'].replace('XOne', 'other')\n",
    "data_platform_jp['platform']=data_platform_jp['platform'].replace('X360', 'other')\n",
    "data_platform_jp['platform']=data_platform_jp['platform'].replace('PC', 'other')\n",
    "data_platform_jp['platform']=data_platform_jp['platform'].replace('Wii', 'other')\n",
    "data_platform_jp['platform']=data_platform_jp['platform'].replace('PSP', 'other')"
   ]
  },
  {
   "cell_type": "code",
   "execution_count": 81,
   "metadata": {},
   "outputs": [
    {
     "data": {
      "text/html": [
       "<div>\n",
       "<style scoped>\n",
       "    .dataframe tbody tr th:only-of-type {\n",
       "        vertical-align: middle;\n",
       "    }\n",
       "\n",
       "    .dataframe tbody tr th {\n",
       "        vertical-align: top;\n",
       "    }\n",
       "\n",
       "    .dataframe thead th {\n",
       "        text-align: right;\n",
       "    }\n",
       "</style>\n",
       "<table border=\"1\" class=\"dataframe\">\n",
       "  <thead>\n",
       "    <tr style=\"text-align: right;\">\n",
       "      <th></th>\n",
       "      <th>jp_sales</th>\n",
       "    </tr>\n",
       "    <tr>\n",
       "      <th>platform</th>\n",
       "      <th></th>\n",
       "    </tr>\n",
       "  </thead>\n",
       "  <tbody>\n",
       "    <tr>\n",
       "      <th>3DS</th>\n",
       "      <td>44.24</td>\n",
       "    </tr>\n",
       "    <tr>\n",
       "      <th>PS4</th>\n",
       "      <td>15.02</td>\n",
       "    </tr>\n",
       "    <tr>\n",
       "      <th>PSV</th>\n",
       "      <td>14.54</td>\n",
       "    </tr>\n",
       "    <tr>\n",
       "      <th>PS3</th>\n",
       "      <td>11.22</td>\n",
       "    </tr>\n",
       "    <tr>\n",
       "      <th>WiiU</th>\n",
       "      <td>7.31</td>\n",
       "    </tr>\n",
       "    <tr>\n",
       "      <th>other</th>\n",
       "      <td>0.36</td>\n",
       "    </tr>\n",
       "    <tr>\n",
       "      <th>other</th>\n",
       "      <td>0.32</td>\n",
       "    </tr>\n",
       "    <tr>\n",
       "      <th>other</th>\n",
       "      <td>0.08</td>\n",
       "    </tr>\n",
       "    <tr>\n",
       "      <th>other</th>\n",
       "      <td>0.00</td>\n",
       "    </tr>\n",
       "    <tr>\n",
       "      <th>other</th>\n",
       "      <td>0.00</td>\n",
       "    </tr>\n",
       "  </tbody>\n",
       "</table>\n",
       "</div>"
      ],
      "text/plain": [
       "          jp_sales\n",
       "platform          \n",
       "3DS          44.24\n",
       "PS4          15.02\n",
       "PSV          14.54\n",
       "PS3          11.22\n",
       "WiiU          7.31\n",
       "other         0.36\n",
       "other         0.32\n",
       "other         0.08\n",
       "other         0.00\n",
       "other         0.00"
      ]
     },
     "execution_count": 81,
     "metadata": {},
     "output_type": "execute_result"
    }
   ],
   "source": [
    "data_platform_jp.set_index('platform')"
   ]
  },
  {
   "cell_type": "code",
   "execution_count": 82,
   "metadata": {
    "scrolled": false
   },
   "outputs": [
    {
     "data": {
      "image/png": "[encoded data removed]",
      "text/plain": [
       "<Figure size 1080x360 with 3 Axes>"
      ]
     },
     "metadata": {},
     "output_type": "display_data"
    }
   ],
   "source": [
    "fig,(ax1,ax2,ax3) =plt.subplots(1,3,figsize=(15,5))\n",
    "data_platform_na.plot(ax=ax1,x='platform', y='na_sales', kind='pie', legend=False, autopct='%1.1f%%').set(ylabel='na_sales')\n",
    "data_platform_eu.plot(ax=ax2,x='platform', y='eu_sales', kind='pie', legend=False, autopct='%1.1f%%').set(ylabel='eu_sales')\n",
    "data_platform_jp.plot(ax=ax3,x='platform', y='jp_sales', kind='pie', legend=False, autopct='%1.1f%%').set(ylabel='jp_sales')\n",
    "plt.show()"
   ]
  },
  {
   "cell_type": "code",
   "execution_count": 83,
   "metadata": {
    "scrolled": false
   },
   "outputs": [
    {
     "name": "stdout",
     "output_type": "stream",
     "text": [
      "            sum\n",
      "platform       \n",
      "PS4       98.61\n",
      "XOne      81.27\n",
      "X360      28.30\n",
      "3DS       22.64\n",
      "PS3       22.05\n",
      "WiiU      19.36\n",
      "PC         7.23\n",
      "PSV        2.52\n",
      "Wii        2.08\n",
      "PSP        0.00\n"
     ]
    },
    {
     "data": {
      "image/png": "[encoded data removed]",
      "text/plain": [
       "<Figure size 216x216 with 1 Axes>"
      ]
     },
     "metadata": {},
     "output_type": "display_data"
    }
   ],
   "source": [
    "# выделим данные из нашего датасета для Северной Америке и построим круговую диаграмму\n",
    "data_na = data_actual.groupby('platform')['na_sales'].agg(['sum']).reset_index()\\\n",
    ".sort_values(by='sum', ascending =False).set_index('platform')\n",
    "print(data_na)\n",
    "data_na.plot(y='sum', kind='pie', legend=False, autopct='%1.1f%%', title= 'Топ платформ в Северной Америке', figsize=(3,3))\n",
    "plt.show()"
   ]
  },
  {
   "cell_type": "code",
   "execution_count": 84,
   "metadata": {
    "scrolled": true
   },
   "outputs": [
    {
     "data": {
      "text/html": [
       "<div>\n",
       "<style scoped>\n",
       "    .dataframe tbody tr th:only-of-type {\n",
       "        vertical-align: middle;\n",
       "    }\n",
       "\n",
       "    .dataframe tbody tr th {\n",
       "        vertical-align: top;\n",
       "    }\n",
       "\n",
       "    .dataframe thead th {\n",
       "        text-align: right;\n",
       "    }\n",
       "</style>\n",
       "<table border=\"1\" class=\"dataframe\">\n",
       "  <thead>\n",
       "    <tr style=\"text-align: right;\">\n",
       "      <th></th>\n",
       "      <th>eu_sales</th>\n",
       "      <th>jp_sales</th>\n",
       "      <th>na_sales</th>\n",
       "    </tr>\n",
       "    <tr>\n",
       "      <th>platform</th>\n",
       "      <th></th>\n",
       "      <th></th>\n",
       "      <th></th>\n",
       "    </tr>\n",
       "  </thead>\n",
       "  <tbody>\n",
       "    <tr>\n",
       "      <th>PS4</th>\n",
       "      <td>130.04</td>\n",
       "      <td>15.02</td>\n",
       "      <td>98.61</td>\n",
       "    </tr>\n",
       "    <tr>\n",
       "      <th>XOne</th>\n",
       "      <td>46.25</td>\n",
       "      <td>0.32</td>\n",
       "      <td>81.27</td>\n",
       "    </tr>\n",
       "    <tr>\n",
       "      <th>X360</th>\n",
       "      <td>15.49</td>\n",
       "      <td>0.08</td>\n",
       "      <td>28.30</td>\n",
       "    </tr>\n",
       "    <tr>\n",
       "      <th>3DS</th>\n",
       "      <td>16.12</td>\n",
       "      <td>44.24</td>\n",
       "      <td>22.64</td>\n",
       "    </tr>\n",
       "    <tr>\n",
       "      <th>PS3</th>\n",
       "      <td>25.54</td>\n",
       "      <td>11.22</td>\n",
       "      <td>22.05</td>\n",
       "    </tr>\n",
       "    <tr>\n",
       "      <th>WiiU</th>\n",
       "      <td>13.15</td>\n",
       "      <td>7.31</td>\n",
       "      <td>19.36</td>\n",
       "    </tr>\n",
       "    <tr>\n",
       "      <th>PC</th>\n",
       "      <td>17.97</td>\n",
       "      <td>0.00</td>\n",
       "      <td>7.23</td>\n",
       "    </tr>\n",
       "    <tr>\n",
       "      <th>PSV</th>\n",
       "      <td>3.53</td>\n",
       "      <td>14.54</td>\n",
       "      <td>2.52</td>\n",
       "    </tr>\n",
       "    <tr>\n",
       "      <th>Wii</th>\n",
       "      <td>2.59</td>\n",
       "      <td>0.00</td>\n",
       "      <td>2.08</td>\n",
       "    </tr>\n",
       "    <tr>\n",
       "      <th>PSP</th>\n",
       "      <td>0.00</td>\n",
       "      <td>0.36</td>\n",
       "      <td>0.00</td>\n",
       "    </tr>\n",
       "  </tbody>\n",
       "</table>\n",
       "</div>"
      ],
      "text/plain": [
       "          eu_sales  jp_sales  na_sales\n",
       "platform                              \n",
       "PS4         130.04     15.02     98.61\n",
       "XOne         46.25      0.32     81.27\n",
       "X360         15.49      0.08     28.30\n",
       "3DS          16.12     44.24     22.64\n",
       "PS3          25.54     11.22     22.05\n",
       "WiiU         13.15      7.31     19.36\n",
       "PC           17.97      0.00      7.23\n",
       "PSV           3.53     14.54      2.52\n",
       "Wii           2.59      0.00      2.08\n",
       "PSP           0.00      0.36      0.00"
      ]
     },
     "execution_count": 84,
     "metadata": {},
     "output_type": "execute_result"
    }
   ],
   "source": [
    "data_platform = data_actual.pivot_table(index='platform', values=['na_sales','eu_sales', 'jp_sales'],\n",
    "                                        aggfunc='sum').sort_values('na_sales', ascending=False)\n",
    "data_platform"
   ]
  },
  {
   "cell_type": "code",
   "execution_count": 85,
   "metadata": {},
   "outputs": [
    {
     "ename": "NameError",
     "evalue": "name 'games_table_2016' is not defined",
     "output_type": "error",
     "traceback": [
      "\u001b[0;31m---------------------------------------------------------------------------\u001b[0m",
      "\u001b[0;31mNameError\u001b[0m                                 Traceback (most recent call last)",
      "\u001b[0;32m/tmp/ipykernel_48/3502844117.py\u001b[0m in \u001b[0;36m<module>\u001b[0;34m\u001b[0m\n\u001b[1;32m      2\u001b[0m                                         aggfunc='sum').sort_values('eu_sales', ascending=False)\n\u001b[1;32m      3\u001b[0m \u001b[0mdata_eu\u001b[0m\u001b[0;34m\u001b[0m\u001b[0;34m\u001b[0m\u001b[0m\n\u001b[0;32m----> 4\u001b[0;31m \u001b[0mstat_games_table_2016\u001b[0m \u001b[0;34m=\u001b[0m \u001b[0mgames_table_2016\u001b[0m\u001b[0;31m\\\u001b[0m\u001b[0;34m\u001b[0m\u001b[0;34m\u001b[0m\u001b[0m\n\u001b[0m\u001b[1;32m      5\u001b[0m             \u001b[0;34m.\u001b[0m\u001b[0mpivot_table\u001b[0m\u001b[0;34m(\u001b[0m\u001b[0;34m[\u001b[0m\u001b[0;34m'na_sales'\u001b[0m\u001b[0;34m,\u001b[0m\u001b[0;34m'eu_sales'\u001b[0m\u001b[0;34m,\u001b[0m\u001b[0;34m'jp_sales'\u001b[0m\u001b[0;34m,\u001b[0m\u001b[0;34m'other_sales'\u001b[0m\u001b[0;34m,\u001b[0m\u001b[0;34m'revenue'\u001b[0m\u001b[0;34m]\u001b[0m\u001b[0;34m,\u001b[0m \u001b[0;34m[\u001b[0m\u001b[0;34m'platform'\u001b[0m\u001b[0;34m]\u001b[0m\u001b[0;34m,\u001b[0m \u001b[0maggfunc\u001b[0m\u001b[0;34m=\u001b[0m\u001b[0;34m'sum'\u001b[0m\u001b[0;34m)\u001b[0m\u001b[0;31m\\\u001b[0m\u001b[0;34m\u001b[0m\u001b[0;34m\u001b[0m\u001b[0m\n\u001b[1;32m      6\u001b[0m             \u001b[0;34m.\u001b[0m\u001b[0msort_values\u001b[0m\u001b[0;34m(\u001b[0m\u001b[0mby\u001b[0m\u001b[0;34m=\u001b[0m\u001b[0;34m'na_sales'\u001b[0m\u001b[0;34m,\u001b[0m \u001b[0mascending\u001b[0m\u001b[0;34m=\u001b[0m\u001b[0;32mFalse\u001b[0m\u001b[0;34m)\u001b[0m\u001b[0;34m\u001b[0m\u001b[0;34m\u001b[0m\u001b[0m\n",
      "\u001b[0;31mNameError\u001b[0m: name 'games_table_2016' is not defined"
     ]
    }
   ],
   "source": [
    "data_eu = data_actual.pivot_table(index='platform', values='eu_sales',\n",
    "                                        aggfunc='sum').sort_values('eu_sales', ascending=False)\n",
    "data_eu\n",
    "stat_games_table_2016 = games_table_2016\\\n",
    "            .pivot_table(['na_sales','eu_sales','jp_sales','other_sales','revenue'], ['platform'], aggfunc='sum')\\\n",
    "            .sort_values(by='na_sales', ascending=False)"
   ]
  },
  {
   "cell_type": "code",
   "execution_count": null,
   "metadata": {},
   "outputs": [],
   "source": []
  },
  {
   "cell_type": "code",
   "execution_count": null,
   "metadata": {},
   "outputs": [],
   "source": [
    "data_jp = data_actual.pivot_table(index='platform', values='jp_sales',\n",
    "                                        aggfunc='sum').sort_values('jp_sales', ascending=False)\n",
    "data_jp"
   ]
  },
  {
   "cell_type": "code",
   "execution_count": null,
   "metadata": {},
   "outputs": [],
   "source": [
    "fig,(ax1,ax2,ax3)=plt.subplots(1,3)\n",
    "data_actual.groupby('platform')['na_sales'].agg(['sum']).reset_index()\\\n",
    ".sort_values(by='sum', ascending =False).set_index('platform').head(5)\n",
    "print(data_na)\n",
    "data_na.plot(y='sum', kind='pie', legend=False, autopct='%1.1f%%', title= 'Топ платформ в Северной Америке', figsize=(3,3))\n",
    "plt.show()"
   ]
  },
  {
   "cell_type": "code",
   "execution_count": null,
   "metadata": {
    "scrolled": true
   },
   "outputs": [],
   "source": [
    "# выделим данные из нашего датасета для Европы и построим круговую диаграмму\n",
    "data_eu = data_actual.groupby('platform')['eu_sales'].agg(['sum']).reset_index()\\\n",
    ".sort_values(by='sum', ascending =False).set_index('platform').head(5)\n",
    "print(data_eu)\n",
    "data_eu.plot( y='sum', kind='pie', legend=False, autopct='%1.1f%%', title= 'Топ платформ в Европе', figsize=(3,3))\n",
    "plt.show()"
   ]
  },
  {
   "cell_type": "code",
   "execution_count": null,
   "metadata": {
    "scrolled": true
   },
   "outputs": [],
   "source": [
    "# выделим данные из нашего датасета для Японии и построим круговую диаграмму\n",
    "data_jp = data_actual.groupby('platform')['jp_sales'].agg(['sum']).reset_index()\\\n",
    ".sort_values(by='sum', ascending =False).set_index('platform').head(5)\n",
    "print(data_jp)\n",
    "data_jp.plot( y='sum', kind='pie', legend=False, autopct='%1.1f%%', title= 'Топ платформ в Японии', figsize=(3,3))\n",
    "plt.show()"
   ]
  },
  {
   "cell_type": "code",
   "execution_count": null,
   "metadata": {
    "scrolled": true
   },
   "outputs": [],
   "source": [
    "data_jp = data_actual.groupby('platform')['jp_sales'].agg(['sum'])\\\n",
    ".sort_values(by='sum', ascending =False).head(5)\n",
    "print(data_jp)"
   ]
  },
  {
   "cell_type": "code",
   "execution_count": null,
   "metadata": {},
   "outputs": [],
   "source": [
    "plt.subplot(2, 3, 1)\n",
    "data_na.plot(y='sum', kind='pie', legend=False, autopct='%1.1f%%', title= 'Топ платформ в Северной Америке', figsize=(3,3))\n",
    "plt.subplot(2, 3, 2)\n",
    "data_eu.plot( y='sum', kind='pie', legend=False, autopct='%1.1f%%', title= 'Топ платформ в Европе', figsize=(3,3))\n",
    "plt.subplot(2, 3, 3)\n",
    "data_jp.plot( y='sum', kind='pie', legend=False, autopct='%1.1f%%', title= 'Топ платформ в Японии', figsize=(3,3))\n",
    "plt.show()"
   ]
  },
  {
   "cell_type": "code",
   "execution_count": null,
   "metadata": {},
   "outputs": [],
   "source": [
    "plt.subplot(1, 3, 1)\n",
    "data_jp.plot(y='sum', kind='pie', legend=False, autopct='%1.1f%%', title= 'Топ платформ в Японии', figsize=(3,3))\n",
    "plt.show()\n",
    "plt.subplot(1, 3, 2)\n",
    "data_eu.plot( y='sum', kind='pie', legend=False, autopct='%1.1f%%', title= 'Топ платформ в Европе', figsize=(3,3))\n",
    "plt.show()\n",
    "plt.subplot(1, 3, 3)\n",
    "data_na.plot(y='sum', kind='pie', legend=False, autopct='%1.1f%%', title= 'Топ платформ в Северной Америке', figsize=(3,3))\n",
    "plt.show()"
   ]
  },
  {
   "cell_type": "code",
   "execution_count": null,
   "metadata": {},
   "outputs": [],
   "source": [
    "fig,(ax1,ax2,ax3)=plt.subplots(1,3,figsize=(10,5))\n",
    "data_na.plot(ax=ax1, y='sum', kind='pie', legend=False, autopct='%1.1f%%')\n",
    "data_eu.plot(ax=ax2, y='sum', kind='pie', legend=False, autopct='%1.1f%%')\n",
    "data_jp.plot(ax=ax3, y='sum', kind='pie', legend=False, autopct='%1.1f%%')\n",
    "plt.show()"
   ]
  },
  {
   "cell_type": "markdown",
   "metadata": {},
   "source": [
    "Видно,что у пользователей в Северной Америке и Европе схожие предпочнения по платформах: лидерами и там и там являются   PS4 и Xone.Хотя мы видим, что в Европе PS4 занимает значительный вес в в продажах(55%), а в Америке  только 39%.  \n",
    "В Японии, как ни странно, PS4 только на втором месте, а на первом 3DS. "
   ]
  },
  {
   "cell_type": "markdown",
   "metadata": {},
   "source": [
    "### Определим для пользователя каждого региона самые популярные жанры (топ-5)"
   ]
  },
  {
   "cell_type": "code",
   "execution_count": null,
   "metadata": {
    "scrolled": false
   },
   "outputs": [],
   "source": [
    "# выделим данные из нашего датасета для Северной Америке и построим столбчатую диаграмму\n",
    "data_na_genre = data_actual.groupby('genre')['na_sales'].agg(['sum']).reset_index()\\\n",
    ".sort_values(by='sum', ascending =False)\n",
    "print(data_na_genre)\n",
    "plt.figure(figsize=(7,4))\n",
    "plt.xticks(rotation=45)\n",
    "plt.title('Топ жанров в Северной Америке')\n",
    "sns.barplot(data=data_na_genre, x='genre', y = 'sum')\n",
    "plt.show()"
   ]
  },
  {
   "cell_type": "code",
   "execution_count": null,
   "metadata": {},
   "outputs": [],
   "source": [
    "# выделим данные из нашего датасета для Европы и построим столбчатую диаграмму\n",
    "data_eu_genre = data_actual.groupby('genre')['eu_sales'].agg(['sum']).reset_index()\\\n",
    ".sort_values(by='sum', ascending =False)\n",
    "print(data_eu_genre)\n",
    "plt.figure(figsize=(7,4))\n",
    "plt.xticks(rotation=45)\n",
    "plt.title('Топ жанров в Европе')\n",
    "sns.barplot(data=data_eu_genre, x='genre', y = 'sum')\n",
    "plt.show()"
   ]
  },
  {
   "cell_type": "code",
   "execution_count": null,
   "metadata": {},
   "outputs": [],
   "source": [
    "# выделим данные из нашего датасета для Японии и построим столбчатую диаграмму\n",
    "data_jp_genre = data_actual.groupby('genre')['jp_sales'].agg(['sum']).reset_index()\\\n",
    ".sort_values(by='sum', ascending =False).plot(data=data_jp_genre, x='genre', y = 'sum', kind='bar')\n",
    "print(data_jp_genre)\n",
    "plt.figure(figsize=(7,4))\n",
    "plt.xticks(rotation=45)\n",
    "plt.title('Топ жанров в Японии')\n",
    "sns.barplot(data=data_jp_genre, x='genre', y = 'sum')\n",
    "plt.show()"
   ]
  },
  {
   "cell_type": "code",
   "execution_count": null,
   "metadata": {},
   "outputs": [],
   "source": [
    "fig,(ax1,ax2,ax3) =plt.subplots(1,3, figsize=(15,5))\n",
    "plt.title('Топ жанров в Северной Америке')\n",
    "plt.xticks(rotation=45)\n",
    "plt.title('Топ жанров в Северной Америке')\n",
    "sns.barplot(ax=ax1, data=data_na_genre, x='genre', y = 'sum')\n",
    "plt.xticks(rotation=45)\n",
    "sns.barplot(ax=ax2, data=data_eu_genre, x='genre', y = 'sum')\n",
    "plt.xticks(rotation=45)\n",
    "plt.title('Топ жанров в Северной Америке')\n",
    "sns.barplot(ax=ax3, data=data_jp_genre, x='genre', y = 'sum')\n",
    "plt.show()\n"
   ]
  },
  {
   "cell_type": "code",
   "execution_count": null,
   "metadata": {},
   "outputs": [],
   "source": [
    "fig, axes = plt.subplots(1, 3, figsize=(12, 4))\n",
    "\n",
    "axes[0].plot( data=data_na_genre, x='genre', y = 'sum')\n",
    "axes[0].set_title(\"Стандартный диапазон осей\")\n",
    "\n",
    "axes[1].plot(x, x**2, x, x**3)\n",
    "axes[1].axis('tight')\n",
    "axes[1].set_title(\"«Тесные» оси\")\n",
    "\n",
    "axes[2].plot(x, x**2, x, x**3)\n",
    "axes[2].set_ylim([0, 60])\n",
    "axes[2].set_xlim([2, 5])\n",
    "axes[2].set_title(\"Заданный точными значениями\\nдиапазон осей\");"
   ]
  },
  {
   "cell_type": "markdown",
   "metadata": {},
   "source": [
    "По жанрам мы опять видим, что игроки в Америке и Европе схожи: они любят Shooter, Action, Sports и Role-Playing. В Японии топ-5 отличается и на первом месте  у них Role-Playing, а на втором Action. Третье место занимает Fighting, что, скорее всего, связано с культурой различных единоборств в данной стране."
   ]
  },
  {
   "cell_type": "markdown",
   "metadata": {},
   "source": [
    "<div class=\"alert alert-danger\">\n",
    "<font size=\"4\"><b>❌ Комментарий ревьюера</b></font>\n",
    "    <br /> \n",
    "    <font size=\"3\", color = \"black\">\n",
    "<br /> Портреты клиентов нарисованы, молодец\n",
    "        \n",
    "Стоит оформить графики раздела TOП-5:\n",
    "\n",
    "+ для каждого ТОП-5 - построить 3 графика рядом с помощью subplots, оптимальнее сравнивать три региона по каждому виду портрета вместе;\n",
    "+ оформить \"двухуровневый заголовок\" - и у всех трех графиков вместе, и у каждого из трех по отдельности;\n",
    "+ при анализе платформ и жанров стоит все, что не вошло в ТОП-5, объединять в категорию \"другие\" - так картина анализа будет более полной\n",
    "\n",
    "        \n",
    "Если столкнешься с трудностью выполнения данного пункта — присылай код, который не получился и вопрос, подумаем вместе\n",
    "        \n",
    "https://proproprogs.ru/modules/matplotlib-otobrazhenie-neskolkih-koordinatnyh-osey-v-odnom-okne\n",
    "        \n",
    "https://nagornyy.me/it/vizualizatsiia-dannykh-v-matplotlib/?ysclid=l4q3l4q0p8940570437\n",
    "    \n",
    "https://pandas.pydata.org/pandas-docs/stable/reference/api/pandas.DataFrame.append.html?highlight=append#pandas.DataFrame.append"
   ]
  },
  {
   "cell_type": "markdown",
   "metadata": {},
   "source": [
    "### Проверим влияет ли рейтинг ESRB на продажи в отдельном регионе"
   ]
  },
  {
   "cell_type": "code",
   "execution_count": null,
   "metadata": {},
   "outputs": [],
   "source": [
    "# сгруппируем данные по количеству продажам в странах игр разных рейтингов\n",
    "data_actual.groupby('rating').agg({'na_sales':'sum', 'eu_sales':'sum', 'jp_sales':'sum'})\\\n",
    ".sort_values(by='na_sales', ascending =False).reset_index()"
   ]
  },
  {
   "cell_type": "markdown",
   "metadata": {},
   "source": [
    "И опять мы видим, что в Америке и Европе очень схожие показатели. Лидируют игры следующих категорий: для взрослых, для всех и тинеджеров. В Японии же больше продаются игры для тинейджеров.  \n",
    "Да и как мы помним, рейтинги присуждаются играм, которые произведены в США или Канаде, поэтому в Японии на первом месте игры без рейтинга, они и в Америке и Европе занимают второе место.Скорее всего, это игры, произведенные в других странах, а также часть игр, которые ожидают оценки на момент выборки."
   ]
  },
  {
   "cell_type": "markdown",
   "metadata": {},
   "source": [
    "Американский и Европейский игроки схожи в своих предпочтениях: это люди разных возрастов, играющие на PS4 или на XOne, которые любят игры в жанрах Shooter и Action.\n",
    "Среднестатистический японский игрок представляет собой тинейджера от 13 лет, играющего на  3DS или PS4 и отдающего предпочтение таким жанрам, как Role-Playing и Action.\n",
    "\n",
    "Рейтинг ESRB влияет на европейских и американских игроков, кроме региона - Япония, здесь сумарные продажи у игр без рейтинга выше. В Европе и Северном америке лидируют игры с рейтингом для взрослх или всех возрастов, а  в Японии на первом месте игры для  игроков от 13 лет."
   ]
  },
  {
   "cell_type": "markdown",
   "metadata": {},
   "source": [
    "<div class=\"alert alert-danger\">\n",
    "<font size=\"4\"><b>❌ Комментарий ревьюера</b></font>\n",
    "    <br /> \n",
    "    <font size=\"3\", color = \"black\">\n",
    "<br />\n",
    "При твоем способе подсчета игры без рейтинга оказываются полностью исключенными из анализа. Но продажи именно этих игр могут указать на ключевое различие в регионах\n",
    "        \n",
    "Стоит поработать со столбцом рейтингов, заменить пропуски, посмотреть на частотность использования всех категорий рейтинга"
   ]
  },
  {
   "cell_type": "markdown",
   "metadata": {},
   "source": [
    "<div class=\"alert alert-info\">\n",
    "<font size=\"4\", color = \"black\"><b>✍ Комментарий студента</b></font>\n",
    "    <br /> \n",
    "    <font size=\"3\", color = \"black\">\n",
    "<br /> \n",
    "       добавлено и вывод изменен"
   ]
  },
  {
   "cell_type": "markdown",
   "metadata": {},
   "source": [
    "### Средние пользовательские рейтинги платформ Xbox One и PC одинаковые"
   ]
  },
  {
   "cell_type": "code",
   "execution_count": null,
   "metadata": {},
   "outputs": [],
   "source": [
    "#отфильтруем наш актуальный датасет по платформам и не будем учитывать пропуски в пользовательских оценка. Введем 2 переменные для Xbox One и PC \n",
    "xone = data_actual.query('platform == \"XOne\" and user_score >0')['user_score']\n",
    "pc = data_actual.query('platform == \"PC\" and user_score >0')['user_score']\n"
   ]
  },
  {
   "cell_type": "markdown",
   "metadata": {},
   "source": [
    "<div class=\"alert alert-success\">\n",
    "<font size=\"4\", color= \"seagreen\"><b>✔️ Комментарий ревьюера</b></font>\n",
    "    <br /> \n",
    "    <font size=\"3\", color = \"black\">\n",
    "<br />Важно удалить пропуски и «заглушки» перед проведением теста, молодец"
   ]
  },
  {
   "cell_type": "markdown",
   "metadata": {},
   "source": [
    "Для оценки гипотезы будем применять тест Стюдента. Для начала сформулируем гипотезы:  \n",
    "\n",
    "H0: Средние пользовательские рейтинги платформ Xbox One и PC одинаковые  \n",
    "H1: Средние пользовательские рейтинги платформ Xbox One и PC различаются  \n"
   ]
  },
  {
   "cell_type": "markdown",
   "metadata": {},
   "source": [
    "<div class=\"alert alert-success\">\n",
    "<font size=\"4\", color= \"seagreen\"><b>✔️ Комментарий ревьюера</b></font>\n",
    "    <br /> \n",
    "    <font size=\"3\", color = \"black\">\n",
    "<br /> Гипотезы сформулированы верно, для акцентирования можно использовать в нулевой гипотезе слово равны"
   ]
  },
  {
   "cell_type": "code",
   "execution_count": null,
   "metadata": {
    "scrolled": true
   },
   "outputs": [],
   "source": [
    "# проверим гипотезу и зададим alpha = .05\n",
    "alpha = .05\n",
    "\n",
    "xone_pc_test = st.ttest_ind(xone,pc,equal_var = False)\n",
    "\n",
    "print('p-значение:', xone_pc_test.pvalue)\n",
    "\n",
    "if xone_pc_test.pvalue < alpha:\n",
    "    print('Отвергаем нулевую гипотезу:Средние пользовательские рейтинги платформ Xbox One и PC различаются')\n",
    "else:\n",
    "    print('Не получилось отвергнуть нулевую гипотезу: Средние пользовательские рейтинги платформ Xbox One и PC одинаковые') "
   ]
  },
  {
   "cell_type": "markdown",
   "metadata": {},
   "source": [
    "Значение p-value показывает: вероятность случайно получить такое или большее различие равно почти 11%, поэтому делаем вывод о том, что средние пользовательские рейтинги платформ Xbox One и PC одинаковые."
   ]
  },
  {
   "cell_type": "markdown",
   "metadata": {},
   "source": [
    "<div class=\"alert alert-success\">\n",
    "<font size=\"4\", color= \"seagreen\"><b>✔️ Комментарий ревьюера</b></font>\n",
    "    <br /> \n",
    "    <font size=\"3\", color = \"black\">\n",
    "<br /> приведена классическая расшифровка значения р, молодец"
   ]
  },
  {
   "cell_type": "markdown",
   "metadata": {},
   "source": [
    "### Средние пользовательские рейтинги жанров Action (англ. «действие», экшен-игры) и Sports (англ. «спортивные соревнования») разные."
   ]
  },
  {
   "cell_type": "code",
   "execution_count": null,
   "metadata": {},
   "outputs": [],
   "source": [
    "#отфильтруем наш актуальны датасет по жанрам и не будем учитывать пропуски в пользовательских оценка. Введем 2 переменные для Xbox One и PC \n",
    "action = data_actual.query('genre == \"Action\" and user_score >0')['user_score']\n",
    "sports = data_actual.query('genre == \"Sports\" and user_score >0')['user_score']"
   ]
  },
  {
   "cell_type": "markdown",
   "metadata": {},
   "source": [
    "Для оценки гипотезы будем применять тест Стюдента. Для начала сформулируем гипотезы:  \n",
    "\n",
    "H0: Средние пользовательские рейтинги жанров Actione и Sports одинаковые  \n",
    "H1: Средние пользовательские рейтинги жанров Actione и Sports различаются\n"
   ]
  },
  {
   "cell_type": "code",
   "execution_count": null,
   "metadata": {},
   "outputs": [],
   "source": [
    "# проверим гипотезу и зададим alpha = .05\n",
    "alpha = .05\n",
    "\n",
    "action_sports_test = st.ttest_ind(action,sports,equal_var = False)\n",
    "\n",
    "print('p-значение:', action_sports_test.pvalue)\n",
    "\n",
    "if action_sports_test.pvalue < alpha:\n",
    "    print('Отвергаем нулевую гипотезу: Средние пользовательские рейтинги жанров Actione и Sports различаются')\n",
    "else:\n",
    "    print('Не получилось отвергнуть нулевую гипотезу:Средние пользовательские рейтинги жанров Actione и Sports одинаковые') "
   ]
  },
  {
   "cell_type": "markdown",
   "metadata": {},
   "source": [
    "Средние пользовательские рейтинги жанров Action и Sports различаются."
   ]
  },
  {
   "cell_type": "markdown",
   "metadata": {},
   "source": [
    "## Вывод"
   ]
  },
  {
   "cell_type": "markdown",
   "metadata": {},
   "source": [
    "\n",
    "Перед нами стояла задача изучить данные о продажах игр, оценки пользователей и экспертов, жанры и платформы  за несколько лет и выявить закономерности, определяющие успешность игры.\n",
    "\n",
    "После предподготовки данных, мы рассмотрели детально динамику продаж игр по годам и выявили несколько тенденций. До 1994 года игры продавались небольшими тиражами, а вот после начался подъем  рынка вплоть до 2008-2009 г., в которых наблюдались  максимальные продажи и ,далее, до конца рассматриваемого нами периода, мы видим спад. В первую очередь, это обусловлено кризисом в США, а так же, что потребители стали постепенно переходить на игры для мобильных устройств и онлайн-игры.  \n",
    "\n",
    "Далее, мы детально изучили вопрос \"жизненного цикла\" игровой платформы, который составил , в среднем 9-11 лет. Платформы модернизируют, улучшают характеристики, естественно, потребитель хочет владеть более современными приставками. Единственное, персональный компьютер, хоть и не показывал больших продаж в последние года, но все же оставался актуальным и сильного падения в продажах не показал.  \n",
    "\n",
    "Также мы выделили топ-5 платформ, которые хоть и показывали спад продаж, но оставались самыми продаваемыми из всех возможных. Это PS4, XOne, 3DS, PS3, X360,WiiU. Также можно предположить, что на смену им готовятся новые приемники либо об этом уже задумываются производители, тк прогресс не стоит на месте, потребитель хочет видеть уже более мощные и качественные игры.\n",
    "Следующим шагом мы оценили влияние оценок пользователей и критиков на продажу топовых платформ и пришли к выводы, что лишь оценки критиков имеют значимое влияние на продажи и только на самые продаваемые, такие , как PS4 и XOne.  \n",
    "\n",
    "Далее, мы изучили самые прибыльные и популярные жанры игр, которыми оказались Action, Shooter, Sports, Role-Playing и Misc. Strategy и Puzzle -жанры, с самыми низкими продажами.\n",
    "\n",
    "Изучили и составили портрет пользователей видеоигр из разных стран. На основании наших данных выявили, что американские и европейские игроки схожи в своих предпочтениях, как по платформам(PS4, XOne), так и по жанрам игр(Shooter,Action). Японские игроки отличаются, хотя одна из топовых платформ у них также PS4, но на первом месте идет 3DS.   \n",
    "Последнее, что мы сделали , это выдвинули две гипотезы, которые подтвердились. Первая из них о том, что *Средние пользовательские рейтинги платформ Xbox One и PC одинаковые*. И вторая, что *Средние пользовательские рейтинги жанров Action и Sports разные* мы также подтвердили,что и подтвердил наш анализ. Все же к Action ближе Shooter.\n",
    "\n",
    "\n",
    "Благодаря такому анализу, мы можем сказать, что, для того, чтобы продажи в 2017 году шли хорошо, нужно сфокусироваться на играх для таких платформ, как PS4, XOne и 3DS( то есть новые на момент анализа платформы) с упором на жанры: Action, Shooter и Sports, а также чтобы игры были для для всех возрастов либо только для взрослых по рейтингу ESRB. То есть внимателее присмотреться ко вкусам игроков из Европы и ,особенно, Северной Америке, так как по объему продаж продаж рынок Америке лидирует.   \n",
    "Но и не забывать, что люди продолжают играть на PC, пусть это не принесет колоссальных продаж, но до сих пор актуальности своей не теряет.Компьютеры есть практически у всех дома, а вот приставки нет."
   ]
  },
  {
   "cell_type": "markdown",
   "metadata": {},
   "source": [
    "<div class=\"alert alert-success\">\n",
    "<font size=\"4\", color= \"seagreen\"><b>✔️ Комментарий ревьюера</b></font>\n",
    "    <br /> \n",
    "    <font size=\"3\", color = \"black\">\n",
    "<br /> Отличный вывод, наполненный инсайтами, сравнениями, определениями ключевых особенностей рынка\n",
    "        \n",
    "осталось подправить некоторые моменты после исправления комментариев на проекте"
   ]
  },
  {
   "cell_type": "markdown",
   "metadata": {},
   "source": [
    "<div class=\"alert alert-danger\">\n",
    "<font size=\"4\"><b>❌ Комментарий ревьюера</b></font>\n",
    "    <br /> \n",
    "    <font size=\"3\", color = \"black\">\n",
    "<br /> \n",
    "можно подправить некоторые моменты\n",
    "        \n",
    "         выдвинули две гипотезы, которые подтвердились.\n",
    "\n",
    "<b>Из теории на тренажере</b>\n",
    "        \n",
    "Формулирование двусторонних гипотез. <br>\n",
    "        \n",
    "<b>Никакие экспериментально полученные данные никогда не подтвердят какую-либо гипотезу. Это наше фундаментальное ограничение. </b>Данные могут лишь не противоречить ей или, наоборот, показывать крайне маловероятные результаты (при условии, что гипотеза верна). Но и в том, и в другом случае нет оснований утверждать, что выдвинутая гипотеза доказана.\n",
    "Допустим, данные гипотезе не противоречат, тогда мы её не отвергаем. Если же мы приходим к выводу, что получить такие данные в рамках этой гипотезы вряд ли возможно, у нас появляется основание отбросить эту гипотезу.\n",
    "        \n",
    "https://allatambov.github.io/psms/pdf/hypo-test.pdf\n"
   ]
  },
  {
   "cell_type": "markdown",
   "metadata": {},
   "source": [
    "<div class=\"alert alert-success\">\n",
    "<font size=\"5\", color= \"seagreen\"><b>✔️ Комментарий ревьюера</b></font>\n",
    "    <br /> \n",
    "    <font size=\"3\", color = \"black\">\n",
    "<br />   \n",
    "Ты выполнила практически все пункты проекта, молодец! Проведен значительный объем исследования \n",
    "        \n",
    "Критические ❌ комментарии связаны с неточностями: \n",
    "\n",
    " + обработка пропусков в столбце рейтингов ESRB\n",
    " + сократить категории в рейтингах ESRB — на твое усмотрение\n",
    " + подправить перечень перспективных платформ\n",
    " + исправить исследование зависимости по платформам конкурентам (от оценок критиков и пользователей)        \n",
    " + оценить прибыльность жанров на диаграмме размаха\n",
    " + перестроить графики в ТОП-5 и пересмотреть раздел рейтингов\n",
    " + перепроверить промежуточные и итоговый выводы после всех исправлений\n",
    "\n",
    "Стоит обратить внимание на ⚠️ комментарии...        \n",
    "        \n",
    "Если будут вопросы про мои комментарии - задавай, если какой-то формат взаимодействия не устраивает или есть какие-то другие пожелания - пиши :)\n",
    "\n",
    "<div class=\"alert alert-success\">\n",
    "    <font size=\"5\", color= \"seagreen\"><b>Жду твой проект и твои комментарии 🤝</b></font><br />"
   ]
  },
  {
   "cell_type": "markdown",
   "metadata": {},
   "source": [
    "<div style=\"border:solid steelblue 3px; padding: 20px\">\n",
    "<font size=\"4\">🍕<b> Комментарий ревьюера</b></font>\n",
    "<br /> \n",
    "<font size=\"3\", color = \"black\">\n",
    "<br />\n",
    "Может пригодиться  \n",
    "    \n",
    "[Подборка статей о работе с библиотеками для анализа данных на языке Python](https://dfedorov.spb.ru/pandas/)\n",
    "    \n",
    "   \n",
    "[Визуализация](https://dfedorov.spb.ru/pandas/%D0%AD%D1%84%D1%84%D0%B5%D0%BA%D1%82%D0%B8%D0%B2%D0%BD%D0%BE%D0%B5%20%D0%B8%D1%81%D0%BF%D0%BE%D0%BB%D1%8C%D0%B7%D0%BE%D0%B2%D0%B0%D0%BD%D0%B8%D0%B5%20Matplotlib.html)\n",
    "\n",
    "\n",
    "[Искусство статистики](https://www.mann-ivanov-ferber.ru/books/iskusstvo-statistiki/)\n",
    "        \n",
    "[Постер «Графики, которые убеждают всех»](https://www.notion.so/6c5ae8ceb8b5411e907c93c9b5e6a44e)        \n",
    "        \n",
    "        \n",
    "В помощь — как реализовать интерактивный план проекта вручную (для собственных проектов), смотри по <a href=\"https://stackoverflow.com/questions/49535664/how-to-hyperlink-in-a-jupyter-notebook/49717704\">ссылке</a>\n",
    "    \n",
    "пара ссылок и по разделам проекта можно будет переходить без пролистывания всего кода, особенно актуально на проектах длина которых >  10 страниц (и там где не установлен плагин TOC)      "
   ]
  },
  {
   "cell_type": "code",
   "execution_count": null,
   "metadata": {},
   "outputs": [],
   "source": []
  }
 ],
 "metadata": {
  "ExecuteTimeLog": [
   {
    "duration": 873,
    "start_time": "2022-12-12T08:34:52.329Z"
   },
   {
    "duration": 244,
    "start_time": "2022-12-12T08:38:24.470Z"
   },
   {
    "duration": 81,
    "start_time": "2022-12-12T08:38:26.989Z"
   },
   {
    "duration": 11,
    "start_time": "2022-12-12T08:39:01.332Z"
   },
   {
    "duration": 84,
    "start_time": "2022-12-12T08:43:54.365Z"
   },
   {
    "duration": 18,
    "start_time": "2022-12-12T08:43:54.921Z"
   },
   {
    "duration": 16,
    "start_time": "2022-12-12T08:44:41.788Z"
   },
   {
    "duration": 819,
    "start_time": "2022-12-12T09:07:44.671Z"
   },
   {
    "duration": 77,
    "start_time": "2022-12-12T09:08:29.895Z"
   },
   {
    "duration": 7,
    "start_time": "2022-12-12T09:08:45.061Z"
   },
   {
    "duration": 14,
    "start_time": "2022-12-12T09:08:52.840Z"
   },
   {
    "duration": 18,
    "start_time": "2022-12-12T09:09:47.440Z"
   },
   {
    "duration": 9,
    "start_time": "2022-12-12T09:10:01.388Z"
   },
   {
    "duration": 3,
    "start_time": "2022-12-12T09:10:05.198Z"
   },
   {
    "duration": 85,
    "start_time": "2022-12-12T09:10:05.621Z"
   },
   {
    "duration": 18,
    "start_time": "2022-12-12T09:10:06.142Z"
   },
   {
    "duration": 14,
    "start_time": "2022-12-12T09:10:06.953Z"
   },
   {
    "duration": 9,
    "start_time": "2022-12-12T09:10:10.884Z"
   },
   {
    "duration": 14,
    "start_time": "2022-12-12T09:10:12.433Z"
   },
   {
    "duration": 1450,
    "start_time": "2022-12-12T09:13:27.078Z"
   },
   {
    "duration": 9,
    "start_time": "2022-12-12T09:14:00.532Z"
   },
   {
    "duration": 1414,
    "start_time": "2022-12-12T09:14:04.077Z"
   },
   {
    "duration": 1466,
    "start_time": "2022-12-12T09:14:10.592Z"
   },
   {
    "duration": 22,
    "start_time": "2022-12-12T09:14:33.603Z"
   },
   {
    "duration": 9,
    "start_time": "2022-12-12T09:14:39.419Z"
   },
   {
    "duration": 1427,
    "start_time": "2022-12-12T09:14:42.261Z"
   },
   {
    "duration": 3,
    "start_time": "2022-12-12T09:14:46.853Z"
   },
   {
    "duration": 105,
    "start_time": "2022-12-12T09:14:47.338Z"
   },
   {
    "duration": 17,
    "start_time": "2022-12-12T09:14:47.849Z"
   },
   {
    "duration": 14,
    "start_time": "2022-12-12T09:14:49.735Z"
   },
   {
    "duration": 9,
    "start_time": "2022-12-12T09:18:52.350Z"
   },
   {
    "duration": 6,
    "start_time": "2022-12-12T09:18:54.683Z"
   },
   {
    "duration": 2,
    "start_time": "2022-12-12T13:28:45.882Z"
   },
   {
    "duration": 90,
    "start_time": "2022-12-12T13:28:46.374Z"
   },
   {
    "duration": 17,
    "start_time": "2022-12-12T13:28:47.104Z"
   },
   {
    "duration": 14,
    "start_time": "2022-12-12T13:28:47.850Z"
   },
   {
    "duration": 9,
    "start_time": "2022-12-12T13:28:52.330Z"
   },
   {
    "duration": 16,
    "start_time": "2022-12-12T13:29:08.482Z"
   },
   {
    "duration": 5,
    "start_time": "2022-12-12T13:29:17.211Z"
   },
   {
    "duration": 15,
    "start_time": "2022-12-12T13:33:53.528Z"
   },
   {
    "duration": 29,
    "start_time": "2022-12-12T13:34:40.493Z"
   },
   {
    "duration": 11,
    "start_time": "2022-12-12T13:36:22.009Z"
   },
   {
    "duration": 11,
    "start_time": "2022-12-12T13:36:56.423Z"
   },
   {
    "duration": 5,
    "start_time": "2022-12-12T13:40:11.324Z"
   },
   {
    "duration": 14,
    "start_time": "2022-12-12T13:40:28.534Z"
   },
   {
    "duration": 7,
    "start_time": "2022-12-12T13:45:58.950Z"
   },
   {
    "duration": 12,
    "start_time": "2022-12-12T13:57:26.570Z"
   },
   {
    "duration": 14,
    "start_time": "2022-12-12T13:57:33.482Z"
   },
   {
    "duration": 663,
    "start_time": "2022-12-12T13:58:44.698Z"
   },
   {
    "duration": 13,
    "start_time": "2022-12-12T14:03:31.524Z"
   },
   {
    "duration": 6,
    "start_time": "2022-12-12T14:03:42.573Z"
   },
   {
    "duration": 17,
    "start_time": "2022-12-12T14:03:49.879Z"
   },
   {
    "duration": 13,
    "start_time": "2022-12-12T14:06:10.646Z"
   },
   {
    "duration": 13,
    "start_time": "2022-12-12T14:06:42.455Z"
   },
   {
    "duration": 13,
    "start_time": "2022-12-12T14:06:44.668Z"
   },
   {
    "duration": 5,
    "start_time": "2022-12-12T14:07:32.748Z"
   },
   {
    "duration": 14,
    "start_time": "2022-12-12T14:07:38.453Z"
   },
   {
    "duration": 6,
    "start_time": "2022-12-12T14:08:59.309Z"
   },
   {
    "duration": 13,
    "start_time": "2022-12-12T14:09:09.779Z"
   },
   {
    "duration": 77,
    "start_time": "2022-12-12T14:13:39.499Z"
   },
   {
    "duration": 22,
    "start_time": "2022-12-12T14:13:52.588Z"
   },
   {
    "duration": 12,
    "start_time": "2022-12-12T14:19:02.177Z"
   },
   {
    "duration": 8,
    "start_time": "2022-12-12T14:19:40.722Z"
   },
   {
    "duration": 12,
    "start_time": "2022-12-12T14:19:43.997Z"
   },
   {
    "duration": 15,
    "start_time": "2022-12-12T14:19:47.012Z"
   },
   {
    "duration": 10,
    "start_time": "2022-12-12T14:27:20.192Z"
   },
   {
    "duration": 9,
    "start_time": "2022-12-12T14:27:27.106Z"
   },
   {
    "duration": 185,
    "start_time": "2022-12-12T14:27:49.569Z"
   },
   {
    "duration": 9,
    "start_time": "2022-12-12T14:28:06.299Z"
   },
   {
    "duration": 9,
    "start_time": "2022-12-12T14:29:11.309Z"
   },
   {
    "duration": 118,
    "start_time": "2022-12-12T14:29:26.683Z"
   },
   {
    "duration": 14,
    "start_time": "2022-12-12T14:33:41.613Z"
   },
   {
    "duration": 58,
    "start_time": "2022-12-12T14:37:31.541Z"
   },
   {
    "duration": 129,
    "start_time": "2022-12-12T14:37:42.154Z"
   },
   {
    "duration": 16,
    "start_time": "2022-12-12T14:38:04.622Z"
   },
   {
    "duration": 28,
    "start_time": "2022-12-12T14:40:45.063Z"
   },
   {
    "duration": 10,
    "start_time": "2022-12-12T14:41:22.074Z"
   },
   {
    "duration": 28,
    "start_time": "2022-12-12T14:41:33.435Z"
   },
   {
    "duration": 14,
    "start_time": "2022-12-12T14:42:15.635Z"
   },
   {
    "duration": 3,
    "start_time": "2022-12-12T14:42:23.059Z"
   },
   {
    "duration": 96,
    "start_time": "2022-12-12T14:42:23.610Z"
   },
   {
    "duration": 16,
    "start_time": "2022-12-12T14:42:24.229Z"
   },
   {
    "duration": 24,
    "start_time": "2022-12-12T14:42:26.084Z"
   },
   {
    "duration": 11,
    "start_time": "2022-12-12T14:42:28.878Z"
   },
   {
    "duration": 30,
    "start_time": "2022-12-12T14:42:31.545Z"
   },
   {
    "duration": 7,
    "start_time": "2022-12-12T14:42:33.850Z"
   },
   {
    "duration": 5,
    "start_time": "2022-12-12T14:42:34.787Z"
   },
   {
    "duration": 6,
    "start_time": "2022-12-12T14:42:35.340Z"
   },
   {
    "duration": 13,
    "start_time": "2022-12-12T14:42:36.332Z"
   },
   {
    "duration": 14,
    "start_time": "2022-12-12T14:42:38.636Z"
   },
   {
    "duration": 4,
    "start_time": "2022-12-12T14:42:41.555Z"
   },
   {
    "duration": 11,
    "start_time": "2022-12-12T14:42:51.530Z"
   },
   {
    "duration": 17,
    "start_time": "2022-12-12T14:42:52.625Z"
   },
   {
    "duration": 17,
    "start_time": "2022-12-12T14:42:54.129Z"
   },
   {
    "duration": 17,
    "start_time": "2022-12-12T14:42:55.790Z"
   },
   {
    "duration": 8,
    "start_time": "2022-12-12T14:42:58.341Z"
   },
   {
    "duration": 15,
    "start_time": "2022-12-12T14:42:59.257Z"
   },
   {
    "duration": 10,
    "start_time": "2022-12-12T14:43:01.461Z"
   },
   {
    "duration": 5,
    "start_time": "2022-12-12T14:43:04.293Z"
   },
   {
    "duration": 29,
    "start_time": "2022-12-12T14:43:12.057Z"
   },
   {
    "duration": 27,
    "start_time": "2022-12-12T14:43:18.643Z"
   },
   {
    "duration": 29,
    "start_time": "2022-12-12T14:43:26.117Z"
   },
   {
    "duration": 769,
    "start_time": "2022-12-12T18:18:43.614Z"
   },
   {
    "duration": 219,
    "start_time": "2022-12-12T18:18:44.385Z"
   },
   {
    "duration": 20,
    "start_time": "2022-12-12T18:18:44.606Z"
   },
   {
    "duration": 13,
    "start_time": "2022-12-12T18:18:44.627Z"
   },
   {
    "duration": 7,
    "start_time": "2022-12-12T18:18:44.642Z"
   },
   {
    "duration": 30,
    "start_time": "2022-12-12T18:18:44.651Z"
   },
   {
    "duration": 5,
    "start_time": "2022-12-12T18:18:44.683Z"
   },
   {
    "duration": 8,
    "start_time": "2022-12-12T18:18:44.689Z"
   },
   {
    "duration": 6,
    "start_time": "2022-12-12T18:18:44.698Z"
   },
   {
    "duration": 72,
    "start_time": "2022-12-12T18:18:44.726Z"
   },
   {
    "duration": 0,
    "start_time": "2022-12-12T18:18:44.800Z"
   },
   {
    "duration": 0,
    "start_time": "2022-12-12T18:18:44.801Z"
   },
   {
    "duration": 0,
    "start_time": "2022-12-12T18:18:44.802Z"
   },
   {
    "duration": 0,
    "start_time": "2022-12-12T18:18:44.803Z"
   },
   {
    "duration": 0,
    "start_time": "2022-12-12T18:18:44.804Z"
   },
   {
    "duration": 0,
    "start_time": "2022-12-12T18:18:44.806Z"
   },
   {
    "duration": 0,
    "start_time": "2022-12-12T18:18:44.807Z"
   },
   {
    "duration": 0,
    "start_time": "2022-12-12T18:18:44.826Z"
   },
   {
    "duration": 0,
    "start_time": "2022-12-12T18:18:44.827Z"
   },
   {
    "duration": 0,
    "start_time": "2022-12-12T18:18:44.829Z"
   },
   {
    "duration": 3,
    "start_time": "2022-12-12T18:24:50.243Z"
   },
   {
    "duration": 106,
    "start_time": "2022-12-12T18:24:50.695Z"
   },
   {
    "duration": 22,
    "start_time": "2022-12-12T18:24:51.200Z"
   },
   {
    "duration": 12,
    "start_time": "2022-12-12T18:24:53.008Z"
   },
   {
    "duration": 32,
    "start_time": "2022-12-12T18:24:56.059Z"
   },
   {
    "duration": 35,
    "start_time": "2022-12-12T18:26:08.548Z"
   },
   {
    "duration": 1143,
    "start_time": "2022-12-12T18:26:09.487Z"
   },
   {
    "duration": 29,
    "start_time": "2022-12-12T18:26:17.692Z"
   },
   {
    "duration": 26,
    "start_time": "2022-12-12T18:26:20.742Z"
   },
   {
    "duration": 29,
    "start_time": "2022-12-12T18:26:21.644Z"
   },
   {
    "duration": 18,
    "start_time": "2022-12-12T18:26:57.845Z"
   },
   {
    "duration": 3,
    "start_time": "2022-12-12T18:27:08.759Z"
   },
   {
    "duration": 97,
    "start_time": "2022-12-12T18:27:09.299Z"
   },
   {
    "duration": 14,
    "start_time": "2022-12-12T18:27:09.783Z"
   },
   {
    "duration": 13,
    "start_time": "2022-12-12T18:27:11.395Z"
   },
   {
    "duration": 5,
    "start_time": "2022-12-12T18:27:22.363Z"
   },
   {
    "duration": 36,
    "start_time": "2022-12-12T18:27:25.446Z"
   },
   {
    "duration": 6,
    "start_time": "2022-12-12T18:27:29.528Z"
   },
   {
    "duration": 5,
    "start_time": "2022-12-12T18:27:47.466Z"
   },
   {
    "duration": 5,
    "start_time": "2022-12-12T18:28:29.035Z"
   },
   {
    "duration": 5,
    "start_time": "2022-12-12T18:28:30.525Z"
   },
   {
    "duration": 7,
    "start_time": "2022-12-12T18:28:41.695Z"
   },
   {
    "duration": 10,
    "start_time": "2022-12-12T18:31:49.503Z"
   },
   {
    "duration": 11,
    "start_time": "2022-12-12T18:33:41.940Z"
   },
   {
    "duration": 53,
    "start_time": "2022-12-12T18:34:48.190Z"
   },
   {
    "duration": 10,
    "start_time": "2022-12-12T18:34:58.073Z"
   },
   {
    "duration": 15,
    "start_time": "2022-12-12T18:35:01.826Z"
   },
   {
    "duration": 14,
    "start_time": "2022-12-12T18:35:51.265Z"
   },
   {
    "duration": 8,
    "start_time": "2022-12-12T18:36:08.643Z"
   },
   {
    "duration": 70,
    "start_time": "2022-12-12T18:46:25.204Z"
   },
   {
    "duration": 36,
    "start_time": "2022-12-12T18:46:47.070Z"
   },
   {
    "duration": 28,
    "start_time": "2022-12-12T18:47:16.063Z"
   },
   {
    "duration": 29,
    "start_time": "2022-12-12T18:47:34.502Z"
   },
   {
    "duration": 29,
    "start_time": "2022-12-12T18:48:17.137Z"
   },
   {
    "duration": 825,
    "start_time": "2022-12-12T18:54:45.543Z"
   },
   {
    "duration": 69,
    "start_time": "2022-12-12T18:55:37.632Z"
   },
   {
    "duration": 93,
    "start_time": "2022-12-12T18:55:56.205Z"
   },
   {
    "duration": 68,
    "start_time": "2022-12-12T18:56:08.141Z"
   },
   {
    "duration": 20,
    "start_time": "2022-12-12T18:56:48.691Z"
   },
   {
    "duration": 76,
    "start_time": "2022-12-12T18:57:27.345Z"
   },
   {
    "duration": 16,
    "start_time": "2022-12-12T18:57:42.988Z"
   },
   {
    "duration": 16,
    "start_time": "2022-12-12T18:58:11.336Z"
   },
   {
    "duration": 14,
    "start_time": "2022-12-12T18:58:26.041Z"
   },
   {
    "duration": 14,
    "start_time": "2022-12-12T19:01:10.365Z"
   },
   {
    "duration": 16,
    "start_time": "2022-12-12T19:01:25.659Z"
   },
   {
    "duration": 16,
    "start_time": "2022-12-12T19:01:37.537Z"
   },
   {
    "duration": 15,
    "start_time": "2022-12-12T19:02:38.469Z"
   },
   {
    "duration": 3,
    "start_time": "2022-12-12T19:11:14.431Z"
   },
   {
    "duration": 118,
    "start_time": "2022-12-12T19:11:14.905Z"
   },
   {
    "duration": 14,
    "start_time": "2022-12-12T19:11:15.427Z"
   },
   {
    "duration": 12,
    "start_time": "2022-12-12T19:11:16.549Z"
   },
   {
    "duration": 4,
    "start_time": "2022-12-12T19:11:35.773Z"
   },
   {
    "duration": 9,
    "start_time": "2022-12-12T19:11:37.857Z"
   },
   {
    "duration": 9,
    "start_time": "2022-12-12T19:12:16.071Z"
   },
   {
    "duration": 14,
    "start_time": "2022-12-12T19:12:18.670Z"
   },
   {
    "duration": 12,
    "start_time": "2022-12-12T19:12:27.865Z"
   },
   {
    "duration": 7,
    "start_time": "2022-12-12T19:12:29.245Z"
   },
   {
    "duration": 5,
    "start_time": "2022-12-12T19:15:27.888Z"
   },
   {
    "duration": 25,
    "start_time": "2022-12-12T19:27:45.471Z"
   },
   {
    "duration": 26,
    "start_time": "2022-12-12T19:27:52.743Z"
   },
   {
    "duration": 21,
    "start_time": "2022-12-12T19:28:42.223Z"
   },
   {
    "duration": 7,
    "start_time": "2022-12-12T19:48:19.528Z"
   },
   {
    "duration": 6,
    "start_time": "2022-12-12T19:49:14.054Z"
   },
   {
    "duration": 9,
    "start_time": "2022-12-12T19:49:16.678Z"
   },
   {
    "duration": 14,
    "start_time": "2022-12-12T19:49:35.883Z"
   },
   {
    "duration": 5,
    "start_time": "2022-12-12T19:50:53.332Z"
   },
   {
    "duration": 5,
    "start_time": "2022-12-12T19:56:31.399Z"
   },
   {
    "duration": 17,
    "start_time": "2022-12-12T19:56:36.691Z"
   },
   {
    "duration": 4,
    "start_time": "2022-12-12T19:57:33.559Z"
   },
   {
    "duration": 7,
    "start_time": "2022-12-12T19:57:36.113Z"
   },
   {
    "duration": 4,
    "start_time": "2022-12-12T19:58:32.784Z"
   },
   {
    "duration": 5,
    "start_time": "2022-12-12T20:00:06.411Z"
   },
   {
    "duration": 4,
    "start_time": "2022-12-12T20:03:45.419Z"
   },
   {
    "duration": 6,
    "start_time": "2022-12-12T20:07:42.346Z"
   },
   {
    "duration": 3,
    "start_time": "2022-12-12T20:09:32.450Z"
   },
   {
    "duration": 38,
    "start_time": "2022-12-12T20:09:39.330Z"
   },
   {
    "duration": 68,
    "start_time": "2022-12-12T20:09:50.523Z"
   },
   {
    "duration": 69,
    "start_time": "2022-12-12T20:09:57.550Z"
   },
   {
    "duration": 72,
    "start_time": "2022-12-12T20:10:03.251Z"
   },
   {
    "duration": 20,
    "start_time": "2022-12-12T20:10:16.061Z"
   },
   {
    "duration": 17,
    "start_time": "2022-12-12T20:40:00.912Z"
   },
   {
    "duration": 3,
    "start_time": "2022-12-12T20:43:42.100Z"
   },
   {
    "duration": 9,
    "start_time": "2022-12-12T20:45:42.160Z"
   },
   {
    "duration": 25,
    "start_time": "2022-12-12T20:45:45.873Z"
   },
   {
    "duration": 6,
    "start_time": "2022-12-12T20:46:01.008Z"
   },
   {
    "duration": 12,
    "start_time": "2022-12-12T20:46:02.772Z"
   },
   {
    "duration": 8,
    "start_time": "2022-12-12T20:46:08.346Z"
   },
   {
    "duration": 15,
    "start_time": "2022-12-12T20:46:20.756Z"
   },
   {
    "duration": 6,
    "start_time": "2022-12-12T20:46:35.125Z"
   },
   {
    "duration": 4,
    "start_time": "2022-12-12T20:46:48.219Z"
   },
   {
    "duration": 7,
    "start_time": "2022-12-12T20:46:50.423Z"
   },
   {
    "duration": 5,
    "start_time": "2022-12-12T20:46:52.891Z"
   },
   {
    "duration": 14,
    "start_time": "2022-12-12T20:46:56.591Z"
   },
   {
    "duration": 3,
    "start_time": "2022-12-12T20:47:02.095Z"
   },
   {
    "duration": 95,
    "start_time": "2022-12-12T20:47:02.572Z"
   },
   {
    "duration": 21,
    "start_time": "2022-12-12T20:47:03.141Z"
   },
   {
    "duration": 12,
    "start_time": "2022-12-12T20:47:04.678Z"
   },
   {
    "duration": 4,
    "start_time": "2022-12-12T20:47:06.697Z"
   },
   {
    "duration": 8,
    "start_time": "2022-12-12T20:47:07.260Z"
   },
   {
    "duration": 28,
    "start_time": "2022-12-12T20:47:08.026Z"
   },
   {
    "duration": 19,
    "start_time": "2022-12-12T20:47:10.016Z"
   },
   {
    "duration": 8,
    "start_time": "2022-12-12T20:47:12.221Z"
   },
   {
    "duration": 6,
    "start_time": "2022-12-12T20:47:13.113Z"
   },
   {
    "duration": 7,
    "start_time": "2022-12-12T20:47:15.455Z"
   },
   {
    "duration": 4,
    "start_time": "2022-12-12T20:47:17.068Z"
   },
   {
    "duration": 4,
    "start_time": "2022-12-12T20:47:17.704Z"
   },
   {
    "duration": 5,
    "start_time": "2022-12-12T20:47:19.085Z"
   },
   {
    "duration": 7,
    "start_time": "2022-12-12T20:47:20.952Z"
   },
   {
    "duration": 21,
    "start_time": "2022-12-12T20:47:24.152Z"
   },
   {
    "duration": 6,
    "start_time": "2022-12-12T20:47:36.806Z"
   },
   {
    "duration": 18,
    "start_time": "2022-12-12T20:47:39.858Z"
   },
   {
    "duration": 13,
    "start_time": "2022-12-12T20:47:44.256Z"
   },
   {
    "duration": 4,
    "start_time": "2022-12-12T20:48:45.869Z"
   },
   {
    "duration": 102,
    "start_time": "2022-12-12T20:48:46.071Z"
   },
   {
    "duration": 25,
    "start_time": "2022-12-12T20:48:46.279Z"
   },
   {
    "duration": 11,
    "start_time": "2022-12-12T20:48:46.472Z"
   },
   {
    "duration": 3,
    "start_time": "2022-12-12T20:48:46.884Z"
   },
   {
    "duration": 11,
    "start_time": "2022-12-12T20:48:47.095Z"
   },
   {
    "duration": 29,
    "start_time": "2022-12-12T20:48:47.311Z"
   },
   {
    "duration": 14,
    "start_time": "2022-12-12T20:48:47.760Z"
   },
   {
    "duration": 7,
    "start_time": "2022-12-12T20:48:48.846Z"
   },
   {
    "duration": 13,
    "start_time": "2022-12-12T20:48:49.326Z"
   },
   {
    "duration": 6,
    "start_time": "2022-12-12T20:48:50.573Z"
   },
   {
    "duration": 4,
    "start_time": "2022-12-12T20:48:50.983Z"
   },
   {
    "duration": 9,
    "start_time": "2022-12-12T20:48:51.423Z"
   },
   {
    "duration": 4,
    "start_time": "2022-12-12T20:48:54.723Z"
   },
   {
    "duration": 6,
    "start_time": "2022-12-12T20:48:57.592Z"
   },
   {
    "duration": 23,
    "start_time": "2022-12-12T20:48:58.855Z"
   },
   {
    "duration": 6,
    "start_time": "2022-12-12T20:49:36.580Z"
   },
   {
    "duration": 11,
    "start_time": "2022-12-12T20:49:49.306Z"
   },
   {
    "duration": 3,
    "start_time": "2022-12-12T20:52:19.265Z"
   },
   {
    "duration": 86,
    "start_time": "2022-12-12T20:52:19.734Z"
   },
   {
    "duration": 15,
    "start_time": "2022-12-12T20:52:20.143Z"
   },
   {
    "duration": 18,
    "start_time": "2022-12-12T20:52:20.600Z"
   },
   {
    "duration": 4,
    "start_time": "2022-12-12T20:52:21.274Z"
   },
   {
    "duration": 12,
    "start_time": "2022-12-12T20:52:21.570Z"
   },
   {
    "duration": 23,
    "start_time": "2022-12-12T20:52:21.920Z"
   },
   {
    "duration": 14,
    "start_time": "2022-12-12T20:52:22.470Z"
   },
   {
    "duration": 8,
    "start_time": "2022-12-12T20:52:23.114Z"
   },
   {
    "duration": 6,
    "start_time": "2022-12-12T20:52:23.352Z"
   },
   {
    "duration": 9,
    "start_time": "2022-12-12T20:52:24.502Z"
   },
   {
    "duration": 4,
    "start_time": "2022-12-12T20:52:24.968Z"
   },
   {
    "duration": 6,
    "start_time": "2022-12-12T20:52:26.068Z"
   },
   {
    "duration": 5,
    "start_time": "2022-12-12T20:52:27.614Z"
   },
   {
    "duration": 6,
    "start_time": "2022-12-12T20:52:28.592Z"
   },
   {
    "duration": 22,
    "start_time": "2022-12-12T20:52:29.738Z"
   },
   {
    "duration": 8,
    "start_time": "2022-12-12T20:52:32.921Z"
   },
   {
    "duration": 8,
    "start_time": "2022-12-12T20:52:37.021Z"
   },
   {
    "duration": 14,
    "start_time": "2022-12-12T20:52:45.049Z"
   },
   {
    "duration": 5,
    "start_time": "2022-12-12T20:53:49.784Z"
   },
   {
    "duration": 3,
    "start_time": "2022-12-12T20:54:08.375Z"
   },
   {
    "duration": 92,
    "start_time": "2022-12-12T20:54:08.846Z"
   },
   {
    "duration": 15,
    "start_time": "2022-12-12T20:54:09.369Z"
   },
   {
    "duration": 22,
    "start_time": "2022-12-12T20:54:11.326Z"
   },
   {
    "duration": 7,
    "start_time": "2022-12-12T20:54:13.840Z"
   },
   {
    "duration": 9,
    "start_time": "2022-12-12T20:54:14.577Z"
   },
   {
    "duration": 14,
    "start_time": "2022-12-12T20:54:16.275Z"
   },
   {
    "duration": 22,
    "start_time": "2022-12-12T20:54:18.321Z"
   },
   {
    "duration": 8,
    "start_time": "2022-12-12T20:54:19.944Z"
   },
   {
    "duration": 6,
    "start_time": "2022-12-12T20:54:20.671Z"
   },
   {
    "duration": 8,
    "start_time": "2022-12-12T20:54:25.171Z"
   },
   {
    "duration": 5,
    "start_time": "2022-12-12T20:54:26.567Z"
   },
   {
    "duration": 6,
    "start_time": "2022-12-12T20:54:29.945Z"
   },
   {
    "duration": 18,
    "start_time": "2022-12-12T20:54:37.847Z"
   },
   {
    "duration": 17,
    "start_time": "2022-12-12T20:56:48.025Z"
   },
   {
    "duration": 5,
    "start_time": "2022-12-12T20:57:07.964Z"
   },
   {
    "duration": 28,
    "start_time": "2022-12-12T20:57:08.972Z"
   },
   {
    "duration": 5,
    "start_time": "2022-12-12T20:57:11.893Z"
   },
   {
    "duration": 8,
    "start_time": "2022-12-12T20:57:13.446Z"
   },
   {
    "duration": 12,
    "start_time": "2022-12-12T20:57:19.011Z"
   },
   {
    "duration": 3,
    "start_time": "2022-12-12T21:03:52.640Z"
   },
   {
    "duration": 27,
    "start_time": "2022-12-12T21:06:34.255Z"
   },
   {
    "duration": 27,
    "start_time": "2022-12-12T21:06:50.997Z"
   },
   {
    "duration": 6,
    "start_time": "2022-12-12T21:09:37.018Z"
   },
   {
    "duration": 18,
    "start_time": "2022-12-12T21:18:53.026Z"
   },
   {
    "duration": 15,
    "start_time": "2022-12-12T21:19:16.064Z"
   },
   {
    "duration": 15,
    "start_time": "2022-12-12T21:21:22.822Z"
   },
   {
    "duration": 10,
    "start_time": "2022-12-12T21:21:30.678Z"
   },
   {
    "duration": 9,
    "start_time": "2022-12-12T21:22:13.291Z"
   },
   {
    "duration": 43,
    "start_time": "2022-12-12T21:22:32.122Z"
   },
   {
    "duration": 25,
    "start_time": "2022-12-12T21:22:53.012Z"
   },
   {
    "duration": 10,
    "start_time": "2022-12-12T21:24:00.871Z"
   },
   {
    "duration": 8,
    "start_time": "2022-12-12T21:24:07.890Z"
   },
   {
    "duration": 8,
    "start_time": "2022-12-12T21:24:10.808Z"
   },
   {
    "duration": 11,
    "start_time": "2022-12-12T21:24:18.930Z"
   },
   {
    "duration": 18,
    "start_time": "2022-12-12T21:26:44.667Z"
   },
   {
    "duration": 23,
    "start_time": "2022-12-12T21:28:51.341Z"
   },
   {
    "duration": 36,
    "start_time": "2022-12-12T21:29:05.423Z"
   },
   {
    "duration": 22,
    "start_time": "2022-12-12T21:29:52.259Z"
   },
   {
    "duration": 35,
    "start_time": "2022-12-12T21:32:13.309Z"
   },
   {
    "duration": 17,
    "start_time": "2022-12-12T21:33:37.038Z"
   },
   {
    "duration": 25,
    "start_time": "2022-12-12T21:37:03.130Z"
   },
   {
    "duration": 22,
    "start_time": "2022-12-12T21:37:35.756Z"
   },
   {
    "duration": 81,
    "start_time": "2022-12-12T22:01:38.158Z"
   },
   {
    "duration": 75,
    "start_time": "2022-12-12T22:01:43.510Z"
   },
   {
    "duration": 24,
    "start_time": "2022-12-12T22:01:51.510Z"
   },
   {
    "duration": 20,
    "start_time": "2022-12-12T22:02:00.496Z"
   },
   {
    "duration": 23,
    "start_time": "2022-12-12T22:02:20.140Z"
   },
   {
    "duration": 11,
    "start_time": "2022-12-12T22:02:43.013Z"
   },
   {
    "duration": 32,
    "start_time": "2022-12-12T22:03:34.990Z"
   },
   {
    "duration": 47,
    "start_time": "2022-12-12T22:04:56.731Z"
   },
   {
    "duration": 33,
    "start_time": "2022-12-12T22:05:22.052Z"
   },
   {
    "duration": 30,
    "start_time": "2022-12-12T22:06:22.001Z"
   },
   {
    "duration": 19,
    "start_time": "2022-12-12T22:07:02.140Z"
   },
   {
    "duration": 34,
    "start_time": "2022-12-12T22:07:50.847Z"
   },
   {
    "duration": 215,
    "start_time": "2022-12-12T22:09:11.684Z"
   },
   {
    "duration": 13567,
    "start_time": "2022-12-12T22:10:47.003Z"
   },
   {
    "duration": 15545,
    "start_time": "2022-12-12T22:11:39.792Z"
   },
   {
    "duration": 1195,
    "start_time": "2022-12-12T22:12:10.660Z"
   },
   {
    "duration": 225624,
    "start_time": "2022-12-12T22:12:30.753Z"
   },
   {
    "duration": 188,
    "start_time": "2022-12-12T22:16:16.379Z"
   },
   {
    "duration": 907,
    "start_time": "2022-12-13T08:52:05.936Z"
   },
   {
    "duration": 240,
    "start_time": "2022-12-13T08:52:06.964Z"
   },
   {
    "duration": 27,
    "start_time": "2022-12-13T08:52:07.835Z"
   },
   {
    "duration": 23,
    "start_time": "2022-12-13T08:52:08.547Z"
   },
   {
    "duration": 3,
    "start_time": "2022-12-13T08:52:09.599Z"
   },
   {
    "duration": 10,
    "start_time": "2022-12-13T08:52:10.097Z"
   },
   {
    "duration": 60,
    "start_time": "2022-12-13T08:52:10.650Z"
   },
   {
    "duration": 20,
    "start_time": "2022-12-13T08:52:11.247Z"
   },
   {
    "duration": 8,
    "start_time": "2022-12-13T08:52:12.389Z"
   },
   {
    "duration": 7,
    "start_time": "2022-12-13T08:52:12.854Z"
   },
   {
    "duration": 7,
    "start_time": "2022-12-13T08:52:16.763Z"
   },
   {
    "duration": 4,
    "start_time": "2022-12-13T08:52:17.339Z"
   },
   {
    "duration": 5,
    "start_time": "2022-12-13T08:52:17.841Z"
   },
   {
    "duration": 15,
    "start_time": "2022-12-13T08:52:20.747Z"
   },
   {
    "duration": 4,
    "start_time": "2022-12-13T08:52:21.241Z"
   },
   {
    "duration": 5,
    "start_time": "2022-12-13T08:52:22.025Z"
   },
   {
    "duration": 24,
    "start_time": "2022-12-13T08:52:23.299Z"
   },
   {
    "duration": 5,
    "start_time": "2022-12-13T08:52:26.011Z"
   },
   {
    "duration": 5,
    "start_time": "2022-12-13T08:52:26.489Z"
   },
   {
    "duration": 5,
    "start_time": "2022-12-13T08:52:27.315Z"
   },
   {
    "duration": 27,
    "start_time": "2022-12-13T08:52:27.977Z"
   },
   {
    "duration": 26,
    "start_time": "2022-12-13T08:52:28.665Z"
   },
   {
    "duration": 15,
    "start_time": "2022-12-13T08:52:30.364Z"
   },
   {
    "duration": 14,
    "start_time": "2022-12-13T08:52:30.967Z"
   },
   {
    "duration": 11,
    "start_time": "2022-12-13T08:52:32.061Z"
   },
   {
    "duration": 25,
    "start_time": "2022-12-13T08:52:33.634Z"
   },
   {
    "duration": 192,
    "start_time": "2022-12-13T08:52:37.072Z"
   },
   {
    "duration": 571,
    "start_time": "2022-12-13T09:06:39.786Z"
   },
   {
    "duration": 290,
    "start_time": "2022-12-13T09:11:00.547Z"
   },
   {
    "duration": 187,
    "start_time": "2022-12-13T09:11:05.613Z"
   },
   {
    "duration": 84,
    "start_time": "2022-12-13T09:11:58.821Z"
   },
   {
    "duration": 85,
    "start_time": "2022-12-13T09:12:28.889Z"
   },
   {
    "duration": 1187,
    "start_time": "2022-12-13T09:19:25.183Z"
   },
   {
    "duration": 98,
    "start_time": "2022-12-13T09:19:26.372Z"
   },
   {
    "duration": 20,
    "start_time": "2022-12-13T09:19:26.472Z"
   },
   {
    "duration": 14,
    "start_time": "2022-12-13T09:19:26.494Z"
   },
   {
    "duration": 4,
    "start_time": "2022-12-13T09:19:26.510Z"
   },
   {
    "duration": 28,
    "start_time": "2022-12-13T09:19:26.516Z"
   },
   {
    "duration": 57,
    "start_time": "2022-12-13T09:19:26.546Z"
   },
   {
    "duration": 16,
    "start_time": "2022-12-13T09:19:26.604Z"
   },
   {
    "duration": 28,
    "start_time": "2022-12-13T09:19:26.622Z"
   },
   {
    "duration": 8,
    "start_time": "2022-12-13T09:19:26.653Z"
   },
   {
    "duration": 12,
    "start_time": "2022-12-13T09:19:26.662Z"
   },
   {
    "duration": 10,
    "start_time": "2022-12-13T09:19:26.675Z"
   },
   {
    "duration": 23,
    "start_time": "2022-12-13T09:19:26.687Z"
   },
   {
    "duration": 21,
    "start_time": "2022-12-13T09:19:26.712Z"
   },
   {
    "duration": 6,
    "start_time": "2022-12-13T09:19:26.735Z"
   },
   {
    "duration": 22,
    "start_time": "2022-12-13T09:19:26.742Z"
   },
   {
    "duration": 26,
    "start_time": "2022-12-13T09:19:26.766Z"
   },
   {
    "duration": 5,
    "start_time": "2022-12-13T09:19:26.794Z"
   },
   {
    "duration": 14,
    "start_time": "2022-12-13T09:19:26.801Z"
   },
   {
    "duration": 8,
    "start_time": "2022-12-13T09:19:26.816Z"
   },
   {
    "duration": 31,
    "start_time": "2022-12-13T09:19:26.826Z"
   },
   {
    "duration": 25,
    "start_time": "2022-12-13T09:19:26.859Z"
   },
   {
    "duration": 14,
    "start_time": "2022-12-13T09:19:26.886Z"
   },
   {
    "duration": 12,
    "start_time": "2022-12-13T09:19:26.902Z"
   },
   {
    "duration": 13,
    "start_time": "2022-12-13T09:19:26.940Z"
   },
   {
    "duration": 28,
    "start_time": "2022-12-13T09:19:26.955Z"
   },
   {
    "duration": 224,
    "start_time": "2022-12-13T09:19:26.985Z"
   },
   {
    "duration": 112,
    "start_time": "2022-12-13T09:19:27.213Z"
   },
   {
    "duration": 0,
    "start_time": "2022-12-13T09:19:27.329Z"
   },
   {
    "duration": 0,
    "start_time": "2022-12-13T09:19:27.330Z"
   },
   {
    "duration": 1225,
    "start_time": "2022-12-13T09:20:47.039Z"
   },
   {
    "duration": 100,
    "start_time": "2022-12-13T09:20:48.267Z"
   },
   {
    "duration": 22,
    "start_time": "2022-12-13T09:20:48.369Z"
   },
   {
    "duration": 32,
    "start_time": "2022-12-13T09:20:48.393Z"
   },
   {
    "duration": 15,
    "start_time": "2022-12-13T09:20:48.427Z"
   },
   {
    "duration": 27,
    "start_time": "2022-12-13T09:20:48.444Z"
   },
   {
    "duration": 70,
    "start_time": "2022-12-13T09:20:48.473Z"
   },
   {
    "duration": 15,
    "start_time": "2022-12-13T09:20:48.545Z"
   },
   {
    "duration": 18,
    "start_time": "2022-12-13T09:20:48.561Z"
   },
   {
    "duration": 12,
    "start_time": "2022-12-13T09:20:48.581Z"
   },
   {
    "duration": 14,
    "start_time": "2022-12-13T09:20:48.595Z"
   },
   {
    "duration": 24,
    "start_time": "2022-12-13T09:20:48.611Z"
   },
   {
    "duration": 17,
    "start_time": "2022-12-13T09:20:48.637Z"
   },
   {
    "duration": 23,
    "start_time": "2022-12-13T09:20:48.655Z"
   },
   {
    "duration": 11,
    "start_time": "2022-12-13T09:20:48.679Z"
   },
   {
    "duration": 30,
    "start_time": "2022-12-13T09:20:48.692Z"
   },
   {
    "duration": 32,
    "start_time": "2022-12-13T09:20:48.723Z"
   },
   {
    "duration": 5,
    "start_time": "2022-12-13T09:20:48.757Z"
   },
   {
    "duration": 22,
    "start_time": "2022-12-13T09:20:48.763Z"
   },
   {
    "duration": 24,
    "start_time": "2022-12-13T09:20:48.787Z"
   },
   {
    "duration": 65,
    "start_time": "2022-12-13T09:20:48.813Z"
   },
   {
    "duration": 40,
    "start_time": "2022-12-13T09:20:48.880Z"
   },
   {
    "duration": 20,
    "start_time": "2022-12-13T09:20:48.922Z"
   },
   {
    "duration": 25,
    "start_time": "2022-12-13T09:20:48.945Z"
   },
   {
    "duration": 23,
    "start_time": "2022-12-13T09:20:48.972Z"
   },
   {
    "duration": 43,
    "start_time": "2022-12-13T09:20:48.997Z"
   },
   {
    "duration": 263,
    "start_time": "2022-12-13T09:20:49.042Z"
   },
   {
    "duration": 121,
    "start_time": "2022-12-13T09:20:49.308Z"
   },
   {
    "duration": 0,
    "start_time": "2022-12-13T09:20:49.430Z"
   },
   {
    "duration": 196,
    "start_time": "2022-12-13T09:20:55.831Z"
   },
   {
    "duration": 175,
    "start_time": "2022-12-13T09:22:32.328Z"
   },
   {
    "duration": 165,
    "start_time": "2022-12-13T09:22:44.652Z"
   },
   {
    "duration": 180,
    "start_time": "2022-12-13T09:24:13.141Z"
   },
   {
    "duration": 207,
    "start_time": "2022-12-13T09:24:19.092Z"
   },
   {
    "duration": 172,
    "start_time": "2022-12-13T09:26:47.846Z"
   },
   {
    "duration": 16,
    "start_time": "2022-12-13T09:32:27.363Z"
   },
   {
    "duration": 299,
    "start_time": "2022-12-13T09:32:50.677Z"
   },
   {
    "duration": 198,
    "start_time": "2022-12-13T09:32:59.892Z"
   },
   {
    "duration": 178,
    "start_time": "2022-12-13T09:33:04.864Z"
   },
   {
    "duration": 152,
    "start_time": "2022-12-13T09:33:41.905Z"
   },
   {
    "duration": 187,
    "start_time": "2022-12-13T09:33:57.734Z"
   },
   {
    "duration": 169,
    "start_time": "2022-12-13T09:34:08.314Z"
   },
   {
    "duration": 164,
    "start_time": "2022-12-13T09:38:02.066Z"
   },
   {
    "duration": 170,
    "start_time": "2022-12-13T09:40:54.757Z"
   },
   {
    "duration": 18,
    "start_time": "2022-12-13T09:41:07.873Z"
   },
   {
    "duration": 17,
    "start_time": "2022-12-13T09:41:25.447Z"
   },
   {
    "duration": 177,
    "start_time": "2022-12-13T09:42:06.664Z"
   },
   {
    "duration": 199,
    "start_time": "2022-12-13T09:42:48.970Z"
   },
   {
    "duration": 14741,
    "start_time": "2022-12-13T09:43:04.736Z"
   },
   {
    "duration": 1132,
    "start_time": "2022-12-13T09:45:00.275Z"
   },
   {
    "duration": 1118,
    "start_time": "2022-12-13T09:45:17.519Z"
   },
   {
    "duration": 1226,
    "start_time": "2022-12-13T09:45:30.068Z"
   },
   {
    "duration": 9,
    "start_time": "2022-12-13T09:45:50.345Z"
   },
   {
    "duration": 1317,
    "start_time": "2022-12-13T09:46:04.492Z"
   },
   {
    "duration": 365,
    "start_time": "2022-12-13T09:47:20.310Z"
   },
   {
    "duration": 442,
    "start_time": "2022-12-13T09:47:48.714Z"
   },
   {
    "duration": 402,
    "start_time": "2022-12-13T09:48:11.878Z"
   },
   {
    "duration": 1758,
    "start_time": "2022-12-13T09:48:29.221Z"
   },
   {
    "duration": 356,
    "start_time": "2022-12-13T09:48:40.439Z"
   },
   {
    "duration": 371,
    "start_time": "2022-12-13T09:48:47.033Z"
   },
   {
    "duration": 349,
    "start_time": "2022-12-13T09:48:53.770Z"
   },
   {
    "duration": 347,
    "start_time": "2022-12-13T09:49:00.062Z"
   },
   {
    "duration": 329,
    "start_time": "2022-12-13T09:49:19.213Z"
   },
   {
    "duration": 251,
    "start_time": "2022-12-13T09:51:58.561Z"
   },
   {
    "duration": 183,
    "start_time": "2022-12-13T09:52:38.107Z"
   },
   {
    "duration": 178,
    "start_time": "2022-12-13T09:53:03.929Z"
   },
   {
    "duration": 143,
    "start_time": "2022-12-13T09:53:15.414Z"
   },
   {
    "duration": 168,
    "start_time": "2022-12-13T09:53:23.523Z"
   },
   {
    "duration": 177,
    "start_time": "2022-12-13T09:53:36.803Z"
   },
   {
    "duration": 159,
    "start_time": "2022-12-13T09:53:45.987Z"
   },
   {
    "duration": 170,
    "start_time": "2022-12-13T09:54:18.648Z"
   },
   {
    "duration": 165,
    "start_time": "2022-12-13T09:54:24.662Z"
   },
   {
    "duration": 321,
    "start_time": "2022-12-13T09:54:43.299Z"
   },
   {
    "duration": 8,
    "start_time": "2022-12-13T10:03:38.438Z"
   },
   {
    "duration": 11,
    "start_time": "2022-12-13T10:04:08.133Z"
   },
   {
    "duration": 15,
    "start_time": "2022-12-13T10:04:15.005Z"
   },
   {
    "duration": 10,
    "start_time": "2022-12-13T10:04:29.486Z"
   },
   {
    "duration": 9,
    "start_time": "2022-12-13T10:04:39.091Z"
   },
   {
    "duration": 11,
    "start_time": "2022-12-13T10:09:17.565Z"
   },
   {
    "duration": 18,
    "start_time": "2022-12-13T10:09:26.083Z"
   },
   {
    "duration": 115,
    "start_time": "2022-12-13T10:11:02.169Z"
   },
   {
    "duration": 24,
    "start_time": "2022-12-13T10:11:10.995Z"
   },
   {
    "duration": 21,
    "start_time": "2022-12-13T10:11:42.179Z"
   },
   {
    "duration": 18,
    "start_time": "2022-12-13T10:18:05.316Z"
   },
   {
    "duration": 12,
    "start_time": "2022-12-13T10:18:42.921Z"
   },
   {
    "duration": 8,
    "start_time": "2022-12-13T10:19:03.931Z"
   },
   {
    "duration": 10,
    "start_time": "2022-12-13T10:19:13.791Z"
   },
   {
    "duration": 5,
    "start_time": "2022-12-13T10:19:21.648Z"
   },
   {
    "duration": 3,
    "start_time": "2022-12-13T10:30:16.881Z"
   },
   {
    "duration": 70,
    "start_time": "2022-12-13T10:30:27.589Z"
   },
   {
    "duration": 10,
    "start_time": "2022-12-13T10:30:52.220Z"
   },
   {
    "duration": 11,
    "start_time": "2022-12-13T10:31:04.650Z"
   },
   {
    "duration": 9,
    "start_time": "2022-12-13T10:31:26.785Z"
   },
   {
    "duration": 4,
    "start_time": "2022-12-13T10:31:44.217Z"
   },
   {
    "duration": 5,
    "start_time": "2022-12-13T10:31:52.370Z"
   },
   {
    "duration": 9,
    "start_time": "2022-12-13T10:32:09.177Z"
   },
   {
    "duration": 18,
    "start_time": "2022-12-13T10:32:28.297Z"
   },
   {
    "duration": 12,
    "start_time": "2022-12-13T10:32:42.381Z"
   },
   {
    "duration": 15,
    "start_time": "2022-12-13T10:33:01.596Z"
   },
   {
    "duration": 18,
    "start_time": "2022-12-13T10:33:23.986Z"
   },
   {
    "duration": 21,
    "start_time": "2022-12-13T10:33:58.990Z"
   },
   {
    "duration": 18,
    "start_time": "2022-12-13T10:34:14.183Z"
   },
   {
    "duration": 17,
    "start_time": "2022-12-13T10:34:35.504Z"
   },
   {
    "duration": 16,
    "start_time": "2022-12-13T10:34:47.063Z"
   },
   {
    "duration": 10,
    "start_time": "2022-12-13T10:35:01.236Z"
   },
   {
    "duration": 1462,
    "start_time": "2022-12-14T13:28:20.105Z"
   },
   {
    "duration": 236,
    "start_time": "2022-12-14T13:28:21.569Z"
   },
   {
    "duration": 19,
    "start_time": "2022-12-14T13:28:35.829Z"
   },
   {
    "duration": 14,
    "start_time": "2022-12-14T13:28:43.627Z"
   },
   {
    "duration": 3,
    "start_time": "2022-12-14T13:28:45.352Z"
   },
   {
    "duration": 8,
    "start_time": "2022-12-14T13:28:46.040Z"
   },
   {
    "duration": 50,
    "start_time": "2022-12-14T13:28:47.522Z"
   },
   {
    "duration": 14,
    "start_time": "2022-12-14T13:28:48.850Z"
   },
   {
    "duration": 7,
    "start_time": "2022-12-14T13:28:53.157Z"
   },
   {
    "duration": 5,
    "start_time": "2022-12-14T13:28:53.790Z"
   },
   {
    "duration": 7,
    "start_time": "2022-12-14T13:28:57.294Z"
   },
   {
    "duration": 4,
    "start_time": "2022-12-14T13:28:57.742Z"
   },
   {
    "duration": 5,
    "start_time": "2022-12-14T13:28:58.104Z"
   },
   {
    "duration": 14,
    "start_time": "2022-12-14T13:28:59.782Z"
   },
   {
    "duration": 6,
    "start_time": "2022-12-14T13:29:00.860Z"
   },
   {
    "duration": 5,
    "start_time": "2022-12-14T13:29:01.849Z"
   },
   {
    "duration": 22,
    "start_time": "2022-12-14T13:29:02.501Z"
   },
   {
    "duration": 5,
    "start_time": "2022-12-14T13:29:04.389Z"
   },
   {
    "duration": 5,
    "start_time": "2022-12-14T13:29:04.770Z"
   },
   {
    "duration": 5,
    "start_time": "2022-12-14T13:29:05.842Z"
   },
   {
    "duration": 23,
    "start_time": "2022-12-14T13:29:06.582Z"
   },
   {
    "duration": 23,
    "start_time": "2022-12-14T13:29:07.854Z"
   },
   {
    "duration": 13,
    "start_time": "2022-12-14T13:29:09.238Z"
   },
   {
    "duration": 12,
    "start_time": "2022-12-14T13:29:12.317Z"
   },
   {
    "duration": 9,
    "start_time": "2022-12-14T13:29:13.738Z"
   },
   {
    "duration": 24,
    "start_time": "2022-12-14T13:29:15.025Z"
   },
   {
    "duration": 161,
    "start_time": "2022-12-14T13:29:23.084Z"
   },
   {
    "duration": 302,
    "start_time": "2022-12-14T13:29:24.448Z"
   },
   {
    "duration": 145,
    "start_time": "2022-12-14T13:30:17.624Z"
   },
   {
    "duration": 319,
    "start_time": "2022-12-14T13:30:19.516Z"
   },
   {
    "duration": 20,
    "start_time": "2022-12-14T13:31:58.694Z"
   },
   {
    "duration": 67,
    "start_time": "2022-12-14T13:39:47.221Z"
   },
   {
    "duration": 18,
    "start_time": "2022-12-14T13:39:58.439Z"
   },
   {
    "duration": 25,
    "start_time": "2022-12-14T13:40:05.823Z"
   },
   {
    "duration": 101,
    "start_time": "2022-12-14T13:46:53.987Z"
   },
   {
    "duration": 103,
    "start_time": "2022-12-14T14:01:55.060Z"
   },
   {
    "duration": 10,
    "start_time": "2022-12-14T14:02:30.815Z"
   },
   {
    "duration": 29,
    "start_time": "2022-12-14T14:02:38.395Z"
   },
   {
    "duration": 25,
    "start_time": "2022-12-14T14:02:46.056Z"
   },
   {
    "duration": 9,
    "start_time": "2022-12-14T14:06:40.418Z"
   },
   {
    "duration": 9,
    "start_time": "2022-12-14T14:07:49.579Z"
   },
   {
    "duration": 9,
    "start_time": "2022-12-14T14:07:59.560Z"
   },
   {
    "duration": 9,
    "start_time": "2022-12-14T14:08:12.118Z"
   },
   {
    "duration": 9,
    "start_time": "2022-12-14T14:08:21.816Z"
   },
   {
    "duration": 54325,
    "start_time": "2022-12-14T14:09:32.531Z"
   },
   {
    "duration": 13,
    "start_time": "2022-12-14T14:14:15.864Z"
   },
   {
    "duration": 183,
    "start_time": "2022-12-14T14:14:28.480Z"
   },
   {
    "duration": 163,
    "start_time": "2022-12-14T14:16:34.609Z"
   },
   {
    "duration": 70,
    "start_time": "2022-12-14T14:17:25.898Z"
   },
   {
    "duration": 14,
    "start_time": "2022-12-14T14:17:34.801Z"
   },
   {
    "duration": 168,
    "start_time": "2022-12-14T14:18:15.856Z"
   },
   {
    "duration": 191,
    "start_time": "2022-12-14T14:19:09.620Z"
   },
   {
    "duration": 170,
    "start_time": "2022-12-14T14:19:18.824Z"
   },
   {
    "duration": 179,
    "start_time": "2022-12-14T14:20:56.148Z"
   },
   {
    "duration": 174,
    "start_time": "2022-12-14T14:20:57.112Z"
   },
   {
    "duration": 72,
    "start_time": "2022-12-14T14:20:57.870Z"
   },
   {
    "duration": 174,
    "start_time": "2022-12-14T14:21:11.431Z"
   },
   {
    "duration": 270,
    "start_time": "2022-12-14T14:23:02.803Z"
   },
   {
    "duration": 167,
    "start_time": "2022-12-14T14:24:58.201Z"
   },
   {
    "duration": 176,
    "start_time": "2022-12-14T14:25:07.039Z"
   },
   {
    "duration": 183,
    "start_time": "2022-12-14T14:25:49.837Z"
   },
   {
    "duration": 168,
    "start_time": "2022-12-14T14:26:51.070Z"
   },
   {
    "duration": 164,
    "start_time": "2022-12-14T14:28:11.782Z"
   },
   {
    "duration": 173,
    "start_time": "2022-12-14T14:30:38.962Z"
   },
   {
    "duration": 169,
    "start_time": "2022-12-14T14:31:26.737Z"
   },
   {
    "duration": 166,
    "start_time": "2022-12-14T14:31:51.597Z"
   },
   {
    "duration": 166,
    "start_time": "2022-12-14T14:32:11.500Z"
   },
   {
    "duration": 173,
    "start_time": "2022-12-14T14:32:41.881Z"
   },
   {
    "duration": 166,
    "start_time": "2022-12-14T14:33:06.885Z"
   },
   {
    "duration": 247,
    "start_time": "2022-12-14T14:33:36.822Z"
   },
   {
    "duration": 19,
    "start_time": "2022-12-14T14:47:02.772Z"
   },
   {
    "duration": 23,
    "start_time": "2022-12-14T14:57:33.486Z"
   },
   {
    "duration": 19,
    "start_time": "2022-12-14T14:58:02.636Z"
   },
   {
    "duration": 8,
    "start_time": "2022-12-14T14:58:41.000Z"
   },
   {
    "duration": 22,
    "start_time": "2022-12-14T15:03:22.665Z"
   },
   {
    "duration": 13,
    "start_time": "2022-12-14T15:06:52.583Z"
   },
   {
    "duration": 17,
    "start_time": "2022-12-14T15:07:12.968Z"
   },
   {
    "duration": 14,
    "start_time": "2022-12-14T15:07:47.065Z"
   },
   {
    "duration": 15,
    "start_time": "2022-12-14T15:08:11.309Z"
   },
   {
    "duration": 291,
    "start_time": "2022-12-14T15:17:00.062Z"
   },
   {
    "duration": 300,
    "start_time": "2022-12-14T15:18:46.688Z"
   },
   {
    "duration": 56,
    "start_time": "2022-12-14T18:42:34.532Z"
   },
   {
    "duration": 1572,
    "start_time": "2022-12-14T18:42:48.897Z"
   },
   {
    "duration": 188,
    "start_time": "2022-12-14T18:42:50.471Z"
   },
   {
    "duration": 23,
    "start_time": "2022-12-14T18:42:51.512Z"
   },
   {
    "duration": 17,
    "start_time": "2022-12-14T18:42:52.312Z"
   },
   {
    "duration": 11,
    "start_time": "2022-12-14T18:42:52.992Z"
   },
   {
    "duration": 12,
    "start_time": "2022-12-14T18:42:53.219Z"
   },
   {
    "duration": 82,
    "start_time": "2022-12-14T18:42:53.523Z"
   },
   {
    "duration": 17,
    "start_time": "2022-12-14T18:42:53.729Z"
   },
   {
    "duration": 10,
    "start_time": "2022-12-14T18:42:54.121Z"
   },
   {
    "duration": 7,
    "start_time": "2022-12-14T18:42:54.347Z"
   },
   {
    "duration": 10,
    "start_time": "2022-12-14T18:42:54.738Z"
   },
   {
    "duration": 4,
    "start_time": "2022-12-14T18:42:54.940Z"
   },
   {
    "duration": 5,
    "start_time": "2022-12-14T18:42:55.143Z"
   },
   {
    "duration": 17,
    "start_time": "2022-12-14T18:42:55.559Z"
   },
   {
    "duration": 6,
    "start_time": "2022-12-14T18:42:55.812Z"
   },
   {
    "duration": 11,
    "start_time": "2022-12-14T18:42:56.001Z"
   },
   {
    "duration": 27,
    "start_time": "2022-12-14T18:42:56.216Z"
   },
   {
    "duration": 7,
    "start_time": "2022-12-14T18:42:56.667Z"
   },
   {
    "duration": 6,
    "start_time": "2022-12-14T18:42:56.863Z"
   },
   {
    "duration": 5,
    "start_time": "2022-12-14T18:42:57.462Z"
   },
   {
    "duration": 34,
    "start_time": "2022-12-14T18:42:57.722Z"
   },
   {
    "duration": 28,
    "start_time": "2022-12-14T18:42:58.142Z"
   },
   {
    "duration": 26,
    "start_time": "2022-12-14T18:42:58.607Z"
   },
   {
    "duration": 14,
    "start_time": "2022-12-14T18:42:58.845Z"
   },
   {
    "duration": 18,
    "start_time": "2022-12-14T18:42:59.100Z"
   },
   {
    "duration": 27,
    "start_time": "2022-12-14T18:42:59.313Z"
   },
   {
    "duration": 227,
    "start_time": "2022-12-14T18:43:00.687Z"
   },
   {
    "duration": 430,
    "start_time": "2022-12-14T18:43:00.991Z"
   },
   {
    "duration": 28,
    "start_time": "2022-12-14T18:43:01.987Z"
   },
   {
    "duration": 222,
    "start_time": "2022-12-14T18:43:02.427Z"
   },
   {
    "duration": 222,
    "start_time": "2022-12-14T18:43:02.651Z"
   },
   {
    "duration": 224,
    "start_time": "2022-12-14T18:43:02.877Z"
   },
   {
    "duration": 223,
    "start_time": "2022-12-14T18:43:03.116Z"
   },
   {
    "duration": 328,
    "start_time": "2022-12-14T18:43:03.341Z"
   },
   {
    "duration": 260,
    "start_time": "2022-12-14T18:43:03.804Z"
   },
   {
    "duration": 224,
    "start_time": "2022-12-14T18:43:04.516Z"
   },
   {
    "duration": 358,
    "start_time": "2022-12-14T18:43:05.258Z"
   },
   {
    "duration": 479,
    "start_time": "2022-12-14T18:43:08.022Z"
   },
   {
    "duration": 42,
    "start_time": "2022-12-14T18:43:37.659Z"
   },
   {
    "duration": 101,
    "start_time": "2022-12-14T18:47:15.735Z"
   },
   {
    "duration": 24,
    "start_time": "2022-12-14T18:47:26.946Z"
   },
   {
    "duration": 161,
    "start_time": "2022-12-14T18:48:00.169Z"
   },
   {
    "duration": 460,
    "start_time": "2022-12-14T18:48:12.457Z"
   },
   {
    "duration": 412,
    "start_time": "2022-12-14T18:48:34.238Z"
   },
   {
    "duration": 74,
    "start_time": "2022-12-14T19:08:58.396Z"
   },
   {
    "duration": 12,
    "start_time": "2022-12-14T19:09:42.403Z"
   },
   {
    "duration": 46,
    "start_time": "2022-12-14T19:10:11.271Z"
   },
   {
    "duration": 25,
    "start_time": "2022-12-14T19:10:28.525Z"
   },
   {
    "duration": 91,
    "start_time": "2022-12-14T19:12:10.876Z"
   },
   {
    "duration": 38,
    "start_time": "2022-12-14T19:13:06.902Z"
   },
   {
    "duration": 30,
    "start_time": "2022-12-14T19:13:30.408Z"
   },
   {
    "duration": 17,
    "start_time": "2022-12-14T19:14:30.379Z"
   },
   {
    "duration": 33,
    "start_time": "2022-12-14T19:14:33.109Z"
   },
   {
    "duration": 14,
    "start_time": "2022-12-14T19:14:56.105Z"
   },
   {
    "duration": 20,
    "start_time": "2022-12-14T19:14:56.739Z"
   },
   {
    "duration": 83,
    "start_time": "2022-12-14T19:16:02.078Z"
   },
   {
    "duration": 24,
    "start_time": "2022-12-14T19:16:30.764Z"
   },
   {
    "duration": 21,
    "start_time": "2022-12-14T19:21:56.103Z"
   },
   {
    "duration": 40,
    "start_time": "2022-12-14T19:22:06.768Z"
   },
   {
    "duration": 23,
    "start_time": "2022-12-14T19:22:14.648Z"
   },
   {
    "duration": 30,
    "start_time": "2022-12-14T19:22:51.810Z"
   },
   {
    "duration": 43,
    "start_time": "2022-12-14T19:23:33.970Z"
   },
   {
    "duration": 121,
    "start_time": "2022-12-14T19:24:30.248Z"
   },
   {
    "duration": 43,
    "start_time": "2022-12-14T19:24:43.872Z"
   },
   {
    "duration": 21,
    "start_time": "2022-12-14T19:25:55.341Z"
   },
   {
    "duration": 28,
    "start_time": "2022-12-14T19:26:07.261Z"
   },
   {
    "duration": 22,
    "start_time": "2022-12-14T19:26:19.953Z"
   },
   {
    "duration": 33,
    "start_time": "2022-12-14T19:26:37.972Z"
   },
   {
    "duration": 130,
    "start_time": "2022-12-14T19:30:10.743Z"
   },
   {
    "duration": 43,
    "start_time": "2022-12-14T19:30:22.553Z"
   },
   {
    "duration": 50,
    "start_time": "2022-12-14T19:30:49.329Z"
   },
   {
    "duration": 49,
    "start_time": "2022-12-14T19:31:27.383Z"
   },
   {
    "duration": 425,
    "start_time": "2022-12-14T19:37:35.550Z"
   },
   {
    "duration": 463,
    "start_time": "2022-12-14T19:37:42.000Z"
   },
   {
    "duration": 498,
    "start_time": "2022-12-14T19:39:08.373Z"
   },
   {
    "duration": 399,
    "start_time": "2022-12-14T19:42:23.743Z"
   },
   {
    "duration": 182,
    "start_time": "2022-12-14T19:42:46.343Z"
   },
   {
    "duration": 293,
    "start_time": "2022-12-14T19:42:56.550Z"
   },
   {
    "duration": 307,
    "start_time": "2022-12-14T19:43:03.169Z"
   },
   {
    "duration": 262,
    "start_time": "2022-12-14T19:43:49.187Z"
   },
   {
    "duration": 14,
    "start_time": "2022-12-14T19:53:43.866Z"
   },
   {
    "duration": 28,
    "start_time": "2022-12-14T19:54:02.934Z"
   },
   {
    "duration": 255,
    "start_time": "2022-12-14T19:54:21.080Z"
   },
   {
    "duration": 26,
    "start_time": "2022-12-14T19:54:26.740Z"
   },
   {
    "duration": 65,
    "start_time": "2022-12-14T19:54:41.986Z"
   },
   {
    "duration": 37,
    "start_time": "2022-12-14T19:55:28.668Z"
   },
   {
    "duration": 345,
    "start_time": "2022-12-14T19:55:32.160Z"
   },
   {
    "duration": 26,
    "start_time": "2022-12-14T19:55:36.245Z"
   },
   {
    "duration": 320,
    "start_time": "2022-12-14T19:56:10.504Z"
   },
   {
    "duration": 212,
    "start_time": "2022-12-14T20:00:27.938Z"
   },
   {
    "duration": 180,
    "start_time": "2022-12-14T20:03:39.308Z"
   },
   {
    "duration": 151,
    "start_time": "2022-12-14T20:03:54.550Z"
   },
   {
    "duration": 184,
    "start_time": "2022-12-14T20:08:31.475Z"
   },
   {
    "duration": 166,
    "start_time": "2022-12-14T20:08:39.069Z"
   },
   {
    "duration": 282,
    "start_time": "2022-12-14T20:08:48.347Z"
   },
   {
    "duration": 540,
    "start_time": "2022-12-14T20:09:00.924Z"
   },
   {
    "duration": 468,
    "start_time": "2022-12-14T20:11:39.020Z"
   },
   {
    "duration": 348,
    "start_time": "2022-12-14T20:13:45.747Z"
   },
   {
    "duration": 405,
    "start_time": "2022-12-14T20:14:24.268Z"
   },
   {
    "duration": 330,
    "start_time": "2022-12-14T20:16:57.462Z"
   },
   {
    "duration": 595,
    "start_time": "2022-12-14T20:19:08.660Z"
   },
   {
    "duration": 51,
    "start_time": "2022-12-14T20:19:25.792Z"
   },
   {
    "duration": 49,
    "start_time": "2022-12-14T20:20:19.574Z"
   },
   {
    "duration": 63,
    "start_time": "2022-12-14T20:20:28.932Z"
   },
   {
    "duration": 404,
    "start_time": "2022-12-14T20:21:09.476Z"
   },
   {
    "duration": 5,
    "start_time": "2022-12-14T20:21:24.521Z"
   },
   {
    "duration": 150,
    "start_time": "2022-12-14T20:21:24.914Z"
   },
   {
    "duration": 32,
    "start_time": "2022-12-14T20:21:25.128Z"
   },
   {
    "duration": 17,
    "start_time": "2022-12-14T20:21:25.362Z"
   },
   {
    "duration": 4,
    "start_time": "2022-12-14T20:21:25.769Z"
   },
   {
    "duration": 32,
    "start_time": "2022-12-14T20:21:25.976Z"
   },
   {
    "duration": 30,
    "start_time": "2022-12-14T20:21:26.169Z"
   },
   {
    "duration": 34,
    "start_time": "2022-12-14T20:21:26.369Z"
   },
   {
    "duration": 33,
    "start_time": "2022-12-14T20:21:26.803Z"
   },
   {
    "duration": 15,
    "start_time": "2022-12-14T20:21:27.008Z"
   },
   {
    "duration": 10,
    "start_time": "2022-12-14T20:21:27.451Z"
   },
   {
    "duration": 10,
    "start_time": "2022-12-14T20:21:27.654Z"
   },
   {
    "duration": 215,
    "start_time": "2022-12-14T20:21:27.865Z"
   },
   {
    "duration": 67,
    "start_time": "2022-12-14T20:21:28.308Z"
   },
   {
    "duration": 21,
    "start_time": "2022-12-14T20:21:28.518Z"
   },
   {
    "duration": 15,
    "start_time": "2022-12-14T20:21:28.747Z"
   },
   {
    "duration": 48,
    "start_time": "2022-12-14T20:21:28.968Z"
   },
   {
    "duration": 12,
    "start_time": "2022-12-14T20:21:29.400Z"
   },
   {
    "duration": 12,
    "start_time": "2022-12-14T20:21:29.610Z"
   },
   {
    "duration": 8,
    "start_time": "2022-12-14T20:21:30.059Z"
   },
   {
    "duration": 66,
    "start_time": "2022-12-14T20:21:30.260Z"
   },
   {
    "duration": 73,
    "start_time": "2022-12-14T20:21:30.470Z"
   },
   {
    "duration": 29,
    "start_time": "2022-12-14T20:21:30.889Z"
   },
   {
    "duration": 36,
    "start_time": "2022-12-14T20:21:31.192Z"
   },
   {
    "duration": 32,
    "start_time": "2022-12-14T20:21:31.408Z"
   },
   {
    "duration": 65,
    "start_time": "2022-12-14T20:21:31.624Z"
   },
   {
    "duration": 244,
    "start_time": "2022-12-14T20:21:32.962Z"
   },
   {
    "duration": 495,
    "start_time": "2022-12-14T20:21:33.213Z"
   },
   {
    "duration": 50,
    "start_time": "2022-12-14T20:21:33.855Z"
   },
   {
    "duration": 378,
    "start_time": "2022-12-14T20:21:35.501Z"
   },
   {
    "duration": 300,
    "start_time": "2022-12-14T20:21:36.302Z"
   },
   {
    "duration": 305,
    "start_time": "2022-12-14T20:21:36.905Z"
   },
   {
    "duration": 341,
    "start_time": "2022-12-14T20:21:37.758Z"
   },
   {
    "duration": 327,
    "start_time": "2022-12-14T20:21:39.347Z"
   },
   {
    "duration": 357,
    "start_time": "2022-12-14T20:21:40.252Z"
   },
   {
    "duration": 326,
    "start_time": "2022-12-14T20:21:41.338Z"
   },
   {
    "duration": 490,
    "start_time": "2022-12-14T20:21:43.229Z"
   },
   {
    "duration": 29,
    "start_time": "2022-12-14T20:21:53.344Z"
   },
   {
    "duration": 80,
    "start_time": "2022-12-14T20:22:15.936Z"
   },
   {
    "duration": 82,
    "start_time": "2022-12-14T20:22:28.777Z"
   },
   {
    "duration": 910,
    "start_time": "2022-12-14T20:22:35.144Z"
   },
   {
    "duration": 215,
    "start_time": "2022-12-14T20:23:15.459Z"
   },
   {
    "duration": 277,
    "start_time": "2022-12-14T20:23:56.449Z"
   },
   {
    "duration": 300,
    "start_time": "2022-12-14T20:23:59.150Z"
   },
   {
    "duration": 352,
    "start_time": "2022-12-14T20:24:17.504Z"
   },
   {
    "duration": 211,
    "start_time": "2022-12-14T20:31:24.850Z"
   },
   {
    "duration": 227,
    "start_time": "2022-12-14T20:31:39.674Z"
   },
   {
    "duration": 248,
    "start_time": "2022-12-14T20:31:46.710Z"
   },
   {
    "duration": 233,
    "start_time": "2022-12-14T20:31:51.552Z"
   },
   {
    "duration": 630,
    "start_time": "2022-12-14T20:32:05.101Z"
   },
   {
    "duration": 20,
    "start_time": "2022-12-14T20:35:29.531Z"
   },
   {
    "duration": 39,
    "start_time": "2022-12-14T20:35:43.900Z"
   },
   {
    "duration": 193,
    "start_time": "2022-12-14T20:35:49.351Z"
   },
   {
    "duration": 53,
    "start_time": "2022-12-14T20:36:05.386Z"
   },
   {
    "duration": 70,
    "start_time": "2022-12-14T20:36:15.997Z"
   },
   {
    "duration": 37,
    "start_time": "2022-12-14T20:36:22.070Z"
   },
   {
    "duration": 222,
    "start_time": "2022-12-14T20:36:25.737Z"
   },
   {
    "duration": 417,
    "start_time": "2022-12-14T20:36:30.832Z"
   },
   {
    "duration": 442,
    "start_time": "2022-12-14T20:36:36.993Z"
   },
   {
    "duration": 289,
    "start_time": "2022-12-14T20:37:02.199Z"
   },
   {
    "duration": 272,
    "start_time": "2022-12-14T20:43:15.340Z"
   },
   {
    "duration": 59,
    "start_time": "2022-12-14T20:55:35.666Z"
   },
   {
    "duration": 62,
    "start_time": "2022-12-14T20:58:15.471Z"
   },
   {
    "duration": 64,
    "start_time": "2022-12-14T20:58:28.174Z"
   },
   {
    "duration": 25,
    "start_time": "2022-12-14T20:59:18.036Z"
   },
   {
    "duration": 26,
    "start_time": "2022-12-14T20:59:36.311Z"
   },
   {
    "duration": 20,
    "start_time": "2022-12-14T21:00:25.340Z"
   },
   {
    "duration": 34,
    "start_time": "2022-12-14T21:00:52.418Z"
   },
   {
    "duration": 21,
    "start_time": "2022-12-14T21:01:42.143Z"
   },
   {
    "duration": 220,
    "start_time": "2022-12-14T21:03:01.973Z"
   },
   {
    "duration": 196,
    "start_time": "2022-12-14T21:04:16.834Z"
   },
   {
    "duration": 225,
    "start_time": "2022-12-14T21:05:15.966Z"
   },
   {
    "duration": 430,
    "start_time": "2022-12-14T21:05:26.111Z"
   },
   {
    "duration": 83,
    "start_time": "2022-12-14T21:08:16.018Z"
   },
   {
    "duration": 18,
    "start_time": "2022-12-14T21:08:24.496Z"
   },
   {
    "duration": 184,
    "start_time": "2022-12-14T21:09:40.671Z"
   },
   {
    "duration": 238,
    "start_time": "2022-12-14T21:10:00.830Z"
   },
   {
    "duration": 218,
    "start_time": "2022-12-14T21:10:27.117Z"
   },
   {
    "duration": 21,
    "start_time": "2022-12-14T21:10:53.608Z"
   },
   {
    "duration": 21,
    "start_time": "2022-12-14T21:11:39.026Z"
   },
   {
    "duration": 260,
    "start_time": "2022-12-14T21:12:00.743Z"
   },
   {
    "duration": 35,
    "start_time": "2022-12-14T21:12:06.198Z"
   },
   {
    "duration": 26,
    "start_time": "2022-12-14T21:12:25.933Z"
   },
   {
    "duration": 20,
    "start_time": "2022-12-14T21:13:38.038Z"
   },
   {
    "duration": 223,
    "start_time": "2022-12-14T21:13:39.894Z"
   },
   {
    "duration": 13,
    "start_time": "2022-12-14T21:13:40.948Z"
   },
   {
    "duration": 196,
    "start_time": "2022-12-14T21:15:52.871Z"
   },
   {
    "duration": 9,
    "start_time": "2022-12-14T21:16:03.237Z"
   },
   {
    "duration": 4,
    "start_time": "2022-12-14T21:16:17.147Z"
   },
   {
    "duration": 164,
    "start_time": "2022-12-14T21:16:17.368Z"
   },
   {
    "duration": 20,
    "start_time": "2022-12-14T21:16:17.740Z"
   },
   {
    "duration": 14,
    "start_time": "2022-12-14T21:16:17.942Z"
   },
   {
    "duration": 5,
    "start_time": "2022-12-14T21:16:18.331Z"
   },
   {
    "duration": 21,
    "start_time": "2022-12-14T21:16:18.520Z"
   },
   {
    "duration": 19,
    "start_time": "2022-12-14T21:16:18.738Z"
   },
   {
    "duration": 15,
    "start_time": "2022-12-14T21:16:18.938Z"
   },
   {
    "duration": 7,
    "start_time": "2022-12-14T21:16:19.344Z"
   },
   {
    "duration": 5,
    "start_time": "2022-12-14T21:16:19.556Z"
   },
   {
    "duration": 7,
    "start_time": "2022-12-14T21:16:19.959Z"
   },
   {
    "duration": 5,
    "start_time": "2022-12-14T21:16:20.177Z"
   },
   {
    "duration": 16,
    "start_time": "2022-12-14T21:16:20.404Z"
   },
   {
    "duration": 28,
    "start_time": "2022-12-14T21:16:21.080Z"
   },
   {
    "duration": 34,
    "start_time": "2022-12-14T21:16:21.114Z"
   },
   {
    "duration": 5,
    "start_time": "2022-12-14T21:16:21.246Z"
   },
   {
    "duration": 26,
    "start_time": "2022-12-14T21:16:21.464Z"
   },
   {
    "duration": 12,
    "start_time": "2022-12-14T21:16:21.908Z"
   },
   {
    "duration": 18,
    "start_time": "2022-12-14T21:16:22.111Z"
   },
   {
    "duration": 8,
    "start_time": "2022-12-14T21:16:22.541Z"
   },
   {
    "duration": 42,
    "start_time": "2022-12-14T21:16:22.764Z"
   },
   {
    "duration": 58,
    "start_time": "2022-12-14T21:16:22.978Z"
   },
   {
    "duration": 29,
    "start_time": "2022-12-14T21:16:23.414Z"
   },
   {
    "duration": 14,
    "start_time": "2022-12-14T21:16:23.641Z"
   },
   {
    "duration": 11,
    "start_time": "2022-12-14T21:16:23.856Z"
   },
   {
    "duration": 50,
    "start_time": "2022-12-14T21:16:24.098Z"
   },
   {
    "duration": 231,
    "start_time": "2022-12-14T21:16:25.124Z"
   },
   {
    "duration": 433,
    "start_time": "2022-12-14T21:16:25.737Z"
   },
   {
    "duration": 67,
    "start_time": "2022-12-14T21:16:26.376Z"
   },
   {
    "duration": 250,
    "start_time": "2022-12-14T21:16:26.803Z"
   },
   {
    "duration": 233,
    "start_time": "2022-12-14T21:16:27.056Z"
   },
   {
    "duration": 235,
    "start_time": "2022-12-14T21:16:27.295Z"
   },
   {
    "duration": 233,
    "start_time": "2022-12-14T21:16:27.534Z"
   },
   {
    "duration": 385,
    "start_time": "2022-12-14T21:16:27.769Z"
   },
   {
    "duration": 272,
    "start_time": "2022-12-14T21:16:28.157Z"
   },
   {
    "duration": 264,
    "start_time": "2022-12-14T21:16:28.435Z"
   },
   {
    "duration": 329,
    "start_time": "2022-12-14T21:16:28.701Z"
   },
   {
    "duration": 46,
    "start_time": "2022-12-14T21:16:29.070Z"
   },
   {
    "duration": 18,
    "start_time": "2022-12-14T21:16:29.326Z"
   },
   {
    "duration": 183,
    "start_time": "2022-12-14T21:16:30.540Z"
   },
   {
    "duration": 410,
    "start_time": "2022-12-14T21:16:33.183Z"
   },
   {
    "duration": 285,
    "start_time": "2022-12-14T21:16:34.356Z"
   },
   {
    "duration": 227,
    "start_time": "2022-12-14T21:16:40.532Z"
   },
   {
    "duration": 17,
    "start_time": "2022-12-14T21:16:42.717Z"
   },
   {
    "duration": 212,
    "start_time": "2022-12-14T21:17:00.052Z"
   },
   {
    "duration": 220,
    "start_time": "2022-12-14T21:17:28.002Z"
   },
   {
    "duration": 17,
    "start_time": "2022-12-14T21:17:28.804Z"
   },
   {
    "duration": 36,
    "start_time": "2022-12-14T21:19:53.994Z"
   },
   {
    "duration": 377,
    "start_time": "2022-12-14T21:19:57.699Z"
   },
   {
    "duration": 14,
    "start_time": "2022-12-14T21:20:45.800Z"
   },
   {
    "duration": 45,
    "start_time": "2022-12-14T21:20:56.703Z"
   },
   {
    "duration": 18,
    "start_time": "2022-12-14T21:20:57.354Z"
   },
   {
    "duration": 279,
    "start_time": "2022-12-14T21:20:57.908Z"
   },
   {
    "duration": 451,
    "start_time": "2022-12-14T21:20:59.511Z"
   },
   {
    "duration": 337,
    "start_time": "2022-12-14T21:21:00.143Z"
   },
   {
    "duration": 218,
    "start_time": "2022-12-14T21:21:03.735Z"
   },
   {
    "duration": 12,
    "start_time": "2022-12-14T21:21:06.133Z"
   },
   {
    "duration": 1412,
    "start_time": "2022-12-14T21:21:14.904Z"
   },
   {
    "duration": 100,
    "start_time": "2022-12-14T21:21:16.321Z"
   },
   {
    "duration": 29,
    "start_time": "2022-12-14T21:21:16.424Z"
   },
   {
    "duration": 15,
    "start_time": "2022-12-14T21:21:16.455Z"
   },
   {
    "duration": 7,
    "start_time": "2022-12-14T21:21:16.481Z"
   },
   {
    "duration": 59,
    "start_time": "2022-12-14T21:21:16.489Z"
   },
   {
    "duration": 89,
    "start_time": "2022-12-14T21:21:16.550Z"
   },
   {
    "duration": 16,
    "start_time": "2022-12-14T21:21:16.644Z"
   },
   {
    "duration": 26,
    "start_time": "2022-12-14T21:21:16.662Z"
   },
   {
    "duration": 47,
    "start_time": "2022-12-14T21:21:16.697Z"
   },
   {
    "duration": 12,
    "start_time": "2022-12-14T21:21:16.746Z"
   },
   {
    "duration": 6,
    "start_time": "2022-12-14T21:21:16.760Z"
   },
   {
    "duration": 7,
    "start_time": "2022-12-14T21:21:16.767Z"
   },
   {
    "duration": 69,
    "start_time": "2022-12-14T21:21:16.778Z"
   },
   {
    "duration": 5,
    "start_time": "2022-12-14T21:21:16.848Z"
   },
   {
    "duration": 10,
    "start_time": "2022-12-14T21:21:16.854Z"
   },
   {
    "duration": 42,
    "start_time": "2022-12-14T21:21:16.865Z"
   },
   {
    "duration": 23,
    "start_time": "2022-12-14T21:21:16.909Z"
   },
   {
    "duration": 15,
    "start_time": "2022-12-14T21:21:16.939Z"
   },
   {
    "duration": 8,
    "start_time": "2022-12-14T21:21:16.956Z"
   },
   {
    "duration": 45,
    "start_time": "2022-12-14T21:21:16.965Z"
   },
   {
    "duration": 72,
    "start_time": "2022-12-14T21:21:17.013Z"
   },
   {
    "duration": 43,
    "start_time": "2022-12-14T21:21:17.087Z"
   },
   {
    "duration": 19,
    "start_time": "2022-12-14T21:21:17.136Z"
   },
   {
    "duration": 9,
    "start_time": "2022-12-14T21:21:17.157Z"
   },
   {
    "duration": 53,
    "start_time": "2022-12-14T21:21:17.168Z"
   },
   {
    "duration": 232,
    "start_time": "2022-12-14T21:21:17.223Z"
   },
   {
    "duration": 417,
    "start_time": "2022-12-14T21:21:17.457Z"
   },
   {
    "duration": 32,
    "start_time": "2022-12-14T21:21:17.877Z"
   },
   {
    "duration": 287,
    "start_time": "2022-12-14T21:21:17.911Z"
   },
   {
    "duration": 289,
    "start_time": "2022-12-14T21:21:18.200Z"
   },
   {
    "duration": 247,
    "start_time": "2022-12-14T21:21:18.493Z"
   },
   {
    "duration": 251,
    "start_time": "2022-12-14T21:21:18.743Z"
   },
   {
    "duration": 388,
    "start_time": "2022-12-14T21:21:18.999Z"
   },
   {
    "duration": 241,
    "start_time": "2022-12-14T21:21:19.389Z"
   },
   {
    "duration": 234,
    "start_time": "2022-12-14T21:21:19.631Z"
   },
   {
    "duration": 382,
    "start_time": "2022-12-14T21:21:19.867Z"
   },
   {
    "duration": 31,
    "start_time": "2022-12-14T21:21:20.251Z"
   },
   {
    "duration": 141,
    "start_time": "2022-12-14T21:21:20.284Z"
   },
   {
    "duration": 0,
    "start_time": "2022-12-14T21:21:20.427Z"
   },
   {
    "duration": 0,
    "start_time": "2022-12-14T21:21:20.428Z"
   },
   {
    "duration": 0,
    "start_time": "2022-12-14T21:21:20.428Z"
   },
   {
    "duration": 0,
    "start_time": "2022-12-14T21:21:20.432Z"
   },
   {
    "duration": 0,
    "start_time": "2022-12-14T21:21:20.437Z"
   },
   {
    "duration": 0,
    "start_time": "2022-12-14T21:21:20.438Z"
   },
   {
    "duration": 0,
    "start_time": "2022-12-14T21:21:20.439Z"
   },
   {
    "duration": 0,
    "start_time": "2022-12-14T21:21:20.441Z"
   },
   {
    "duration": 29,
    "start_time": "2022-12-14T21:22:30.010Z"
   },
   {
    "duration": 1544,
    "start_time": "2022-12-14T21:22:36.922Z"
   },
   {
    "duration": 156,
    "start_time": "2022-12-14T21:22:38.469Z"
   },
   {
    "duration": 40,
    "start_time": "2022-12-14T21:22:38.628Z"
   },
   {
    "duration": 43,
    "start_time": "2022-12-14T21:22:38.670Z"
   },
   {
    "duration": 38,
    "start_time": "2022-12-14T21:22:38.716Z"
   },
   {
    "duration": 13,
    "start_time": "2022-12-14T21:22:38.756Z"
   },
   {
    "duration": 103,
    "start_time": "2022-12-14T21:22:38.771Z"
   },
   {
    "duration": 20,
    "start_time": "2022-12-14T21:22:38.875Z"
   },
   {
    "duration": 63,
    "start_time": "2022-12-14T21:22:38.898Z"
   },
   {
    "duration": 8,
    "start_time": "2022-12-14T21:22:38.963Z"
   },
   {
    "duration": 64,
    "start_time": "2022-12-14T21:22:38.973Z"
   },
   {
    "duration": 11,
    "start_time": "2022-12-14T21:22:39.042Z"
   },
   {
    "duration": 14,
    "start_time": "2022-12-14T21:22:39.055Z"
   },
   {
    "duration": 29,
    "start_time": "2022-12-14T21:22:39.073Z"
   },
   {
    "duration": 42,
    "start_time": "2022-12-14T21:22:39.107Z"
   },
   {
    "duration": 10,
    "start_time": "2022-12-14T21:22:39.152Z"
   },
   {
    "duration": 56,
    "start_time": "2022-12-14T21:22:39.164Z"
   },
   {
    "duration": 12,
    "start_time": "2022-12-14T21:22:39.228Z"
   },
   {
    "duration": 6,
    "start_time": "2022-12-14T21:22:39.242Z"
   },
   {
    "duration": 11,
    "start_time": "2022-12-14T21:22:39.250Z"
   },
   {
    "duration": 62,
    "start_time": "2022-12-14T21:22:39.262Z"
   },
   {
    "duration": 37,
    "start_time": "2022-12-14T21:22:39.334Z"
   },
   {
    "duration": 26,
    "start_time": "2022-12-14T21:22:39.373Z"
   },
   {
    "duration": 59,
    "start_time": "2022-12-14T21:22:39.401Z"
   },
   {
    "duration": 9,
    "start_time": "2022-12-14T21:22:39.462Z"
   },
   {
    "duration": 67,
    "start_time": "2022-12-14T21:22:39.472Z"
   },
   {
    "duration": 259,
    "start_time": "2022-12-14T21:22:39.544Z"
   },
   {
    "duration": 434,
    "start_time": "2022-12-14T21:22:39.807Z"
   },
   {
    "duration": 25,
    "start_time": "2022-12-14T21:22:40.242Z"
   },
   {
    "duration": 256,
    "start_time": "2022-12-14T21:22:40.279Z"
   },
   {
    "duration": 231,
    "start_time": "2022-12-14T21:22:40.536Z"
   },
   {
    "duration": 264,
    "start_time": "2022-12-14T21:22:40.769Z"
   },
   {
    "duration": 263,
    "start_time": "2022-12-14T21:22:41.041Z"
   },
   {
    "duration": 351,
    "start_time": "2022-12-14T21:22:41.307Z"
   },
   {
    "duration": 269,
    "start_time": "2022-12-14T21:22:41.659Z"
   },
   {
    "duration": 220,
    "start_time": "2022-12-14T21:22:41.930Z"
   },
   {
    "duration": 367,
    "start_time": "2022-12-14T21:22:42.152Z"
   },
   {
    "duration": 27,
    "start_time": "2022-12-14T21:22:42.521Z"
   },
   {
    "duration": 39,
    "start_time": "2022-12-14T21:22:42.551Z"
   },
   {
    "duration": 268,
    "start_time": "2022-12-14T21:22:42.592Z"
   },
   {
    "duration": 363,
    "start_time": "2022-12-14T21:22:42.865Z"
   },
   {
    "duration": 314,
    "start_time": "2022-12-14T21:22:43.230Z"
   },
   {
    "duration": 206,
    "start_time": "2022-12-14T21:22:43.547Z"
   },
   {
    "duration": 172,
    "start_time": "2022-12-14T21:22:43.755Z"
   },
   {
    "duration": 1,
    "start_time": "2022-12-14T21:22:43.928Z"
   },
   {
    "duration": 0,
    "start_time": "2022-12-14T21:22:43.929Z"
   },
   {
    "duration": 0,
    "start_time": "2022-12-14T21:22:43.930Z"
   },
   {
    "duration": 14,
    "start_time": "2022-12-14T21:28:04.307Z"
   },
   {
    "duration": 4,
    "start_time": "2022-12-14T21:28:17.638Z"
   },
   {
    "duration": 253,
    "start_time": "2022-12-14T21:28:50.547Z"
   },
   {
    "duration": 5,
    "start_time": "2022-12-14T21:28:54.157Z"
   },
   {
    "duration": 212,
    "start_time": "2022-12-14T21:30:05.020Z"
   },
   {
    "duration": 7,
    "start_time": "2022-12-14T21:30:08.076Z"
   },
   {
    "duration": 11,
    "start_time": "2022-12-14T21:37:22.152Z"
   },
   {
    "duration": 334,
    "start_time": "2022-12-14T21:37:46.865Z"
   },
   {
    "duration": 5,
    "start_time": "2022-12-14T21:37:50.847Z"
   },
   {
    "duration": 220,
    "start_time": "2022-12-14T21:38:01.644Z"
   },
   {
    "duration": 6,
    "start_time": "2022-12-14T21:38:04.812Z"
   },
   {
    "duration": 184,
    "start_time": "2022-12-14T21:38:50.249Z"
   },
   {
    "duration": 177,
    "start_time": "2022-12-14T21:39:15.055Z"
   },
   {
    "duration": 11,
    "start_time": "2022-12-14T21:39:46.527Z"
   },
   {
    "duration": 5,
    "start_time": "2022-12-14T21:40:07.944Z"
   },
   {
    "duration": 178,
    "start_time": "2022-12-14T21:41:18.863Z"
   },
   {
    "duration": 7,
    "start_time": "2022-12-14T21:41:45.018Z"
   },
   {
    "duration": 247,
    "start_time": "2022-12-14T21:42:52.987Z"
   },
   {
    "duration": 182,
    "start_time": "2022-12-14T21:45:29.043Z"
   },
   {
    "duration": 6,
    "start_time": "2022-12-14T21:45:30.054Z"
   },
   {
    "duration": 167,
    "start_time": "2022-12-14T21:45:32.355Z"
   },
   {
    "duration": 6,
    "start_time": "2022-12-14T21:45:34.855Z"
   },
   {
    "duration": 186,
    "start_time": "2022-12-14T21:48:55.062Z"
   },
   {
    "duration": 10,
    "start_time": "2022-12-14T21:48:56.300Z"
   },
   {
    "duration": 196,
    "start_time": "2022-12-14T21:48:58.428Z"
   },
   {
    "duration": 5,
    "start_time": "2022-12-14T21:48:59.648Z"
   },
   {
    "duration": 179,
    "start_time": "2022-12-14T21:49:03.950Z"
   },
   {
    "duration": 6,
    "start_time": "2022-12-14T21:49:05.122Z"
   },
   {
    "duration": 319,
    "start_time": "2022-12-14T21:49:06.207Z"
   },
   {
    "duration": 7,
    "start_time": "2022-12-14T21:49:07.220Z"
   },
   {
    "duration": 11,
    "start_time": "2022-12-14T21:51:13.217Z"
   },
   {
    "duration": 180,
    "start_time": "2022-12-14T21:53:07.873Z"
   },
   {
    "duration": 5,
    "start_time": "2022-12-14T21:53:10.713Z"
   },
   {
    "duration": 160,
    "start_time": "2022-12-14T21:53:12.116Z"
   },
   {
    "duration": 186,
    "start_time": "2022-12-14T21:53:14.404Z"
   },
   {
    "duration": 183,
    "start_time": "2022-12-14T21:53:17.230Z"
   },
   {
    "duration": 12,
    "start_time": "2022-12-14T21:53:18.296Z"
   },
   {
    "duration": 166,
    "start_time": "2022-12-14T21:53:19.644Z"
   },
   {
    "duration": 9,
    "start_time": "2022-12-14T21:53:20.004Z"
   },
   {
    "duration": 172,
    "start_time": "2022-12-14T21:53:20.452Z"
   },
   {
    "duration": 7,
    "start_time": "2022-12-14T21:53:20.672Z"
   },
   {
    "duration": 208,
    "start_time": "2022-12-14T21:53:20.902Z"
   },
   {
    "duration": 6,
    "start_time": "2022-12-14T21:53:21.424Z"
   },
   {
    "duration": 173,
    "start_time": "2022-12-14T21:53:22.672Z"
   },
   {
    "duration": 6,
    "start_time": "2022-12-14T21:53:22.944Z"
   },
   {
    "duration": 164,
    "start_time": "2022-12-14T21:53:23.163Z"
   },
   {
    "duration": 14,
    "start_time": "2022-12-14T21:53:23.375Z"
   },
   {
    "duration": 154,
    "start_time": "2022-12-14T21:53:24.558Z"
   },
   {
    "duration": 6,
    "start_time": "2022-12-14T21:53:24.820Z"
   },
   {
    "duration": 141,
    "start_time": "2022-12-14T21:53:25.406Z"
   },
   {
    "duration": 6,
    "start_time": "2022-12-14T21:53:26.438Z"
   },
   {
    "duration": 12,
    "start_time": "2022-12-14T21:55:21.211Z"
   },
   {
    "duration": 1334,
    "start_time": "2022-12-14T21:55:30.877Z"
   },
   {
    "duration": 86,
    "start_time": "2022-12-14T21:55:32.213Z"
   },
   {
    "duration": 21,
    "start_time": "2022-12-14T21:55:32.304Z"
   },
   {
    "duration": 45,
    "start_time": "2022-12-14T21:55:32.327Z"
   },
   {
    "duration": 32,
    "start_time": "2022-12-14T21:55:32.375Z"
   },
   {
    "duration": 28,
    "start_time": "2022-12-14T21:55:32.409Z"
   },
   {
    "duration": 84,
    "start_time": "2022-12-14T21:55:32.439Z"
   },
   {
    "duration": 15,
    "start_time": "2022-12-14T21:55:32.525Z"
   },
   {
    "duration": 23,
    "start_time": "2022-12-14T21:55:32.542Z"
   },
   {
    "duration": 57,
    "start_time": "2022-12-14T21:55:32.567Z"
   },
   {
    "duration": 42,
    "start_time": "2022-12-14T21:55:32.626Z"
   },
   {
    "duration": 54,
    "start_time": "2022-12-14T21:55:32.670Z"
   },
   {
    "duration": 19,
    "start_time": "2022-12-14T21:55:32.725Z"
   },
   {
    "duration": 26,
    "start_time": "2022-12-14T21:55:32.748Z"
   },
   {
    "duration": 43,
    "start_time": "2022-12-14T21:55:32.776Z"
   },
   {
    "duration": 18,
    "start_time": "2022-12-14T21:55:32.821Z"
   },
   {
    "duration": 56,
    "start_time": "2022-12-14T21:55:32.841Z"
   },
   {
    "duration": 8,
    "start_time": "2022-12-14T21:55:32.903Z"
   },
   {
    "duration": 26,
    "start_time": "2022-12-14T21:55:32.912Z"
   },
   {
    "duration": 31,
    "start_time": "2022-12-14T21:55:32.940Z"
   },
   {
    "duration": 59,
    "start_time": "2022-12-14T21:55:32.972Z"
   },
   {
    "duration": 35,
    "start_time": "2022-12-14T21:55:33.033Z"
   },
   {
    "duration": 51,
    "start_time": "2022-12-14T21:55:33.070Z"
   },
   {
    "duration": 17,
    "start_time": "2022-12-14T21:55:33.123Z"
   },
   {
    "duration": 23,
    "start_time": "2022-12-14T21:55:33.142Z"
   },
   {
    "duration": 64,
    "start_time": "2022-12-14T21:55:33.167Z"
   },
   {
    "duration": 203,
    "start_time": "2022-12-14T21:55:33.233Z"
   },
   {
    "duration": 392,
    "start_time": "2022-12-14T21:55:33.438Z"
   },
   {
    "duration": 24,
    "start_time": "2022-12-14T21:55:33.832Z"
   },
   {
    "duration": 250,
    "start_time": "2022-12-14T21:55:33.859Z"
   },
   {
    "duration": 214,
    "start_time": "2022-12-14T21:55:34.111Z"
   },
   {
    "duration": 212,
    "start_time": "2022-12-14T21:55:34.327Z"
   },
   {
    "duration": 211,
    "start_time": "2022-12-14T21:55:34.540Z"
   },
   {
    "duration": 326,
    "start_time": "2022-12-14T21:55:34.753Z"
   },
   {
    "duration": 228,
    "start_time": "2022-12-14T21:55:35.082Z"
   },
   {
    "duration": 206,
    "start_time": "2022-12-14T21:55:35.312Z"
   },
   {
    "duration": 324,
    "start_time": "2022-12-14T21:55:35.520Z"
   },
   {
    "duration": 38,
    "start_time": "2022-12-14T21:55:35.846Z"
   },
   {
    "duration": 26,
    "start_time": "2022-12-14T21:55:35.886Z"
   },
   {
    "duration": 191,
    "start_time": "2022-12-14T21:55:35.915Z"
   },
   {
    "duration": 329,
    "start_time": "2022-12-14T21:55:36.111Z"
   },
   {
    "duration": 262,
    "start_time": "2022-12-14T21:55:36.442Z"
   },
   {
    "duration": 191,
    "start_time": "2022-12-14T21:55:36.706Z"
   },
   {
    "duration": 5,
    "start_time": "2022-12-14T21:55:36.899Z"
   },
   {
    "duration": 192,
    "start_time": "2022-12-14T21:55:36.909Z"
   },
   {
    "duration": 137,
    "start_time": "2022-12-14T21:55:37.103Z"
   },
   {
    "duration": 0,
    "start_time": "2022-12-14T21:55:37.242Z"
   },
   {
    "duration": 0,
    "start_time": "2022-12-14T21:55:37.243Z"
   },
   {
    "duration": 0,
    "start_time": "2022-12-14T21:55:37.244Z"
   },
   {
    "duration": 0,
    "start_time": "2022-12-14T21:55:37.245Z"
   },
   {
    "duration": 0,
    "start_time": "2022-12-14T21:55:37.246Z"
   },
   {
    "duration": 0,
    "start_time": "2022-12-14T21:55:37.248Z"
   },
   {
    "duration": 0,
    "start_time": "2022-12-14T21:55:37.249Z"
   },
   {
    "duration": 0,
    "start_time": "2022-12-14T21:55:37.250Z"
   },
   {
    "duration": 0,
    "start_time": "2022-12-14T21:55:37.252Z"
   },
   {
    "duration": 0,
    "start_time": "2022-12-14T21:55:37.253Z"
   },
   {
    "duration": 0,
    "start_time": "2022-12-14T21:55:37.254Z"
   },
   {
    "duration": 0,
    "start_time": "2022-12-14T21:55:37.284Z"
   },
   {
    "duration": 0,
    "start_time": "2022-12-14T21:55:37.285Z"
   },
   {
    "duration": 0,
    "start_time": "2022-12-14T21:55:37.286Z"
   },
   {
    "duration": 0,
    "start_time": "2022-12-14T21:55:37.287Z"
   },
   {
    "duration": 0,
    "start_time": "2022-12-14T21:55:37.292Z"
   },
   {
    "duration": 0,
    "start_time": "2022-12-14T21:55:37.293Z"
   },
   {
    "duration": 0,
    "start_time": "2022-12-14T21:55:37.295Z"
   },
   {
    "duration": 0,
    "start_time": "2022-12-14T21:55:37.296Z"
   },
   {
    "duration": 1305,
    "start_time": "2022-12-14T21:56:16.146Z"
   },
   {
    "duration": 98,
    "start_time": "2022-12-14T21:56:17.454Z"
   },
   {
    "duration": 37,
    "start_time": "2022-12-14T21:56:17.554Z"
   },
   {
    "duration": 21,
    "start_time": "2022-12-14T21:56:17.594Z"
   },
   {
    "duration": 5,
    "start_time": "2022-12-14T21:56:17.619Z"
   },
   {
    "duration": 13,
    "start_time": "2022-12-14T21:56:17.626Z"
   },
   {
    "duration": 71,
    "start_time": "2022-12-14T21:56:17.640Z"
   },
   {
    "duration": 15,
    "start_time": "2022-12-14T21:56:17.713Z"
   },
   {
    "duration": 11,
    "start_time": "2022-12-14T21:56:17.730Z"
   },
   {
    "duration": 6,
    "start_time": "2022-12-14T21:56:17.744Z"
   },
   {
    "duration": 39,
    "start_time": "2022-12-14T21:56:17.751Z"
   },
   {
    "duration": 7,
    "start_time": "2022-12-14T21:56:17.792Z"
   },
   {
    "duration": 26,
    "start_time": "2022-12-14T21:56:17.802Z"
   },
   {
    "duration": 40,
    "start_time": "2022-12-14T21:56:17.830Z"
   },
   {
    "duration": 28,
    "start_time": "2022-12-14T21:56:17.872Z"
   },
   {
    "duration": 24,
    "start_time": "2022-12-14T21:56:17.902Z"
   },
   {
    "duration": 41,
    "start_time": "2022-12-14T21:56:17.927Z"
   },
   {
    "duration": 37,
    "start_time": "2022-12-14T21:56:17.970Z"
   },
   {
    "duration": 22,
    "start_time": "2022-12-14T21:56:18.009Z"
   },
   {
    "duration": 59,
    "start_time": "2022-12-14T21:56:18.032Z"
   },
   {
    "duration": 57,
    "start_time": "2022-12-14T21:56:18.092Z"
   },
   {
    "duration": 47,
    "start_time": "2022-12-14T21:56:18.151Z"
   },
   {
    "duration": 20,
    "start_time": "2022-12-14T21:56:18.208Z"
   },
   {
    "duration": 26,
    "start_time": "2022-12-14T21:56:18.230Z"
   },
   {
    "duration": 11,
    "start_time": "2022-12-14T21:56:18.259Z"
   },
   {
    "duration": 75,
    "start_time": "2022-12-14T21:56:18.272Z"
   },
   {
    "duration": 213,
    "start_time": "2022-12-14T21:56:18.350Z"
   },
   {
    "duration": 374,
    "start_time": "2022-12-14T21:56:18.568Z"
   },
   {
    "duration": 22,
    "start_time": "2022-12-14T21:56:18.944Z"
   },
   {
    "duration": 239,
    "start_time": "2022-12-14T21:56:18.978Z"
   },
   {
    "duration": 210,
    "start_time": "2022-12-14T21:56:19.220Z"
   },
   {
    "duration": 215,
    "start_time": "2022-12-14T21:56:19.432Z"
   },
   {
    "duration": 215,
    "start_time": "2022-12-14T21:56:19.649Z"
   },
   {
    "duration": 320,
    "start_time": "2022-12-14T21:56:19.866Z"
   },
   {
    "duration": 208,
    "start_time": "2022-12-14T21:56:20.194Z"
   },
   {
    "duration": 206,
    "start_time": "2022-12-14T21:56:20.405Z"
   },
   {
    "duration": 303,
    "start_time": "2022-12-14T21:56:20.613Z"
   },
   {
    "duration": 23,
    "start_time": "2022-12-14T21:56:20.918Z"
   },
   {
    "duration": 16,
    "start_time": "2022-12-14T21:56:20.943Z"
   },
   {
    "duration": 169,
    "start_time": "2022-12-14T21:56:20.984Z"
   },
   {
    "duration": 302,
    "start_time": "2022-12-14T21:56:21.155Z"
   },
   {
    "duration": 246,
    "start_time": "2022-12-14T21:56:21.459Z"
   },
   {
    "duration": 203,
    "start_time": "2022-12-14T21:56:21.708Z"
   },
   {
    "duration": 7,
    "start_time": "2022-12-14T21:56:21.913Z"
   },
   {
    "duration": 178,
    "start_time": "2022-12-14T21:56:21.923Z"
   },
   {
    "duration": 286,
    "start_time": "2022-12-14T21:56:22.103Z"
   },
   {
    "duration": 0,
    "start_time": "2022-12-14T21:56:22.396Z"
   },
   {
    "duration": 0,
    "start_time": "2022-12-14T21:56:22.397Z"
   },
   {
    "duration": 0,
    "start_time": "2022-12-14T21:56:22.397Z"
   },
   {
    "duration": 0,
    "start_time": "2022-12-14T21:56:22.399Z"
   },
   {
    "duration": 0,
    "start_time": "2022-12-14T21:56:22.402Z"
   },
   {
    "duration": 0,
    "start_time": "2022-12-14T21:56:22.403Z"
   },
   {
    "duration": 0,
    "start_time": "2022-12-14T21:56:22.403Z"
   },
   {
    "duration": 0,
    "start_time": "2022-12-14T21:56:22.404Z"
   },
   {
    "duration": 0,
    "start_time": "2022-12-14T21:56:22.405Z"
   },
   {
    "duration": 0,
    "start_time": "2022-12-14T21:56:22.406Z"
   },
   {
    "duration": 0,
    "start_time": "2022-12-14T21:56:22.408Z"
   },
   {
    "duration": 0,
    "start_time": "2022-12-14T21:56:22.409Z"
   },
   {
    "duration": 0,
    "start_time": "2022-12-14T21:56:22.410Z"
   },
   {
    "duration": 0,
    "start_time": "2022-12-14T21:56:22.412Z"
   },
   {
    "duration": 0,
    "start_time": "2022-12-14T21:56:22.413Z"
   },
   {
    "duration": 0,
    "start_time": "2022-12-14T21:56:22.415Z"
   },
   {
    "duration": 0,
    "start_time": "2022-12-14T21:56:22.416Z"
   },
   {
    "duration": 0,
    "start_time": "2022-12-14T21:56:22.418Z"
   },
   {
    "duration": 0,
    "start_time": "2022-12-14T21:56:22.419Z"
   },
   {
    "duration": 1399,
    "start_time": "2022-12-14T21:57:08.044Z"
   },
   {
    "duration": 93,
    "start_time": "2022-12-14T21:57:09.445Z"
   },
   {
    "duration": 22,
    "start_time": "2022-12-14T21:57:09.540Z"
   },
   {
    "duration": 22,
    "start_time": "2022-12-14T21:57:09.564Z"
   },
   {
    "duration": 32,
    "start_time": "2022-12-14T21:57:09.589Z"
   },
   {
    "duration": 16,
    "start_time": "2022-12-14T21:57:09.623Z"
   },
   {
    "duration": 82,
    "start_time": "2022-12-14T21:57:09.641Z"
   },
   {
    "duration": 16,
    "start_time": "2022-12-14T21:57:09.725Z"
   },
   {
    "duration": 10,
    "start_time": "2022-12-14T21:57:09.743Z"
   },
   {
    "duration": 38,
    "start_time": "2022-12-14T21:57:09.755Z"
   },
   {
    "duration": 18,
    "start_time": "2022-12-14T21:57:09.802Z"
   },
   {
    "duration": 6,
    "start_time": "2022-12-14T21:57:09.823Z"
   },
   {
    "duration": 9,
    "start_time": "2022-12-14T21:57:09.831Z"
   },
   {
    "duration": 23,
    "start_time": "2022-12-14T21:57:09.845Z"
   },
   {
    "duration": 19,
    "start_time": "2022-12-14T21:57:09.870Z"
   },
   {
    "duration": 38,
    "start_time": "2022-12-14T21:57:09.892Z"
   },
   {
    "duration": 40,
    "start_time": "2022-12-14T21:57:09.933Z"
   },
   {
    "duration": 18,
    "start_time": "2022-12-14T21:57:09.975Z"
   },
   {
    "duration": 46,
    "start_time": "2022-12-14T21:57:09.995Z"
   },
   {
    "duration": 8,
    "start_time": "2022-12-14T21:57:10.044Z"
   },
   {
    "duration": 58,
    "start_time": "2022-12-14T21:57:10.054Z"
   },
   {
    "duration": 32,
    "start_time": "2022-12-14T21:57:10.113Z"
   },
   {
    "duration": 15,
    "start_time": "2022-12-14T21:57:10.147Z"
   },
   {
    "duration": 43,
    "start_time": "2022-12-14T21:57:10.164Z"
   },
   {
    "duration": 22,
    "start_time": "2022-12-14T21:57:10.211Z"
   },
   {
    "duration": 39,
    "start_time": "2022-12-14T21:57:10.236Z"
   },
   {
    "duration": 242,
    "start_time": "2022-12-14T21:57:10.278Z"
   },
   {
    "duration": 403,
    "start_time": "2022-12-14T21:57:10.522Z"
   },
   {
    "duration": 29,
    "start_time": "2022-12-14T21:57:10.929Z"
   },
   {
    "duration": 260,
    "start_time": "2022-12-14T21:57:10.960Z"
   },
   {
    "duration": 240,
    "start_time": "2022-12-14T21:57:11.223Z"
   },
   {
    "duration": 252,
    "start_time": "2022-12-14T21:57:11.465Z"
   },
   {
    "duration": 246,
    "start_time": "2022-12-14T21:57:11.719Z"
   },
   {
    "duration": 349,
    "start_time": "2022-12-14T21:57:11.967Z"
   },
   {
    "duration": 218,
    "start_time": "2022-12-14T21:57:12.319Z"
   },
   {
    "duration": 220,
    "start_time": "2022-12-14T21:57:12.539Z"
   },
   {
    "duration": 337,
    "start_time": "2022-12-14T21:57:12.762Z"
   },
   {
    "duration": 27,
    "start_time": "2022-12-14T21:57:13.101Z"
   },
   {
    "duration": 36,
    "start_time": "2022-12-14T21:57:13.131Z"
   },
   {
    "duration": 182,
    "start_time": "2022-12-14T21:57:13.169Z"
   },
   {
    "duration": 320,
    "start_time": "2022-12-14T21:57:13.356Z"
   },
   {
    "duration": 262,
    "start_time": "2022-12-14T21:57:13.678Z"
   },
   {
    "duration": 220,
    "start_time": "2022-12-14T21:57:13.942Z"
   },
   {
    "duration": 6,
    "start_time": "2022-12-14T21:57:14.164Z"
   },
   {
    "duration": 246,
    "start_time": "2022-12-14T21:57:14.172Z"
   },
   {
    "duration": 187,
    "start_time": "2022-12-14T21:57:14.420Z"
   },
   {
    "duration": 305,
    "start_time": "2022-12-14T21:57:14.609Z"
   },
   {
    "duration": 8,
    "start_time": "2022-12-14T21:57:14.921Z"
   },
   {
    "duration": 190,
    "start_time": "2022-12-14T21:57:14.932Z"
   },
   {
    "duration": 7,
    "start_time": "2022-12-14T21:57:15.124Z"
   },
   {
    "duration": 257,
    "start_time": "2022-12-14T21:57:15.134Z"
   },
   {
    "duration": 12,
    "start_time": "2022-12-14T21:57:15.402Z"
   },
   {
    "duration": 174,
    "start_time": "2022-12-14T21:57:15.417Z"
   },
   {
    "duration": 17,
    "start_time": "2022-12-14T21:57:15.601Z"
   },
   {
    "duration": 166,
    "start_time": "2022-12-14T21:57:15.619Z"
   },
   {
    "duration": 9,
    "start_time": "2022-12-14T21:57:15.792Z"
   },
   {
    "duration": 197,
    "start_time": "2022-12-14T21:57:15.803Z"
   },
   {
    "duration": 6,
    "start_time": "2022-12-14T21:57:16.002Z"
   },
   {
    "duration": 183,
    "start_time": "2022-12-14T21:57:16.010Z"
   },
   {
    "duration": 16,
    "start_time": "2022-12-14T21:57:16.194Z"
   },
   {
    "duration": 149,
    "start_time": "2022-12-14T21:57:16.217Z"
   },
   {
    "duration": 20,
    "start_time": "2022-12-14T21:57:16.368Z"
   },
   {
    "duration": 64,
    "start_time": "2022-12-14T21:57:16.390Z"
   },
   {
    "duration": 0,
    "start_time": "2022-12-14T21:57:16.457Z"
   },
   {
    "duration": 0,
    "start_time": "2022-12-14T21:57:16.458Z"
   },
   {
    "duration": 1425,
    "start_time": "2022-12-14T21:57:35.525Z"
   },
   {
    "duration": 115,
    "start_time": "2022-12-14T21:57:36.952Z"
   },
   {
    "duration": 38,
    "start_time": "2022-12-14T21:57:37.069Z"
   },
   {
    "duration": 30,
    "start_time": "2022-12-14T21:57:37.110Z"
   },
   {
    "duration": 5,
    "start_time": "2022-12-14T21:57:37.142Z"
   },
   {
    "duration": 14,
    "start_time": "2022-12-14T21:57:37.149Z"
   },
   {
    "duration": 68,
    "start_time": "2022-12-14T21:57:37.165Z"
   },
   {
    "duration": 15,
    "start_time": "2022-12-14T21:57:37.235Z"
   },
   {
    "duration": 11,
    "start_time": "2022-12-14T21:57:37.252Z"
   },
   {
    "duration": 11,
    "start_time": "2022-12-14T21:57:37.278Z"
   },
   {
    "duration": 33,
    "start_time": "2022-12-14T21:57:37.291Z"
   },
   {
    "duration": 6,
    "start_time": "2022-12-14T21:57:37.325Z"
   },
   {
    "duration": 9,
    "start_time": "2022-12-14T21:57:37.332Z"
   },
   {
    "duration": 17,
    "start_time": "2022-12-14T21:57:37.343Z"
   },
   {
    "duration": 5,
    "start_time": "2022-12-14T21:57:37.362Z"
   },
   {
    "duration": 19,
    "start_time": "2022-12-14T21:57:37.369Z"
   },
   {
    "duration": 50,
    "start_time": "2022-12-14T21:57:37.389Z"
   },
   {
    "duration": 6,
    "start_time": "2022-12-14T21:57:37.441Z"
   },
   {
    "duration": 13,
    "start_time": "2022-12-14T21:57:37.449Z"
   },
   {
    "duration": 9,
    "start_time": "2022-12-14T21:57:37.465Z"
   },
   {
    "duration": 61,
    "start_time": "2022-12-14T21:57:37.476Z"
   },
   {
    "duration": 37,
    "start_time": "2022-12-14T21:57:37.539Z"
   },
   {
    "duration": 36,
    "start_time": "2022-12-14T21:57:37.588Z"
   },
   {
    "duration": 22,
    "start_time": "2022-12-14T21:57:37.626Z"
   },
   {
    "duration": 13,
    "start_time": "2022-12-14T21:57:37.650Z"
   },
   {
    "duration": 54,
    "start_time": "2022-12-14T21:57:37.665Z"
   },
   {
    "duration": 217,
    "start_time": "2022-12-14T21:57:37.721Z"
   },
   {
    "duration": 410,
    "start_time": "2022-12-14T21:57:37.943Z"
   },
   {
    "duration": 61,
    "start_time": "2022-12-14T21:57:38.356Z"
   },
   {
    "duration": 239,
    "start_time": "2022-12-14T21:57:38.421Z"
   },
   {
    "duration": 246,
    "start_time": "2022-12-14T21:57:38.663Z"
   },
   {
    "duration": 225,
    "start_time": "2022-12-14T21:57:38.911Z"
   },
   {
    "duration": 234,
    "start_time": "2022-12-14T21:57:39.138Z"
   },
   {
    "duration": 338,
    "start_time": "2022-12-14T21:57:39.374Z"
   },
   {
    "duration": 218,
    "start_time": "2022-12-14T21:57:39.718Z"
   },
   {
    "duration": 214,
    "start_time": "2022-12-14T21:57:39.937Z"
   },
   {
    "duration": 310,
    "start_time": "2022-12-14T21:57:40.154Z"
   },
   {
    "duration": 35,
    "start_time": "2022-12-14T21:57:40.466Z"
   },
   {
    "duration": 24,
    "start_time": "2022-12-14T21:57:40.509Z"
   },
   {
    "duration": 184,
    "start_time": "2022-12-14T21:57:40.536Z"
   },
   {
    "duration": 331,
    "start_time": "2022-12-14T21:57:40.722Z"
   },
   {
    "duration": 262,
    "start_time": "2022-12-14T21:57:41.056Z"
   },
   {
    "duration": 201,
    "start_time": "2022-12-14T21:57:41.320Z"
   },
   {
    "duration": 6,
    "start_time": "2022-12-14T21:57:41.522Z"
   },
   {
    "duration": 209,
    "start_time": "2022-12-14T21:57:41.531Z"
   },
   {
    "duration": 219,
    "start_time": "2022-12-14T21:57:41.743Z"
   },
   {
    "duration": 305,
    "start_time": "2022-12-14T21:57:41.964Z"
   },
   {
    "duration": 19,
    "start_time": "2022-12-14T21:57:42.271Z"
   },
   {
    "duration": 179,
    "start_time": "2022-12-14T21:57:42.294Z"
   },
   {
    "duration": 14,
    "start_time": "2022-12-14T21:57:42.475Z"
   },
   {
    "duration": 223,
    "start_time": "2022-12-14T21:57:42.490Z"
   },
   {
    "duration": 6,
    "start_time": "2022-12-14T21:57:42.719Z"
   },
   {
    "duration": 193,
    "start_time": "2022-12-14T21:57:42.728Z"
   },
   {
    "duration": 6,
    "start_time": "2022-12-14T21:57:42.923Z"
   },
   {
    "duration": 185,
    "start_time": "2022-12-14T21:57:42.930Z"
   },
   {
    "duration": 6,
    "start_time": "2022-12-14T21:57:43.116Z"
   },
   {
    "duration": 181,
    "start_time": "2022-12-14T21:57:43.124Z"
   },
   {
    "duration": 11,
    "start_time": "2022-12-14T21:57:43.307Z"
   },
   {
    "duration": 190,
    "start_time": "2022-12-14T21:57:43.320Z"
   },
   {
    "duration": 7,
    "start_time": "2022-12-14T21:57:43.515Z"
   },
   {
    "duration": 145,
    "start_time": "2022-12-14T21:57:43.524Z"
   },
   {
    "duration": 21,
    "start_time": "2022-12-14T21:57:43.671Z"
   },
   {
    "duration": 26,
    "start_time": "2022-12-14T21:57:43.706Z"
   },
   {
    "duration": 1341,
    "start_time": "2022-12-14T21:58:34.612Z"
   },
   {
    "duration": 100,
    "start_time": "2022-12-14T21:58:35.956Z"
   },
   {
    "duration": 49,
    "start_time": "2022-12-14T21:58:36.058Z"
   },
   {
    "duration": 24,
    "start_time": "2022-12-14T21:58:36.111Z"
   },
   {
    "duration": 4,
    "start_time": "2022-12-14T21:58:36.138Z"
   },
   {
    "duration": 11,
    "start_time": "2022-12-14T21:58:36.144Z"
   },
   {
    "duration": 87,
    "start_time": "2022-12-14T21:58:36.157Z"
   },
   {
    "duration": 15,
    "start_time": "2022-12-14T21:58:36.246Z"
   },
   {
    "duration": 18,
    "start_time": "2022-12-14T21:58:36.263Z"
   },
   {
    "duration": 41,
    "start_time": "2022-12-14T21:58:36.283Z"
   },
   {
    "duration": 11,
    "start_time": "2022-12-14T21:58:36.326Z"
   },
   {
    "duration": 6,
    "start_time": "2022-12-14T21:58:36.339Z"
   },
   {
    "duration": 9,
    "start_time": "2022-12-14T21:58:36.347Z"
   },
   {
    "duration": 27,
    "start_time": "2022-12-14T21:58:36.359Z"
   },
   {
    "duration": 12,
    "start_time": "2022-12-14T21:58:36.395Z"
   },
   {
    "duration": 25,
    "start_time": "2022-12-14T21:58:36.409Z"
   },
   {
    "duration": 27,
    "start_time": "2022-12-14T21:58:36.436Z"
   },
   {
    "duration": 5,
    "start_time": "2022-12-14T21:58:36.465Z"
   },
   {
    "duration": 46,
    "start_time": "2022-12-14T21:58:36.473Z"
   },
   {
    "duration": 14,
    "start_time": "2022-12-14T21:58:36.521Z"
   },
   {
    "duration": 31,
    "start_time": "2022-12-14T21:58:36.536Z"
   },
   {
    "duration": 33,
    "start_time": "2022-12-14T21:58:36.569Z"
   },
   {
    "duration": 25,
    "start_time": "2022-12-14T21:58:36.610Z"
   },
   {
    "duration": 22,
    "start_time": "2022-12-14T21:58:36.637Z"
   },
   {
    "duration": 26,
    "start_time": "2022-12-14T21:58:36.661Z"
   },
   {
    "duration": 38,
    "start_time": "2022-12-14T21:58:36.688Z"
   },
   {
    "duration": 223,
    "start_time": "2022-12-14T21:58:36.729Z"
   },
   {
    "duration": 412,
    "start_time": "2022-12-14T21:58:36.954Z"
   },
   {
    "duration": 40,
    "start_time": "2022-12-14T21:58:37.368Z"
   },
   {
    "duration": 228,
    "start_time": "2022-12-14T21:58:37.410Z"
   },
   {
    "duration": 218,
    "start_time": "2022-12-14T21:58:37.640Z"
   },
   {
    "duration": 222,
    "start_time": "2022-12-14T21:58:37.860Z"
   },
   {
    "duration": 244,
    "start_time": "2022-12-14T21:58:38.084Z"
   },
   {
    "duration": 339,
    "start_time": "2022-12-14T21:58:38.330Z"
   },
   {
    "duration": 199,
    "start_time": "2022-12-14T21:58:38.683Z"
   },
   {
    "duration": 222,
    "start_time": "2022-12-14T21:58:38.889Z"
   },
   {
    "duration": 306,
    "start_time": "2022-12-14T21:58:39.114Z"
   },
   {
    "duration": 21,
    "start_time": "2022-12-14T21:58:39.421Z"
   },
   {
    "duration": 11,
    "start_time": "2022-12-14T21:58:39.444Z"
   },
   {
    "duration": 72,
    "start_time": "2022-12-14T21:58:39.457Z"
   },
   {
    "duration": 186,
    "start_time": "2022-12-14T21:58:39.533Z"
   },
   {
    "duration": 316,
    "start_time": "2022-12-14T21:58:39.720Z"
   },
   {
    "duration": 261,
    "start_time": "2022-12-14T21:58:40.037Z"
   },
   {
    "duration": 189,
    "start_time": "2022-12-14T21:58:40.299Z"
   },
   {
    "duration": 13,
    "start_time": "2022-12-14T21:58:40.499Z"
   },
   {
    "duration": 197,
    "start_time": "2022-12-14T21:58:40.515Z"
   },
   {
    "duration": 178,
    "start_time": "2022-12-14T21:58:40.714Z"
   },
   {
    "duration": 316,
    "start_time": "2022-12-14T21:58:40.902Z"
   },
   {
    "duration": 8,
    "start_time": "2022-12-14T21:58:41.220Z"
   },
   {
    "duration": 181,
    "start_time": "2022-12-14T21:58:41.230Z"
   },
   {
    "duration": 5,
    "start_time": "2022-12-14T21:58:41.413Z"
   },
   {
    "duration": 196,
    "start_time": "2022-12-14T21:58:41.420Z"
   },
   {
    "duration": 9,
    "start_time": "2022-12-14T21:58:41.619Z"
   },
   {
    "duration": 184,
    "start_time": "2022-12-14T21:58:41.631Z"
   },
   {
    "duration": 6,
    "start_time": "2022-12-14T21:58:41.817Z"
   },
   {
    "duration": 185,
    "start_time": "2022-12-14T21:58:41.824Z"
   },
   {
    "duration": 5,
    "start_time": "2022-12-14T21:58:42.011Z"
   },
   {
    "duration": 158,
    "start_time": "2022-12-14T21:58:42.018Z"
   },
   {
    "duration": 14,
    "start_time": "2022-12-14T21:58:42.181Z"
   },
   {
    "duration": 160,
    "start_time": "2022-12-14T21:58:42.196Z"
   },
   {
    "duration": 6,
    "start_time": "2022-12-14T21:58:42.358Z"
   },
   {
    "duration": 171,
    "start_time": "2022-12-14T21:58:42.365Z"
   },
   {
    "duration": 6,
    "start_time": "2022-12-14T21:58:42.538Z"
   },
   {
    "duration": 12,
    "start_time": "2022-12-14T21:58:42.546Z"
   },
   {
    "duration": 191,
    "start_time": "2022-12-14T22:03:44.373Z"
   },
   {
    "duration": 7,
    "start_time": "2022-12-14T22:03:45.579Z"
   },
   {
    "duration": 180,
    "start_time": "2022-12-14T22:03:59.851Z"
   },
   {
    "duration": 1260,
    "start_time": "2022-12-14T22:04:27.956Z"
   },
   {
    "duration": 6,
    "start_time": "2022-12-14T22:04:44.429Z"
   },
   {
    "duration": 1298,
    "start_time": "2022-12-14T22:07:10.914Z"
   },
   {
    "duration": 82,
    "start_time": "2022-12-14T22:07:12.215Z"
   },
   {
    "duration": 23,
    "start_time": "2022-12-14T22:07:12.300Z"
   },
   {
    "duration": 17,
    "start_time": "2022-12-14T22:07:12.325Z"
   },
   {
    "duration": 4,
    "start_time": "2022-12-14T22:07:12.344Z"
   },
   {
    "duration": 37,
    "start_time": "2022-12-14T22:07:12.351Z"
   },
   {
    "duration": 76,
    "start_time": "2022-12-14T22:07:12.390Z"
   },
   {
    "duration": 32,
    "start_time": "2022-12-14T22:07:12.469Z"
   },
   {
    "duration": 16,
    "start_time": "2022-12-14T22:07:12.503Z"
   },
   {
    "duration": 9,
    "start_time": "2022-12-14T22:07:12.523Z"
   },
   {
    "duration": 13,
    "start_time": "2022-12-14T22:07:12.533Z"
   },
   {
    "duration": 8,
    "start_time": "2022-12-14T22:07:12.548Z"
   },
   {
    "duration": 32,
    "start_time": "2022-12-14T22:07:12.558Z"
   },
   {
    "duration": 24,
    "start_time": "2022-12-14T22:07:12.592Z"
   },
   {
    "duration": 6,
    "start_time": "2022-12-14T22:07:12.618Z"
   },
   {
    "duration": 8,
    "start_time": "2022-12-14T22:07:12.626Z"
   },
   {
    "duration": 47,
    "start_time": "2022-12-14T22:07:12.636Z"
   },
   {
    "duration": 12,
    "start_time": "2022-12-14T22:07:12.685Z"
   },
   {
    "duration": 10,
    "start_time": "2022-12-14T22:07:12.699Z"
   },
   {
    "duration": 13,
    "start_time": "2022-12-14T22:07:12.711Z"
   },
   {
    "duration": 39,
    "start_time": "2022-12-14T22:07:12.725Z"
   },
   {
    "duration": 39,
    "start_time": "2022-12-14T22:07:12.766Z"
   },
   {
    "duration": 16,
    "start_time": "2022-12-14T22:07:12.807Z"
   },
   {
    "duration": 14,
    "start_time": "2022-12-14T22:07:12.825Z"
   },
   {
    "duration": 46,
    "start_time": "2022-12-14T22:07:12.842Z"
   },
   {
    "duration": 36,
    "start_time": "2022-12-14T22:07:12.897Z"
   },
   {
    "duration": 229,
    "start_time": "2022-12-14T22:07:12.936Z"
   },
   {
    "duration": 380,
    "start_time": "2022-12-14T22:07:13.177Z"
   },
   {
    "duration": 37,
    "start_time": "2022-12-14T22:07:13.559Z"
   },
   {
    "duration": 224,
    "start_time": "2022-12-14T22:07:13.600Z"
   },
   {
    "duration": 224,
    "start_time": "2022-12-14T22:07:13.826Z"
   },
   {
    "duration": 247,
    "start_time": "2022-12-14T22:07:14.052Z"
   },
   {
    "duration": 230,
    "start_time": "2022-12-14T22:07:14.302Z"
   },
   {
    "duration": 325,
    "start_time": "2022-12-14T22:07:14.533Z"
   },
   {
    "duration": 205,
    "start_time": "2022-12-14T22:07:14.860Z"
   },
   {
    "duration": 226,
    "start_time": "2022-12-14T22:07:15.067Z"
   },
   {
    "duration": 303,
    "start_time": "2022-12-14T22:07:15.295Z"
   },
   {
    "duration": 23,
    "start_time": "2022-12-14T22:07:15.600Z"
   },
   {
    "duration": 17,
    "start_time": "2022-12-14T22:07:15.624Z"
   },
   {
    "duration": 273,
    "start_time": "2022-12-14T22:07:15.643Z"
   },
   {
    "duration": 364,
    "start_time": "2022-12-14T22:07:15.919Z"
   },
   {
    "duration": 238,
    "start_time": "2022-12-14T22:07:16.285Z"
   },
   {
    "duration": 199,
    "start_time": "2022-12-14T22:07:16.525Z"
   },
   {
    "duration": 8,
    "start_time": "2022-12-14T22:07:16.726Z"
   },
   {
    "duration": 187,
    "start_time": "2022-12-14T22:07:16.736Z"
   },
   {
    "duration": 7,
    "start_time": "2022-12-14T22:07:16.926Z"
   },
   {
    "duration": 199,
    "start_time": "2022-12-14T22:07:16.935Z"
   },
   {
    "duration": 7,
    "start_time": "2022-12-14T22:07:17.136Z"
   },
   {
    "duration": 301,
    "start_time": "2022-12-14T22:07:17.145Z"
   },
   {
    "duration": 6,
    "start_time": "2022-12-14T22:07:17.448Z"
   },
   {
    "duration": 180,
    "start_time": "2022-12-14T22:07:17.456Z"
   },
   {
    "duration": 6,
    "start_time": "2022-12-14T22:07:17.638Z"
   },
   {
    "duration": 176,
    "start_time": "2022-12-14T22:07:17.646Z"
   },
   {
    "duration": 7,
    "start_time": "2022-12-14T22:07:17.824Z"
   },
   {
    "duration": 183,
    "start_time": "2022-12-14T22:07:17.832Z"
   },
   {
    "duration": 7,
    "start_time": "2022-12-14T22:07:18.017Z"
   },
   {
    "duration": 177,
    "start_time": "2022-12-14T22:07:18.026Z"
   },
   {
    "duration": 12,
    "start_time": "2022-12-14T22:07:18.205Z"
   },
   {
    "duration": 189,
    "start_time": "2022-12-14T22:07:18.220Z"
   },
   {
    "duration": 7,
    "start_time": "2022-12-14T22:07:18.411Z"
   },
   {
    "duration": 180,
    "start_time": "2022-12-14T22:07:18.420Z"
   },
   {
    "duration": 7,
    "start_time": "2022-12-14T22:07:18.603Z"
   },
   {
    "duration": 17,
    "start_time": "2022-12-14T22:07:18.613Z"
   },
   {
    "duration": 28,
    "start_time": "2022-12-14T22:10:37.376Z"
   },
   {
    "duration": 18,
    "start_time": "2022-12-14T22:10:50.134Z"
   },
   {
    "duration": 252,
    "start_time": "2022-12-14T22:11:08.197Z"
   },
   {
    "duration": 290,
    "start_time": "2022-12-14T22:11:36.365Z"
   },
   {
    "duration": 260,
    "start_time": "2022-12-14T22:13:18.298Z"
   },
   {
    "duration": 208,
    "start_time": "2022-12-14T22:13:27.934Z"
   },
   {
    "duration": 305,
    "start_time": "2022-12-14T22:13:33.651Z"
   },
   {
    "duration": 205,
    "start_time": "2022-12-14T22:15:37.096Z"
   },
   {
    "duration": 12,
    "start_time": "2022-12-14T22:30:01.955Z"
   },
   {
    "duration": 139,
    "start_time": "2022-12-14T22:32:06.357Z"
   },
   {
    "duration": 14,
    "start_time": "2022-12-14T22:32:16.610Z"
   },
   {
    "duration": 17,
    "start_time": "2022-12-14T22:32:54.841Z"
   },
   {
    "duration": 17,
    "start_time": "2022-12-14T22:33:40.610Z"
   },
   {
    "duration": 64,
    "start_time": "2022-12-14T22:34:32.148Z"
   },
   {
    "duration": 50,
    "start_time": "2022-12-14T22:34:54.609Z"
   },
   {
    "duration": 23,
    "start_time": "2022-12-14T22:35:16.168Z"
   },
   {
    "duration": 14,
    "start_time": "2022-12-14T22:35:29.460Z"
   },
   {
    "duration": 16,
    "start_time": "2022-12-14T22:36:24.822Z"
   },
   {
    "duration": 16,
    "start_time": "2022-12-14T22:36:32.852Z"
   },
   {
    "duration": 16,
    "start_time": "2022-12-14T22:36:51.603Z"
   },
   {
    "duration": 16,
    "start_time": "2022-12-14T22:37:00.004Z"
   },
   {
    "duration": 11,
    "start_time": "2022-12-14T22:37:01.222Z"
   },
   {
    "duration": 7,
    "start_time": "2022-12-14T22:40:03.108Z"
   },
   {
    "duration": 13,
    "start_time": "2022-12-14T22:40:17.099Z"
   },
   {
    "duration": 52,
    "start_time": "2022-12-14T22:42:23.018Z"
   },
   {
    "duration": 11,
    "start_time": "2022-12-14T22:42:31.648Z"
   },
   {
    "duration": 11,
    "start_time": "2022-12-14T22:42:44.805Z"
   },
   {
    "duration": 116,
    "start_time": "2022-12-14T22:43:02.451Z"
   },
   {
    "duration": 11,
    "start_time": "2022-12-14T22:44:24.861Z"
   },
   {
    "duration": 64,
    "start_time": "2022-12-14T22:44:43.546Z"
   },
   {
    "duration": 1101,
    "start_time": "2022-12-14T22:44:48.280Z"
   },
   {
    "duration": 130,
    "start_time": "2022-12-14T22:45:00.372Z"
   },
   {
    "duration": 14,
    "start_time": "2022-12-14T22:47:12.663Z"
   },
   {
    "duration": 10,
    "start_time": "2022-12-14T22:48:31.058Z"
   },
   {
    "duration": 1263,
    "start_time": "2022-12-15T08:51:27.159Z"
   },
   {
    "duration": 225,
    "start_time": "2022-12-15T08:51:28.424Z"
   },
   {
    "duration": 17,
    "start_time": "2022-12-15T08:51:28.650Z"
   },
   {
    "duration": 14,
    "start_time": "2022-12-15T08:51:31.205Z"
   },
   {
    "duration": 3,
    "start_time": "2022-12-15T08:53:01.352Z"
   },
   {
    "duration": 9,
    "start_time": "2022-12-15T08:53:02.070Z"
   },
   {
    "duration": 49,
    "start_time": "2022-12-15T08:53:02.540Z"
   },
   {
    "duration": 14,
    "start_time": "2022-12-15T08:53:03.200Z"
   },
   {
    "duration": 8,
    "start_time": "2022-12-15T08:53:04.139Z"
   },
   {
    "duration": 6,
    "start_time": "2022-12-15T08:53:04.383Z"
   },
   {
    "duration": 6,
    "start_time": "2022-12-15T08:53:05.624Z"
   },
   {
    "duration": 4,
    "start_time": "2022-12-15T08:53:05.881Z"
   },
   {
    "duration": 6,
    "start_time": "2022-12-15T08:53:06.560Z"
   },
   {
    "duration": 15,
    "start_time": "2022-12-15T08:53:06.575Z"
   },
   {
    "duration": 5,
    "start_time": "2022-12-15T08:53:07.131Z"
   },
   {
    "duration": 5,
    "start_time": "2022-12-15T08:53:07.623Z"
   },
   {
    "duration": 27,
    "start_time": "2022-12-15T08:53:08.160Z"
   },
   {
    "duration": 5,
    "start_time": "2022-12-15T08:53:09.417Z"
   },
   {
    "duration": 5,
    "start_time": "2022-12-15T08:53:09.801Z"
   },
   {
    "duration": 4,
    "start_time": "2022-12-15T08:53:10.462Z"
   },
   {
    "duration": 22,
    "start_time": "2022-12-15T08:53:11.190Z"
   },
   {
    "duration": 22,
    "start_time": "2022-12-15T08:53:11.905Z"
   },
   {
    "duration": 12,
    "start_time": "2022-12-15T08:53:13.213Z"
   },
   {
    "duration": 11,
    "start_time": "2022-12-15T08:53:13.978Z"
   },
   {
    "duration": 8,
    "start_time": "2022-12-15T08:53:16.472Z"
   },
   {
    "duration": 21,
    "start_time": "2022-12-15T08:53:17.058Z"
   },
   {
    "duration": 13,
    "start_time": "2022-12-15T08:59:30.033Z"
   },
   {
    "duration": 12,
    "start_time": "2022-12-15T09:05:52.803Z"
   },
   {
    "duration": 8,
    "start_time": "2022-12-15T09:05:56.637Z"
   },
   {
    "duration": 23,
    "start_time": "2022-12-15T09:06:00.826Z"
   },
   {
    "duration": 170,
    "start_time": "2022-12-15T09:08:15.800Z"
   },
   {
    "duration": 352,
    "start_time": "2022-12-15T09:08:16.053Z"
   },
   {
    "duration": 22,
    "start_time": "2022-12-15T09:08:16.737Z"
   },
   {
    "duration": 217,
    "start_time": "2022-12-15T09:08:17.179Z"
   },
   {
    "duration": 217,
    "start_time": "2022-12-15T09:08:17.404Z"
   },
   {
    "duration": 183,
    "start_time": "2022-12-15T09:08:17.623Z"
   },
   {
    "duration": 163,
    "start_time": "2022-12-15T09:08:17.864Z"
   },
   {
    "duration": 276,
    "start_time": "2022-12-15T09:08:18.095Z"
   },
   {
    "duration": 223,
    "start_time": "2022-12-15T09:08:18.373Z"
   },
   {
    "duration": 178,
    "start_time": "2022-12-15T09:08:18.598Z"
   },
   {
    "duration": 263,
    "start_time": "2022-12-15T09:08:18.778Z"
   },
   {
    "duration": 20,
    "start_time": "2022-12-15T09:08:19.453Z"
   },
   {
    "duration": 14,
    "start_time": "2022-12-15T09:08:19.771Z"
   },
   {
    "duration": 155,
    "start_time": "2022-12-15T09:08:20.008Z"
   },
   {
    "duration": 251,
    "start_time": "2022-12-15T09:08:20.766Z"
   },
   {
    "duration": 204,
    "start_time": "2022-12-15T09:08:21.021Z"
   },
   {
    "duration": 155,
    "start_time": "2022-12-15T09:08:22.419Z"
   },
   {
    "duration": 5,
    "start_time": "2022-12-15T09:08:23.023Z"
   },
   {
    "duration": 135,
    "start_time": "2022-12-15T09:08:23.623Z"
   },
   {
    "duration": 5,
    "start_time": "2022-12-15T09:08:24.217Z"
   },
   {
    "duration": 150,
    "start_time": "2022-12-15T09:08:25.305Z"
   },
   {
    "duration": 5,
    "start_time": "2022-12-15T09:08:25.494Z"
   },
   {
    "duration": 215,
    "start_time": "2022-12-15T09:08:25.709Z"
   },
   {
    "duration": 5,
    "start_time": "2022-12-15T09:08:26.127Z"
   },
   {
    "duration": 131,
    "start_time": "2022-12-15T09:08:26.671Z"
   },
   {
    "duration": 5,
    "start_time": "2022-12-15T09:08:27.021Z"
   },
   {
    "duration": 128,
    "start_time": "2022-12-15T09:08:27.652Z"
   },
   {
    "duration": 4,
    "start_time": "2022-12-15T09:08:27.782Z"
   },
   {
    "duration": 146,
    "start_time": "2022-12-15T09:08:28.169Z"
   },
   {
    "duration": 5,
    "start_time": "2022-12-15T09:08:28.443Z"
   },
   {
    "duration": 128,
    "start_time": "2022-12-15T09:08:28.742Z"
   },
   {
    "duration": 5,
    "start_time": "2022-12-15T09:08:29.005Z"
   },
   {
    "duration": 126,
    "start_time": "2022-12-15T09:08:29.643Z"
   },
   {
    "duration": 6,
    "start_time": "2022-12-15T09:08:29.941Z"
   },
   {
    "duration": 129,
    "start_time": "2022-12-15T09:08:30.330Z"
   },
   {
    "duration": 4,
    "start_time": "2022-12-15T09:08:31.496Z"
   },
   {
    "duration": 16,
    "start_time": "2022-12-15T09:08:32.468Z"
   },
   {
    "duration": 169,
    "start_time": "2022-12-15T09:08:32.897Z"
   },
   {
    "duration": 153,
    "start_time": "2022-12-15T09:20:37.900Z"
   },
   {
    "duration": 13,
    "start_time": "2022-12-15T09:20:44.985Z"
   },
   {
    "duration": 12,
    "start_time": "2022-12-15T09:21:14.561Z"
   },
   {
    "duration": 13,
    "start_time": "2022-12-15T09:21:28.041Z"
   },
   {
    "duration": 14,
    "start_time": "2022-12-15T09:21:36.125Z"
   },
   {
    "duration": 13,
    "start_time": "2022-12-15T09:22:46.837Z"
   },
   {
    "duration": 182,
    "start_time": "2022-12-15T09:22:47.468Z"
   },
   {
    "duration": 436,
    "start_time": "2022-12-15T09:22:48.209Z"
   },
   {
    "duration": 1348,
    "start_time": "2022-12-15T13:07:58.837Z"
   },
   {
    "duration": 134,
    "start_time": "2022-12-15T13:08:00.187Z"
   },
   {
    "duration": 21,
    "start_time": "2022-12-15T13:08:00.322Z"
   },
   {
    "duration": 16,
    "start_time": "2022-12-15T13:08:00.345Z"
   },
   {
    "duration": 19,
    "start_time": "2022-12-15T13:08:00.363Z"
   },
   {
    "duration": 26,
    "start_time": "2022-12-15T13:08:00.384Z"
   },
   {
    "duration": 57,
    "start_time": "2022-12-15T13:08:00.581Z"
   },
   {
    "duration": 15,
    "start_time": "2022-12-15T13:08:00.865Z"
   },
   {
    "duration": 8,
    "start_time": "2022-12-15T13:08:01.324Z"
   },
   {
    "duration": 5,
    "start_time": "2022-12-15T13:08:01.551Z"
   },
   {
    "duration": 8,
    "start_time": "2022-12-15T13:08:02.047Z"
   },
   {
    "duration": 5,
    "start_time": "2022-12-15T13:08:02.329Z"
   },
   {
    "duration": 5,
    "start_time": "2022-12-15T13:08:02.570Z"
   },
   {
    "duration": 5,
    "start_time": "2022-12-15T13:08:03.067Z"
   },
   {
    "duration": 5,
    "start_time": "2022-12-15T13:08:03.302Z"
   },
   {
    "duration": 23,
    "start_time": "2022-12-15T13:08:03.534Z"
   },
   {
    "duration": 5,
    "start_time": "2022-12-15T13:08:04.061Z"
   },
   {
    "duration": 6,
    "start_time": "2022-12-15T13:08:04.379Z"
   },
   {
    "duration": 7,
    "start_time": "2022-12-15T13:08:04.867Z"
   },
   {
    "duration": 23,
    "start_time": "2022-12-15T13:08:05.153Z"
   },
   {
    "duration": 26,
    "start_time": "2022-12-15T13:08:05.452Z"
   },
   {
    "duration": 13,
    "start_time": "2022-12-15T13:08:06.039Z"
   },
   {
    "duration": 13,
    "start_time": "2022-12-15T13:08:06.467Z"
   },
   {
    "duration": 10,
    "start_time": "2022-12-15T13:08:08.889Z"
   },
   {
    "duration": 22,
    "start_time": "2022-12-15T13:08:09.201Z"
   },
   {
    "duration": 14,
    "start_time": "2022-12-15T13:08:12.687Z"
   },
   {
    "duration": 170,
    "start_time": "2022-12-15T13:08:15.297Z"
   },
   {
    "duration": 1193,
    "start_time": "2022-12-15T13:12:27.295Z"
   },
   {
    "duration": 76,
    "start_time": "2022-12-15T13:12:28.490Z"
   },
   {
    "duration": 21,
    "start_time": "2022-12-15T13:12:28.568Z"
   },
   {
    "duration": 17,
    "start_time": "2022-12-15T13:12:28.591Z"
   },
   {
    "duration": 4,
    "start_time": "2022-12-15T13:12:28.611Z"
   },
   {
    "duration": 12,
    "start_time": "2022-12-15T13:12:28.617Z"
   },
   {
    "duration": 55,
    "start_time": "2022-12-15T13:12:28.656Z"
   },
   {
    "duration": 15,
    "start_time": "2022-12-15T13:12:28.713Z"
   },
   {
    "duration": 29,
    "start_time": "2022-12-15T13:12:28.730Z"
   },
   {
    "duration": 5,
    "start_time": "2022-12-15T13:12:28.761Z"
   },
   {
    "duration": 11,
    "start_time": "2022-12-15T13:12:28.768Z"
   },
   {
    "duration": 5,
    "start_time": "2022-12-15T13:12:28.781Z"
   },
   {
    "duration": 7,
    "start_time": "2022-12-15T13:12:28.788Z"
   },
   {
    "duration": 4,
    "start_time": "2022-12-15T13:12:28.799Z"
   },
   {
    "duration": 9,
    "start_time": "2022-12-15T13:12:28.805Z"
   },
   {
    "duration": 52,
    "start_time": "2022-12-15T13:12:28.815Z"
   },
   {
    "duration": 5,
    "start_time": "2022-12-15T13:12:28.869Z"
   },
   {
    "duration": 22,
    "start_time": "2022-12-15T13:12:28.876Z"
   },
   {
    "duration": 8,
    "start_time": "2022-12-15T13:12:28.900Z"
   },
   {
    "duration": 30,
    "start_time": "2022-12-15T13:12:28.909Z"
   },
   {
    "duration": 37,
    "start_time": "2022-12-15T13:12:28.941Z"
   },
   {
    "duration": 14,
    "start_time": "2022-12-15T13:12:28.980Z"
   },
   {
    "duration": 15,
    "start_time": "2022-12-15T13:12:28.995Z"
   },
   {
    "duration": 12,
    "start_time": "2022-12-15T13:12:29.011Z"
   },
   {
    "duration": 51,
    "start_time": "2022-12-15T13:12:29.024Z"
   },
   {
    "duration": 16,
    "start_time": "2022-12-15T13:12:29.076Z"
   },
   {
    "duration": 198,
    "start_time": "2022-12-15T13:12:29.094Z"
   },
   {
    "duration": 340,
    "start_time": "2022-12-15T13:12:29.293Z"
   },
   {
    "duration": 30,
    "start_time": "2022-12-15T13:12:29.635Z"
   },
   {
    "duration": 199,
    "start_time": "2022-12-15T13:12:29.666Z"
   },
   {
    "duration": 192,
    "start_time": "2022-12-15T13:12:29.866Z"
   },
   {
    "duration": 197,
    "start_time": "2022-12-15T13:12:30.060Z"
   },
   {
    "duration": 205,
    "start_time": "2022-12-15T13:12:30.259Z"
   },
   {
    "duration": 284,
    "start_time": "2022-12-15T13:12:30.466Z"
   },
   {
    "duration": 191,
    "start_time": "2022-12-15T13:12:30.751Z"
   },
   {
    "duration": 193,
    "start_time": "2022-12-15T13:12:30.943Z"
   },
   {
    "duration": 280,
    "start_time": "2022-12-15T13:12:31.138Z"
   },
   {
    "duration": 20,
    "start_time": "2022-12-15T13:12:31.420Z"
   },
   {
    "duration": 16,
    "start_time": "2022-12-15T13:12:31.454Z"
   },
   {
    "duration": 167,
    "start_time": "2022-12-15T13:12:31.472Z"
   },
   {
    "duration": 301,
    "start_time": "2022-12-15T13:12:31.644Z"
   },
   {
    "duration": 216,
    "start_time": "2022-12-15T13:12:31.947Z"
   },
   {
    "duration": 166,
    "start_time": "2022-12-15T13:12:32.164Z"
   },
   {
    "duration": 5,
    "start_time": "2022-12-15T13:12:32.332Z"
   },
   {
    "duration": 161,
    "start_time": "2022-12-15T13:12:32.338Z"
   },
   {
    "duration": 5,
    "start_time": "2022-12-15T13:12:32.500Z"
   },
   {
    "duration": 166,
    "start_time": "2022-12-15T13:12:32.507Z"
   },
   {
    "duration": 5,
    "start_time": "2022-12-15T13:12:32.674Z"
   },
   {
    "duration": 239,
    "start_time": "2022-12-15T13:12:32.681Z"
   },
   {
    "duration": 6,
    "start_time": "2022-12-15T13:12:32.921Z"
   },
   {
    "duration": 171,
    "start_time": "2022-12-15T13:12:32.928Z"
   },
   {
    "duration": 5,
    "start_time": "2022-12-15T13:12:33.100Z"
   },
   {
    "duration": 145,
    "start_time": "2022-12-15T13:12:33.107Z"
   },
   {
    "duration": 5,
    "start_time": "2022-12-15T13:12:33.255Z"
   },
   {
    "duration": 147,
    "start_time": "2022-12-15T13:12:33.261Z"
   },
   {
    "duration": 5,
    "start_time": "2022-12-15T13:12:33.410Z"
   },
   {
    "duration": 143,
    "start_time": "2022-12-15T13:12:33.417Z"
   },
   {
    "duration": 6,
    "start_time": "2022-12-15T13:12:33.562Z"
   },
   {
    "duration": 177,
    "start_time": "2022-12-15T13:12:33.570Z"
   },
   {
    "duration": 5,
    "start_time": "2022-12-15T13:12:33.755Z"
   },
   {
    "duration": 142,
    "start_time": "2022-12-15T13:12:33.761Z"
   },
   {
    "duration": 5,
    "start_time": "2022-12-15T13:12:33.905Z"
   },
   {
    "duration": 17,
    "start_time": "2022-12-15T13:12:33.911Z"
   },
   {
    "duration": 193,
    "start_time": "2022-12-15T13:12:33.930Z"
   },
   {
    "duration": 12,
    "start_time": "2022-12-15T13:12:34.125Z"
   },
   {
    "duration": 119,
    "start_time": "2022-12-15T13:12:34.138Z"
   },
   {
    "duration": 107,
    "start_time": "2022-12-15T13:12:34.258Z"
   },
   {
    "duration": 0,
    "start_time": "2022-12-15T13:12:34.367Z"
   },
   {
    "duration": 19,
    "start_time": "2022-12-15T13:13:43.395Z"
   },
   {
    "duration": 178,
    "start_time": "2022-12-15T13:15:56.559Z"
   },
   {
    "duration": 218,
    "start_time": "2022-12-15T13:16:23.557Z"
   },
   {
    "duration": 258,
    "start_time": "2022-12-15T13:17:11.336Z"
   },
   {
    "duration": 197,
    "start_time": "2022-12-15T13:17:30.271Z"
   },
   {
    "duration": 177,
    "start_time": "2022-12-15T13:17:47.343Z"
   },
   {
    "duration": 176,
    "start_time": "2022-12-15T13:18:10.047Z"
   },
   {
    "duration": 188,
    "start_time": "2022-12-15T13:18:27.226Z"
   },
   {
    "duration": 247,
    "start_time": "2022-12-15T13:18:29.861Z"
   },
   {
    "duration": 265,
    "start_time": "2022-12-15T13:23:35.151Z"
   },
   {
    "duration": 20,
    "start_time": "2022-12-15T13:23:40.593Z"
   },
   {
    "duration": 20,
    "start_time": "2022-12-15T13:25:04.205Z"
   },
   {
    "duration": 15,
    "start_time": "2022-12-15T13:25:12.656Z"
   },
   {
    "duration": 134,
    "start_time": "2022-12-15T13:26:12.542Z"
   },
   {
    "duration": 203,
    "start_time": "2022-12-15T13:32:55.145Z"
   },
   {
    "duration": 193,
    "start_time": "2022-12-15T13:36:29.887Z"
   },
   {
    "duration": 158,
    "start_time": "2022-12-15T13:42:00.667Z"
   },
   {
    "duration": 5,
    "start_time": "2022-12-15T13:42:01.921Z"
   },
   {
    "duration": 26,
    "start_time": "2022-12-15T13:45:17.386Z"
   },
   {
    "duration": 11,
    "start_time": "2022-12-15T13:45:41.063Z"
   },
   {
    "duration": 7,
    "start_time": "2022-12-15T13:46:03.994Z"
   },
   {
    "duration": 8,
    "start_time": "2022-12-15T13:46:08.975Z"
   },
   {
    "duration": 5,
    "start_time": "2022-12-15T13:46:09.313Z"
   },
   {
    "duration": 9,
    "start_time": "2022-12-15T13:46:12.989Z"
   },
   {
    "duration": 3,
    "start_time": "2022-12-15T13:46:18.001Z"
   },
   {
    "duration": 76,
    "start_time": "2022-12-15T13:46:18.129Z"
   },
   {
    "duration": 16,
    "start_time": "2022-12-15T13:46:18.329Z"
   },
   {
    "duration": 14,
    "start_time": "2022-12-15T13:46:18.527Z"
   },
   {
    "duration": 3,
    "start_time": "2022-12-15T13:46:18.943Z"
   },
   {
    "duration": 12,
    "start_time": "2022-12-15T13:46:19.163Z"
   },
   {
    "duration": 19,
    "start_time": "2022-12-15T13:46:19.374Z"
   },
   {
    "duration": 15,
    "start_time": "2022-12-15T13:46:19.588Z"
   },
   {
    "duration": 8,
    "start_time": "2022-12-15T13:46:20.023Z"
   },
   {
    "duration": 5,
    "start_time": "2022-12-15T13:46:20.249Z"
   },
   {
    "duration": 8,
    "start_time": "2022-12-15T13:46:20.677Z"
   },
   {
    "duration": 4,
    "start_time": "2022-12-15T13:46:20.913Z"
   },
   {
    "duration": 6,
    "start_time": "2022-12-15T13:46:21.311Z"
   },
   {
    "duration": 4,
    "start_time": "2022-12-15T13:46:21.739Z"
   },
   {
    "duration": 6,
    "start_time": "2022-12-15T13:46:21.971Z"
   },
   {
    "duration": 123,
    "start_time": "2022-12-15T13:46:22.191Z"
   },
   {
    "duration": 5,
    "start_time": "2022-12-15T13:46:22.651Z"
   },
   {
    "duration": 5,
    "start_time": "2022-12-15T13:46:22.887Z"
   },
   {
    "duration": 5,
    "start_time": "2022-12-15T13:46:23.312Z"
   },
   {
    "duration": 25,
    "start_time": "2022-12-15T13:46:23.527Z"
   },
   {
    "duration": 26,
    "start_time": "2022-12-15T13:46:23.739Z"
   },
   {
    "duration": 14,
    "start_time": "2022-12-15T13:46:24.196Z"
   },
   {
    "duration": 13,
    "start_time": "2022-12-15T13:46:24.413Z"
   },
   {
    "duration": 12,
    "start_time": "2022-12-15T13:46:24.643Z"
   },
   {
    "duration": 23,
    "start_time": "2022-12-15T13:46:24.878Z"
   },
   {
    "duration": 15,
    "start_time": "2022-12-15T13:46:25.819Z"
   },
   {
    "duration": 163,
    "start_time": "2022-12-15T13:46:26.038Z"
   },
   {
    "duration": 305,
    "start_time": "2022-12-15T13:46:26.285Z"
   },
   {
    "duration": 20,
    "start_time": "2022-12-15T13:46:26.994Z"
   },
   {
    "duration": 186,
    "start_time": "2022-12-15T13:46:27.479Z"
   },
   {
    "duration": 179,
    "start_time": "2022-12-15T13:46:27.711Z"
   },
   {
    "duration": 193,
    "start_time": "2022-12-15T13:46:27.954Z"
   },
   {
    "duration": 188,
    "start_time": "2022-12-15T13:46:28.216Z"
   },
   {
    "duration": 172,
    "start_time": "2022-12-15T13:46:28.469Z"
   },
   {
    "duration": 168,
    "start_time": "2022-12-15T13:46:28.696Z"
   },
   {
    "duration": 167,
    "start_time": "2022-12-15T13:46:28.932Z"
   },
   {
    "duration": 253,
    "start_time": "2022-12-15T13:46:29.154Z"
   },
   {
    "duration": 19,
    "start_time": "2022-12-15T13:46:30.157Z"
   },
   {
    "duration": 17,
    "start_time": "2022-12-15T13:46:30.439Z"
   },
   {
    "duration": 246,
    "start_time": "2022-12-15T13:46:30.714Z"
   },
   {
    "duration": 248,
    "start_time": "2022-12-15T13:46:32.018Z"
   },
   {
    "duration": 189,
    "start_time": "2022-12-15T13:46:35.485Z"
   },
   {
    "duration": 26,
    "start_time": "2022-12-15T13:46:50.190Z"
   },
   {
    "duration": 24,
    "start_time": "2022-12-15T13:47:08.789Z"
   },
   {
    "duration": 165,
    "start_time": "2022-12-15T13:47:20.708Z"
   },
   {
    "duration": 5,
    "start_time": "2022-12-15T13:47:22.531Z"
   },
   {
    "duration": 155,
    "start_time": "2022-12-15T13:48:04.093Z"
   },
   {
    "duration": 5,
    "start_time": "2022-12-15T13:48:28.834Z"
   },
   {
    "duration": 148,
    "start_time": "2022-12-15T13:49:42.750Z"
   },
   {
    "duration": 6,
    "start_time": "2022-12-15T13:49:48.671Z"
   },
   {
    "duration": 145,
    "start_time": "2022-12-15T13:49:54.924Z"
   },
   {
    "duration": 5,
    "start_time": "2022-12-15T13:49:57.765Z"
   },
   {
    "duration": 186,
    "start_time": "2022-12-15T13:51:46.490Z"
   },
   {
    "duration": 6,
    "start_time": "2022-12-15T13:51:52.258Z"
   },
   {
    "duration": 133,
    "start_time": "2022-12-15T13:51:53.900Z"
   },
   {
    "duration": 4,
    "start_time": "2022-12-15T13:51:58.465Z"
   },
   {
    "duration": 189,
    "start_time": "2022-12-15T13:52:44.579Z"
   },
   {
    "duration": 9,
    "start_time": "2022-12-15T13:52:47.333Z"
   },
   {
    "duration": 217,
    "start_time": "2022-12-15T13:52:48.160Z"
   },
   {
    "duration": 6,
    "start_time": "2022-12-15T13:52:51.184Z"
   },
   {
    "duration": 131,
    "start_time": "2022-12-15T13:54:00.378Z"
   },
   {
    "duration": 5,
    "start_time": "2022-12-15T13:54:03.973Z"
   },
   {
    "duration": 135,
    "start_time": "2022-12-15T13:54:06.659Z"
   },
   {
    "duration": 4,
    "start_time": "2022-12-15T13:54:09.443Z"
   },
   {
    "duration": 17,
    "start_time": "2022-12-15T13:58:26.295Z"
   },
   {
    "duration": 186,
    "start_time": "2022-12-15T13:58:28.371Z"
   },
   {
    "duration": 109,
    "start_time": "2022-12-15T13:59:57.283Z"
   },
   {
    "duration": 107,
    "start_time": "2022-12-15T14:00:43.810Z"
   },
   {
    "duration": 112,
    "start_time": "2022-12-15T14:03:16.669Z"
   },
   {
    "duration": 114,
    "start_time": "2022-12-15T14:05:52.154Z"
   },
   {
    "duration": 1245,
    "start_time": "2022-12-15T16:12:34.518Z"
   },
   {
    "duration": 91,
    "start_time": "2022-12-15T16:12:35.765Z"
   },
   {
    "duration": 20,
    "start_time": "2022-12-15T16:12:35.857Z"
   },
   {
    "duration": 15,
    "start_time": "2022-12-15T16:12:35.879Z"
   },
   {
    "duration": 4,
    "start_time": "2022-12-15T16:12:35.898Z"
   },
   {
    "duration": 21,
    "start_time": "2022-12-15T16:12:35.904Z"
   },
   {
    "duration": 68,
    "start_time": "2022-12-15T16:12:35.927Z"
   },
   {
    "duration": 15,
    "start_time": "2022-12-15T16:12:35.997Z"
   },
   {
    "duration": 17,
    "start_time": "2022-12-15T16:12:36.013Z"
   },
   {
    "duration": 9,
    "start_time": "2022-12-15T16:12:36.032Z"
   },
   {
    "duration": 8,
    "start_time": "2022-12-15T16:12:36.054Z"
   },
   {
    "duration": 10,
    "start_time": "2022-12-15T16:12:36.064Z"
   },
   {
    "duration": 9,
    "start_time": "2022-12-15T16:12:36.077Z"
   },
   {
    "duration": 8,
    "start_time": "2022-12-15T16:12:36.091Z"
   },
   {
    "duration": 20,
    "start_time": "2022-12-15T16:12:36.100Z"
   },
   {
    "duration": 29,
    "start_time": "2022-12-15T16:12:36.122Z"
   },
   {
    "duration": 5,
    "start_time": "2022-12-15T16:12:36.154Z"
   },
   {
    "duration": 16,
    "start_time": "2022-12-15T16:12:36.160Z"
   },
   {
    "duration": 8,
    "start_time": "2022-12-15T16:12:36.178Z"
   },
   {
    "duration": 30,
    "start_time": "2022-12-15T16:12:36.188Z"
   },
   {
    "duration": 36,
    "start_time": "2022-12-15T16:12:36.220Z"
   },
   {
    "duration": 15,
    "start_time": "2022-12-15T16:12:36.257Z"
   },
   {
    "duration": 14,
    "start_time": "2022-12-15T16:12:36.273Z"
   },
   {
    "duration": 10,
    "start_time": "2022-12-15T16:12:36.289Z"
   },
   {
    "duration": 55,
    "start_time": "2022-12-15T16:12:36.301Z"
   },
   {
    "duration": 15,
    "start_time": "2022-12-15T16:12:36.358Z"
   },
   {
    "duration": 200,
    "start_time": "2022-12-15T16:12:36.375Z"
   },
   {
    "duration": 316,
    "start_time": "2022-12-15T16:12:36.576Z"
   },
   {
    "duration": 19,
    "start_time": "2022-12-15T16:12:36.894Z"
   },
   {
    "duration": 193,
    "start_time": "2022-12-15T16:12:36.915Z"
   },
   {
    "duration": 177,
    "start_time": "2022-12-15T16:12:37.110Z"
   },
   {
    "duration": 186,
    "start_time": "2022-12-15T16:12:37.289Z"
   },
   {
    "duration": 227,
    "start_time": "2022-12-15T16:12:37.477Z"
   },
   {
    "duration": 308,
    "start_time": "2022-12-15T16:12:37.705Z"
   },
   {
    "duration": 242,
    "start_time": "2022-12-15T16:12:38.015Z"
   },
   {
    "duration": 179,
    "start_time": "2022-12-15T16:12:38.259Z"
   },
   {
    "duration": 262,
    "start_time": "2022-12-15T16:12:38.440Z"
   },
   {
    "duration": 19,
    "start_time": "2022-12-15T16:12:38.703Z"
   },
   {
    "duration": 15,
    "start_time": "2022-12-15T16:12:38.723Z"
   },
   {
    "duration": 145,
    "start_time": "2022-12-15T16:12:38.755Z"
   },
   {
    "duration": 263,
    "start_time": "2022-12-15T16:12:38.904Z"
   },
   {
    "duration": 205,
    "start_time": "2022-12-15T16:12:39.168Z"
   },
   {
    "duration": 157,
    "start_time": "2022-12-15T16:12:39.374Z"
   },
   {
    "duration": 5,
    "start_time": "2022-12-15T16:12:39.533Z"
   },
   {
    "duration": 174,
    "start_time": "2022-12-15T16:12:39.540Z"
   },
   {
    "duration": 7,
    "start_time": "2022-12-15T16:12:39.716Z"
   },
   {
    "duration": 166,
    "start_time": "2022-12-15T16:12:39.724Z"
   },
   {
    "duration": 5,
    "start_time": "2022-12-15T16:12:39.892Z"
   },
   {
    "duration": 235,
    "start_time": "2022-12-15T16:12:39.899Z"
   },
   {
    "duration": 5,
    "start_time": "2022-12-15T16:12:40.136Z"
   },
   {
    "duration": 152,
    "start_time": "2022-12-15T16:12:40.143Z"
   },
   {
    "duration": 4,
    "start_time": "2022-12-15T16:12:40.297Z"
   },
   {
    "duration": 140,
    "start_time": "2022-12-15T16:12:40.303Z"
   },
   {
    "duration": 11,
    "start_time": "2022-12-15T16:12:40.444Z"
   },
   {
    "duration": 143,
    "start_time": "2022-12-15T16:12:40.457Z"
   },
   {
    "duration": 6,
    "start_time": "2022-12-15T16:12:40.602Z"
   },
   {
    "duration": 137,
    "start_time": "2022-12-15T16:12:40.610Z"
   },
   {
    "duration": 7,
    "start_time": "2022-12-15T16:12:40.748Z"
   },
   {
    "duration": 131,
    "start_time": "2022-12-15T16:12:40.757Z"
   },
   {
    "duration": 6,
    "start_time": "2022-12-15T16:12:40.889Z"
   },
   {
    "duration": 156,
    "start_time": "2022-12-15T16:12:40.896Z"
   },
   {
    "duration": 5,
    "start_time": "2022-12-15T16:12:41.054Z"
   },
   {
    "duration": 18,
    "start_time": "2022-12-15T16:12:41.060Z"
   },
   {
    "duration": 186,
    "start_time": "2022-12-15T16:12:41.079Z"
   },
   {
    "duration": 13,
    "start_time": "2022-12-15T16:12:41.266Z"
   },
   {
    "duration": 118,
    "start_time": "2022-12-15T16:12:41.281Z"
   },
   {
    "duration": 103,
    "start_time": "2022-12-15T16:12:41.400Z"
   },
   {
    "duration": 0,
    "start_time": "2022-12-15T16:12:41.504Z"
   },
   {
    "duration": 10,
    "start_time": "2022-12-15T16:13:58.481Z"
   },
   {
    "duration": 11,
    "start_time": "2022-12-15T16:15:25.741Z"
   },
   {
    "duration": 13,
    "start_time": "2022-12-15T16:15:31.876Z"
   },
   {
    "duration": 12,
    "start_time": "2022-12-15T16:15:38.442Z"
   },
   {
    "duration": 203,
    "start_time": "2022-12-15T16:28:02.778Z"
   },
   {
    "duration": 12,
    "start_time": "2022-12-15T16:32:36.548Z"
   },
   {
    "duration": 120,
    "start_time": "2022-12-15T16:34:57.794Z"
   },
   {
    "duration": 12,
    "start_time": "2022-12-15T16:36:37.642Z"
   },
   {
    "duration": 11,
    "start_time": "2022-12-15T16:37:32.736Z"
   },
   {
    "duration": 12,
    "start_time": "2022-12-15T16:37:52.085Z"
   },
   {
    "duration": 108,
    "start_time": "2022-12-15T16:43:22.121Z"
   },
   {
    "duration": 113,
    "start_time": "2022-12-15T16:43:58.413Z"
   },
   {
    "duration": 12,
    "start_time": "2022-12-15T16:55:45.256Z"
   },
   {
    "duration": 26582,
    "start_time": "2022-12-15T16:56:33.271Z"
   },
   {
    "duration": 27153,
    "start_time": "2022-12-15T16:57:06.481Z"
   },
   {
    "duration": 26849,
    "start_time": "2022-12-15T16:57:51.311Z"
   },
   {
    "duration": 27495,
    "start_time": "2022-12-15T16:58:41.119Z"
   },
   {
    "duration": 12,
    "start_time": "2022-12-15T17:00:56.277Z"
   },
   {
    "duration": 28164,
    "start_time": "2022-12-15T17:01:05.247Z"
   },
   {
    "duration": 27256,
    "start_time": "2022-12-15T17:03:13.280Z"
   },
   {
    "duration": 51,
    "start_time": "2022-12-15T17:04:01.638Z"
   },
   {
    "duration": 26944,
    "start_time": "2022-12-15T17:04:10.327Z"
   },
   {
    "duration": 27798,
    "start_time": "2022-12-15T17:05:23.350Z"
   },
   {
    "duration": 26900,
    "start_time": "2022-12-15T17:06:16.603Z"
   },
   {
    "duration": 27221,
    "start_time": "2022-12-15T17:07:57.492Z"
   },
   {
    "duration": 120,
    "start_time": "2022-12-15T17:08:40.104Z"
   },
   {
    "duration": 26961,
    "start_time": "2022-12-15T17:19:45.389Z"
   },
   {
    "duration": 27512,
    "start_time": "2022-12-15T17:22:43.965Z"
   },
   {
    "duration": 27374,
    "start_time": "2022-12-15T17:23:30.374Z"
   },
   {
    "duration": 27880,
    "start_time": "2022-12-15T17:24:18.542Z"
   },
   {
    "duration": 27149,
    "start_time": "2022-12-15T17:24:55.783Z"
   },
   {
    "duration": 27559,
    "start_time": "2022-12-15T17:45:07.811Z"
   },
   {
    "duration": 26968,
    "start_time": "2022-12-15T17:46:17.915Z"
   },
   {
    "duration": 16,
    "start_time": "2022-12-15T17:47:33.967Z"
   },
   {
    "duration": 26762,
    "start_time": "2022-12-15T17:47:40.663Z"
   },
   {
    "duration": 11,
    "start_time": "2022-12-15T17:50:56.816Z"
   },
   {
    "duration": 130,
    "start_time": "2022-12-15T17:51:03.455Z"
   },
   {
    "duration": 114,
    "start_time": "2022-12-15T17:51:22.129Z"
   },
   {
    "duration": 26994,
    "start_time": "2022-12-15T17:52:33.150Z"
   },
   {
    "duration": 26615,
    "start_time": "2022-12-15T17:53:00.146Z"
   },
   {
    "duration": 27613,
    "start_time": "2022-12-15T18:05:32.872Z"
   },
   {
    "duration": 27878,
    "start_time": "2022-12-15T18:06:44.254Z"
   },
   {
    "duration": 27787,
    "start_time": "2022-12-15T18:07:27.866Z"
   },
   {
    "duration": 1,
    "start_time": "2022-12-15T18:09:40.879Z"
   },
   {
    "duration": 10,
    "start_time": "2022-12-15T18:17:55.738Z"
   },
   {
    "duration": 11,
    "start_time": "2022-12-15T18:18:03.352Z"
   },
   {
    "duration": 352,
    "start_time": "2022-12-15T18:18:41.619Z"
   },
   {
    "duration": 194,
    "start_time": "2022-12-15T18:18:49.475Z"
   },
   {
    "duration": 28675,
    "start_time": "2022-12-15T18:19:03.959Z"
   },
   {
    "duration": 12,
    "start_time": "2022-12-15T18:22:47.489Z"
   },
   {
    "duration": 27633,
    "start_time": "2022-12-15T18:22:55.994Z"
   },
   {
    "duration": 20,
    "start_time": "2022-12-15T18:27:50.153Z"
   },
   {
    "duration": 27720,
    "start_time": "2022-12-15T18:33:01.896Z"
   },
   {
    "duration": 27197,
    "start_time": "2022-12-15T18:33:39.146Z"
   },
   {
    "duration": 29108,
    "start_time": "2022-12-15T18:34:36.022Z"
   },
   {
    "duration": 27877,
    "start_time": "2022-12-15T18:35:59.756Z"
   },
   {
    "duration": 391,
    "start_time": "2022-12-15T18:38:04.678Z"
   },
   {
    "duration": 118,
    "start_time": "2022-12-15T18:38:58.593Z"
   },
   {
    "duration": 14,
    "start_time": "2022-12-15T18:40:12.403Z"
   },
   {
    "duration": 4037,
    "start_time": "2022-12-15T18:40:24.145Z"
   },
   {
    "duration": 35,
    "start_time": "2022-12-15T18:41:48.999Z"
   },
   {
    "duration": 4865,
    "start_time": "2022-12-15T18:42:03.327Z"
   },
   {
    "duration": 2622,
    "start_time": "2022-12-15T18:43:53.194Z"
   },
   {
    "duration": 173,
    "start_time": "2022-12-15T18:47:10.428Z"
   },
   {
    "duration": 180,
    "start_time": "2022-12-15T18:47:16.392Z"
   },
   {
    "duration": 184,
    "start_time": "2022-12-15T18:47:54.491Z"
   },
   {
    "duration": 167,
    "start_time": "2022-12-15T18:48:06.143Z"
   },
   {
    "duration": 467,
    "start_time": "2022-12-15T18:48:34.200Z"
   },
   {
    "duration": 422,
    "start_time": "2022-12-15T18:49:29.390Z"
   },
   {
    "duration": 444,
    "start_time": "2022-12-15T18:51:24.402Z"
   },
   {
    "duration": 126,
    "start_time": "2022-12-15T18:51:33.642Z"
   },
   {
    "duration": 16,
    "start_time": "2022-12-15T18:51:45.761Z"
   },
   {
    "duration": 106,
    "start_time": "2022-12-15T18:52:18.218Z"
   },
   {
    "duration": 100,
    "start_time": "2022-12-15T18:52:34.866Z"
   },
   {
    "duration": 13,
    "start_time": "2022-12-15T18:54:35.475Z"
   },
   {
    "duration": 14,
    "start_time": "2022-12-15T18:55:46.528Z"
   },
   {
    "duration": 145,
    "start_time": "2022-12-15T18:55:49.879Z"
   },
   {
    "duration": 103,
    "start_time": "2022-12-15T18:56:02.001Z"
   },
   {
    "duration": 13,
    "start_time": "2022-12-15T18:56:20.846Z"
   },
   {
    "duration": 107,
    "start_time": "2022-12-15T18:56:27.022Z"
   },
   {
    "duration": 15,
    "start_time": "2022-12-15T18:57:40.338Z"
   },
   {
    "duration": 160,
    "start_time": "2022-12-15T18:58:13.720Z"
   },
   {
    "duration": 148,
    "start_time": "2022-12-15T18:58:25.584Z"
   },
   {
    "duration": 15,
    "start_time": "2022-12-15T18:58:41.702Z"
   },
   {
    "duration": 112,
    "start_time": "2022-12-15T18:58:46.919Z"
   },
   {
    "duration": 9,
    "start_time": "2022-12-15T18:59:19.743Z"
   },
   {
    "duration": 15,
    "start_time": "2022-12-15T18:59:40.216Z"
   },
   {
    "duration": 15,
    "start_time": "2022-12-15T18:59:46.499Z"
   },
   {
    "duration": 107,
    "start_time": "2022-12-15T19:00:17.414Z"
   },
   {
    "duration": 112,
    "start_time": "2022-12-15T19:00:59.499Z"
   },
   {
    "duration": 115,
    "start_time": "2022-12-15T19:01:45.332Z"
   },
   {
    "duration": 106,
    "start_time": "2022-12-15T19:02:28.947Z"
   },
   {
    "duration": 105,
    "start_time": "2022-12-15T19:03:29.863Z"
   },
   {
    "duration": 106,
    "start_time": "2022-12-15T19:04:50.458Z"
   },
   {
    "duration": 108,
    "start_time": "2022-12-15T19:04:56.610Z"
   },
   {
    "duration": 161,
    "start_time": "2022-12-15T19:07:20.192Z"
   },
   {
    "duration": 150,
    "start_time": "2022-12-15T19:07:49.329Z"
   },
   {
    "duration": 174,
    "start_time": "2022-12-15T19:08:02.954Z"
   },
   {
    "duration": 153,
    "start_time": "2022-12-15T19:08:10.655Z"
   },
   {
    "duration": 15,
    "start_time": "2022-12-15T19:34:46.591Z"
   },
   {
    "duration": 112,
    "start_time": "2022-12-15T19:35:06.965Z"
   },
   {
    "duration": 102,
    "start_time": "2022-12-15T19:35:23.572Z"
   },
   {
    "duration": 120,
    "start_time": "2022-12-15T19:36:15.512Z"
   },
   {
    "duration": 115,
    "start_time": "2022-12-15T19:36:45.960Z"
   },
   {
    "duration": 109,
    "start_time": "2022-12-15T19:37:12.738Z"
   },
   {
    "duration": 102,
    "start_time": "2022-12-15T19:37:30.811Z"
   },
   {
    "duration": 130,
    "start_time": "2022-12-15T19:37:36.698Z"
   },
   {
    "duration": 163,
    "start_time": "2022-12-15T19:38:44.368Z"
   },
   {
    "duration": 121,
    "start_time": "2022-12-15T19:39:35.894Z"
   },
   {
    "duration": 173,
    "start_time": "2022-12-15T19:39:44.748Z"
   },
   {
    "duration": 323,
    "start_time": "2022-12-15T19:40:08.092Z"
   },
   {
    "duration": 108,
    "start_time": "2022-12-15T19:41:05.534Z"
   },
   {
    "duration": 164,
    "start_time": "2022-12-15T19:41:14.106Z"
   },
   {
    "duration": 149,
    "start_time": "2022-12-15T19:41:26.894Z"
   },
   {
    "duration": 140,
    "start_time": "2022-12-15T19:41:32.594Z"
   },
   {
    "duration": 156,
    "start_time": "2022-12-15T19:41:38.724Z"
   },
   {
    "duration": 148,
    "start_time": "2022-12-15T19:41:59.770Z"
   },
   {
    "duration": 154,
    "start_time": "2022-12-15T19:42:55.919Z"
   },
   {
    "duration": 134,
    "start_time": "2022-12-15T19:44:56.995Z"
   },
   {
    "duration": 12,
    "start_time": "2022-12-15T19:55:36.302Z"
   },
   {
    "duration": 214,
    "start_time": "2022-12-15T19:55:49.631Z"
   },
   {
    "duration": 4,
    "start_time": "2022-12-15T19:58:01.716Z"
   },
   {
    "duration": 26,
    "start_time": "2022-12-15T19:58:09.520Z"
   },
   {
    "duration": 92,
    "start_time": "2022-12-15T20:00:08.299Z"
   },
   {
    "duration": 96,
    "start_time": "2022-12-15T20:01:52.040Z"
   },
   {
    "duration": 7,
    "start_time": "2022-12-15T20:02:10.679Z"
   },
   {
    "duration": 82,
    "start_time": "2022-12-15T20:04:44.313Z"
   },
   {
    "duration": 84,
    "start_time": "2022-12-15T20:04:55.486Z"
   },
   {
    "duration": 100,
    "start_time": "2022-12-15T20:05:30.915Z"
   },
   {
    "duration": 84,
    "start_time": "2022-12-15T20:06:21.506Z"
   },
   {
    "duration": 21,
    "start_time": "2022-12-15T20:09:00.390Z"
   },
   {
    "duration": 15,
    "start_time": "2022-12-15T20:09:12.831Z"
   },
   {
    "duration": 24,
    "start_time": "2022-12-15T20:09:23.173Z"
   },
   {
    "duration": 23,
    "start_time": "2022-12-15T20:09:37.835Z"
   },
   {
    "duration": 26,
    "start_time": "2022-12-15T20:10:50.441Z"
   },
   {
    "duration": 21,
    "start_time": "2022-12-15T20:11:17.571Z"
   },
   {
    "duration": 21,
    "start_time": "2022-12-15T20:11:27.766Z"
   },
   {
    "duration": 13,
    "start_time": "2022-12-15T20:12:39.434Z"
   },
   {
    "duration": 17,
    "start_time": "2022-12-15T20:13:08.336Z"
   },
   {
    "duration": 14,
    "start_time": "2022-12-15T20:13:24.383Z"
   },
   {
    "duration": 5,
    "start_time": "2022-12-15T20:13:44.762Z"
   },
   {
    "duration": 14,
    "start_time": "2022-12-15T20:13:46.902Z"
   },
   {
    "duration": 12,
    "start_time": "2022-12-15T20:32:26.067Z"
   },
   {
    "duration": 11,
    "start_time": "2022-12-15T20:33:12.391Z"
   },
   {
    "duration": 24,
    "start_time": "2022-12-15T20:33:31.922Z"
   },
   {
    "duration": 12,
    "start_time": "2022-12-15T20:34:26.898Z"
   },
   {
    "duration": 12,
    "start_time": "2022-12-15T20:34:53.993Z"
   },
   {
    "duration": 19,
    "start_time": "2022-12-15T20:35:21.625Z"
   },
   {
    "duration": 47,
    "start_time": "2022-12-15T20:35:44.013Z"
   },
   {
    "duration": 21,
    "start_time": "2022-12-15T20:35:51.110Z"
   },
   {
    "duration": 32,
    "start_time": "2022-12-15T20:36:08.941Z"
   },
   {
    "duration": 23,
    "start_time": "2022-12-15T20:36:38.240Z"
   },
   {
    "duration": 42,
    "start_time": "2022-12-15T20:40:08.229Z"
   },
   {
    "duration": 10,
    "start_time": "2022-12-15T20:47:15.082Z"
   },
   {
    "duration": 29,
    "start_time": "2022-12-15T20:47:24.577Z"
   },
   {
    "duration": 23,
    "start_time": "2022-12-15T20:48:06.022Z"
   },
   {
    "duration": 14,
    "start_time": "2022-12-15T20:50:00.237Z"
   },
   {
    "duration": 24,
    "start_time": "2022-12-15T21:30:58.521Z"
   },
   {
    "duration": 10,
    "start_time": "2022-12-15T21:31:23.738Z"
   },
   {
    "duration": 9,
    "start_time": "2022-12-15T21:31:58.279Z"
   },
   {
    "duration": 1290,
    "start_time": "2022-12-16T08:44:58.937Z"
   },
   {
    "duration": 220,
    "start_time": "2022-12-16T08:45:00.228Z"
   },
   {
    "duration": 18,
    "start_time": "2022-12-16T08:45:00.449Z"
   },
   {
    "duration": 45,
    "start_time": "2022-12-16T08:45:00.469Z"
   },
   {
    "duration": 49,
    "start_time": "2022-12-16T08:45:00.515Z"
   },
   {
    "duration": 51,
    "start_time": "2022-12-16T08:45:00.566Z"
   },
   {
    "duration": 84,
    "start_time": "2022-12-16T08:45:00.618Z"
   },
   {
    "duration": 14,
    "start_time": "2022-12-16T08:45:00.704Z"
   },
   {
    "duration": 69,
    "start_time": "2022-12-16T08:45:00.720Z"
   },
   {
    "duration": 53,
    "start_time": "2022-12-16T08:45:00.792Z"
   },
   {
    "duration": 55,
    "start_time": "2022-12-16T08:45:00.847Z"
   },
   {
    "duration": 42,
    "start_time": "2022-12-16T08:45:00.904Z"
   },
   {
    "duration": 60,
    "start_time": "2022-12-16T08:45:00.948Z"
   },
   {
    "duration": 27,
    "start_time": "2022-12-16T08:45:01.010Z"
   },
   {
    "duration": 48,
    "start_time": "2022-12-16T08:45:01.039Z"
   },
   {
    "duration": 43,
    "start_time": "2022-12-16T08:45:01.089Z"
   },
   {
    "duration": 58,
    "start_time": "2022-12-16T08:45:01.134Z"
   },
   {
    "duration": 92,
    "start_time": "2022-12-16T08:45:01.194Z"
   },
   {
    "duration": 74,
    "start_time": "2022-12-16T08:45:01.288Z"
   },
   {
    "duration": 93,
    "start_time": "2022-12-16T08:45:01.364Z"
   },
   {
    "duration": 64,
    "start_time": "2022-12-16T08:45:01.458Z"
   },
   {
    "duration": 43,
    "start_time": "2022-12-16T08:45:01.525Z"
   },
   {
    "duration": 54,
    "start_time": "2022-12-16T08:45:01.569Z"
   },
   {
    "duration": 64,
    "start_time": "2022-12-16T08:45:01.626Z"
   },
   {
    "duration": 118,
    "start_time": "2022-12-16T08:45:01.692Z"
   },
   {
    "duration": 22,
    "start_time": "2022-12-16T08:45:01.811Z"
   },
   {
    "duration": 182,
    "start_time": "2022-12-16T08:45:01.834Z"
   },
   {
    "duration": 316,
    "start_time": "2022-12-16T08:45:02.020Z"
   },
   {
    "duration": 18,
    "start_time": "2022-12-16T08:45:02.338Z"
   },
   {
    "duration": 202,
    "start_time": "2022-12-16T08:45:02.358Z"
   },
   {
    "duration": 196,
    "start_time": "2022-12-16T08:45:02.562Z"
   },
   {
    "duration": 179,
    "start_time": "2022-12-16T08:45:02.760Z"
   },
   {
    "duration": 181,
    "start_time": "2022-12-16T08:45:02.941Z"
   },
   {
    "duration": 246,
    "start_time": "2022-12-16T08:45:03.125Z"
   },
   {
    "duration": 177,
    "start_time": "2022-12-16T08:45:03.372Z"
   },
   {
    "duration": 169,
    "start_time": "2022-12-16T08:45:03.550Z"
   },
   {
    "duration": 250,
    "start_time": "2022-12-16T08:45:03.720Z"
   },
   {
    "duration": 15,
    "start_time": "2022-12-16T08:45:03.972Z"
   },
   {
    "duration": 55,
    "start_time": "2022-12-16T08:45:03.989Z"
   },
   {
    "duration": 180,
    "start_time": "2022-12-16T08:45:04.046Z"
   },
   {
    "duration": 291,
    "start_time": "2022-12-16T08:45:04.227Z"
   },
   {
    "duration": 198,
    "start_time": "2022-12-16T08:45:04.519Z"
   },
   {
    "duration": 159,
    "start_time": "2022-12-16T08:45:04.725Z"
   },
   {
    "duration": 6,
    "start_time": "2022-12-16T08:45:04.886Z"
   },
   {
    "duration": 196,
    "start_time": "2022-12-16T08:45:04.894Z"
   },
   {
    "duration": 5,
    "start_time": "2022-12-16T08:45:05.092Z"
   },
   {
    "duration": 187,
    "start_time": "2022-12-16T08:45:05.098Z"
   },
   {
    "duration": 5,
    "start_time": "2022-12-16T08:45:05.287Z"
   },
   {
    "duration": 261,
    "start_time": "2022-12-16T08:45:05.294Z"
   },
   {
    "duration": 6,
    "start_time": "2022-12-16T08:45:05.557Z"
   },
   {
    "duration": 237,
    "start_time": "2022-12-16T08:45:05.564Z"
   },
   {
    "duration": 5,
    "start_time": "2022-12-16T08:45:05.803Z"
   },
   {
    "duration": 164,
    "start_time": "2022-12-16T08:45:05.810Z"
   },
   {
    "duration": 5,
    "start_time": "2022-12-16T08:45:05.976Z"
   },
   {
    "duration": 176,
    "start_time": "2022-12-16T08:45:05.983Z"
   },
   {
    "duration": 5,
    "start_time": "2022-12-16T08:45:06.161Z"
   },
   {
    "duration": 159,
    "start_time": "2022-12-16T08:45:06.168Z"
   },
   {
    "duration": 5,
    "start_time": "2022-12-16T08:45:06.328Z"
   },
   {
    "duration": 171,
    "start_time": "2022-12-16T08:45:06.334Z"
   },
   {
    "duration": 7,
    "start_time": "2022-12-16T08:45:06.507Z"
   },
   {
    "duration": 184,
    "start_time": "2022-12-16T08:45:06.516Z"
   },
   {
    "duration": 5,
    "start_time": "2022-12-16T08:45:06.702Z"
   },
   {
    "duration": 60,
    "start_time": "2022-12-16T08:45:06.709Z"
   },
   {
    "duration": 210,
    "start_time": "2022-12-16T08:45:06.771Z"
   },
   {
    "duration": 119,
    "start_time": "2022-12-16T08:45:06.982Z"
   },
   {
    "duration": 117,
    "start_time": "2022-12-16T08:45:07.103Z"
   },
   {
    "duration": 101,
    "start_time": "2022-12-16T08:45:07.225Z"
   },
   {
    "duration": 171,
    "start_time": "2022-12-16T08:45:07.328Z"
   },
   {
    "duration": 240,
    "start_time": "2022-12-16T08:45:07.500Z"
   },
   {
    "duration": 152,
    "start_time": "2022-12-16T08:45:07.742Z"
   },
   {
    "duration": 35,
    "start_time": "2022-12-16T08:45:07.895Z"
   },
   {
    "duration": 96,
    "start_time": "2022-12-16T08:45:07.931Z"
   },
   {
    "duration": 59,
    "start_time": "2022-12-16T08:45:08.029Z"
   },
   {
    "duration": 78,
    "start_time": "2022-12-16T08:45:08.090Z"
   },
   {
    "duration": 36,
    "start_time": "2022-12-16T08:45:08.170Z"
   },
   {
    "duration": 81,
    "start_time": "2022-12-16T08:45:08.208Z"
   },
   {
    "duration": 0,
    "start_time": "2022-12-16T08:45:08.291Z"
   },
   {
    "duration": 23,
    "start_time": "2022-12-16T09:13:00.804Z"
   },
   {
    "duration": 23,
    "start_time": "2022-12-16T09:14:27.551Z"
   },
   {
    "duration": 24,
    "start_time": "2022-12-16T09:14:42.852Z"
   },
   {
    "duration": 29,
    "start_time": "2022-12-16T09:21:17.686Z"
   },
   {
    "duration": 30,
    "start_time": "2022-12-16T09:21:50.092Z"
   },
   {
    "duration": 94,
    "start_time": "2022-12-16T09:25:48.751Z"
   },
   {
    "duration": 10,
    "start_time": "2022-12-16T09:26:07.709Z"
   },
   {
    "duration": 3,
    "start_time": "2022-12-16T09:26:30.804Z"
   },
   {
    "duration": 15,
    "start_time": "2022-12-16T09:26:34.984Z"
   },
   {
    "duration": 9,
    "start_time": "2022-12-16T09:28:10.188Z"
   },
   {
    "duration": 739,
    "start_time": "2022-12-16T09:28:16.248Z"
   },
   {
    "duration": 10,
    "start_time": "2022-12-16T09:36:17.224Z"
   },
   {
    "duration": 5,
    "start_time": "2022-12-16T09:36:18.420Z"
   },
   {
    "duration": 14,
    "start_time": "2022-12-16T09:36:36.174Z"
   },
   {
    "duration": 16,
    "start_time": "2022-12-16T09:36:41.989Z"
   },
   {
    "duration": 8,
    "start_time": "2022-12-16T09:36:43.076Z"
   },
   {
    "duration": 9,
    "start_time": "2022-12-16T09:36:43.583Z"
   },
   {
    "duration": 6,
    "start_time": "2022-12-16T09:36:44.275Z"
   },
   {
    "duration": 6,
    "start_time": "2022-12-16T09:40:52.115Z"
   },
   {
    "duration": 9,
    "start_time": "2022-12-16T09:41:15.226Z"
   },
   {
    "duration": 4,
    "start_time": "2022-12-16T09:41:15.780Z"
   },
   {
    "duration": 5,
    "start_time": "2022-12-16T09:42:11.087Z"
   },
   {
    "duration": 8,
    "start_time": "2022-12-16T09:47:26.660Z"
   },
   {
    "duration": 5,
    "start_time": "2022-12-16T09:48:10.459Z"
   },
   {
    "duration": 4,
    "start_time": "2022-12-16T09:52:23.636Z"
   },
   {
    "duration": 4,
    "start_time": "2022-12-16T09:52:33.022Z"
   },
   {
    "duration": 5,
    "start_time": "2022-12-16T09:57:53.558Z"
   },
   {
    "duration": 5,
    "start_time": "2022-12-16T11:38:06.236Z"
   },
   {
    "duration": 16,
    "start_time": "2022-12-16T11:38:18.804Z"
   },
   {
    "duration": 15,
    "start_time": "2022-12-16T11:38:27.823Z"
   },
   {
    "duration": 2,
    "start_time": "2022-12-16T11:38:33.538Z"
   },
   {
    "duration": 93,
    "start_time": "2022-12-16T11:38:34.191Z"
   },
   {
    "duration": 15,
    "start_time": "2022-12-16T11:38:34.799Z"
   },
   {
    "duration": 13,
    "start_time": "2022-12-16T11:38:37.291Z"
   },
   {
    "duration": 4,
    "start_time": "2022-12-16T11:38:39.842Z"
   },
   {
    "duration": 10,
    "start_time": "2022-12-16T11:38:40.711Z"
   },
   {
    "duration": 14,
    "start_time": "2022-12-16T11:38:41.497Z"
   },
   {
    "duration": 14,
    "start_time": "2022-12-16T11:38:44.548Z"
   },
   {
    "duration": 8,
    "start_time": "2022-12-16T11:38:56.807Z"
   },
   {
    "duration": 5,
    "start_time": "2022-12-16T11:38:59.168Z"
   },
   {
    "duration": 6,
    "start_time": "2022-12-16T11:39:30.317Z"
   },
   {
    "duration": 4,
    "start_time": "2022-12-16T11:39:32.966Z"
   },
   {
    "duration": 7,
    "start_time": "2022-12-16T11:39:35.577Z"
   },
   {
    "duration": 4,
    "start_time": "2022-12-16T11:39:40.238Z"
   },
   {
    "duration": 5,
    "start_time": "2022-12-16T11:39:43.916Z"
   },
   {
    "duration": 19,
    "start_time": "2022-12-16T11:39:47.187Z"
   },
   {
    "duration": 4,
    "start_time": "2022-12-16T11:40:16.066Z"
   },
   {
    "duration": 5,
    "start_time": "2022-12-16T11:40:17.544Z"
   },
   {
    "duration": 5,
    "start_time": "2022-12-16T11:40:25.116Z"
   },
   {
    "duration": 24,
    "start_time": "2022-12-16T11:40:27.442Z"
   },
   {
    "duration": 22,
    "start_time": "2022-12-16T11:40:28.590Z"
   },
   {
    "duration": 5,
    "start_time": "2022-12-16T11:41:06.333Z"
   },
   {
    "duration": 22,
    "start_time": "2022-12-16T11:41:48.036Z"
   },
   {
    "duration": 22,
    "start_time": "2022-12-16T11:42:23.671Z"
   },
   {
    "duration": 16,
    "start_time": "2022-12-16T11:42:49.814Z"
   },
   {
    "duration": 140,
    "start_time": "2022-12-16T11:43:09.862Z"
   },
   {
    "duration": 291,
    "start_time": "2022-12-16T11:43:10.652Z"
   },
   {
    "duration": 10,
    "start_time": "2022-12-16T11:44:18.266Z"
   },
   {
    "duration": 11,
    "start_time": "2022-12-16T11:44:29.542Z"
   },
   {
    "duration": 13,
    "start_time": "2022-12-16T11:44:36.099Z"
   },
   {
    "duration": 147,
    "start_time": "2022-12-16T11:44:37.017Z"
   },
   {
    "duration": 283,
    "start_time": "2022-12-16T11:44:37.674Z"
   },
   {
    "duration": 11,
    "start_time": "2022-12-16T11:44:39.947Z"
   },
   {
    "duration": 21,
    "start_time": "2022-12-16T11:44:48.455Z"
   },
   {
    "duration": 1086,
    "start_time": "2022-12-16T11:44:54.618Z"
   },
   {
    "duration": 101,
    "start_time": "2022-12-16T11:44:55.706Z"
   },
   {
    "duration": 31,
    "start_time": "2022-12-16T11:44:55.810Z"
   },
   {
    "duration": 22,
    "start_time": "2022-12-16T11:44:55.843Z"
   },
   {
    "duration": 5,
    "start_time": "2022-12-16T11:44:55.868Z"
   },
   {
    "duration": 16,
    "start_time": "2022-12-16T11:44:55.875Z"
   },
   {
    "duration": 70,
    "start_time": "2022-12-16T11:44:55.893Z"
   },
   {
    "duration": 16,
    "start_time": "2022-12-16T11:44:55.965Z"
   },
   {
    "duration": 16,
    "start_time": "2022-12-16T11:44:55.983Z"
   },
   {
    "duration": 6,
    "start_time": "2022-12-16T11:44:56.002Z"
   },
   {
    "duration": 21,
    "start_time": "2022-12-16T11:44:56.009Z"
   },
   {
    "duration": 6,
    "start_time": "2022-12-16T11:44:56.039Z"
   },
   {
    "duration": 17,
    "start_time": "2022-12-16T11:44:56.048Z"
   },
   {
    "duration": 9,
    "start_time": "2022-12-16T11:44:56.069Z"
   },
   {
    "duration": 8,
    "start_time": "2022-12-16T11:44:56.080Z"
   },
   {
    "duration": 28,
    "start_time": "2022-12-16T11:44:56.089Z"
   },
   {
    "duration": 4,
    "start_time": "2022-12-16T11:44:56.118Z"
   },
   {
    "duration": 15,
    "start_time": "2022-12-16T11:44:56.126Z"
   },
   {
    "duration": 12,
    "start_time": "2022-12-16T11:44:56.142Z"
   },
   {
    "duration": 32,
    "start_time": "2022-12-16T11:44:56.155Z"
   },
   {
    "duration": 20,
    "start_time": "2022-12-16T11:44:56.189Z"
   },
   {
    "duration": 12,
    "start_time": "2022-12-16T11:44:56.210Z"
   },
   {
    "duration": 19,
    "start_time": "2022-12-16T11:44:56.223Z"
   },
   {
    "duration": 10,
    "start_time": "2022-12-16T11:44:56.243Z"
   },
   {
    "duration": 21,
    "start_time": "2022-12-16T11:44:56.255Z"
   },
   {
    "duration": 12,
    "start_time": "2022-12-16T11:44:56.277Z"
   },
   {
    "duration": 188,
    "start_time": "2022-12-16T11:44:56.290Z"
   },
   {
    "duration": 301,
    "start_time": "2022-12-16T11:44:56.480Z"
   },
   {
    "duration": 19,
    "start_time": "2022-12-16T11:44:56.783Z"
   },
   {
    "duration": 196,
    "start_time": "2022-12-16T11:44:56.804Z"
   },
   {
    "duration": 177,
    "start_time": "2022-12-16T11:44:57.001Z"
   },
   {
    "duration": 171,
    "start_time": "2022-12-16T11:44:57.180Z"
   },
   {
    "duration": 193,
    "start_time": "2022-12-16T11:44:57.352Z"
   },
   {
    "duration": 266,
    "start_time": "2022-12-16T11:44:57.546Z"
   },
   {
    "duration": 177,
    "start_time": "2022-12-16T11:44:57.813Z"
   },
   {
    "duration": 194,
    "start_time": "2022-12-16T11:44:57.992Z"
   },
   {
    "duration": 262,
    "start_time": "2022-12-16T11:44:58.188Z"
   },
   {
    "duration": 19,
    "start_time": "2022-12-16T11:44:58.452Z"
   },
   {
    "duration": 15,
    "start_time": "2022-12-16T11:44:58.472Z"
   },
   {
    "duration": 159,
    "start_time": "2022-12-16T11:44:58.488Z"
   },
   {
    "duration": 257,
    "start_time": "2022-12-16T11:44:58.651Z"
   },
   {
    "duration": 197,
    "start_time": "2022-12-16T11:44:58.910Z"
   },
   {
    "duration": 157,
    "start_time": "2022-12-16T11:44:59.109Z"
   },
   {
    "duration": 5,
    "start_time": "2022-12-16T11:44:59.268Z"
   },
   {
    "duration": 151,
    "start_time": "2022-12-16T11:44:59.275Z"
   },
   {
    "duration": 9,
    "start_time": "2022-12-16T11:44:59.428Z"
   },
   {
    "duration": 151,
    "start_time": "2022-12-16T11:44:59.439Z"
   },
   {
    "duration": 5,
    "start_time": "2022-12-16T11:44:59.591Z"
   },
   {
    "duration": 223,
    "start_time": "2022-12-16T11:44:59.597Z"
   },
   {
    "duration": 17,
    "start_time": "2022-12-16T11:44:59.822Z"
   },
   {
    "duration": 160,
    "start_time": "2022-12-16T11:44:59.844Z"
   },
   {
    "duration": 5,
    "start_time": "2022-12-16T11:45:00.006Z"
   },
   {
    "duration": 158,
    "start_time": "2022-12-16T11:45:00.012Z"
   },
   {
    "duration": 4,
    "start_time": "2022-12-16T11:45:00.172Z"
   },
   {
    "duration": 135,
    "start_time": "2022-12-16T11:45:00.177Z"
   },
   {
    "duration": 21,
    "start_time": "2022-12-16T11:45:00.313Z"
   },
   {
    "duration": 129,
    "start_time": "2022-12-16T11:45:00.335Z"
   },
   {
    "duration": 4,
    "start_time": "2022-12-16T11:45:00.466Z"
   },
   {
    "duration": 147,
    "start_time": "2022-12-16T11:45:00.472Z"
   },
   {
    "duration": 8,
    "start_time": "2022-12-16T11:45:00.621Z"
   },
   {
    "duration": 212,
    "start_time": "2022-12-16T11:45:00.632Z"
   },
   {
    "duration": 5,
    "start_time": "2022-12-16T11:45:00.845Z"
   },
   {
    "duration": 31,
    "start_time": "2022-12-16T11:45:00.851Z"
   },
   {
    "duration": 260,
    "start_time": "2022-12-16T11:45:00.884Z"
   },
   {
    "duration": 112,
    "start_time": "2022-12-16T11:45:01.146Z"
   },
   {
    "duration": 103,
    "start_time": "2022-12-16T11:45:01.260Z"
   },
   {
    "duration": 100,
    "start_time": "2022-12-16T11:45:01.365Z"
   },
   {
    "duration": 190,
    "start_time": "2022-12-16T11:45:01.466Z"
   },
   {
    "duration": 242,
    "start_time": "2022-12-16T11:45:01.659Z"
   },
   {
    "duration": 140,
    "start_time": "2022-12-16T11:45:01.902Z"
   },
   {
    "duration": 22,
    "start_time": "2022-12-16T11:45:02.043Z"
   },
   {
    "duration": 20,
    "start_time": "2022-12-16T11:45:02.067Z"
   },
   {
    "duration": 13,
    "start_time": "2022-12-16T11:45:02.089Z"
   },
   {
    "duration": 48,
    "start_time": "2022-12-16T11:45:02.104Z"
   },
   {
    "duration": 30,
    "start_time": "2022-12-16T11:45:02.153Z"
   },
   {
    "duration": 101,
    "start_time": "2022-12-16T11:45:02.184Z"
   },
   {
    "duration": 1,
    "start_time": "2022-12-16T11:45:02.286Z"
   },
   {
    "duration": 0,
    "start_time": "2022-12-16T11:45:02.288Z"
   },
   {
    "duration": 0,
    "start_time": "2022-12-16T11:45:02.289Z"
   },
   {
    "duration": 9,
    "start_time": "2022-12-16T11:45:23.201Z"
   },
   {
    "duration": 4,
    "start_time": "2022-12-16T11:45:23.778Z"
   },
   {
    "duration": 8,
    "start_time": "2022-12-16T11:45:27.093Z"
   },
   {
    "duration": 4,
    "start_time": "2022-12-16T11:45:27.308Z"
   },
   {
    "duration": 10,
    "start_time": "2022-12-16T12:53:16.684Z"
   },
   {
    "duration": 10,
    "start_time": "2022-12-16T12:53:20.350Z"
   },
   {
    "duration": 329,
    "start_time": "2022-12-16T13:00:44.752Z"
   },
   {
    "duration": 135,
    "start_time": "2022-12-16T13:03:30.607Z"
   },
   {
    "duration": 30,
    "start_time": "2022-12-16T13:18:24.196Z"
   },
   {
    "duration": 34,
    "start_time": "2022-12-16T13:18:47.367Z"
   },
   {
    "duration": 13,
    "start_time": "2022-12-16T13:42:21.871Z"
   },
   {
    "duration": 75,
    "start_time": "2022-12-16T13:57:33.852Z"
   },
   {
    "duration": 8,
    "start_time": "2022-12-16T13:57:47.072Z"
   },
   {
    "duration": 4,
    "start_time": "2022-12-16T14:00:35.408Z"
   },
   {
    "duration": 51,
    "start_time": "2022-12-16T16:38:09.331Z"
   },
   {
    "duration": 1202,
    "start_time": "2022-12-16T16:38:12.189Z"
   },
   {
    "duration": 73,
    "start_time": "2022-12-16T16:38:13.393Z"
   },
   {
    "duration": 20,
    "start_time": "2022-12-16T16:38:15.029Z"
   },
   {
    "duration": 2764,
    "start_time": "2022-12-16T16:41:41.227Z"
   },
   {
    "duration": 113,
    "start_time": "2022-12-16T16:41:43.993Z"
   },
   {
    "duration": 87,
    "start_time": "2022-12-16T16:41:44.108Z"
   },
   {
    "duration": 88,
    "start_time": "2022-12-16T16:41:44.197Z"
   },
   {
    "duration": 5,
    "start_time": "2022-12-16T16:41:44.288Z"
   },
   {
    "duration": 83,
    "start_time": "2022-12-16T16:41:44.295Z"
   },
   {
    "duration": 217,
    "start_time": "2022-12-16T16:41:44.380Z"
   },
   {
    "duration": 86,
    "start_time": "2022-12-16T16:41:44.599Z"
   },
   {
    "duration": 10,
    "start_time": "2022-12-16T16:41:44.687Z"
   },
   {
    "duration": 5,
    "start_time": "2022-12-16T16:41:44.699Z"
   },
   {
    "duration": 80,
    "start_time": "2022-12-16T16:41:44.706Z"
   },
   {
    "duration": 4,
    "start_time": "2022-12-16T16:41:44.789Z"
   },
   {
    "duration": 7,
    "start_time": "2022-12-16T16:41:44.795Z"
   },
   {
    "duration": 6,
    "start_time": "2022-12-16T16:41:44.879Z"
   },
   {
    "duration": 6,
    "start_time": "2022-12-16T16:41:44.888Z"
   },
   {
    "duration": 97,
    "start_time": "2022-12-16T16:41:44.896Z"
   },
   {
    "duration": 6,
    "start_time": "2022-12-16T16:41:44.995Z"
   },
   {
    "duration": 83,
    "start_time": "2022-12-16T16:41:45.003Z"
   },
   {
    "duration": 11,
    "start_time": "2022-12-16T16:41:45.088Z"
   },
   {
    "duration": 98,
    "start_time": "2022-12-16T16:41:45.100Z"
   },
   {
    "duration": 92,
    "start_time": "2022-12-16T16:41:45.200Z"
   },
   {
    "duration": 86,
    "start_time": "2022-12-16T16:41:45.294Z"
   },
   {
    "duration": 14,
    "start_time": "2022-12-16T16:41:45.381Z"
   },
   {
    "duration": 82,
    "start_time": "2022-12-16T16:41:45.397Z"
   },
   {
    "duration": 100,
    "start_time": "2022-12-16T16:41:45.481Z"
   },
   {
    "duration": 96,
    "start_time": "2022-12-16T16:41:45.583Z"
   },
   {
    "duration": 431,
    "start_time": "2022-12-16T16:41:45.681Z"
   },
   {
    "duration": 778,
    "start_time": "2022-12-16T16:41:46.114Z"
   },
   {
    "duration": 24,
    "start_time": "2022-12-16T16:41:46.894Z"
   },
   {
    "duration": 427,
    "start_time": "2022-12-16T16:41:46.978Z"
   },
   {
    "duration": 245,
    "start_time": "2022-12-16T16:41:47.408Z"
   },
   {
    "duration": 194,
    "start_time": "2022-12-16T16:41:47.655Z"
   },
   {
    "duration": 198,
    "start_time": "2022-12-16T16:41:47.851Z"
   },
   {
    "duration": 320,
    "start_time": "2022-12-16T16:41:48.051Z"
   },
   {
    "duration": 195,
    "start_time": "2022-12-16T16:41:48.377Z"
   },
   {
    "duration": 195,
    "start_time": "2022-12-16T16:41:48.574Z"
   },
   {
    "duration": 279,
    "start_time": "2022-12-16T16:41:48.770Z"
   },
   {
    "duration": 33,
    "start_time": "2022-12-16T16:41:49.051Z"
   },
   {
    "duration": 16,
    "start_time": "2022-12-16T16:41:49.086Z"
   },
   {
    "duration": 160,
    "start_time": "2022-12-16T16:41:49.104Z"
   },
   {
    "duration": 270,
    "start_time": "2022-12-16T16:41:49.279Z"
   },
   {
    "duration": 203,
    "start_time": "2022-12-16T16:41:49.550Z"
   },
   {
    "duration": 165,
    "start_time": "2022-12-16T16:41:49.754Z"
   },
   {
    "duration": 6,
    "start_time": "2022-12-16T16:41:49.921Z"
   },
   {
    "duration": 169,
    "start_time": "2022-12-16T16:41:49.928Z"
   },
   {
    "duration": 5,
    "start_time": "2022-12-16T16:41:50.099Z"
   },
   {
    "duration": 168,
    "start_time": "2022-12-16T16:41:50.105Z"
   },
   {
    "duration": 5,
    "start_time": "2022-12-16T16:41:50.275Z"
   },
   {
    "duration": 252,
    "start_time": "2022-12-16T16:41:50.282Z"
   },
   {
    "duration": 5,
    "start_time": "2022-12-16T16:41:50.536Z"
   },
   {
    "duration": 170,
    "start_time": "2022-12-16T16:41:50.543Z"
   },
   {
    "duration": 6,
    "start_time": "2022-12-16T16:41:50.715Z"
   },
   {
    "duration": 152,
    "start_time": "2022-12-16T16:41:50.722Z"
   },
   {
    "duration": 5,
    "start_time": "2022-12-16T16:41:50.877Z"
   },
   {
    "duration": 174,
    "start_time": "2022-12-16T16:41:50.884Z"
   },
   {
    "duration": 5,
    "start_time": "2022-12-16T16:41:51.060Z"
   },
   {
    "duration": 150,
    "start_time": "2022-12-16T16:41:51.066Z"
   },
   {
    "duration": 4,
    "start_time": "2022-12-16T16:41:51.218Z"
   },
   {
    "duration": 156,
    "start_time": "2022-12-16T16:41:51.224Z"
   },
   {
    "duration": 6,
    "start_time": "2022-12-16T16:41:51.381Z"
   },
   {
    "duration": 162,
    "start_time": "2022-12-16T16:41:51.389Z"
   },
   {
    "duration": 5,
    "start_time": "2022-12-16T16:41:51.552Z"
   },
   {
    "duration": 44,
    "start_time": "2022-12-16T16:41:51.559Z"
   },
   {
    "duration": 207,
    "start_time": "2022-12-16T16:41:51.605Z"
   },
   {
    "duration": 120,
    "start_time": "2022-12-16T16:41:51.814Z"
   },
   {
    "duration": 108,
    "start_time": "2022-12-16T16:41:51.935Z"
   },
   {
    "duration": 110,
    "start_time": "2022-12-16T16:41:52.045Z"
   },
   {
    "duration": 163,
    "start_time": "2022-12-16T16:41:52.158Z"
   },
   {
    "duration": 256,
    "start_time": "2022-12-16T16:41:52.323Z"
   },
   {
    "duration": 153,
    "start_time": "2022-12-16T16:41:52.582Z"
   },
   {
    "duration": 25,
    "start_time": "2022-12-16T16:41:52.737Z"
   },
   {
    "duration": 15,
    "start_time": "2022-12-16T16:41:52.777Z"
   },
   {
    "duration": 9,
    "start_time": "2022-12-16T16:41:52.794Z"
   },
   {
    "duration": 7,
    "start_time": "2022-12-16T16:41:52.806Z"
   },
   {
    "duration": 14,
    "start_time": "2022-12-16T16:41:52.814Z"
   },
   {
    "duration": 7,
    "start_time": "2022-12-16T16:41:52.830Z"
   },
   {
    "duration": 12,
    "start_time": "2022-12-16T17:17:55.470Z"
   },
   {
    "duration": 1205,
    "start_time": "2022-12-16T17:51:59.309Z"
   },
   {
    "duration": 83,
    "start_time": "2022-12-16T17:52:00.516Z"
   },
   {
    "duration": 22,
    "start_time": "2022-12-16T17:52:00.603Z"
   },
   {
    "duration": 28,
    "start_time": "2022-12-16T17:52:00.627Z"
   },
   {
    "duration": 10,
    "start_time": "2022-12-16T17:52:00.657Z"
   },
   {
    "duration": 17,
    "start_time": "2022-12-16T17:52:00.678Z"
   },
   {
    "duration": 76,
    "start_time": "2022-12-16T17:52:00.696Z"
   },
   {
    "duration": 16,
    "start_time": "2022-12-16T17:52:00.773Z"
   },
   {
    "duration": 33,
    "start_time": "2022-12-16T17:52:00.791Z"
   },
   {
    "duration": 40,
    "start_time": "2022-12-16T17:52:00.826Z"
   },
   {
    "duration": 29,
    "start_time": "2022-12-16T17:52:00.868Z"
   },
   {
    "duration": 28,
    "start_time": "2022-12-16T17:52:00.899Z"
   },
   {
    "duration": 28,
    "start_time": "2022-12-16T17:52:00.932Z"
   },
   {
    "duration": 47,
    "start_time": "2022-12-16T17:52:00.962Z"
   },
   {
    "duration": 25,
    "start_time": "2022-12-16T17:52:01.011Z"
   },
   {
    "duration": 44,
    "start_time": "2022-12-16T17:52:01.038Z"
   },
   {
    "duration": 6,
    "start_time": "2022-12-16T17:52:01.084Z"
   },
   {
    "duration": 30,
    "start_time": "2022-12-16T17:52:01.092Z"
   },
   {
    "duration": 39,
    "start_time": "2022-12-16T17:52:01.124Z"
   },
   {
    "duration": 37,
    "start_time": "2022-12-16T17:52:01.165Z"
   },
   {
    "duration": 27,
    "start_time": "2022-12-16T17:52:01.204Z"
   },
   {
    "duration": 18,
    "start_time": "2022-12-16T17:52:01.233Z"
   },
   {
    "duration": 33,
    "start_time": "2022-12-16T17:52:01.254Z"
   },
   {
    "duration": 10,
    "start_time": "2022-12-16T17:52:01.290Z"
   },
   {
    "duration": 37,
    "start_time": "2022-12-16T17:52:01.303Z"
   },
   {
    "duration": 41,
    "start_time": "2022-12-16T17:52:01.342Z"
   },
   {
    "duration": 196,
    "start_time": "2022-12-16T17:52:01.384Z"
   },
   {
    "duration": 349,
    "start_time": "2022-12-16T17:52:01.582Z"
   },
   {
    "duration": 22,
    "start_time": "2022-12-16T17:52:01.933Z"
   },
   {
    "duration": 208,
    "start_time": "2022-12-16T17:52:01.957Z"
   },
   {
    "duration": 190,
    "start_time": "2022-12-16T17:52:02.167Z"
   },
   {
    "duration": 197,
    "start_time": "2022-12-16T17:52:02.358Z"
   },
   {
    "duration": 199,
    "start_time": "2022-12-16T17:52:02.557Z"
   },
   {
    "duration": 285,
    "start_time": "2022-12-16T17:52:02.758Z"
   },
   {
    "duration": 184,
    "start_time": "2022-12-16T17:52:03.045Z"
   },
   {
    "duration": 195,
    "start_time": "2022-12-16T17:52:03.231Z"
   },
   {
    "duration": 282,
    "start_time": "2022-12-16T17:52:03.427Z"
   },
   {
    "duration": 20,
    "start_time": "2022-12-16T17:52:03.710Z"
   },
   {
    "duration": 15,
    "start_time": "2022-12-16T17:52:03.732Z"
   },
   {
    "duration": 176,
    "start_time": "2022-12-16T17:52:03.751Z"
   },
   {
    "duration": 281,
    "start_time": "2022-12-16T17:52:03.929Z"
   },
   {
    "duration": 213,
    "start_time": "2022-12-16T17:52:04.212Z"
   },
   {
    "duration": 179,
    "start_time": "2022-12-16T17:52:04.426Z"
   },
   {
    "duration": 5,
    "start_time": "2022-12-16T17:52:04.606Z"
   },
   {
    "duration": 154,
    "start_time": "2022-12-16T17:52:04.613Z"
   },
   {
    "duration": 11,
    "start_time": "2022-12-16T17:52:04.769Z"
   },
   {
    "duration": 166,
    "start_time": "2022-12-16T17:52:04.782Z"
   },
   {
    "duration": 5,
    "start_time": "2022-12-16T17:52:04.950Z"
   },
   {
    "duration": 241,
    "start_time": "2022-12-16T17:52:04.957Z"
   },
   {
    "duration": 5,
    "start_time": "2022-12-16T17:52:05.200Z"
   },
   {
    "duration": 164,
    "start_time": "2022-12-16T17:52:05.207Z"
   },
   {
    "duration": 8,
    "start_time": "2022-12-16T17:52:05.372Z"
   },
   {
    "duration": 144,
    "start_time": "2022-12-16T17:52:05.382Z"
   },
   {
    "duration": 5,
    "start_time": "2022-12-16T17:52:05.527Z"
   },
   {
    "duration": 159,
    "start_time": "2022-12-16T17:52:05.534Z"
   },
   {
    "duration": 5,
    "start_time": "2022-12-16T17:52:05.695Z"
   },
   {
    "duration": 144,
    "start_time": "2022-12-16T17:52:05.702Z"
   },
   {
    "duration": 6,
    "start_time": "2022-12-16T17:52:05.848Z"
   },
   {
    "duration": 161,
    "start_time": "2022-12-16T17:52:05.856Z"
   },
   {
    "duration": 7,
    "start_time": "2022-12-16T17:52:06.019Z"
   },
   {
    "duration": 216,
    "start_time": "2022-12-16T17:52:06.027Z"
   },
   {
    "duration": 6,
    "start_time": "2022-12-16T17:52:06.244Z"
   },
   {
    "duration": 26,
    "start_time": "2022-12-16T17:52:06.252Z"
   },
   {
    "duration": 200,
    "start_time": "2022-12-16T17:52:06.280Z"
   },
   {
    "duration": 111,
    "start_time": "2022-12-16T17:52:06.482Z"
   },
   {
    "duration": 116,
    "start_time": "2022-12-16T17:52:06.594Z"
   },
   {
    "duration": 111,
    "start_time": "2022-12-16T17:52:06.712Z"
   },
   {
    "duration": 153,
    "start_time": "2022-12-16T17:52:06.824Z"
   },
   {
    "duration": 240,
    "start_time": "2022-12-16T17:52:06.979Z"
   },
   {
    "duration": 146,
    "start_time": "2022-12-16T17:52:07.220Z"
   },
   {
    "duration": 33,
    "start_time": "2022-12-16T17:52:07.367Z"
   },
   {
    "duration": 14,
    "start_time": "2022-12-16T17:52:07.401Z"
   },
   {
    "duration": 19,
    "start_time": "2022-12-16T17:52:07.416Z"
   },
   {
    "duration": 17,
    "start_time": "2022-12-16T17:52:07.436Z"
   },
   {
    "duration": 10,
    "start_time": "2022-12-16T17:52:07.455Z"
   },
   {
    "duration": 6,
    "start_time": "2022-12-16T17:52:07.477Z"
   },
   {
    "duration": 74,
    "start_time": "2022-12-17T07:53:54.733Z"
   },
   {
    "duration": 87,
    "start_time": "2022-12-17T07:54:21.536Z"
   },
   {
    "duration": 3,
    "start_time": "2022-12-17T07:57:15.014Z"
   },
   {
    "duration": 38,
    "start_time": "2022-12-17T08:00:23.389Z"
   },
   {
    "duration": 1281,
    "start_time": "2022-12-17T08:00:36.017Z"
   },
   {
    "duration": 214,
    "start_time": "2022-12-17T08:00:37.300Z"
   },
   {
    "duration": 20,
    "start_time": "2022-12-17T08:00:38.726Z"
   },
   {
    "duration": 15,
    "start_time": "2022-12-17T08:00:39.352Z"
   },
   {
    "duration": 5,
    "start_time": "2022-12-17T08:00:42.207Z"
   },
   {
    "duration": 12,
    "start_time": "2022-12-17T08:00:43.201Z"
   },
   {
    "duration": 51,
    "start_time": "2022-12-17T08:00:44.843Z"
   },
   {
    "duration": 18,
    "start_time": "2022-12-17T08:00:45.785Z"
   },
   {
    "duration": 8,
    "start_time": "2022-12-17T08:00:49.117Z"
   },
   {
    "duration": 5,
    "start_time": "2022-12-17T08:00:49.981Z"
   },
   {
    "duration": 72,
    "start_time": "2022-12-17T08:00:51.923Z"
   },
   {
    "duration": 23,
    "start_time": "2022-12-17T08:00:53.127Z"
   },
   {
    "duration": 8,
    "start_time": "2022-12-17T08:01:25.109Z"
   },
   {
    "duration": 8,
    "start_time": "2022-12-17T08:01:37.960Z"
   },
   {
    "duration": 1180,
    "start_time": "2022-12-17T08:01:56.339Z"
   },
   {
    "duration": 7,
    "start_time": "2022-12-17T08:02:08.452Z"
   },
   {
    "duration": 74,
    "start_time": "2022-12-17T08:04:03.948Z"
   },
   {
    "duration": 75,
    "start_time": "2022-12-17T08:06:04.257Z"
   },
   {
    "duration": 73,
    "start_time": "2022-12-17T08:06:17.804Z"
   },
   {
    "duration": 75,
    "start_time": "2022-12-17T08:07:32.062Z"
   },
   {
    "duration": 71,
    "start_time": "2022-12-17T08:07:37.783Z"
   },
   {
    "duration": 74,
    "start_time": "2022-12-17T08:07:43.316Z"
   },
   {
    "duration": 12,
    "start_time": "2022-12-17T08:07:50.404Z"
   },
   {
    "duration": 8,
    "start_time": "2022-12-17T08:07:57.736Z"
   },
   {
    "duration": 15,
    "start_time": "2022-12-17T08:09:01.222Z"
   },
   {
    "duration": 13,
    "start_time": "2022-12-17T08:09:18.201Z"
   },
   {
    "duration": 13,
    "start_time": "2022-12-17T08:10:45.497Z"
   },
   {
    "duration": 20,
    "start_time": "2022-12-17T08:10:53.865Z"
   },
   {
    "duration": 19,
    "start_time": "2022-12-17T08:12:36.890Z"
   },
   {
    "duration": 18,
    "start_time": "2022-12-17T08:13:33.649Z"
   },
   {
    "duration": 20,
    "start_time": "2022-12-17T08:13:49.285Z"
   },
   {
    "duration": 18,
    "start_time": "2022-12-17T08:15:06.880Z"
   },
   {
    "duration": 18,
    "start_time": "2022-12-17T08:15:37.244Z"
   },
   {
    "duration": 22,
    "start_time": "2022-12-17T08:17:34.235Z"
   },
   {
    "duration": 20,
    "start_time": "2022-12-17T08:17:40.125Z"
   },
   {
    "duration": 77,
    "start_time": "2022-12-17T08:17:45.670Z"
   },
   {
    "duration": 43,
    "start_time": "2022-12-17T08:22:43.704Z"
   },
   {
    "duration": 20,
    "start_time": "2022-12-17T08:22:51.410Z"
   },
   {
    "duration": 24,
    "start_time": "2022-12-17T08:23:06.218Z"
   },
   {
    "duration": 18,
    "start_time": "2022-12-17T08:23:13.435Z"
   },
   {
    "duration": 15,
    "start_time": "2022-12-17T08:58:05.123Z"
   },
   {
    "duration": 10,
    "start_time": "2022-12-17T08:58:16.546Z"
   },
   {
    "duration": 6,
    "start_time": "2022-12-17T08:58:21.438Z"
   },
   {
    "duration": 4,
    "start_time": "2022-12-17T09:06:49.775Z"
   },
   {
    "duration": 16,
    "start_time": "2022-12-17T09:06:54.061Z"
   },
   {
    "duration": 4,
    "start_time": "2022-12-17T09:10:01.297Z"
   },
   {
    "duration": 3,
    "start_time": "2022-12-17T09:10:58.107Z"
   },
   {
    "duration": 5,
    "start_time": "2022-12-17T09:11:02.023Z"
   },
   {
    "duration": 6,
    "start_time": "2022-12-17T09:11:23.171Z"
   },
   {
    "duration": 6,
    "start_time": "2022-12-17T09:12:00.133Z"
   },
   {
    "duration": 12,
    "start_time": "2022-12-17T09:12:02.744Z"
   },
   {
    "duration": 12,
    "start_time": "2022-12-17T09:12:03.631Z"
   },
   {
    "duration": 5,
    "start_time": "2022-12-17T09:12:05.352Z"
   },
   {
    "duration": 15,
    "start_time": "2022-12-17T09:12:08.334Z"
   },
   {
    "duration": 73,
    "start_time": "2022-12-17T09:13:16.613Z"
   },
   {
    "duration": 8,
    "start_time": "2022-12-17T09:14:10.464Z"
   },
   {
    "duration": 31,
    "start_time": "2022-12-17T09:14:13.985Z"
   },
   {
    "duration": 69,
    "start_time": "2022-12-17T09:18:29.784Z"
   },
   {
    "duration": 19,
    "start_time": "2022-12-17T09:18:38.099Z"
   },
   {
    "duration": 436,
    "start_time": "2022-12-17T09:18:56.885Z"
   },
   {
    "duration": 174,
    "start_time": "2022-12-17T09:19:07.355Z"
   },
   {
    "duration": 173,
    "start_time": "2022-12-17T09:19:18.085Z"
   },
   {
    "duration": 167,
    "start_time": "2022-12-17T09:19:27.242Z"
   },
   {
    "duration": 202,
    "start_time": "2022-12-17T09:19:34.934Z"
   },
   {
    "duration": 167,
    "start_time": "2022-12-17T09:19:42.544Z"
   },
   {
    "duration": 239,
    "start_time": "2022-12-17T09:19:48.096Z"
   },
   {
    "duration": 243,
    "start_time": "2022-12-17T09:19:54.401Z"
   },
   {
    "duration": 76,
    "start_time": "2022-12-17T09:21:56.241Z"
   },
   {
    "duration": 85,
    "start_time": "2022-12-17T09:23:07.096Z"
   },
   {
    "duration": 66,
    "start_time": "2022-12-17T09:23:13.286Z"
   },
   {
    "duration": 10,
    "start_time": "2022-12-17T09:23:26.230Z"
   },
   {
    "duration": 22,
    "start_time": "2022-12-17T09:23:32.816Z"
   },
   {
    "duration": 16,
    "start_time": "2022-12-17T09:23:35.611Z"
   },
   {
    "duration": 152,
    "start_time": "2022-12-17T09:23:38.495Z"
   },
   {
    "duration": 266,
    "start_time": "2022-12-17T09:23:47.831Z"
   },
   {
    "duration": 206,
    "start_time": "2022-12-17T09:23:53.741Z"
   },
   {
    "duration": 159,
    "start_time": "2022-12-17T09:24:00.082Z"
   },
   {
    "duration": 334,
    "start_time": "2022-12-17T09:24:06.840Z"
   },
   {
    "duration": 5,
    "start_time": "2022-12-17T09:24:13.389Z"
   },
   {
    "duration": 309,
    "start_time": "2022-12-17T09:24:14.093Z"
   },
   {
    "duration": 147,
    "start_time": "2022-12-17T09:24:36.210Z"
   },
   {
    "duration": 5,
    "start_time": "2022-12-17T09:24:39.190Z"
   },
   {
    "duration": 12,
    "start_time": "2022-12-17T09:24:44.083Z"
   },
   {
    "duration": 167,
    "start_time": "2022-12-17T09:24:54.011Z"
   },
   {
    "duration": 10,
    "start_time": "2022-12-17T09:24:59.452Z"
   },
   {
    "duration": 158,
    "start_time": "2022-12-17T09:25:04.886Z"
   },
   {
    "duration": 10,
    "start_time": "2022-12-17T09:25:10.943Z"
   },
   {
    "duration": 163,
    "start_time": "2022-12-17T09:25:16.393Z"
   },
   {
    "duration": 9,
    "start_time": "2022-12-17T09:25:20.991Z"
   },
   {
    "duration": 17,
    "start_time": "2022-12-17T09:30:05.581Z"
   },
   {
    "duration": 192,
    "start_time": "2022-12-17T09:30:16.955Z"
   },
   {
    "duration": 121,
    "start_time": "2022-12-17T09:30:23.965Z"
   },
   {
    "duration": 90,
    "start_time": "2022-12-17T09:30:29.665Z"
   },
   {
    "duration": 185,
    "start_time": "2022-12-17T09:30:35.620Z"
   },
   {
    "duration": 151,
    "start_time": "2022-12-17T09:30:41.841Z"
   },
   {
    "duration": 133,
    "start_time": "2022-12-17T09:30:47.485Z"
   },
   {
    "duration": 9,
    "start_time": "2022-12-17T09:30:55.174Z"
   },
   {
    "duration": 1120,
    "start_time": "2022-12-17T09:31:21.478Z"
   },
   {
    "duration": 89,
    "start_time": "2022-12-17T09:31:22.600Z"
   },
   {
    "duration": 19,
    "start_time": "2022-12-17T09:31:22.690Z"
   },
   {
    "duration": 13,
    "start_time": "2022-12-17T09:31:22.711Z"
   },
   {
    "duration": 4,
    "start_time": "2022-12-17T09:31:22.726Z"
   },
   {
    "duration": 11,
    "start_time": "2022-12-17T09:31:22.732Z"
   },
   {
    "duration": 84,
    "start_time": "2022-12-17T09:31:22.744Z"
   },
   {
    "duration": 14,
    "start_time": "2022-12-17T09:31:22.830Z"
   },
   {
    "duration": 12,
    "start_time": "2022-12-17T09:31:22.845Z"
   },
   {
    "duration": 19,
    "start_time": "2022-12-17T09:31:22.859Z"
   },
   {
    "duration": 36,
    "start_time": "2022-12-17T09:31:22.880Z"
   },
   {
    "duration": 6,
    "start_time": "2022-12-17T09:31:22.917Z"
   },
   {
    "duration": 6,
    "start_time": "2022-12-17T09:31:22.924Z"
   },
   {
    "duration": 7,
    "start_time": "2022-12-17T09:31:22.932Z"
   },
   {
    "duration": 8,
    "start_time": "2022-12-17T09:31:22.940Z"
   },
   {
    "duration": 11,
    "start_time": "2022-12-17T09:31:22.950Z"
   },
   {
    "duration": 24,
    "start_time": "2022-12-17T09:31:22.977Z"
   },
   {
    "duration": 5,
    "start_time": "2022-12-17T09:31:23.003Z"
   },
   {
    "duration": 9,
    "start_time": "2022-12-17T09:31:23.010Z"
   },
   {
    "duration": 9,
    "start_time": "2022-12-17T09:31:23.020Z"
   },
   {
    "duration": 7,
    "start_time": "2022-12-17T09:31:23.030Z"
   },
   {
    "duration": 11,
    "start_time": "2022-12-17T09:31:23.038Z"
   },
   {
    "duration": 38,
    "start_time": "2022-12-17T09:31:23.050Z"
   },
   {
    "duration": 23,
    "start_time": "2022-12-17T09:31:23.089Z"
   },
   {
    "duration": 4,
    "start_time": "2022-12-17T09:31:23.114Z"
   },
   {
    "duration": 23,
    "start_time": "2022-12-17T09:31:23.119Z"
   },
   {
    "duration": 11,
    "start_time": "2022-12-17T09:31:23.143Z"
   },
   {
    "duration": 8,
    "start_time": "2022-12-17T09:31:23.177Z"
   },
   {
    "duration": 24,
    "start_time": "2022-12-17T09:31:23.187Z"
   },
   {
    "duration": 13,
    "start_time": "2022-12-17T09:31:23.213Z"
   },
   {
    "duration": 182,
    "start_time": "2022-12-17T09:31:23.228Z"
   },
   {
    "duration": 316,
    "start_time": "2022-12-17T09:31:23.412Z"
   },
   {
    "duration": 20,
    "start_time": "2022-12-17T09:31:23.729Z"
   },
   {
    "duration": 227,
    "start_time": "2022-12-17T09:31:23.751Z"
   },
   {
    "duration": 224,
    "start_time": "2022-12-17T09:31:23.980Z"
   },
   {
    "duration": 181,
    "start_time": "2022-12-17T09:31:24.205Z"
   },
   {
    "duration": 177,
    "start_time": "2022-12-17T09:31:24.388Z"
   },
   {
    "duration": 259,
    "start_time": "2022-12-17T09:31:24.567Z"
   },
   {
    "duration": 184,
    "start_time": "2022-12-17T09:31:24.828Z"
   },
   {
    "duration": 178,
    "start_time": "2022-12-17T09:31:25.014Z"
   },
   {
    "duration": 240,
    "start_time": "2022-12-17T09:31:25.193Z"
   },
   {
    "duration": 22,
    "start_time": "2022-12-17T09:31:25.435Z"
   },
   {
    "duration": 26,
    "start_time": "2022-12-17T09:31:25.458Z"
   },
   {
    "duration": 157,
    "start_time": "2022-12-17T09:31:25.485Z"
   },
   {
    "duration": 305,
    "start_time": "2022-12-17T09:31:25.643Z"
   },
   {
    "duration": 199,
    "start_time": "2022-12-17T09:31:25.949Z"
   },
   {
    "duration": 238,
    "start_time": "2022-12-17T09:31:26.150Z"
   },
   {
    "duration": 4,
    "start_time": "2022-12-17T09:31:26.390Z"
   },
   {
    "duration": 209,
    "start_time": "2022-12-17T09:31:26.396Z"
   },
   {
    "duration": 5,
    "start_time": "2022-12-17T09:31:26.606Z"
   },
   {
    "duration": 157,
    "start_time": "2022-12-17T09:31:26.612Z"
   },
   {
    "duration": 10,
    "start_time": "2022-12-17T09:31:26.770Z"
   },
   {
    "duration": 253,
    "start_time": "2022-12-17T09:31:26.782Z"
   },
   {
    "duration": 4,
    "start_time": "2022-12-17T09:31:27.036Z"
   },
   {
    "duration": 156,
    "start_time": "2022-12-17T09:31:27.042Z"
   },
   {
    "duration": 5,
    "start_time": "2022-12-17T09:31:27.200Z"
   },
   {
    "duration": 140,
    "start_time": "2022-12-17T09:31:27.206Z"
   },
   {
    "duration": 5,
    "start_time": "2022-12-17T09:31:27.347Z"
   },
   {
    "duration": 140,
    "start_time": "2022-12-17T09:31:27.354Z"
   },
   {
    "duration": 5,
    "start_time": "2022-12-17T09:31:27.496Z"
   },
   {
    "duration": 150,
    "start_time": "2022-12-17T09:31:27.502Z"
   },
   {
    "duration": 5,
    "start_time": "2022-12-17T09:31:27.653Z"
   },
   {
    "duration": 146,
    "start_time": "2022-12-17T09:31:27.659Z"
   },
   {
    "duration": 6,
    "start_time": "2022-12-17T09:31:27.808Z"
   },
   {
    "duration": 157,
    "start_time": "2022-12-17T09:31:27.816Z"
   },
   {
    "duration": 4,
    "start_time": "2022-12-17T09:31:27.978Z"
   },
   {
    "duration": 16,
    "start_time": "2022-12-17T09:31:27.984Z"
   },
   {
    "duration": 193,
    "start_time": "2022-12-17T09:31:28.002Z"
   },
   {
    "duration": 105,
    "start_time": "2022-12-17T09:31:28.197Z"
   },
   {
    "duration": 121,
    "start_time": "2022-12-17T09:31:28.303Z"
   },
   {
    "duration": 110,
    "start_time": "2022-12-17T09:31:28.426Z"
   },
   {
    "duration": 151,
    "start_time": "2022-12-17T09:31:28.537Z"
   },
   {
    "duration": 240,
    "start_time": "2022-12-17T09:31:28.689Z"
   },
   {
    "duration": 151,
    "start_time": "2022-12-17T09:31:28.931Z"
   },
   {
    "duration": 26,
    "start_time": "2022-12-17T09:31:29.084Z"
   },
   {
    "duration": 14,
    "start_time": "2022-12-17T09:31:29.111Z"
   },
   {
    "duration": 12,
    "start_time": "2022-12-17T09:31:29.126Z"
   },
   {
    "duration": 10,
    "start_time": "2022-12-17T09:31:29.139Z"
   },
   {
    "duration": 31,
    "start_time": "2022-12-17T09:31:29.151Z"
   },
   {
    "duration": 5,
    "start_time": "2022-12-17T09:31:29.184Z"
   },
   {
    "duration": 102,
    "start_time": "2022-12-17T10:08:34.293Z"
   },
   {
    "duration": 22,
    "start_time": "2022-12-17T10:08:43.963Z"
   },
   {
    "duration": 21,
    "start_time": "2022-12-17T10:10:01.315Z"
   },
   {
    "duration": 70,
    "start_time": "2022-12-17T10:10:07.639Z"
   },
   {
    "duration": 20,
    "start_time": "2022-12-17T10:10:16.856Z"
   },
   {
    "duration": 24,
    "start_time": "2022-12-17T10:10:22.324Z"
   },
   {
    "duration": 1204,
    "start_time": "2022-12-17T10:12:40.365Z"
   },
   {
    "duration": 82,
    "start_time": "2022-12-17T10:12:41.571Z"
   },
   {
    "duration": 19,
    "start_time": "2022-12-17T10:12:41.655Z"
   },
   {
    "duration": 15,
    "start_time": "2022-12-17T10:12:41.676Z"
   },
   {
    "duration": 8,
    "start_time": "2022-12-17T10:12:41.693Z"
   },
   {
    "duration": 11,
    "start_time": "2022-12-17T10:12:41.703Z"
   },
   {
    "duration": 71,
    "start_time": "2022-12-17T10:12:41.716Z"
   },
   {
    "duration": 15,
    "start_time": "2022-12-17T10:12:41.789Z"
   },
   {
    "duration": 15,
    "start_time": "2022-12-17T10:12:41.806Z"
   },
   {
    "duration": 5,
    "start_time": "2022-12-17T10:12:41.824Z"
   },
   {
    "duration": 47,
    "start_time": "2022-12-17T10:12:41.831Z"
   },
   {
    "duration": 8,
    "start_time": "2022-12-17T10:12:41.879Z"
   },
   {
    "duration": 8,
    "start_time": "2022-12-17T10:12:41.889Z"
   },
   {
    "duration": 10,
    "start_time": "2022-12-17T10:12:41.899Z"
   },
   {
    "duration": 5,
    "start_time": "2022-12-17T10:12:41.911Z"
   },
   {
    "duration": 8,
    "start_time": "2022-12-17T10:12:41.918Z"
   },
   {
    "duration": 23,
    "start_time": "2022-12-17T10:12:41.927Z"
   },
   {
    "duration": 29,
    "start_time": "2022-12-17T10:12:41.951Z"
   },
   {
    "duration": 16,
    "start_time": "2022-12-17T10:12:41.982Z"
   },
   {
    "duration": 12,
    "start_time": "2022-12-17T10:12:41.999Z"
   },
   {
    "duration": 5,
    "start_time": "2022-12-17T10:12:42.013Z"
   },
   {
    "duration": 9,
    "start_time": "2022-12-17T10:12:42.020Z"
   },
   {
    "duration": 29,
    "start_time": "2022-12-17T10:12:42.031Z"
   },
   {
    "duration": 40,
    "start_time": "2022-12-17T10:12:42.062Z"
   },
   {
    "duration": 5,
    "start_time": "2022-12-17T10:12:42.103Z"
   },
   {
    "duration": 18,
    "start_time": "2022-12-17T10:12:42.109Z"
   },
   {
    "duration": 13,
    "start_time": "2022-12-17T10:12:42.129Z"
   },
   {
    "duration": 33,
    "start_time": "2022-12-17T10:12:42.146Z"
   },
   {
    "duration": 28,
    "start_time": "2022-12-17T10:12:42.181Z"
   },
   {
    "duration": 13,
    "start_time": "2022-12-17T10:12:42.211Z"
   },
   {
    "duration": 218,
    "start_time": "2022-12-17T10:12:42.226Z"
   },
   {
    "duration": 317,
    "start_time": "2022-12-17T10:12:42.446Z"
   },
   {
    "duration": 27,
    "start_time": "2022-12-17T10:12:42.765Z"
   },
   {
    "duration": 204,
    "start_time": "2022-12-17T10:12:42.794Z"
   },
   {
    "duration": 185,
    "start_time": "2022-12-17T10:12:43.000Z"
   },
   {
    "duration": 17,
    "start_time": "2022-12-17T10:12:43.187Z"
   },
   {
    "duration": 5,
    "start_time": "2022-12-17T10:12:43.206Z"
   },
   {
    "duration": 186,
    "start_time": "2022-12-17T10:12:43.213Z"
   },
   {
    "duration": 179,
    "start_time": "2022-12-17T10:12:43.401Z"
   },
   {
    "duration": 265,
    "start_time": "2022-12-17T10:12:43.582Z"
   },
   {
    "duration": 220,
    "start_time": "2022-12-17T10:12:43.849Z"
   },
   {
    "duration": 186,
    "start_time": "2022-12-17T10:12:44.071Z"
   },
   {
    "duration": 249,
    "start_time": "2022-12-17T10:12:44.259Z"
   },
   {
    "duration": 18,
    "start_time": "2022-12-17T10:12:44.510Z"
   },
   {
    "duration": 14,
    "start_time": "2022-12-17T10:12:44.530Z"
   },
   {
    "duration": 155,
    "start_time": "2022-12-17T10:12:44.545Z"
   },
   {
    "duration": 272,
    "start_time": "2022-12-17T10:12:44.701Z"
   },
   {
    "duration": 193,
    "start_time": "2022-12-17T10:12:44.974Z"
   },
   {
    "duration": 157,
    "start_time": "2022-12-17T10:12:45.168Z"
   },
   {
    "duration": 6,
    "start_time": "2022-12-17T10:12:45.327Z"
   },
   {
    "duration": 174,
    "start_time": "2022-12-17T10:12:45.335Z"
   },
   {
    "duration": 6,
    "start_time": "2022-12-17T10:12:45.511Z"
   },
   {
    "duration": 160,
    "start_time": "2022-12-17T10:12:45.519Z"
   },
   {
    "duration": 7,
    "start_time": "2022-12-17T10:12:45.681Z"
   },
   {
    "duration": 250,
    "start_time": "2022-12-17T10:12:45.690Z"
   },
   {
    "duration": 5,
    "start_time": "2022-12-17T10:12:45.942Z"
   },
   {
    "duration": 152,
    "start_time": "2022-12-17T10:12:45.948Z"
   },
   {
    "duration": 6,
    "start_time": "2022-12-17T10:12:46.101Z"
   },
   {
    "duration": 145,
    "start_time": "2022-12-17T10:12:46.108Z"
   },
   {
    "duration": 5,
    "start_time": "2022-12-17T10:12:46.255Z"
   },
   {
    "duration": 148,
    "start_time": "2022-12-17T10:12:46.261Z"
   },
   {
    "duration": 5,
    "start_time": "2022-12-17T10:12:46.412Z"
   },
   {
    "duration": 151,
    "start_time": "2022-12-17T10:12:46.419Z"
   },
   {
    "duration": 5,
    "start_time": "2022-12-17T10:12:46.579Z"
   },
   {
    "duration": 145,
    "start_time": "2022-12-17T10:12:46.585Z"
   },
   {
    "duration": 5,
    "start_time": "2022-12-17T10:12:46.732Z"
   },
   {
    "duration": 151,
    "start_time": "2022-12-17T10:12:46.739Z"
   },
   {
    "duration": 5,
    "start_time": "2022-12-17T10:12:46.892Z"
   },
   {
    "duration": 18,
    "start_time": "2022-12-17T10:12:46.899Z"
   },
   {
    "duration": 192,
    "start_time": "2022-12-17T10:12:46.918Z"
   },
   {
    "duration": 108,
    "start_time": "2022-12-17T10:12:47.112Z"
   },
   {
    "duration": 111,
    "start_time": "2022-12-17T10:12:47.222Z"
   },
   {
    "duration": 128,
    "start_time": "2022-12-17T10:12:47.334Z"
   },
   {
    "duration": 167,
    "start_time": "2022-12-17T10:12:47.464Z"
   },
   {
    "duration": 238,
    "start_time": "2022-12-17T10:12:47.632Z"
   },
   {
    "duration": 168,
    "start_time": "2022-12-17T10:12:47.872Z"
   },
   {
    "duration": 42,
    "start_time": "2022-12-17T10:12:48.043Z"
   },
   {
    "duration": 15,
    "start_time": "2022-12-17T10:12:48.087Z"
   },
   {
    "duration": 8,
    "start_time": "2022-12-17T10:12:48.104Z"
   },
   {
    "duration": 12,
    "start_time": "2022-12-17T10:12:48.114Z"
   },
   {
    "duration": 16,
    "start_time": "2022-12-17T10:12:48.128Z"
   },
   {
    "duration": 6,
    "start_time": "2022-12-17T10:12:48.149Z"
   },
   {
    "duration": 7,
    "start_time": "2022-12-17T10:29:23.947Z"
   },
   {
    "duration": 15,
    "start_time": "2022-12-17T10:29:33.536Z"
   },
   {
    "duration": 4,
    "start_time": "2022-12-17T10:29:43.607Z"
   },
   {
    "duration": 16,
    "start_time": "2022-12-17T10:29:45.167Z"
   },
   {
    "duration": 4,
    "start_time": "2022-12-17T10:29:52.644Z"
   },
   {
    "duration": 82,
    "start_time": "2022-12-17T10:29:53.287Z"
   },
   {
    "duration": 15,
    "start_time": "2022-12-17T10:29:53.551Z"
   },
   {
    "duration": 15,
    "start_time": "2022-12-17T10:29:53.785Z"
   },
   {
    "duration": 5,
    "start_time": "2022-12-17T10:29:54.425Z"
   },
   {
    "duration": 9,
    "start_time": "2022-12-17T10:29:54.865Z"
   },
   {
    "duration": 16,
    "start_time": "2022-12-17T10:29:55.113Z"
   },
   {
    "duration": 15,
    "start_time": "2022-12-17T10:29:55.305Z"
   },
   {
    "duration": 8,
    "start_time": "2022-12-17T10:29:56.050Z"
   },
   {
    "duration": 6,
    "start_time": "2022-12-17T10:29:56.304Z"
   },
   {
    "duration": 28,
    "start_time": "2022-12-17T10:29:56.546Z"
   },
   {
    "duration": 9,
    "start_time": "2022-12-17T10:29:57.161Z"
   },
   {
    "duration": 5,
    "start_time": "2022-12-17T10:29:58.256Z"
   },
   {
    "duration": 6,
    "start_time": "2022-12-17T10:29:58.491Z"
   },
   {
    "duration": 8,
    "start_time": "2022-12-17T10:29:58.953Z"
   },
   {
    "duration": 7,
    "start_time": "2022-12-17T10:29:59.187Z"
   },
   {
    "duration": 34,
    "start_time": "2022-12-17T10:29:59.633Z"
   },
   {
    "duration": 6,
    "start_time": "2022-12-17T10:30:00.670Z"
   },
   {
    "duration": 8,
    "start_time": "2022-12-17T10:30:01.470Z"
   },
   {
    "duration": 6,
    "start_time": "2022-12-17T10:30:02.446Z"
   },
   {
    "duration": 10,
    "start_time": "2022-12-17T10:30:03.905Z"
   },
   {
    "duration": 9,
    "start_time": "2022-12-17T10:30:04.165Z"
   },
   {
    "duration": 28,
    "start_time": "2022-12-17T10:30:04.609Z"
   },
   {
    "duration": 28,
    "start_time": "2022-12-17T10:30:05.117Z"
   },
   {
    "duration": 4,
    "start_time": "2022-12-17T10:30:06.754Z"
   },
   {
    "duration": 15,
    "start_time": "2022-12-17T10:30:07.768Z"
   },
   {
    "duration": 14,
    "start_time": "2022-12-17T10:30:08.648Z"
   },
   {
    "duration": 10,
    "start_time": "2022-12-17T10:30:12.462Z"
   },
   {
    "duration": 26,
    "start_time": "2022-12-17T10:30:12.943Z"
   },
   {
    "duration": 16,
    "start_time": "2022-12-17T10:30:17.268Z"
   },
   {
    "duration": 149,
    "start_time": "2022-12-17T10:30:18.340Z"
   },
   {
    "duration": 300,
    "start_time": "2022-12-17T10:30:19.870Z"
   },
   {
    "duration": 20,
    "start_time": "2022-12-17T10:30:22.102Z"
   },
   {
    "duration": 182,
    "start_time": "2022-12-17T10:30:23.419Z"
   },
   {
    "duration": 183,
    "start_time": "2022-12-17T10:30:27.618Z"
   },
   {
    "duration": 16,
    "start_time": "2022-12-17T10:30:29.862Z"
   },
   {
    "duration": 6,
    "start_time": "2022-12-17T10:30:30.630Z"
   },
   {
    "duration": 17,
    "start_time": "2022-12-17T10:30:31.488Z"
   },
   {
    "duration": 5,
    "start_time": "2022-12-17T10:30:50.311Z"
   },
   {
    "duration": 141,
    "start_time": "2022-12-17T10:30:54.939Z"
   },
   {
    "duration": 10,
    "start_time": "2022-12-17T10:34:47.597Z"
   },
   {
    "duration": 3,
    "start_time": "2022-12-17T10:35:09.247Z"
   },
   {
    "duration": 103,
    "start_time": "2022-12-17T10:35:09.865Z"
   },
   {
    "duration": 16,
    "start_time": "2022-12-17T10:35:10.107Z"
   },
   {
    "duration": 14,
    "start_time": "2022-12-17T10:35:10.323Z"
   },
   {
    "duration": 5,
    "start_time": "2022-12-17T10:35:11.023Z"
   },
   {
    "duration": 9,
    "start_time": "2022-12-17T10:35:11.505Z"
   },
   {
    "duration": 16,
    "start_time": "2022-12-17T10:35:11.793Z"
   },
   {
    "duration": 15,
    "start_time": "2022-12-17T10:35:12.057Z"
   },
   {
    "duration": 8,
    "start_time": "2022-12-17T10:35:12.714Z"
   },
   {
    "duration": 6,
    "start_time": "2022-12-17T10:35:12.917Z"
   },
   {
    "duration": 21,
    "start_time": "2022-12-17T10:35:13.342Z"
   },
   {
    "duration": 6,
    "start_time": "2022-12-17T10:35:13.786Z"
   },
   {
    "duration": 4,
    "start_time": "2022-12-17T10:35:14.524Z"
   },
   {
    "duration": 5,
    "start_time": "2022-12-17T10:35:14.770Z"
   },
   {
    "duration": 4,
    "start_time": "2022-12-17T10:35:15.239Z"
   },
   {
    "duration": 5,
    "start_time": "2022-12-17T10:35:15.476Z"
   },
   {
    "duration": 44,
    "start_time": "2022-12-17T10:35:15.704Z"
   },
   {
    "duration": 6,
    "start_time": "2022-12-17T10:35:16.410Z"
   },
   {
    "duration": 7,
    "start_time": "2022-12-17T10:35:17.174Z"
   },
   {
    "duration": 7,
    "start_time": "2022-12-17T10:35:17.761Z"
   },
   {
    "duration": 5,
    "start_time": "2022-12-17T10:35:20.260Z"
   },
   {
    "duration": 7,
    "start_time": "2022-12-17T10:35:20.680Z"
   },
   {
    "duration": 29,
    "start_time": "2022-12-17T10:35:21.185Z"
   },
   {
    "duration": 24,
    "start_time": "2022-12-17T10:35:21.862Z"
   },
   {
    "duration": 4,
    "start_time": "2022-12-17T10:35:24.221Z"
   },
   {
    "duration": 15,
    "start_time": "2022-12-17T10:35:24.804Z"
   },
   {
    "duration": 12,
    "start_time": "2022-12-17T10:35:25.530Z"
   },
   {
    "duration": 9,
    "start_time": "2022-12-17T10:35:29.264Z"
   },
   {
    "duration": 25,
    "start_time": "2022-12-17T10:35:29.794Z"
   },
   {
    "duration": 18,
    "start_time": "2022-12-17T10:35:33.870Z"
   },
   {
    "duration": 168,
    "start_time": "2022-12-17T10:35:34.469Z"
   },
   {
    "duration": 331,
    "start_time": "2022-12-17T10:35:34.709Z"
   },
   {
    "duration": 38,
    "start_time": "2022-12-17T10:35:38.117Z"
   },
   {
    "duration": 290,
    "start_time": "2022-12-17T10:35:39.781Z"
   },
   {
    "duration": 173,
    "start_time": "2022-12-17T10:35:43.188Z"
   },
   {
    "duration": 25,
    "start_time": "2022-12-17T10:35:48.485Z"
   },
   {
    "duration": 8,
    "start_time": "2022-12-17T10:35:53.349Z"
   },
   {
    "duration": 13,
    "start_time": "2022-12-17T10:36:05.574Z"
   },
   {
    "duration": 159,
    "start_time": "2022-12-17T10:36:11.649Z"
   },
   {
    "duration": 198,
    "start_time": "2022-12-17T10:37:11.195Z"
   },
   {
    "duration": 177,
    "start_time": "2022-12-17T10:37:11.723Z"
   },
   {
    "duration": 180,
    "start_time": "2022-12-17T10:37:13.546Z"
   },
   {
    "duration": 166,
    "start_time": "2022-12-17T10:37:15.048Z"
   },
   {
    "duration": 171,
    "start_time": "2022-12-17T10:37:17.057Z"
   },
   {
    "duration": 257,
    "start_time": "2022-12-17T10:37:19.097Z"
   },
   {
    "duration": 250,
    "start_time": "2022-12-17T11:01:11.289Z"
   },
   {
    "duration": 437,
    "start_time": "2022-12-17T11:02:04.158Z"
   },
   {
    "duration": 307,
    "start_time": "2022-12-17T11:02:13.710Z"
   },
   {
    "duration": 283,
    "start_time": "2022-12-17T11:03:34.010Z"
   },
   {
    "duration": 262,
    "start_time": "2022-12-17T11:05:40.003Z"
   },
   {
    "duration": 284,
    "start_time": "2022-12-17T11:05:50.824Z"
   },
   {
    "duration": 398,
    "start_time": "2022-12-17T11:10:24.990Z"
   },
   {
    "duration": 329,
    "start_time": "2022-12-17T11:10:32.983Z"
   },
   {
    "duration": 328,
    "start_time": "2022-12-17T11:10:43.705Z"
   },
   {
    "duration": 265,
    "start_time": "2022-12-17T11:10:57.434Z"
   },
   {
    "duration": 325,
    "start_time": "2022-12-17T11:11:02.788Z"
   },
   {
    "duration": 276,
    "start_time": "2022-12-17T11:11:10.809Z"
   },
   {
    "duration": 404,
    "start_time": "2022-12-17T11:11:33.558Z"
   },
   {
    "duration": 326,
    "start_time": "2022-12-17T11:21:31.968Z"
   },
   {
    "duration": 282,
    "start_time": "2022-12-17T11:21:39.920Z"
   },
   {
    "duration": 305,
    "start_time": "2022-12-17T11:21:46.382Z"
   },
   {
    "duration": 318,
    "start_time": "2022-12-17T11:22:10.829Z"
   },
   {
    "duration": 538,
    "start_time": "2022-12-17T11:30:01.199Z"
   },
   {
    "duration": 551,
    "start_time": "2022-12-17T11:32:05.178Z"
   },
   {
    "duration": 373,
    "start_time": "2022-12-17T11:32:13.428Z"
   },
   {
    "duration": 373,
    "start_time": "2022-12-17T11:32:20.354Z"
   },
   {
    "duration": 107,
    "start_time": "2022-12-17T11:34:06.165Z"
   },
   {
    "duration": 24,
    "start_time": "2022-12-17T11:34:15.908Z"
   },
   {
    "duration": 24,
    "start_time": "2022-12-17T11:35:33.637Z"
   },
   {
    "duration": 26,
    "start_time": "2022-12-17T11:37:37.033Z"
   },
   {
    "duration": 23,
    "start_time": "2022-12-17T11:38:04.917Z"
   },
   {
    "duration": 25,
    "start_time": "2022-12-17T11:38:19.641Z"
   },
   {
    "duration": 21,
    "start_time": "2022-12-17T11:38:53.842Z"
   },
   {
    "duration": 31,
    "start_time": "2022-12-17T11:39:17.861Z"
   },
   {
    "duration": 23,
    "start_time": "2022-12-17T11:39:37.243Z"
   },
   {
    "duration": 19,
    "start_time": "2022-12-17T11:45:15.644Z"
   },
   {
    "duration": 252,
    "start_time": "2022-12-17T11:45:54.817Z"
   },
   {
    "duration": 20,
    "start_time": "2022-12-17T11:52:23.412Z"
   },
   {
    "duration": 35,
    "start_time": "2022-12-17T11:52:34.760Z"
   },
   {
    "duration": 32,
    "start_time": "2022-12-17T11:53:00.290Z"
   },
   {
    "duration": 31,
    "start_time": "2022-12-17T11:53:02.474Z"
   },
   {
    "duration": 141,
    "start_time": "2022-12-17T11:53:19.361Z"
   },
   {
    "duration": 111,
    "start_time": "2022-12-17T11:53:20.321Z"
   },
   {
    "duration": 114,
    "start_time": "2022-12-17T11:53:21.001Z"
   },
   {
    "duration": 9,
    "start_time": "2022-12-17T11:53:21.809Z"
   },
   {
    "duration": 20,
    "start_time": "2022-12-17T11:53:24.524Z"
   },
   {
    "duration": 23,
    "start_time": "2022-12-17T11:54:17.901Z"
   },
   {
    "duration": 25,
    "start_time": "2022-12-17T11:54:30.671Z"
   },
   {
    "duration": 17,
    "start_time": "2022-12-17T11:54:34.411Z"
   },
   {
    "duration": 27,
    "start_time": "2022-12-17T11:54:52.567Z"
   },
   {
    "duration": 19,
    "start_time": "2022-12-17T11:54:59.400Z"
   },
   {
    "duration": 32,
    "start_time": "2022-12-17T11:56:16.067Z"
   },
   {
    "duration": 270,
    "start_time": "2022-12-17T11:57:24.413Z"
   },
   {
    "duration": 292,
    "start_time": "2022-12-17T11:57:56.454Z"
   },
   {
    "duration": 387,
    "start_time": "2022-12-17T11:58:15.820Z"
   },
   {
    "duration": 672,
    "start_time": "2022-12-17T11:59:00.893Z"
   },
   {
    "duration": 21,
    "start_time": "2022-12-17T11:59:26.432Z"
   },
   {
    "duration": 566,
    "start_time": "2022-12-17T11:59:31.717Z"
   },
   {
    "duration": 323,
    "start_time": "2022-12-17T12:01:26.344Z"
   },
   {
    "duration": 377,
    "start_time": "2022-12-17T12:02:24.373Z"
   },
   {
    "duration": 391,
    "start_time": "2022-12-17T12:02:41.508Z"
   },
   {
    "duration": 447,
    "start_time": "2022-12-17T12:03:02.526Z"
   },
   {
    "duration": 360,
    "start_time": "2022-12-17T12:03:27.059Z"
   },
   {
    "duration": 307,
    "start_time": "2022-12-17T12:04:42.432Z"
   },
   {
    "duration": 17,
    "start_time": "2022-12-17T12:14:36.131Z"
   },
   {
    "duration": 14,
    "start_time": "2022-12-17T12:15:45.942Z"
   },
   {
    "duration": 16,
    "start_time": "2022-12-17T12:15:49.887Z"
   },
   {
    "duration": 20,
    "start_time": "2022-12-17T12:17:01.138Z"
   },
   {
    "duration": 18,
    "start_time": "2022-12-17T12:17:37.136Z"
   },
   {
    "duration": 13,
    "start_time": "2022-12-17T12:17:47.823Z"
   },
   {
    "duration": 14,
    "start_time": "2022-12-17T12:17:48.575Z"
   },
   {
    "duration": 14,
    "start_time": "2022-12-17T12:17:49.755Z"
   },
   {
    "duration": 17,
    "start_time": "2022-12-17T12:18:17.704Z"
   },
   {
    "duration": 20,
    "start_time": "2022-12-17T12:19:16.789Z"
   },
   {
    "duration": 22,
    "start_time": "2022-12-17T12:19:38.188Z"
   },
   {
    "duration": 19,
    "start_time": "2022-12-17T12:24:17.498Z"
   },
   {
    "duration": 19,
    "start_time": "2022-12-17T12:24:56.598Z"
   },
   {
    "duration": 20,
    "start_time": "2022-12-17T12:25:30.961Z"
   },
   {
    "duration": 21,
    "start_time": "2022-12-17T12:25:34.201Z"
   },
   {
    "duration": 25,
    "start_time": "2022-12-17T12:26:34.477Z"
   },
   {
    "duration": 28,
    "start_time": "2022-12-17T12:27:21.366Z"
   },
   {
    "duration": 579,
    "start_time": "2022-12-17T12:28:26.337Z"
   },
   {
    "duration": 544,
    "start_time": "2022-12-17T12:28:37.890Z"
   },
   {
    "duration": 28,
    "start_time": "2022-12-17T12:28:52.453Z"
   },
   {
    "duration": 17,
    "start_time": "2022-12-17T12:28:59.833Z"
   },
   {
    "duration": 468,
    "start_time": "2022-12-17T12:29:10.197Z"
   },
   {
    "duration": 601,
    "start_time": "2022-12-17T12:29:16.262Z"
   },
   {
    "duration": 529,
    "start_time": "2022-12-17T12:29:24.013Z"
   },
   {
    "duration": 1321,
    "start_time": "2022-12-17T12:30:27.819Z"
   },
   {
    "duration": 1522,
    "start_time": "2022-12-17T12:30:50.057Z"
   },
   {
    "duration": 12,
    "start_time": "2022-12-17T12:31:18.190Z"
   },
   {
    "duration": 4,
    "start_time": "2022-12-17T12:31:36.628Z"
   },
   {
    "duration": 7,
    "start_time": "2022-12-17T12:31:41.153Z"
   },
   {
    "duration": 1436,
    "start_time": "2022-12-17T12:31:55.167Z"
   },
   {
    "duration": 652,
    "start_time": "2022-12-17T12:34:27.363Z"
   },
   {
    "duration": 16,
    "start_time": "2022-12-17T12:36:29.323Z"
   },
   {
    "duration": 18,
    "start_time": "2022-12-17T12:36:34.458Z"
   },
   {
    "duration": 10,
    "start_time": "2022-12-17T12:38:10.455Z"
   },
   {
    "duration": 19,
    "start_time": "2022-12-17T12:38:20.471Z"
   },
   {
    "duration": 23,
    "start_time": "2022-12-17T12:38:59.669Z"
   },
   {
    "duration": 14,
    "start_time": "2022-12-17T12:40:44.205Z"
   },
   {
    "duration": 18,
    "start_time": "2022-12-17T12:43:17.135Z"
   },
   {
    "duration": 14,
    "start_time": "2022-12-17T12:43:18.111Z"
   },
   {
    "duration": 17,
    "start_time": "2022-12-17T12:43:19.403Z"
   },
   {
    "duration": 627,
    "start_time": "2022-12-17T12:43:35.842Z"
   },
   {
    "duration": 14,
    "start_time": "2022-12-17T12:46:09.624Z"
   },
   {
    "duration": 1223,
    "start_time": "2022-12-17T12:54:30.401Z"
   },
   {
    "duration": 14,
    "start_time": "2022-12-17T12:55:02.500Z"
   },
   {
    "duration": 8,
    "start_time": "2022-12-17T12:55:05.420Z"
   },
   {
    "duration": 8,
    "start_time": "2022-12-17T12:55:16.044Z"
   },
   {
    "duration": 18,
    "start_time": "2022-12-17T12:55:17.865Z"
   },
   {
    "duration": 18,
    "start_time": "2022-12-17T12:56:35.678Z"
   },
   {
    "duration": 19,
    "start_time": "2022-12-17T12:56:38.201Z"
   },
   {
    "duration": 20,
    "start_time": "2022-12-17T12:56:49.278Z"
   },
   {
    "duration": 7,
    "start_time": "2022-12-17T12:56:51.394Z"
   },
   {
    "duration": 8,
    "start_time": "2022-12-17T12:57:01.814Z"
   },
   {
    "duration": 20,
    "start_time": "2022-12-17T12:57:24.597Z"
   },
   {
    "duration": 9,
    "start_time": "2022-12-17T12:58:25.034Z"
   },
   {
    "duration": 16,
    "start_time": "2022-12-17T12:58:35.050Z"
   },
   {
    "duration": 7,
    "start_time": "2022-12-17T13:00:19.247Z"
   },
   {
    "duration": 507,
    "start_time": "2022-12-17T13:00:21.793Z"
   },
   {
    "duration": 1201,
    "start_time": "2022-12-17T13:00:42.238Z"
   },
   {
    "duration": 92,
    "start_time": "2022-12-17T13:00:43.442Z"
   },
   {
    "duration": 19,
    "start_time": "2022-12-17T13:00:43.536Z"
   },
   {
    "duration": 16,
    "start_time": "2022-12-17T13:00:43.557Z"
   },
   {
    "duration": 10,
    "start_time": "2022-12-17T13:00:43.575Z"
   },
   {
    "duration": 16,
    "start_time": "2022-12-17T13:00:43.591Z"
   },
   {
    "duration": 60,
    "start_time": "2022-12-17T13:00:43.608Z"
   },
   {
    "duration": 26,
    "start_time": "2022-12-17T13:00:43.669Z"
   },
   {
    "duration": 16,
    "start_time": "2022-12-17T13:00:43.697Z"
   },
   {
    "duration": 12,
    "start_time": "2022-12-17T13:00:43.716Z"
   },
   {
    "duration": 28,
    "start_time": "2022-12-17T13:00:43.730Z"
   },
   {
    "duration": 6,
    "start_time": "2022-12-17T13:00:43.760Z"
   },
   {
    "duration": 25,
    "start_time": "2022-12-17T13:00:43.767Z"
   },
   {
    "duration": 15,
    "start_time": "2022-12-17T13:00:43.793Z"
   },
   {
    "duration": 12,
    "start_time": "2022-12-17T13:00:43.810Z"
   },
   {
    "duration": 9,
    "start_time": "2022-12-17T13:00:43.824Z"
   },
   {
    "duration": 36,
    "start_time": "2022-12-17T13:00:43.834Z"
   },
   {
    "duration": 10,
    "start_time": "2022-12-17T13:00:43.872Z"
   },
   {
    "duration": 64,
    "start_time": "2022-12-17T13:00:43.886Z"
   },
   {
    "duration": 20,
    "start_time": "2022-12-17T13:00:43.952Z"
   },
   {
    "duration": 37,
    "start_time": "2022-12-17T13:00:43.974Z"
   },
   {
    "duration": 37,
    "start_time": "2022-12-17T13:00:44.013Z"
   },
   {
    "duration": 94,
    "start_time": "2022-12-17T13:00:44.051Z"
   },
   {
    "duration": 54,
    "start_time": "2022-12-17T13:00:44.147Z"
   },
   {
    "duration": 19,
    "start_time": "2022-12-17T13:00:44.203Z"
   },
   {
    "duration": 32,
    "start_time": "2022-12-17T13:00:44.225Z"
   },
   {
    "duration": 31,
    "start_time": "2022-12-17T13:00:44.259Z"
   },
   {
    "duration": 21,
    "start_time": "2022-12-17T13:00:44.296Z"
   },
   {
    "duration": 29,
    "start_time": "2022-12-17T13:00:44.318Z"
   },
   {
    "duration": 15,
    "start_time": "2022-12-17T13:00:44.348Z"
   },
   {
    "duration": 186,
    "start_time": "2022-12-17T13:00:44.364Z"
   },
   {
    "duration": 323,
    "start_time": "2022-12-17T13:00:44.553Z"
   },
   {
    "duration": 29,
    "start_time": "2022-12-17T13:00:44.877Z"
   },
   {
    "duration": 203,
    "start_time": "2022-12-17T13:00:44.907Z"
   },
   {
    "duration": 189,
    "start_time": "2022-12-17T13:00:45.112Z"
   },
   {
    "duration": 15,
    "start_time": "2022-12-17T13:00:45.303Z"
   },
   {
    "duration": 9,
    "start_time": "2022-12-17T13:00:45.320Z"
   },
   {
    "duration": 227,
    "start_time": "2022-12-17T13:00:45.330Z"
   },
   {
    "duration": 208,
    "start_time": "2022-12-17T13:00:45.559Z"
   },
   {
    "duration": 287,
    "start_time": "2022-12-17T13:00:45.769Z"
   },
   {
    "duration": 179,
    "start_time": "2022-12-17T13:00:46.057Z"
   },
   {
    "duration": 179,
    "start_time": "2022-12-17T13:00:46.237Z"
   },
   {
    "duration": 274,
    "start_time": "2022-12-17T13:00:46.417Z"
   },
   {
    "duration": 21,
    "start_time": "2022-12-17T13:00:46.693Z"
   },
   {
    "duration": 21,
    "start_time": "2022-12-17T13:00:46.716Z"
   },
   {
    "duration": 198,
    "start_time": "2022-12-17T13:00:46.738Z"
   },
   {
    "duration": 271,
    "start_time": "2022-12-17T13:00:46.938Z"
   },
   {
    "duration": 215,
    "start_time": "2022-12-17T13:00:47.211Z"
   },
   {
    "duration": 174,
    "start_time": "2022-12-17T13:00:47.428Z"
   },
   {
    "duration": 6,
    "start_time": "2022-12-17T13:00:47.604Z"
   },
   {
    "duration": 157,
    "start_time": "2022-12-17T13:00:47.612Z"
   },
   {
    "duration": 19,
    "start_time": "2022-12-17T13:00:47.771Z"
   },
   {
    "duration": 206,
    "start_time": "2022-12-17T13:00:47.792Z"
   },
   {
    "duration": 5,
    "start_time": "2022-12-17T13:00:48.000Z"
   },
   {
    "duration": 244,
    "start_time": "2022-12-17T13:00:48.007Z"
   },
   {
    "duration": 6,
    "start_time": "2022-12-17T13:00:48.252Z"
   },
   {
    "duration": 170,
    "start_time": "2022-12-17T13:00:48.260Z"
   },
   {
    "duration": 5,
    "start_time": "2022-12-17T13:00:48.431Z"
   },
   {
    "duration": 162,
    "start_time": "2022-12-17T13:00:48.438Z"
   },
   {
    "duration": 6,
    "start_time": "2022-12-17T13:00:48.601Z"
   },
   {
    "duration": 155,
    "start_time": "2022-12-17T13:00:48.609Z"
   },
   {
    "duration": 6,
    "start_time": "2022-12-17T13:00:48.765Z"
   },
   {
    "duration": 147,
    "start_time": "2022-12-17T13:00:48.779Z"
   },
   {
    "duration": 5,
    "start_time": "2022-12-17T13:00:48.928Z"
   },
   {
    "duration": 175,
    "start_time": "2022-12-17T13:00:48.935Z"
   },
   {
    "duration": 7,
    "start_time": "2022-12-17T13:00:49.112Z"
   },
   {
    "duration": 177,
    "start_time": "2022-12-17T13:00:49.120Z"
   },
   {
    "duration": 6,
    "start_time": "2022-12-17T13:00:49.300Z"
   },
   {
    "duration": 20,
    "start_time": "2022-12-17T13:00:49.308Z"
   },
   {
    "duration": 192,
    "start_time": "2022-12-17T13:00:49.330Z"
   },
   {
    "duration": 309,
    "start_time": "2022-12-17T13:00:49.524Z"
   },
   {
    "duration": 375,
    "start_time": "2022-12-17T13:00:49.834Z"
   },
   {
    "duration": 17,
    "start_time": "2022-12-17T13:00:50.211Z"
   },
   {
    "duration": 7,
    "start_time": "2022-12-17T13:00:50.229Z"
   },
   {
    "duration": 20,
    "start_time": "2022-12-17T13:00:50.238Z"
   },
   {
    "duration": 10,
    "start_time": "2022-12-17T13:00:50.284Z"
   },
   {
    "duration": 23,
    "start_time": "2022-12-17T13:00:50.296Z"
   },
   {
    "duration": 7,
    "start_time": "2022-12-17T13:00:50.321Z"
   },
   {
    "duration": 528,
    "start_time": "2022-12-17T13:00:50.329Z"
   },
   {
    "duration": 130,
    "start_time": "2022-12-17T13:00:50.859Z"
   },
   {
    "duration": 19,
    "start_time": "2022-12-17T13:00:50.995Z"
   },
   {
    "duration": 129,
    "start_time": "2022-12-17T13:00:51.020Z"
   },
   {
    "duration": 0,
    "start_time": "2022-12-17T13:00:51.151Z"
   },
   {
    "duration": 0,
    "start_time": "2022-12-17T13:00:51.153Z"
   },
   {
    "duration": 0,
    "start_time": "2022-12-17T13:00:51.154Z"
   },
   {
    "duration": 0,
    "start_time": "2022-12-17T13:00:51.155Z"
   },
   {
    "duration": 0,
    "start_time": "2022-12-17T13:00:51.156Z"
   },
   {
    "duration": 0,
    "start_time": "2022-12-17T13:00:51.157Z"
   },
   {
    "duration": 0,
    "start_time": "2022-12-17T13:00:51.158Z"
   },
   {
    "duration": 0,
    "start_time": "2022-12-17T13:00:51.160Z"
   },
   {
    "duration": 0,
    "start_time": "2022-12-17T13:00:51.161Z"
   },
   {
    "duration": 0,
    "start_time": "2022-12-17T13:00:51.162Z"
   },
   {
    "duration": 0,
    "start_time": "2022-12-17T13:00:51.183Z"
   },
   {
    "duration": 0,
    "start_time": "2022-12-17T13:00:51.184Z"
   },
   {
    "duration": 0,
    "start_time": "2022-12-17T13:00:51.185Z"
   },
   {
    "duration": 0,
    "start_time": "2022-12-17T13:00:51.187Z"
   },
   {
    "duration": 0,
    "start_time": "2022-12-17T13:00:51.188Z"
   },
   {
    "duration": 0,
    "start_time": "2022-12-17T13:00:51.190Z"
   },
   {
    "duration": 0,
    "start_time": "2022-12-17T13:00:51.191Z"
   },
   {
    "duration": 8,
    "start_time": "2022-12-17T13:01:26.668Z"
   },
   {
    "duration": 6,
    "start_time": "2022-12-17T13:02:09.069Z"
   },
   {
    "duration": 7,
    "start_time": "2022-12-17T13:02:47.511Z"
   },
   {
    "duration": 8,
    "start_time": "2022-12-17T13:02:50.357Z"
   },
   {
    "duration": 531,
    "start_time": "2022-12-17T13:02:54.453Z"
   },
   {
    "duration": 18,
    "start_time": "2022-12-17T13:07:01.791Z"
   },
   {
    "duration": 1133,
    "start_time": "2022-12-17T13:07:09.413Z"
   },
   {
    "duration": 17,
    "start_time": "2022-12-17T13:08:14.641Z"
   },
   {
    "duration": 16,
    "start_time": "2022-12-17T13:08:23.139Z"
   },
   {
    "duration": 6,
    "start_time": "2022-12-17T13:08:28.857Z"
   },
   {
    "duration": 17,
    "start_time": "2022-12-17T13:08:31.055Z"
   },
   {
    "duration": 7,
    "start_time": "2022-12-17T13:08:34.769Z"
   },
   {
    "duration": 15,
    "start_time": "2022-12-17T13:08:36.764Z"
   },
   {
    "duration": 6,
    "start_time": "2022-12-17T13:08:41.839Z"
   },
   {
    "duration": 492,
    "start_time": "2022-12-17T13:08:42.988Z"
   },
   {
    "duration": 18,
    "start_time": "2022-12-17T13:10:38.249Z"
   },
   {
    "duration": 10,
    "start_time": "2022-12-17T13:11:11.703Z"
   },
   {
    "duration": 15,
    "start_time": "2022-12-17T13:11:15.771Z"
   },
   {
    "duration": 23,
    "start_time": "2022-12-17T13:11:23.568Z"
   },
   {
    "duration": 15,
    "start_time": "2022-12-17T13:11:29.161Z"
   },
   {
    "duration": 16,
    "start_time": "2022-12-17T13:11:37.104Z"
   },
   {
    "duration": 18,
    "start_time": "2022-12-17T13:12:44.219Z"
   },
   {
    "duration": 1132,
    "start_time": "2022-12-17T13:12:47.703Z"
   },
   {
    "duration": 0,
    "start_time": "2022-12-17T13:12:48.837Z"
   },
   {
    "duration": 5,
    "start_time": "2022-12-17T13:13:15.674Z"
   },
   {
    "duration": 21,
    "start_time": "2022-12-17T13:13:32.184Z"
   },
   {
    "duration": 6,
    "start_time": "2022-12-17T13:13:44.575Z"
   },
   {
    "duration": 14,
    "start_time": "2022-12-17T13:14:26.292Z"
   },
   {
    "duration": 7,
    "start_time": "2022-12-17T13:14:27.577Z"
   },
   {
    "duration": 16,
    "start_time": "2022-12-17T13:14:28.344Z"
   },
   {
    "duration": 7,
    "start_time": "2022-12-17T13:14:30.708Z"
   },
   {
    "duration": 484,
    "start_time": "2022-12-17T13:14:31.435Z"
   },
   {
    "duration": 7,
    "start_time": "2022-12-17T13:17:27.369Z"
   },
   {
    "duration": 8,
    "start_time": "2022-12-17T13:17:51.276Z"
   },
   {
    "duration": 9,
    "start_time": "2022-12-17T13:18:21.517Z"
   },
   {
    "duration": 593,
    "start_time": "2022-12-17T13:18:24.181Z"
   },
   {
    "duration": 520,
    "start_time": "2022-12-17T13:27:49.728Z"
   },
   {
    "duration": 599,
    "start_time": "2022-12-17T13:28:00.496Z"
   },
   {
    "duration": 554,
    "start_time": "2022-12-17T13:28:17.119Z"
   },
   {
    "duration": 511,
    "start_time": "2022-12-17T13:31:15.353Z"
   },
   {
    "duration": 10,
    "start_time": "2022-12-17T13:31:42.355Z"
   },
   {
    "duration": 553,
    "start_time": "2022-12-17T13:31:43.873Z"
   },
   {
    "duration": 1172,
    "start_time": "2022-12-17T13:32:13.507Z"
   },
   {
    "duration": 81,
    "start_time": "2022-12-17T13:32:14.681Z"
   },
   {
    "duration": 29,
    "start_time": "2022-12-17T13:32:14.764Z"
   },
   {
    "duration": 16,
    "start_time": "2022-12-17T13:32:14.796Z"
   },
   {
    "duration": 6,
    "start_time": "2022-12-17T13:32:14.813Z"
   },
   {
    "duration": 22,
    "start_time": "2022-12-17T13:32:14.821Z"
   },
   {
    "duration": 67,
    "start_time": "2022-12-17T13:32:14.845Z"
   },
   {
    "duration": 17,
    "start_time": "2022-12-17T13:32:14.914Z"
   },
   {
    "duration": 11,
    "start_time": "2022-12-17T13:32:14.932Z"
   },
   {
    "duration": 6,
    "start_time": "2022-12-17T13:32:14.946Z"
   },
   {
    "duration": 49,
    "start_time": "2022-12-17T13:32:14.954Z"
   },
   {
    "duration": 8,
    "start_time": "2022-12-17T13:32:15.005Z"
   },
   {
    "duration": 17,
    "start_time": "2022-12-17T13:32:15.015Z"
   },
   {
    "duration": 7,
    "start_time": "2022-12-17T13:32:15.034Z"
   },
   {
    "duration": 8,
    "start_time": "2022-12-17T13:32:15.043Z"
   },
   {
    "duration": 9,
    "start_time": "2022-12-17T13:32:15.053Z"
   },
   {
    "duration": 33,
    "start_time": "2022-12-17T13:32:15.064Z"
   },
   {
    "duration": 5,
    "start_time": "2022-12-17T13:32:15.099Z"
   },
   {
    "duration": 10,
    "start_time": "2022-12-17T13:32:15.106Z"
   },
   {
    "duration": 8,
    "start_time": "2022-12-17T13:32:15.118Z"
   },
   {
    "duration": 8,
    "start_time": "2022-12-17T13:32:15.128Z"
   },
   {
    "duration": 11,
    "start_time": "2022-12-17T13:32:15.137Z"
   },
   {
    "duration": 44,
    "start_time": "2022-12-17T13:32:15.150Z"
   },
   {
    "duration": 25,
    "start_time": "2022-12-17T13:32:15.196Z"
   },
   {
    "duration": 4,
    "start_time": "2022-12-17T13:32:15.223Z"
   },
   {
    "duration": 21,
    "start_time": "2022-12-17T13:32:15.229Z"
   },
   {
    "duration": 31,
    "start_time": "2022-12-17T13:32:15.251Z"
   },
   {
    "duration": 9,
    "start_time": "2022-12-17T13:32:15.286Z"
   },
   {
    "duration": 28,
    "start_time": "2022-12-17T13:32:15.296Z"
   },
   {
    "duration": 14,
    "start_time": "2022-12-17T13:32:15.326Z"
   },
   {
    "duration": 185,
    "start_time": "2022-12-17T13:32:15.343Z"
   },
   {
    "duration": 336,
    "start_time": "2022-12-17T13:32:15.531Z"
   },
   {
    "duration": 29,
    "start_time": "2022-12-17T13:32:15.869Z"
   },
   {
    "duration": 202,
    "start_time": "2022-12-17T13:32:15.900Z"
   },
   {
    "duration": 201,
    "start_time": "2022-12-17T13:32:16.104Z"
   },
   {
    "duration": 16,
    "start_time": "2022-12-17T13:32:16.307Z"
   },
   {
    "duration": 31,
    "start_time": "2022-12-17T13:32:16.325Z"
   },
   {
    "duration": 188,
    "start_time": "2022-12-17T13:32:16.358Z"
   },
   {
    "duration": 199,
    "start_time": "2022-12-17T13:32:16.547Z"
   },
   {
    "duration": 310,
    "start_time": "2022-12-17T13:32:16.748Z"
   },
   {
    "duration": 190,
    "start_time": "2022-12-17T13:32:17.060Z"
   },
   {
    "duration": 174,
    "start_time": "2022-12-17T13:32:17.252Z"
   },
   {
    "duration": 254,
    "start_time": "2022-12-17T13:32:17.428Z"
   },
   {
    "duration": 20,
    "start_time": "2022-12-17T13:32:17.684Z"
   },
   {
    "duration": 15,
    "start_time": "2022-12-17T13:32:17.706Z"
   },
   {
    "duration": 160,
    "start_time": "2022-12-17T13:32:17.723Z"
   },
   {
    "duration": 254,
    "start_time": "2022-12-17T13:32:17.885Z"
   },
   {
    "duration": 205,
    "start_time": "2022-12-17T13:32:18.141Z"
   },
   {
    "duration": 165,
    "start_time": "2022-12-17T13:32:18.347Z"
   },
   {
    "duration": 5,
    "start_time": "2022-12-17T13:32:18.513Z"
   },
   {
    "duration": 153,
    "start_time": "2022-12-17T13:32:18.520Z"
   },
   {
    "duration": 5,
    "start_time": "2022-12-17T13:32:18.675Z"
   },
   {
    "duration": 180,
    "start_time": "2022-12-17T13:32:18.682Z"
   },
   {
    "duration": 16,
    "start_time": "2022-12-17T13:32:18.864Z"
   },
   {
    "duration": 278,
    "start_time": "2022-12-17T13:32:18.882Z"
   },
   {
    "duration": 6,
    "start_time": "2022-12-17T13:32:19.162Z"
   },
   {
    "duration": 190,
    "start_time": "2022-12-17T13:32:19.169Z"
   },
   {
    "duration": 7,
    "start_time": "2022-12-17T13:32:19.361Z"
   },
   {
    "duration": 154,
    "start_time": "2022-12-17T13:32:19.377Z"
   },
   {
    "duration": 6,
    "start_time": "2022-12-17T13:32:19.534Z"
   },
   {
    "duration": 166,
    "start_time": "2022-12-17T13:32:19.543Z"
   },
   {
    "duration": 7,
    "start_time": "2022-12-17T13:32:19.711Z"
   },
   {
    "duration": 151,
    "start_time": "2022-12-17T13:32:19.720Z"
   },
   {
    "duration": 7,
    "start_time": "2022-12-17T13:32:19.873Z"
   },
   {
    "duration": 176,
    "start_time": "2022-12-17T13:32:19.883Z"
   },
   {
    "duration": 6,
    "start_time": "2022-12-17T13:32:20.060Z"
   },
   {
    "duration": 158,
    "start_time": "2022-12-17T13:32:20.067Z"
   },
   {
    "duration": 6,
    "start_time": "2022-12-17T13:32:20.229Z"
   },
   {
    "duration": 20,
    "start_time": "2022-12-17T13:32:20.237Z"
   },
   {
    "duration": 192,
    "start_time": "2022-12-17T13:32:20.258Z"
   },
   {
    "duration": 289,
    "start_time": "2022-12-17T13:32:20.451Z"
   },
   {
    "duration": 376,
    "start_time": "2022-12-17T13:32:20.742Z"
   },
   {
    "duration": 15,
    "start_time": "2022-12-17T13:32:21.120Z"
   },
   {
    "duration": 12,
    "start_time": "2022-12-17T13:32:21.137Z"
   },
   {
    "duration": 11,
    "start_time": "2022-12-17T13:32:21.151Z"
   },
   {
    "duration": 16,
    "start_time": "2022-12-17T13:32:21.179Z"
   },
   {
    "duration": 14,
    "start_time": "2022-12-17T13:32:21.197Z"
   },
   {
    "duration": 14,
    "start_time": "2022-12-17T13:32:21.213Z"
   },
   {
    "duration": 22,
    "start_time": "2022-12-17T13:32:21.229Z"
   },
   {
    "duration": 8,
    "start_time": "2022-12-17T13:32:21.253Z"
   },
   {
    "duration": 12,
    "start_time": "2022-12-17T13:32:21.278Z"
   },
   {
    "duration": 513,
    "start_time": "2022-12-17T13:32:21.296Z"
   },
   {
    "duration": 12,
    "start_time": "2022-12-17T13:32:21.811Z"
   },
   {
    "duration": 176,
    "start_time": "2022-12-17T13:32:21.825Z"
   },
   {
    "duration": 18,
    "start_time": "2022-12-17T13:32:22.003Z"
   },
   {
    "duration": 122,
    "start_time": "2022-12-17T13:32:22.023Z"
   },
   {
    "duration": 0,
    "start_time": "2022-12-17T13:32:22.147Z"
   },
   {
    "duration": 0,
    "start_time": "2022-12-17T13:32:22.148Z"
   },
   {
    "duration": 0,
    "start_time": "2022-12-17T13:32:22.149Z"
   },
   {
    "duration": 0,
    "start_time": "2022-12-17T13:32:22.150Z"
   },
   {
    "duration": 0,
    "start_time": "2022-12-17T13:32:22.151Z"
   },
   {
    "duration": 0,
    "start_time": "2022-12-17T13:32:22.153Z"
   },
   {
    "duration": 0,
    "start_time": "2022-12-17T13:32:22.153Z"
   },
   {
    "duration": 0,
    "start_time": "2022-12-17T13:32:22.155Z"
   },
   {
    "duration": 0,
    "start_time": "2022-12-17T13:32:22.155Z"
   },
   {
    "duration": 0,
    "start_time": "2022-12-17T13:32:22.156Z"
   },
   {
    "duration": 1,
    "start_time": "2022-12-17T13:32:22.157Z"
   },
   {
    "duration": 0,
    "start_time": "2022-12-17T13:32:22.158Z"
   },
   {
    "duration": 0,
    "start_time": "2022-12-17T13:32:22.179Z"
   },
   {
    "duration": 0,
    "start_time": "2022-12-17T13:32:22.180Z"
   },
   {
    "duration": 0,
    "start_time": "2022-12-17T13:32:22.181Z"
   },
   {
    "duration": 0,
    "start_time": "2022-12-17T13:32:22.182Z"
   },
   {
    "duration": 0,
    "start_time": "2022-12-17T13:32:22.184Z"
   },
   {
    "duration": 22,
    "start_time": "2022-12-17T13:33:38.753Z"
   },
   {
    "duration": 376,
    "start_time": "2022-12-17T13:35:10.366Z"
   },
   {
    "duration": 575,
    "start_time": "2022-12-17T13:39:09.701Z"
   },
   {
    "duration": 148,
    "start_time": "2022-12-17T13:39:30.772Z"
   },
   {
    "duration": 151,
    "start_time": "2022-12-17T13:39:32.275Z"
   },
   {
    "duration": 139,
    "start_time": "2022-12-17T13:39:34.698Z"
   },
   {
    "duration": 201,
    "start_time": "2022-12-17T13:40:10.345Z"
   },
   {
    "duration": 591,
    "start_time": "2022-12-17T13:42:42.018Z"
   },
   {
    "duration": 440,
    "start_time": "2022-12-17T13:42:55.477Z"
   },
   {
    "duration": 478,
    "start_time": "2022-12-17T13:43:22.663Z"
   },
   {
    "duration": 209,
    "start_time": "2022-12-17T13:43:39.386Z"
   },
   {
    "duration": 190,
    "start_time": "2022-12-17T13:43:42.056Z"
   },
   {
    "duration": 504,
    "start_time": "2022-12-17T13:43:52.878Z"
   },
   {
    "duration": 769,
    "start_time": "2022-12-17T13:43:59.665Z"
   },
   {
    "duration": 779,
    "start_time": "2022-12-17T13:44:06.545Z"
   },
   {
    "duration": 907,
    "start_time": "2022-12-17T13:44:14.271Z"
   },
   {
    "duration": 671,
    "start_time": "2022-12-17T13:44:23.601Z"
   },
   {
    "duration": 603,
    "start_time": "2022-12-17T13:44:55.552Z"
   },
   {
    "duration": 552,
    "start_time": "2022-12-17T13:46:22.828Z"
   },
   {
    "duration": 489,
    "start_time": "2022-12-17T13:46:55.067Z"
   },
   {
    "duration": 5,
    "start_time": "2022-12-17T14:03:12.517Z"
   },
   {
    "duration": 462,
    "start_time": "2022-12-17T14:03:22.635Z"
   },
   {
    "duration": 66,
    "start_time": "2022-12-17T14:04:15.336Z"
   },
   {
    "duration": 496,
    "start_time": "2022-12-17T14:04:22.375Z"
   },
   {
    "duration": 491,
    "start_time": "2022-12-17T14:04:44.899Z"
   },
   {
    "duration": 134,
    "start_time": "2022-12-17T14:07:50.894Z"
   },
   {
    "duration": 17,
    "start_time": "2022-12-17T14:08:15.423Z"
   },
   {
    "duration": 18,
    "start_time": "2022-12-17T14:08:40.660Z"
   },
   {
    "duration": 17,
    "start_time": "2022-12-17T14:09:01.174Z"
   },
   {
    "duration": 188,
    "start_time": "2022-12-17T14:09:08.044Z"
   },
   {
    "duration": 24,
    "start_time": "2022-12-17T14:09:21.658Z"
   },
   {
    "duration": 23,
    "start_time": "2022-12-17T14:09:33.979Z"
   },
   {
    "duration": 567,
    "start_time": "2022-12-17T14:11:41.797Z"
   },
   {
    "duration": 587,
    "start_time": "2022-12-17T14:11:53.354Z"
   },
   {
    "duration": 69,
    "start_time": "2022-12-17T14:15:27.962Z"
   },
   {
    "duration": 285,
    "start_time": "2022-12-17T14:15:37.155Z"
   },
   {
    "duration": 78,
    "start_time": "2022-12-17T14:25:39.818Z"
   },
   {
    "duration": 5,
    "start_time": "2022-12-17T14:25:54.416Z"
   },
   {
    "duration": 8,
    "start_time": "2022-12-17T14:25:56.392Z"
   },
   {
    "duration": 27,
    "start_time": "2022-12-17T14:26:03.327Z"
   },
   {
    "duration": 11,
    "start_time": "2022-12-17T14:26:05.593Z"
   },
   {
    "duration": 4,
    "start_time": "2022-12-17T14:26:08.390Z"
   },
   {
    "duration": 11,
    "start_time": "2022-12-17T14:26:10.308Z"
   },
   {
    "duration": 507,
    "start_time": "2022-12-17T14:26:19.102Z"
   },
   {
    "duration": 1300,
    "start_time": "2022-12-18T08:47:19.224Z"
   },
   {
    "duration": 129,
    "start_time": "2022-12-18T08:47:20.526Z"
   },
   {
    "duration": 20,
    "start_time": "2022-12-18T08:47:20.656Z"
   },
   {
    "duration": 14,
    "start_time": "2022-12-18T08:47:20.677Z"
   },
   {
    "duration": 8,
    "start_time": "2022-12-18T08:47:20.693Z"
   },
   {
    "duration": 19,
    "start_time": "2022-12-18T08:47:20.703Z"
   },
   {
    "duration": 79,
    "start_time": "2022-12-18T08:47:20.724Z"
   },
   {
    "duration": 29,
    "start_time": "2022-12-18T08:47:20.805Z"
   },
   {
    "duration": 14,
    "start_time": "2022-12-18T08:47:20.836Z"
   },
   {
    "duration": 7,
    "start_time": "2022-12-18T08:47:20.854Z"
   },
   {
    "duration": 26,
    "start_time": "2022-12-18T08:47:20.862Z"
   },
   {
    "duration": 31,
    "start_time": "2022-12-18T08:47:20.890Z"
   },
   {
    "duration": 16,
    "start_time": "2022-12-18T08:47:20.924Z"
   },
   {
    "duration": 46,
    "start_time": "2022-12-18T08:47:20.941Z"
   },
   {
    "duration": 13,
    "start_time": "2022-12-18T08:47:20.989Z"
   },
   {
    "duration": 14,
    "start_time": "2022-12-18T08:47:21.004Z"
   },
   {
    "duration": 29,
    "start_time": "2022-12-18T08:47:21.021Z"
   },
   {
    "duration": 5,
    "start_time": "2022-12-18T08:47:21.052Z"
   },
   {
    "duration": 19,
    "start_time": "2022-12-18T08:47:21.059Z"
   },
   {
    "duration": 12,
    "start_time": "2022-12-18T08:47:21.080Z"
   },
   {
    "duration": 19,
    "start_time": "2022-12-18T08:47:21.094Z"
   },
   {
    "duration": 13,
    "start_time": "2022-12-18T08:47:21.114Z"
   },
   {
    "duration": 38,
    "start_time": "2022-12-18T08:47:21.130Z"
   },
   {
    "duration": 39,
    "start_time": "2022-12-18T08:47:21.170Z"
   },
   {
    "duration": 5,
    "start_time": "2022-12-18T08:47:21.211Z"
   },
   {
    "duration": 43,
    "start_time": "2022-12-18T08:47:21.218Z"
   },
   {
    "duration": 13,
    "start_time": "2022-12-18T08:47:21.263Z"
   },
   {
    "duration": 13,
    "start_time": "2022-12-18T08:47:21.283Z"
   },
   {
    "duration": 40,
    "start_time": "2022-12-18T08:47:21.297Z"
   },
   {
    "duration": 19,
    "start_time": "2022-12-18T08:47:21.339Z"
   },
   {
    "duration": 215,
    "start_time": "2022-12-18T08:47:21.360Z"
   },
   {
    "duration": 497,
    "start_time": "2022-12-18T08:47:21.578Z"
   },
   {
    "duration": 20,
    "start_time": "2022-12-18T08:47:22.077Z"
   },
   {
    "duration": 195,
    "start_time": "2022-12-18T08:47:22.098Z"
   },
   {
    "duration": 177,
    "start_time": "2022-12-18T08:47:22.295Z"
   },
   {
    "duration": 16,
    "start_time": "2022-12-18T08:47:22.474Z"
   },
   {
    "duration": 13,
    "start_time": "2022-12-18T08:47:22.492Z"
   },
   {
    "duration": 192,
    "start_time": "2022-12-18T08:47:22.506Z"
   },
   {
    "duration": 202,
    "start_time": "2022-12-18T08:47:22.699Z"
   },
   {
    "duration": 272,
    "start_time": "2022-12-18T08:47:22.903Z"
   },
   {
    "duration": 176,
    "start_time": "2022-12-18T08:47:23.177Z"
   },
   {
    "duration": 177,
    "start_time": "2022-12-18T08:47:23.355Z"
   },
   {
    "duration": 275,
    "start_time": "2022-12-18T08:47:23.535Z"
   },
   {
    "duration": 24,
    "start_time": "2022-12-18T08:47:23.812Z"
   },
   {
    "duration": 16,
    "start_time": "2022-12-18T08:47:23.837Z"
   },
   {
    "duration": 152,
    "start_time": "2022-12-18T08:47:23.855Z"
   },
   {
    "duration": 270,
    "start_time": "2022-12-18T08:47:24.009Z"
   },
   {
    "duration": 196,
    "start_time": "2022-12-18T08:47:24.281Z"
   },
   {
    "duration": 199,
    "start_time": "2022-12-18T08:47:24.479Z"
   },
   {
    "duration": 5,
    "start_time": "2022-12-18T08:47:24.681Z"
   },
   {
    "duration": 165,
    "start_time": "2022-12-18T08:47:24.688Z"
   },
   {
    "duration": 5,
    "start_time": "2022-12-18T08:47:24.854Z"
   },
   {
    "duration": 164,
    "start_time": "2022-12-18T08:47:24.860Z"
   },
   {
    "duration": 5,
    "start_time": "2022-12-18T08:47:25.025Z"
   },
   {
    "duration": 250,
    "start_time": "2022-12-18T08:47:25.031Z"
   },
   {
    "duration": 5,
    "start_time": "2022-12-18T08:47:25.283Z"
   },
   {
    "duration": 218,
    "start_time": "2022-12-18T08:47:25.290Z"
   },
   {
    "duration": 5,
    "start_time": "2022-12-18T08:47:25.510Z"
   },
   {
    "duration": 135,
    "start_time": "2022-12-18T08:47:25.521Z"
   },
   {
    "duration": 4,
    "start_time": "2022-12-18T08:47:25.658Z"
   },
   {
    "duration": 142,
    "start_time": "2022-12-18T08:47:25.664Z"
   },
   {
    "duration": 6,
    "start_time": "2022-12-18T08:47:25.808Z"
   },
   {
    "duration": 135,
    "start_time": "2022-12-18T08:47:25.821Z"
   },
   {
    "duration": 5,
    "start_time": "2022-12-18T08:47:25.957Z"
   },
   {
    "duration": 168,
    "start_time": "2022-12-18T08:47:25.965Z"
   },
   {
    "duration": 5,
    "start_time": "2022-12-18T08:47:26.135Z"
   },
   {
    "duration": 153,
    "start_time": "2022-12-18T08:47:26.142Z"
   },
   {
    "duration": 5,
    "start_time": "2022-12-18T08:47:26.296Z"
   },
   {
    "duration": 29,
    "start_time": "2022-12-18T08:47:26.303Z"
   },
   {
    "duration": 181,
    "start_time": "2022-12-18T08:47:26.333Z"
   },
   {
    "duration": 299,
    "start_time": "2022-12-18T08:47:26.515Z"
   },
   {
    "duration": 357,
    "start_time": "2022-12-18T08:47:26.820Z"
   },
   {
    "duration": 17,
    "start_time": "2022-12-18T08:47:27.179Z"
   },
   {
    "duration": 6,
    "start_time": "2022-12-18T08:47:27.197Z"
   },
   {
    "duration": 8,
    "start_time": "2022-12-18T08:47:27.220Z"
   },
   {
    "duration": 32,
    "start_time": "2022-12-18T08:47:27.229Z"
   },
   {
    "duration": 7,
    "start_time": "2022-12-18T08:47:27.263Z"
   },
   {
    "duration": 21,
    "start_time": "2022-12-18T08:47:27.271Z"
   },
   {
    "duration": 19,
    "start_time": "2022-12-18T08:47:27.293Z"
   },
   {
    "duration": 6,
    "start_time": "2022-12-18T08:47:27.321Z"
   },
   {
    "duration": 14,
    "start_time": "2022-12-18T08:47:27.329Z"
   },
   {
    "duration": 457,
    "start_time": "2022-12-18T08:47:27.352Z"
   },
   {
    "duration": 139,
    "start_time": "2022-12-18T08:47:27.810Z"
   },
   {
    "duration": 16,
    "start_time": "2022-12-18T08:47:27.950Z"
   },
   {
    "duration": 120,
    "start_time": "2022-12-18T08:47:27.968Z"
   },
   {
    "duration": 0,
    "start_time": "2022-12-18T08:47:28.089Z"
   },
   {
    "duration": 0,
    "start_time": "2022-12-18T08:47:28.090Z"
   },
   {
    "duration": 0,
    "start_time": "2022-12-18T08:47:28.091Z"
   },
   {
    "duration": 0,
    "start_time": "2022-12-18T08:47:28.093Z"
   },
   {
    "duration": 0,
    "start_time": "2022-12-18T08:47:28.094Z"
   },
   {
    "duration": 0,
    "start_time": "2022-12-18T08:47:28.095Z"
   },
   {
    "duration": 0,
    "start_time": "2022-12-18T08:47:28.096Z"
   },
   {
    "duration": 0,
    "start_time": "2022-12-18T08:47:28.097Z"
   },
   {
    "duration": 0,
    "start_time": "2022-12-18T08:47:28.099Z"
   },
   {
    "duration": 0,
    "start_time": "2022-12-18T08:47:28.100Z"
   },
   {
    "duration": 0,
    "start_time": "2022-12-18T08:47:28.122Z"
   },
   {
    "duration": 0,
    "start_time": "2022-12-18T08:47:28.123Z"
   },
   {
    "duration": 0,
    "start_time": "2022-12-18T08:47:28.124Z"
   },
   {
    "duration": 0,
    "start_time": "2022-12-18T08:47:28.125Z"
   },
   {
    "duration": 0,
    "start_time": "2022-12-18T08:47:28.127Z"
   },
   {
    "duration": 0,
    "start_time": "2022-12-18T08:47:28.127Z"
   },
   {
    "duration": 0,
    "start_time": "2022-12-18T08:47:28.128Z"
   },
   {
    "duration": 0,
    "start_time": "2022-12-18T08:47:28.132Z"
   },
   {
    "duration": 231,
    "start_time": "2022-12-18T08:54:00.941Z"
   },
   {
    "duration": 284,
    "start_time": "2022-12-18T08:54:34.446Z"
   },
   {
    "duration": 305,
    "start_time": "2022-12-18T08:57:49.263Z"
   },
   {
    "duration": 366,
    "start_time": "2022-12-18T08:58:44.889Z"
   }
  ],
  "kernelspec": {
   "display_name": "Python 3 (ipykernel)",
   "language": "python",
   "name": "python3"
  },
  "language_info": {
   "codemirror_mode": {
    "name": "ipython",
    "version": 3
   },
   "file_extension": ".py",
   "mimetype": "text/x-python",
   "name": "python",
   "nbconvert_exporter": "python",
   "pygments_lexer": "ipython3",
   "version": "3.9.5"
  },
  "toc": {
   "base_numbering": 1,
   "nav_menu": {},
   "number_sections": true,
   "sideBar": true,
   "skip_h1_title": true,
   "title_cell": "Table of Contents",
   "title_sidebar": "Contents",
   "toc_cell": false,
   "toc_position": {
    "height": "calc(100% - 180px)",
    "left": "10px",
    "top": "150px",
    "width": "250.66px"
   },
   "toc_section_display": true,
   "toc_window_display": true
  }
 },
 "nbformat": 4,
 "nbformat_minor": 2
}
