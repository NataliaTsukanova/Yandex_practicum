﻿{
 "cells": [
  {
   "cell_type": "markdown",
   "metadata": {},
   "source": [
    "# Проект: Принятие решений в бизнесе"
   ]
  },
  {
   "cell_type": "markdown",
   "metadata": {},
   "source": [
    "Вместе с отделом маркетинга был подготовлен список гипотез для увеличения выручки. Необходимо приоритизировать гипотезы, запустить A/B-тест и проанализировать результаты.  \n",
    "Этапы нашего анализа:   \n",
    "Шаг 1. Открыть файл с данными,изучить общую информацию и подготовить данные (преобразование данных в нужный тип, работа с пропусками, дубликаты и тд.)   \n",
    "Шаг 2. Приоритизировать гипотезы фреймворками ICE и RICE   \n",
    "Шаг 3. Проанализировать А/В тесты:  \n",
    "3.1.Построить график кумулятивной выручки по группам  \n",
    "3.2.Построить график кумулятивного среднего чека по группам  \n",
    "3.3.Построить график относительного изменения кумулятивного среднего чека группы B к группе A             \n",
    "3.4.Построить график кумулятивного среднего количества заказов на посетителя по группам  \n",
    "3.5.Построить график относительного изменения кумулятивного среднего количества заказов на посетителя группы B к группе A    \n",
    "3.6.Построить точечный график количества заказов по пользователям  \n",
    "3.7.Посчитать 95-й и 99-й перцентили количества заказов на пользователя  \n",
    "3.8.Построить точечный график стоимостей заказов  \n",
    "3.9.Посчитать 95-й и 99-й перцентили стоимости заказов  \n",
    "3.10.Посчитать статистическую значимость различий в среднем количестве заказов на посетителя между группами по «сырым» данным  \n",
    "3.11.Посчитать статистическую значимость различий в среднем чеке заказа между группами по «сырым» данным  \n",
    "3.12.Посчитать статистическую значимость различий в среднем количестве заказов на посетителя между группами по «очищенным» данным  \n",
    "3.13.Посчитать статистическую значимость различий в среднем чеке заказа между группами по «очищенным» данным  \n",
    "3.14.Примите решение по результатам теста и объясните его  "
   ]
  },
  {
   "cell_type": "markdown",
   "metadata": {},
   "source": [
    "### Загрузить данные и подготовить их к анализу"
   ]
  },
  {
   "cell_type": "code",
   "execution_count": 1,
   "metadata": {},
   "outputs": [],
   "source": [
    "# импорт библиотек\n",
    "import pandas as pd\n",
    "import numpy as np\n",
    "from datetime import datetime, timedelta\n",
    "from matplotlib import pyplot as plt\n",
    "import datetime as dt\n",
    "import scipy.stats as stats"
   ]
  },
  {
   "cell_type": "code",
   "execution_count": 2,
   "metadata": {},
   "outputs": [],
   "source": [
    "# чтение файлов с данными\n",
    "try:\n",
    "    hypothesis = pd.read_csv('hypothesis.csv')\n",
    "    orders = pd.read_csv('orders.csv')   \n",
    "    visitors = pd.read_csv('visitors.csv')   \n",
    "except:\n",
    "    hypothesis = pd.read_csv('/datasets/hypothesis.csv')\n",
    "    orders = pd.read_csv('/datasets/orders.csv')   \n",
    "    visitors = pd.read_csv('/datasets/visitors.csv')   "
   ]
  },
  {
   "cell_type": "code",
   "execution_count": 3,
   "metadata": {
    "scrolled": false
   },
   "outputs": [
    {
     "name": "stdout",
     "output_type": "stream",
     "text": [
      "<class 'pandas.core.frame.DataFrame'>\n",
      "RangeIndex: 9 entries, 0 to 8\n",
      "Data columns (total 5 columns):\n",
      " #   Column      Non-Null Count  Dtype \n",
      "---  ------      --------------  ----- \n",
      " 0   Hypothesis  9 non-null      object\n",
      " 1   Reach       9 non-null      int64 \n",
      " 2   Impact      9 non-null      int64 \n",
      " 3   Confidence  9 non-null      int64 \n",
      " 4   Efforts     9 non-null      int64 \n",
      "dtypes: int64(4), object(1)\n",
      "memory usage: 488.0+ bytes\n"
     ]
    }
   ],
   "source": [
    "#вывод основной информации о таблицах\n",
    "hypothesis.info()"
   ]
  },
  {
   "cell_type": "code",
   "execution_count": 4,
   "metadata": {
    "scrolled": true
   },
   "outputs": [
    {
     "name": "stdout",
     "output_type": "stream",
     "text": [
      "<class 'pandas.core.frame.DataFrame'>\n",
      "RangeIndex: 1197 entries, 0 to 1196\n",
      "Data columns (total 5 columns):\n",
      " #   Column         Non-Null Count  Dtype \n",
      "---  ------         --------------  ----- \n",
      " 0   transactionId  1197 non-null   int64 \n",
      " 1   visitorId      1197 non-null   int64 \n",
      " 2   date           1197 non-null   object\n",
      " 3   revenue        1197 non-null   int64 \n",
      " 4   group          1197 non-null   object\n",
      "dtypes: int64(3), object(2)\n",
      "memory usage: 46.9+ KB\n"
     ]
    }
   ],
   "source": [
    "orders.info()"
   ]
  },
  {
   "cell_type": "code",
   "execution_count": 5,
   "metadata": {
    "scrolled": true
   },
   "outputs": [
    {
     "name": "stdout",
     "output_type": "stream",
     "text": [
      "<class 'pandas.core.frame.DataFrame'>\n",
      "RangeIndex: 62 entries, 0 to 61\n",
      "Data columns (total 3 columns):\n",
      " #   Column    Non-Null Count  Dtype \n",
      "---  ------    --------------  ----- \n",
      " 0   date      62 non-null     object\n",
      " 1   group     62 non-null     object\n",
      " 2   visitors  62 non-null     int64 \n",
      "dtypes: int64(1), object(2)\n",
      "memory usage: 1.6+ KB\n"
     ]
    }
   ],
   "source": [
    "visitors.info()"
   ]
  },
  {
   "cell_type": "code",
   "execution_count": 6,
   "metadata": {
    "scrolled": true
   },
   "outputs": [],
   "source": [
    "# преобразование данных о времени\n",
    "orders['date'] = orders['date'].map(lambda x: dt.datetime.strptime(x, '%Y-%m-%d'))\n",
    "visitors['date'] = visitors['date'].map(lambda x: dt.datetime.strptime(x, '%Y-%m-%d'))"
   ]
  },
  {
   "cell_type": "code",
   "execution_count": 7,
   "metadata": {
    "scrolled": true
   },
   "outputs": [
    {
     "data": {
      "text/html": [
       "<div>\n",
       "<style scoped>\n",
       "    .dataframe tbody tr th:only-of-type {\n",
       "        vertical-align: middle;\n",
       "    }\n",
       "\n",
       "    .dataframe tbody tr th {\n",
       "        vertical-align: top;\n",
       "    }\n",
       "\n",
       "    .dataframe thead th {\n",
       "        text-align: right;\n",
       "    }\n",
       "</style>\n",
       "<table border=\"1\" class=\"dataframe\">\n",
       "  <thead>\n",
       "    <tr style=\"text-align: right;\">\n",
       "      <th></th>\n",
       "      <th>Hypothesis</th>\n",
       "      <th>Reach</th>\n",
       "      <th>Impact</th>\n",
       "      <th>Confidence</th>\n",
       "      <th>Efforts</th>\n",
       "    </tr>\n",
       "  </thead>\n",
       "  <tbody>\n",
       "    <tr>\n",
       "      <th>0</th>\n",
       "      <td>Добавить два новых канала привлечения трафика, что позволит привлекать на 30% больше пользователей</td>\n",
       "      <td>3</td>\n",
       "      <td>10</td>\n",
       "      <td>8</td>\n",
       "      <td>6</td>\n",
       "    </tr>\n",
       "    <tr>\n",
       "      <th>1</th>\n",
       "      <td>Запустить собственную службу доставки, что сократит срок доставки заказов</td>\n",
       "      <td>2</td>\n",
       "      <td>5</td>\n",
       "      <td>4</td>\n",
       "      <td>10</td>\n",
       "    </tr>\n",
       "    <tr>\n",
       "      <th>2</th>\n",
       "      <td>Добавить блоки рекомендаций товаров на сайт интернет магазина, чтобы повысить конверсию и средний чек заказа</td>\n",
       "      <td>8</td>\n",
       "      <td>3</td>\n",
       "      <td>7</td>\n",
       "      <td>3</td>\n",
       "    </tr>\n",
       "    <tr>\n",
       "      <th>3</th>\n",
       "      <td>Изменить структура категорий, что увеличит конверсию, т.к. пользователи быстрее найдут нужный товар</td>\n",
       "      <td>8</td>\n",
       "      <td>3</td>\n",
       "      <td>3</td>\n",
       "      <td>8</td>\n",
       "    </tr>\n",
       "    <tr>\n",
       "      <th>4</th>\n",
       "      <td>Изменить цвет фона главной страницы, чтобы увеличить вовлеченность пользователей</td>\n",
       "      <td>3</td>\n",
       "      <td>1</td>\n",
       "      <td>1</td>\n",
       "      <td>1</td>\n",
       "    </tr>\n",
       "    <tr>\n",
       "      <th>5</th>\n",
       "      <td>Добавить страницу отзывов клиентов о магазине, что позволит увеличить количество заказов</td>\n",
       "      <td>3</td>\n",
       "      <td>2</td>\n",
       "      <td>2</td>\n",
       "      <td>3</td>\n",
       "    </tr>\n",
       "    <tr>\n",
       "      <th>6</th>\n",
       "      <td>Показать на главной странице баннеры с актуальными акциями и распродажами, чтобы увеличить конверсию</td>\n",
       "      <td>5</td>\n",
       "      <td>3</td>\n",
       "      <td>8</td>\n",
       "      <td>3</td>\n",
       "    </tr>\n",
       "    <tr>\n",
       "      <th>7</th>\n",
       "      <td>Добавить форму подписки на все основные страницы, чтобы собрать базу клиентов для email-рассылок</td>\n",
       "      <td>10</td>\n",
       "      <td>7</td>\n",
       "      <td>8</td>\n",
       "      <td>5</td>\n",
       "    </tr>\n",
       "    <tr>\n",
       "      <th>8</th>\n",
       "      <td>Запустить акцию, дающую скидку на товар в день рождения</td>\n",
       "      <td>1</td>\n",
       "      <td>9</td>\n",
       "      <td>9</td>\n",
       "      <td>5</td>\n",
       "    </tr>\n",
       "  </tbody>\n",
       "</table>\n",
       "</div>"
      ],
      "text/plain": [
       "                                                                                                     Hypothesis  \\\n",
       "0            Добавить два новых канала привлечения трафика, что позволит привлекать на 30% больше пользователей   \n",
       "1                                     Запустить собственную службу доставки, что сократит срок доставки заказов   \n",
       "2  Добавить блоки рекомендаций товаров на сайт интернет магазина, чтобы повысить конверсию и средний чек заказа   \n",
       "3           Изменить структура категорий, что увеличит конверсию, т.к. пользователи быстрее найдут нужный товар   \n",
       "4                              Изменить цвет фона главной страницы, чтобы увеличить вовлеченность пользователей   \n",
       "5                      Добавить страницу отзывов клиентов о магазине, что позволит увеличить количество заказов   \n",
       "6          Показать на главной странице баннеры с актуальными акциями и распродажами, чтобы увеличить конверсию   \n",
       "7              Добавить форму подписки на все основные страницы, чтобы собрать базу клиентов для email-рассылок   \n",
       "8                                                       Запустить акцию, дающую скидку на товар в день рождения   \n",
       "\n",
       "   Reach  Impact  Confidence  Efforts  \n",
       "0      3      10           8        6  \n",
       "1      2       5           4       10  \n",
       "2      8       3           7        3  \n",
       "3      8       3           3        8  \n",
       "4      3       1           1        1  \n",
       "5      3       2           2        3  \n",
       "6      5       3           8        3  \n",
       "7     10       7           8        5  \n",
       "8      1       9           9        5  "
      ]
     },
     "execution_count": 7,
     "metadata": {},
     "output_type": "execute_result"
    }
   ],
   "source": [
    "#в таблице hypothesis 9 строк, получим полную инфромацию по ним\n",
    "pd.set_option('display.max_colwidth', None)\n",
    "hypothesis.head(9)"
   ]
  },
  {
   "cell_type": "code",
   "execution_count": 8,
   "metadata": {
    "scrolled": false
   },
   "outputs": [
    {
     "data": {
      "text/html": [
       "<div>\n",
       "<style scoped>\n",
       "    .dataframe tbody tr th:only-of-type {\n",
       "        vertical-align: middle;\n",
       "    }\n",
       "\n",
       "    .dataframe tbody tr th {\n",
       "        vertical-align: top;\n",
       "    }\n",
       "\n",
       "    .dataframe thead th {\n",
       "        text-align: right;\n",
       "    }\n",
       "</style>\n",
       "<table border=\"1\" class=\"dataframe\">\n",
       "  <thead>\n",
       "    <tr style=\"text-align: right;\">\n",
       "      <th></th>\n",
       "      <th>transactionId</th>\n",
       "      <th>visitorId</th>\n",
       "      <th>date</th>\n",
       "      <th>revenue</th>\n",
       "      <th>group</th>\n",
       "    </tr>\n",
       "  </thead>\n",
       "  <tbody>\n",
       "    <tr>\n",
       "      <th>0</th>\n",
       "      <td>3667963787</td>\n",
       "      <td>3312258926</td>\n",
       "      <td>2019-08-15</td>\n",
       "      <td>1650</td>\n",
       "      <td>B</td>\n",
       "    </tr>\n",
       "    <tr>\n",
       "      <th>1</th>\n",
       "      <td>2804400009</td>\n",
       "      <td>3642806036</td>\n",
       "      <td>2019-08-15</td>\n",
       "      <td>730</td>\n",
       "      <td>B</td>\n",
       "    </tr>\n",
       "    <tr>\n",
       "      <th>2</th>\n",
       "      <td>2961555356</td>\n",
       "      <td>4069496402</td>\n",
       "      <td>2019-08-15</td>\n",
       "      <td>400</td>\n",
       "      <td>A</td>\n",
       "    </tr>\n",
       "    <tr>\n",
       "      <th>3</th>\n",
       "      <td>3797467345</td>\n",
       "      <td>1196621759</td>\n",
       "      <td>2019-08-15</td>\n",
       "      <td>9759</td>\n",
       "      <td>B</td>\n",
       "    </tr>\n",
       "    <tr>\n",
       "      <th>4</th>\n",
       "      <td>2282983706</td>\n",
       "      <td>2322279887</td>\n",
       "      <td>2019-08-15</td>\n",
       "      <td>2308</td>\n",
       "      <td>B</td>\n",
       "    </tr>\n",
       "    <tr>\n",
       "      <th>5</th>\n",
       "      <td>182168103</td>\n",
       "      <td>935554773</td>\n",
       "      <td>2019-08-15</td>\n",
       "      <td>2210</td>\n",
       "      <td>B</td>\n",
       "    </tr>\n",
       "    <tr>\n",
       "      <th>6</th>\n",
       "      <td>398296753</td>\n",
       "      <td>2900797465</td>\n",
       "      <td>2019-08-15</td>\n",
       "      <td>1860</td>\n",
       "      <td>B</td>\n",
       "    </tr>\n",
       "    <tr>\n",
       "      <th>7</th>\n",
       "      <td>2626614568</td>\n",
       "      <td>78758296</td>\n",
       "      <td>2019-08-15</td>\n",
       "      <td>1044</td>\n",
       "      <td>A</td>\n",
       "    </tr>\n",
       "    <tr>\n",
       "      <th>8</th>\n",
       "      <td>1576988021</td>\n",
       "      <td>295230930</td>\n",
       "      <td>2019-08-15</td>\n",
       "      <td>13710</td>\n",
       "      <td>A</td>\n",
       "    </tr>\n",
       "    <tr>\n",
       "      <th>9</th>\n",
       "      <td>1506739906</td>\n",
       "      <td>1882260405</td>\n",
       "      <td>2019-08-15</td>\n",
       "      <td>1855</td>\n",
       "      <td>B</td>\n",
       "    </tr>\n",
       "  </tbody>\n",
       "</table>\n",
       "</div>"
      ],
      "text/plain": [
       "   transactionId   visitorId       date  revenue group\n",
       "0     3667963787  3312258926 2019-08-15     1650     B\n",
       "1     2804400009  3642806036 2019-08-15      730     B\n",
       "2     2961555356  4069496402 2019-08-15      400     A\n",
       "3     3797467345  1196621759 2019-08-15     9759     B\n",
       "4     2282983706  2322279887 2019-08-15     2308     B\n",
       "5      182168103   935554773 2019-08-15     2210     B\n",
       "6      398296753  2900797465 2019-08-15     1860     B\n",
       "7     2626614568    78758296 2019-08-15     1044     A\n",
       "8     1576988021   295230930 2019-08-15    13710     A\n",
       "9     1506739906  1882260405 2019-08-15     1855     B"
      ]
     },
     "execution_count": 8,
     "metadata": {},
     "output_type": "execute_result"
    }
   ],
   "source": [
    "# получим первых 10 строк таблицы orders\n",
    "orders.head(10)"
   ]
  },
  {
   "cell_type": "code",
   "execution_count": 9,
   "metadata": {
    "scrolled": false
   },
   "outputs": [
    {
     "data": {
      "text/html": [
       "<div>\n",
       "<style scoped>\n",
       "    .dataframe tbody tr th:only-of-type {\n",
       "        vertical-align: middle;\n",
       "    }\n",
       "\n",
       "    .dataframe tbody tr th {\n",
       "        vertical-align: top;\n",
       "    }\n",
       "\n",
       "    .dataframe thead th {\n",
       "        text-align: right;\n",
       "    }\n",
       "</style>\n",
       "<table border=\"1\" class=\"dataframe\">\n",
       "  <thead>\n",
       "    <tr style=\"text-align: right;\">\n",
       "      <th></th>\n",
       "      <th>date</th>\n",
       "      <th>group</th>\n",
       "      <th>visitors</th>\n",
       "    </tr>\n",
       "  </thead>\n",
       "  <tbody>\n",
       "    <tr>\n",
       "      <th>0</th>\n",
       "      <td>2019-08-01</td>\n",
       "      <td>A</td>\n",
       "      <td>719</td>\n",
       "    </tr>\n",
       "    <tr>\n",
       "      <th>1</th>\n",
       "      <td>2019-08-02</td>\n",
       "      <td>A</td>\n",
       "      <td>619</td>\n",
       "    </tr>\n",
       "    <tr>\n",
       "      <th>2</th>\n",
       "      <td>2019-08-03</td>\n",
       "      <td>A</td>\n",
       "      <td>507</td>\n",
       "    </tr>\n",
       "    <tr>\n",
       "      <th>3</th>\n",
       "      <td>2019-08-04</td>\n",
       "      <td>A</td>\n",
       "      <td>717</td>\n",
       "    </tr>\n",
       "    <tr>\n",
       "      <th>4</th>\n",
       "      <td>2019-08-05</td>\n",
       "      <td>A</td>\n",
       "      <td>756</td>\n",
       "    </tr>\n",
       "    <tr>\n",
       "      <th>5</th>\n",
       "      <td>2019-08-06</td>\n",
       "      <td>A</td>\n",
       "      <td>667</td>\n",
       "    </tr>\n",
       "    <tr>\n",
       "      <th>6</th>\n",
       "      <td>2019-08-07</td>\n",
       "      <td>A</td>\n",
       "      <td>644</td>\n",
       "    </tr>\n",
       "    <tr>\n",
       "      <th>7</th>\n",
       "      <td>2019-08-08</td>\n",
       "      <td>A</td>\n",
       "      <td>610</td>\n",
       "    </tr>\n",
       "    <tr>\n",
       "      <th>8</th>\n",
       "      <td>2019-08-09</td>\n",
       "      <td>A</td>\n",
       "      <td>617</td>\n",
       "    </tr>\n",
       "    <tr>\n",
       "      <th>9</th>\n",
       "      <td>2019-08-10</td>\n",
       "      <td>A</td>\n",
       "      <td>406</td>\n",
       "    </tr>\n",
       "  </tbody>\n",
       "</table>\n",
       "</div>"
      ],
      "text/plain": [
       "        date group  visitors\n",
       "0 2019-08-01     A       719\n",
       "1 2019-08-02     A       619\n",
       "2 2019-08-03     A       507\n",
       "3 2019-08-04     A       717\n",
       "4 2019-08-05     A       756\n",
       "5 2019-08-06     A       667\n",
       "6 2019-08-07     A       644\n",
       "7 2019-08-08     A       610\n",
       "8 2019-08-09     A       617\n",
       "9 2019-08-10     A       406"
      ]
     },
     "execution_count": 9,
     "metadata": {},
     "output_type": "execute_result"
    }
   ],
   "source": [
    "# получим первых 10 строк таблицы visits\n",
    "visitors.head(10)"
   ]
  },
  {
   "cell_type": "code",
   "execution_count": 10,
   "metadata": {},
   "outputs": [],
   "source": [
    "#приведем название столбцов в таблице hypothesis к нижнему регистру\n",
    "hypothesis.columns = hypothesis.columns.str.lower()"
   ]
  },
  {
   "cell_type": "code",
   "execution_count": 11,
   "metadata": {},
   "outputs": [],
   "source": [
    "#изменим  название некоторых столбцов в таблице orders\n",
    "orders =orders.rename(columns={'transactionId':'transaction_id','visitorId':'visitor_id'})"
   ]
  },
  {
   "cell_type": "code",
   "execution_count": 12,
   "metadata": {},
   "outputs": [
    {
     "data": {
      "text/plain": [
       "0"
      ]
     },
     "metadata": {},
     "output_type": "display_data"
    },
    {
     "data": {
      "text/plain": [
       "0"
      ]
     },
     "metadata": {},
     "output_type": "display_data"
    },
    {
     "data": {
      "text/plain": [
       "0"
      ]
     },
     "execution_count": 12,
     "metadata": {},
     "output_type": "execute_result"
    }
   ],
   "source": [
    "#проверим данные на наличие явных дубликатов\n",
    "display(hypothesis.duplicated().sum())\n",
    "display(visitors.duplicated().sum())\n",
    "orders.duplicated().sum()"
   ]
  },
  {
   "cell_type": "code",
   "execution_count": 13,
   "metadata": {},
   "outputs": [
    {
     "data": {
      "text/plain": [
       "array(['B', 'A'], dtype=object)"
      ]
     },
     "execution_count": 13,
     "metadata": {},
     "output_type": "execute_result"
    }
   ],
   "source": [
    "#проверим таблицу orders на неявные дубликаты\n",
    "orders['group'].unique()"
   ]
  },
  {
   "cell_type": "code",
   "execution_count": 14,
   "metadata": {},
   "outputs": [
    {
     "data": {
      "text/plain": [
       "array(['A', 'B'], dtype=object)"
      ]
     },
     "execution_count": 14,
     "metadata": {},
     "output_type": "execute_result"
    }
   ],
   "source": [
    "#проверим таблицу visits на неявные дубликаты\n",
    "visitors['group'].unique()"
   ]
  },
  {
   "cell_type": "code",
   "execution_count": 15,
   "metadata": {
    "scrolled": false
   },
   "outputs": [
    {
     "data": {
      "text/plain": [
       "count                             1197\n",
       "mean     2019-08-15 13:06:46.015037696\n",
       "min                2019-08-01 00:00:00\n",
       "25%                2019-08-08 00:00:00\n",
       "50%                2019-08-15 00:00:00\n",
       "75%                2019-08-23 00:00:00\n",
       "max                2019-08-31 00:00:00\n",
       "Name: date, dtype: object"
      ]
     },
     "execution_count": 15,
     "metadata": {},
     "output_type": "execute_result"
    }
   ],
   "source": [
    "# проверим первую и последнюю даты в таблице orders\n",
    "orders['date'].describe(datetime_is_numeric=True)"
   ]
  },
  {
   "cell_type": "code",
   "execution_count": 16,
   "metadata": {
    "scrolled": true
   },
   "outputs": [
    {
     "data": {
      "text/plain": [
       "count                     62\n",
       "mean     2019-08-16 00:00:00\n",
       "min      2019-08-01 00:00:00\n",
       "25%      2019-08-08 06:00:00\n",
       "50%      2019-08-16 00:00:00\n",
       "75%      2019-08-23 18:00:00\n",
       "max      2019-08-31 00:00:00\n",
       "Name: date, dtype: object"
      ]
     },
     "execution_count": 16,
     "metadata": {},
     "output_type": "execute_result"
    }
   ],
   "source": [
    "# проверим первую и последнюю даты в таблице visitors\n",
    "visitors[\"date\"].describe(datetime_is_numeric=True)"
   ]
  },
  {
   "cell_type": "markdown",
   "metadata": {},
   "source": [
    "Даты начала тестирования и конца совпадают в обеих таблицах. Это 1 августа 2019 и 31 августа 2019 соответственно."
   ]
  },
  {
   "cell_type": "code",
   "execution_count": 17,
   "metadata": {
    "scrolled": true
   },
   "outputs": [
    {
     "data": {
      "text/html": [
       "<div>\n",
       "<style scoped>\n",
       "    .dataframe tbody tr th:only-of-type {\n",
       "        vertical-align: middle;\n",
       "    }\n",
       "\n",
       "    .dataframe tbody tr th {\n",
       "        vertical-align: top;\n",
       "    }\n",
       "\n",
       "    .dataframe thead th {\n",
       "        text-align: right;\n",
       "    }\n",
       "</style>\n",
       "<table border=\"1\" class=\"dataframe\">\n",
       "  <thead>\n",
       "    <tr style=\"text-align: right;\">\n",
       "      <th></th>\n",
       "      <th>visitor_id</th>\n",
       "    </tr>\n",
       "    <tr>\n",
       "      <th>group</th>\n",
       "      <th></th>\n",
       "    </tr>\n",
       "  </thead>\n",
       "  <tbody>\n",
       "    <tr>\n",
       "      <th>A</th>\n",
       "      <td>503</td>\n",
       "    </tr>\n",
       "    <tr>\n",
       "      <th>B</th>\n",
       "      <td>586</td>\n",
       "    </tr>\n",
       "  </tbody>\n",
       "</table>\n",
       "</div>"
      ],
      "text/plain": [
       "       visitor_id\n",
       "group            \n",
       "A             503\n",
       "B             586"
      ]
     },
     "execution_count": 17,
     "metadata": {},
     "output_type": "execute_result"
    }
   ],
   "source": [
    "# проверим количество пользователей в каждой группе в таблице orders\n",
    "orders.groupby('group').agg({'visitor_id':'nunique'})"
   ]
  },
  {
   "cell_type": "markdown",
   "metadata": {},
   "source": [
    "Респонденты поделены на группы не поровну: А составлют 46.9% и В 53.81%, хотя допустимо различия в 1 % и при таком различие тест был более показательный."
   ]
  },
  {
   "cell_type": "code",
   "execution_count": 18,
   "metadata": {},
   "outputs": [
    {
     "data": {
      "text/html": [
       "<div>\n",
       "<style scoped>\n",
       "    .dataframe tbody tr th:only-of-type {\n",
       "        vertical-align: middle;\n",
       "    }\n",
       "\n",
       "    .dataframe tbody tr th {\n",
       "        vertical-align: top;\n",
       "    }\n",
       "\n",
       "    .dataframe thead th {\n",
       "        text-align: right;\n",
       "    }\n",
       "</style>\n",
       "<table border=\"1\" class=\"dataframe\">\n",
       "  <thead>\n",
       "    <tr style=\"text-align: right;\">\n",
       "      <th></th>\n",
       "      <th>group</th>\n",
       "    </tr>\n",
       "    <tr>\n",
       "      <th>visitor_id</th>\n",
       "      <th></th>\n",
       "    </tr>\n",
       "  </thead>\n",
       "  <tbody>\n",
       "    <tr>\n",
       "      <th>5114589</th>\n",
       "      <td>1</td>\n",
       "    </tr>\n",
       "    <tr>\n",
       "      <th>6958315</th>\n",
       "      <td>1</td>\n",
       "    </tr>\n",
       "    <tr>\n",
       "      <th>8300375</th>\n",
       "      <td>2</td>\n",
       "    </tr>\n",
       "    <tr>\n",
       "      <th>11685486</th>\n",
       "      <td>1</td>\n",
       "    </tr>\n",
       "    <tr>\n",
       "      <th>39475350</th>\n",
       "      <td>1</td>\n",
       "    </tr>\n",
       "    <tr>\n",
       "      <th>...</th>\n",
       "      <td>...</td>\n",
       "    </tr>\n",
       "    <tr>\n",
       "      <th>4266935830</th>\n",
       "      <td>2</td>\n",
       "    </tr>\n",
       "    <tr>\n",
       "      <th>4278982564</th>\n",
       "      <td>1</td>\n",
       "    </tr>\n",
       "    <tr>\n",
       "      <th>4279090005</th>\n",
       "      <td>1</td>\n",
       "    </tr>\n",
       "    <tr>\n",
       "      <th>4281247801</th>\n",
       "      <td>1</td>\n",
       "    </tr>\n",
       "    <tr>\n",
       "      <th>4283872382</th>\n",
       "      <td>1</td>\n",
       "    </tr>\n",
       "  </tbody>\n",
       "</table>\n",
       "<p>1031 rows × 1 columns</p>\n",
       "</div>"
      ],
      "text/plain": [
       "            group\n",
       "visitor_id       \n",
       "5114589         1\n",
       "6958315         1\n",
       "8300375         2\n",
       "11685486        1\n",
       "39475350        1\n",
       "...           ...\n",
       "4266935830      2\n",
       "4278982564      1\n",
       "4279090005      1\n",
       "4281247801      1\n",
       "4283872382      1\n",
       "\n",
       "[1031 rows x 1 columns]"
      ]
     },
     "execution_count": 18,
     "metadata": {},
     "output_type": "execute_result"
    }
   ],
   "source": [
    "# проверим нет попали ли наши пользователи сразу в две группы\n",
    "users = orders.groupby('visitor_id').agg({'group':'nunique'})\n",
    "users"
   ]
  },
  {
   "cell_type": "markdown",
   "metadata": {},
   "source": [
    "В нашем тестировании 58 пользователей оказались в 2 группах.Это может исказить результаты теста, так как  они имеют влияние на результаты в обеих группах. Но удалить мы их не можем, так как в другой таблице visits, они у нас также участвуют, но в ней нет деления на конкретных пользователей."
   ]
  },
  {
   "cell_type": "code",
   "execution_count": 19,
   "metadata": {
    "scrolled": false
   },
   "outputs": [
    {
     "data": {
      "text/plain": [
       "37652"
      ]
     },
     "metadata": {},
     "output_type": "display_data"
    },
    {
     "data": {
      "text/html": [
       "<div>\n",
       "<style scoped>\n",
       "    .dataframe tbody tr th:only-of-type {\n",
       "        vertical-align: middle;\n",
       "    }\n",
       "\n",
       "    .dataframe tbody tr th {\n",
       "        vertical-align: top;\n",
       "    }\n",
       "\n",
       "    .dataframe thead th {\n",
       "        text-align: right;\n",
       "    }\n",
       "</style>\n",
       "<table border=\"1\" class=\"dataframe\">\n",
       "  <thead>\n",
       "    <tr style=\"text-align: right;\">\n",
       "      <th></th>\n",
       "      <th>visitors</th>\n",
       "    </tr>\n",
       "    <tr>\n",
       "      <th>group</th>\n",
       "      <th></th>\n",
       "    </tr>\n",
       "  </thead>\n",
       "  <tbody>\n",
       "    <tr>\n",
       "      <th>A</th>\n",
       "      <td>18736</td>\n",
       "    </tr>\n",
       "    <tr>\n",
       "      <th>B</th>\n",
       "      <td>18916</td>\n",
       "    </tr>\n",
       "  </tbody>\n",
       "</table>\n",
       "</div>"
      ],
      "text/plain": [
       "       visitors\n",
       "group          \n",
       "A         18736\n",
       "B         18916"
      ]
     },
     "execution_count": 19,
     "metadata": {},
     "output_type": "execute_result"
    }
   ],
   "source": [
    "# проверим количество пользователей в каждой группе в таблице visits\n",
    "display(visitors['visitors'].sum())\n",
    "visitors.groupby('group').agg({'visitors':'sum'})"
   ]
  },
  {
   "cell_type": "markdown",
   "metadata": {},
   "source": [
    "В таблице visitors деление на группы практически поровну: 49.76% и 50.23% соответственно."
   ]
  },
  {
   "cell_type": "markdown",
   "metadata": {},
   "source": [
    "Вывод: На данном этапе нашего исседования, мы изучили данные, имеющиеся у нас в таблицах.\n",
    "Изменили типы данных в некоторых столбцах, а также привели название столбцов в соответствие с \"хорошим\" кодом. Дубликатов в данных не обнаружено.  \n",
    "    Также проверили даты начала и окончания тестирования в таблицах orders и visitors. Они совпадают. А вот количество пользователей было поделено не совсем корректно, одна группа превалирует, что может сказаться и на результатах нашего тестирования. Данные оставили в первоначальном виде, так как нет возможности удалить данных пользователей из второй таблице, где нет их индификатора. На будущее, необходимо проводить А/А тестирование на выявление таких неточностей."
   ]
  },
  {
   "cell_type": "markdown",
   "metadata": {},
   "source": [
    "### Приоритизация гипотез."
   ]
  },
  {
   "cell_type": "markdown",
   "metadata": {},
   "source": [
    "#### Применим фреймворк ICE для приоритизации гипотез. Отсортируем их по убыванию приоритета"
   ]
  },
  {
   "cell_type": "code",
   "execution_count": 20,
   "metadata": {},
   "outputs": [
    {
     "data": {
      "text/html": [
       "<div>\n",
       "<style scoped>\n",
       "    .dataframe tbody tr th:only-of-type {\n",
       "        vertical-align: middle;\n",
       "    }\n",
       "\n",
       "    .dataframe tbody tr th {\n",
       "        vertical-align: top;\n",
       "    }\n",
       "\n",
       "    .dataframe thead th {\n",
       "        text-align: right;\n",
       "    }\n",
       "</style>\n",
       "<table border=\"1\" class=\"dataframe\">\n",
       "  <thead>\n",
       "    <tr style=\"text-align: right;\">\n",
       "      <th></th>\n",
       "      <th>hypothesis</th>\n",
       "      <th>reach</th>\n",
       "      <th>impact</th>\n",
       "      <th>confidence</th>\n",
       "      <th>efforts</th>\n",
       "      <th>ICE</th>\n",
       "    </tr>\n",
       "  </thead>\n",
       "  <tbody>\n",
       "    <tr>\n",
       "      <th>0</th>\n",
       "      <td>Добавить два новых канала привлечения трафика, что позволит привлекать на 30% больше пользователей</td>\n",
       "      <td>3</td>\n",
       "      <td>10</td>\n",
       "      <td>8</td>\n",
       "      <td>6</td>\n",
       "      <td>13.333333</td>\n",
       "    </tr>\n",
       "    <tr>\n",
       "      <th>1</th>\n",
       "      <td>Запустить собственную службу доставки, что сократит срок доставки заказов</td>\n",
       "      <td>2</td>\n",
       "      <td>5</td>\n",
       "      <td>4</td>\n",
       "      <td>10</td>\n",
       "      <td>2.000000</td>\n",
       "    </tr>\n",
       "    <tr>\n",
       "      <th>2</th>\n",
       "      <td>Добавить блоки рекомендаций товаров на сайт интернет магазина, чтобы повысить конверсию и средний чек заказа</td>\n",
       "      <td>8</td>\n",
       "      <td>3</td>\n",
       "      <td>7</td>\n",
       "      <td>3</td>\n",
       "      <td>7.000000</td>\n",
       "    </tr>\n",
       "    <tr>\n",
       "      <th>3</th>\n",
       "      <td>Изменить структура категорий, что увеличит конверсию, т.к. пользователи быстрее найдут нужный товар</td>\n",
       "      <td>8</td>\n",
       "      <td>3</td>\n",
       "      <td>3</td>\n",
       "      <td>8</td>\n",
       "      <td>1.125000</td>\n",
       "    </tr>\n",
       "    <tr>\n",
       "      <th>4</th>\n",
       "      <td>Изменить цвет фона главной страницы, чтобы увеличить вовлеченность пользователей</td>\n",
       "      <td>3</td>\n",
       "      <td>1</td>\n",
       "      <td>1</td>\n",
       "      <td>1</td>\n",
       "      <td>1.000000</td>\n",
       "    </tr>\n",
       "    <tr>\n",
       "      <th>5</th>\n",
       "      <td>Добавить страницу отзывов клиентов о магазине, что позволит увеличить количество заказов</td>\n",
       "      <td>3</td>\n",
       "      <td>2</td>\n",
       "      <td>2</td>\n",
       "      <td>3</td>\n",
       "      <td>1.333333</td>\n",
       "    </tr>\n",
       "    <tr>\n",
       "      <th>6</th>\n",
       "      <td>Показать на главной странице баннеры с актуальными акциями и распродажами, чтобы увеличить конверсию</td>\n",
       "      <td>5</td>\n",
       "      <td>3</td>\n",
       "      <td>8</td>\n",
       "      <td>3</td>\n",
       "      <td>8.000000</td>\n",
       "    </tr>\n",
       "    <tr>\n",
       "      <th>7</th>\n",
       "      <td>Добавить форму подписки на все основные страницы, чтобы собрать базу клиентов для email-рассылок</td>\n",
       "      <td>10</td>\n",
       "      <td>7</td>\n",
       "      <td>8</td>\n",
       "      <td>5</td>\n",
       "      <td>11.200000</td>\n",
       "    </tr>\n",
       "    <tr>\n",
       "      <th>8</th>\n",
       "      <td>Запустить акцию, дающую скидку на товар в день рождения</td>\n",
       "      <td>1</td>\n",
       "      <td>9</td>\n",
       "      <td>9</td>\n",
       "      <td>5</td>\n",
       "      <td>16.200000</td>\n",
       "    </tr>\n",
       "  </tbody>\n",
       "</table>\n",
       "</div>"
      ],
      "text/plain": [
       "                                                                                                     hypothesis  \\\n",
       "0            Добавить два новых канала привлечения трафика, что позволит привлекать на 30% больше пользователей   \n",
       "1                                     Запустить собственную службу доставки, что сократит срок доставки заказов   \n",
       "2  Добавить блоки рекомендаций товаров на сайт интернет магазина, чтобы повысить конверсию и средний чек заказа   \n",
       "3           Изменить структура категорий, что увеличит конверсию, т.к. пользователи быстрее найдут нужный товар   \n",
       "4                              Изменить цвет фона главной страницы, чтобы увеличить вовлеченность пользователей   \n",
       "5                      Добавить страницу отзывов клиентов о магазине, что позволит увеличить количество заказов   \n",
       "6          Показать на главной странице баннеры с актуальными акциями и распродажами, чтобы увеличить конверсию   \n",
       "7              Добавить форму подписки на все основные страницы, чтобы собрать базу клиентов для email-рассылок   \n",
       "8                                                       Запустить акцию, дающую скидку на товар в день рождения   \n",
       "\n",
       "   reach  impact  confidence  efforts        ICE  \n",
       "0      3      10           8        6  13.333333  \n",
       "1      2       5           4       10   2.000000  \n",
       "2      8       3           7        3   7.000000  \n",
       "3      8       3           3        8   1.125000  \n",
       "4      3       1           1        1   1.000000  \n",
       "5      3       2           2        3   1.333333  \n",
       "6      5       3           8        3   8.000000  \n",
       "7     10       7           8        5  11.200000  \n",
       "8      1       9           9        5  16.200000  "
      ]
     },
     "metadata": {},
     "output_type": "display_data"
    },
    {
     "data": {
      "text/html": [
       "<div>\n",
       "<style scoped>\n",
       "    .dataframe tbody tr th:only-of-type {\n",
       "        vertical-align: middle;\n",
       "    }\n",
       "\n",
       "    .dataframe tbody tr th {\n",
       "        vertical-align: top;\n",
       "    }\n",
       "\n",
       "    .dataframe thead th {\n",
       "        text-align: right;\n",
       "    }\n",
       "</style>\n",
       "<table border=\"1\" class=\"dataframe\">\n",
       "  <thead>\n",
       "    <tr style=\"text-align: right;\">\n",
       "      <th></th>\n",
       "      <th>hypothesis</th>\n",
       "      <th>ICE</th>\n",
       "    </tr>\n",
       "  </thead>\n",
       "  <tbody>\n",
       "    <tr>\n",
       "      <th>8</th>\n",
       "      <td>Запустить акцию, дающую скидку на товар в день рождения</td>\n",
       "      <td>16.200000</td>\n",
       "    </tr>\n",
       "    <tr>\n",
       "      <th>0</th>\n",
       "      <td>Добавить два новых канала привлечения трафика, что позволит привлекать на 30% больше пользователей</td>\n",
       "      <td>13.333333</td>\n",
       "    </tr>\n",
       "    <tr>\n",
       "      <th>7</th>\n",
       "      <td>Добавить форму подписки на все основные страницы, чтобы собрать базу клиентов для email-рассылок</td>\n",
       "      <td>11.200000</td>\n",
       "    </tr>\n",
       "    <tr>\n",
       "      <th>6</th>\n",
       "      <td>Показать на главной странице баннеры с актуальными акциями и распродажами, чтобы увеличить конверсию</td>\n",
       "      <td>8.000000</td>\n",
       "    </tr>\n",
       "    <tr>\n",
       "      <th>2</th>\n",
       "      <td>Добавить блоки рекомендаций товаров на сайт интернет магазина, чтобы повысить конверсию и средний чек заказа</td>\n",
       "      <td>7.000000</td>\n",
       "    </tr>\n",
       "    <tr>\n",
       "      <th>1</th>\n",
       "      <td>Запустить собственную службу доставки, что сократит срок доставки заказов</td>\n",
       "      <td>2.000000</td>\n",
       "    </tr>\n",
       "    <tr>\n",
       "      <th>5</th>\n",
       "      <td>Добавить страницу отзывов клиентов о магазине, что позволит увеличить количество заказов</td>\n",
       "      <td>1.333333</td>\n",
       "    </tr>\n",
       "    <tr>\n",
       "      <th>3</th>\n",
       "      <td>Изменить структура категорий, что увеличит конверсию, т.к. пользователи быстрее найдут нужный товар</td>\n",
       "      <td>1.125000</td>\n",
       "    </tr>\n",
       "    <tr>\n",
       "      <th>4</th>\n",
       "      <td>Изменить цвет фона главной страницы, чтобы увеличить вовлеченность пользователей</td>\n",
       "      <td>1.000000</td>\n",
       "    </tr>\n",
       "  </tbody>\n",
       "</table>\n",
       "</div>"
      ],
      "text/plain": [
       "                                                                                                     hypothesis  \\\n",
       "8                                                       Запустить акцию, дающую скидку на товар в день рождения   \n",
       "0            Добавить два новых канала привлечения трафика, что позволит привлекать на 30% больше пользователей   \n",
       "7              Добавить форму подписки на все основные страницы, чтобы собрать базу клиентов для email-рассылок   \n",
       "6          Показать на главной странице баннеры с актуальными акциями и распродажами, чтобы увеличить конверсию   \n",
       "2  Добавить блоки рекомендаций товаров на сайт интернет магазина, чтобы повысить конверсию и средний чек заказа   \n",
       "1                                     Запустить собственную службу доставки, что сократит срок доставки заказов   \n",
       "5                      Добавить страницу отзывов клиентов о магазине, что позволит увеличить количество заказов   \n",
       "3           Изменить структура категорий, что увеличит конверсию, т.к. пользователи быстрее найдут нужный товар   \n",
       "4                              Изменить цвет фона главной страницы, чтобы увеличить вовлеченность пользователей   \n",
       "\n",
       "         ICE  \n",
       "8  16.200000  \n",
       "0  13.333333  \n",
       "7  11.200000  \n",
       "6   8.000000  \n",
       "2   7.000000  \n",
       "1   2.000000  \n",
       "5   1.333333  \n",
       "3   1.125000  \n",
       "4   1.000000  "
      ]
     },
     "execution_count": 20,
     "metadata": {},
     "output_type": "execute_result"
    }
   ],
   "source": [
    "#посчитаем ICE для гипотез\n",
    "hypothesis['ICE'] = (hypothesis['impact']*hypothesis['confidence'])/hypothesis['efforts']\n",
    "display(hypothesis)\n",
    "hypothesis[['hypothesis', 'ICE']].sort_values(by='ICE', ascending=False)"
   ]
  },
  {
   "cell_type": "markdown",
   "metadata": {},
   "source": [
    "#### Применим фреймворк RICE для приоритизации гипотез. Отсортируем их по убыванию приоритета"
   ]
  },
  {
   "cell_type": "code",
   "execution_count": 21,
   "metadata": {
    "scrolled": false
   },
   "outputs": [
    {
     "data": {
      "text/html": [
       "<div>\n",
       "<style scoped>\n",
       "    .dataframe tbody tr th:only-of-type {\n",
       "        vertical-align: middle;\n",
       "    }\n",
       "\n",
       "    .dataframe tbody tr th {\n",
       "        vertical-align: top;\n",
       "    }\n",
       "\n",
       "    .dataframe thead th {\n",
       "        text-align: right;\n",
       "    }\n",
       "</style>\n",
       "<table border=\"1\" class=\"dataframe\">\n",
       "  <thead>\n",
       "    <tr style=\"text-align: right;\">\n",
       "      <th></th>\n",
       "      <th>hypothesis</th>\n",
       "      <th>reach</th>\n",
       "      <th>impact</th>\n",
       "      <th>confidence</th>\n",
       "      <th>efforts</th>\n",
       "      <th>ICE</th>\n",
       "      <th>RICE</th>\n",
       "    </tr>\n",
       "  </thead>\n",
       "  <tbody>\n",
       "    <tr>\n",
       "      <th>0</th>\n",
       "      <td>Добавить два новых канала привлечения трафика, что позволит привлекать на 30% больше пользователей</td>\n",
       "      <td>3</td>\n",
       "      <td>10</td>\n",
       "      <td>8</td>\n",
       "      <td>6</td>\n",
       "      <td>13.333333</td>\n",
       "      <td>40.0</td>\n",
       "    </tr>\n",
       "    <tr>\n",
       "      <th>1</th>\n",
       "      <td>Запустить собственную службу доставки, что сократит срок доставки заказов</td>\n",
       "      <td>2</td>\n",
       "      <td>5</td>\n",
       "      <td>4</td>\n",
       "      <td>10</td>\n",
       "      <td>2.000000</td>\n",
       "      <td>4.0</td>\n",
       "    </tr>\n",
       "    <tr>\n",
       "      <th>2</th>\n",
       "      <td>Добавить блоки рекомендаций товаров на сайт интернет магазина, чтобы повысить конверсию и средний чек заказа</td>\n",
       "      <td>8</td>\n",
       "      <td>3</td>\n",
       "      <td>7</td>\n",
       "      <td>3</td>\n",
       "      <td>7.000000</td>\n",
       "      <td>56.0</td>\n",
       "    </tr>\n",
       "    <tr>\n",
       "      <th>3</th>\n",
       "      <td>Изменить структура категорий, что увеличит конверсию, т.к. пользователи быстрее найдут нужный товар</td>\n",
       "      <td>8</td>\n",
       "      <td>3</td>\n",
       "      <td>3</td>\n",
       "      <td>8</td>\n",
       "      <td>1.125000</td>\n",
       "      <td>9.0</td>\n",
       "    </tr>\n",
       "    <tr>\n",
       "      <th>4</th>\n",
       "      <td>Изменить цвет фона главной страницы, чтобы увеличить вовлеченность пользователей</td>\n",
       "      <td>3</td>\n",
       "      <td>1</td>\n",
       "      <td>1</td>\n",
       "      <td>1</td>\n",
       "      <td>1.000000</td>\n",
       "      <td>3.0</td>\n",
       "    </tr>\n",
       "    <tr>\n",
       "      <th>5</th>\n",
       "      <td>Добавить страницу отзывов клиентов о магазине, что позволит увеличить количество заказов</td>\n",
       "      <td>3</td>\n",
       "      <td>2</td>\n",
       "      <td>2</td>\n",
       "      <td>3</td>\n",
       "      <td>1.333333</td>\n",
       "      <td>4.0</td>\n",
       "    </tr>\n",
       "    <tr>\n",
       "      <th>6</th>\n",
       "      <td>Показать на главной странице баннеры с актуальными акциями и распродажами, чтобы увеличить конверсию</td>\n",
       "      <td>5</td>\n",
       "      <td>3</td>\n",
       "      <td>8</td>\n",
       "      <td>3</td>\n",
       "      <td>8.000000</td>\n",
       "      <td>40.0</td>\n",
       "    </tr>\n",
       "    <tr>\n",
       "      <th>7</th>\n",
       "      <td>Добавить форму подписки на все основные страницы, чтобы собрать базу клиентов для email-рассылок</td>\n",
       "      <td>10</td>\n",
       "      <td>7</td>\n",
       "      <td>8</td>\n",
       "      <td>5</td>\n",
       "      <td>11.200000</td>\n",
       "      <td>112.0</td>\n",
       "    </tr>\n",
       "    <tr>\n",
       "      <th>8</th>\n",
       "      <td>Запустить акцию, дающую скидку на товар в день рождения</td>\n",
       "      <td>1</td>\n",
       "      <td>9</td>\n",
       "      <td>9</td>\n",
       "      <td>5</td>\n",
       "      <td>16.200000</td>\n",
       "      <td>16.2</td>\n",
       "    </tr>\n",
       "  </tbody>\n",
       "</table>\n",
       "</div>"
      ],
      "text/plain": [
       "                                                                                                     hypothesis  \\\n",
       "0            Добавить два новых канала привлечения трафика, что позволит привлекать на 30% больше пользователей   \n",
       "1                                     Запустить собственную службу доставки, что сократит срок доставки заказов   \n",
       "2  Добавить блоки рекомендаций товаров на сайт интернет магазина, чтобы повысить конверсию и средний чек заказа   \n",
       "3           Изменить структура категорий, что увеличит конверсию, т.к. пользователи быстрее найдут нужный товар   \n",
       "4                              Изменить цвет фона главной страницы, чтобы увеличить вовлеченность пользователей   \n",
       "5                      Добавить страницу отзывов клиентов о магазине, что позволит увеличить количество заказов   \n",
       "6          Показать на главной странице баннеры с актуальными акциями и распродажами, чтобы увеличить конверсию   \n",
       "7              Добавить форму подписки на все основные страницы, чтобы собрать базу клиентов для email-рассылок   \n",
       "8                                                       Запустить акцию, дающую скидку на товар в день рождения   \n",
       "\n",
       "   reach  impact  confidence  efforts        ICE   RICE  \n",
       "0      3      10           8        6  13.333333   40.0  \n",
       "1      2       5           4       10   2.000000    4.0  \n",
       "2      8       3           7        3   7.000000   56.0  \n",
       "3      8       3           3        8   1.125000    9.0  \n",
       "4      3       1           1        1   1.000000    3.0  \n",
       "5      3       2           2        3   1.333333    4.0  \n",
       "6      5       3           8        3   8.000000   40.0  \n",
       "7     10       7           8        5  11.200000  112.0  \n",
       "8      1       9           9        5  16.200000   16.2  "
      ]
     },
     "metadata": {},
     "output_type": "display_data"
    },
    {
     "data": {
      "text/html": [
       "<div>\n",
       "<style scoped>\n",
       "    .dataframe tbody tr th:only-of-type {\n",
       "        vertical-align: middle;\n",
       "    }\n",
       "\n",
       "    .dataframe tbody tr th {\n",
       "        vertical-align: top;\n",
       "    }\n",
       "\n",
       "    .dataframe thead th {\n",
       "        text-align: right;\n",
       "    }\n",
       "</style>\n",
       "<table border=\"1\" class=\"dataframe\">\n",
       "  <thead>\n",
       "    <tr style=\"text-align: right;\">\n",
       "      <th></th>\n",
       "      <th>hypothesis</th>\n",
       "      <th>RICE</th>\n",
       "    </tr>\n",
       "  </thead>\n",
       "  <tbody>\n",
       "    <tr>\n",
       "      <th>7</th>\n",
       "      <td>Добавить форму подписки на все основные страницы, чтобы собрать базу клиентов для email-рассылок</td>\n",
       "      <td>112.0</td>\n",
       "    </tr>\n",
       "    <tr>\n",
       "      <th>2</th>\n",
       "      <td>Добавить блоки рекомендаций товаров на сайт интернет магазина, чтобы повысить конверсию и средний чек заказа</td>\n",
       "      <td>56.0</td>\n",
       "    </tr>\n",
       "    <tr>\n",
       "      <th>0</th>\n",
       "      <td>Добавить два новых канала привлечения трафика, что позволит привлекать на 30% больше пользователей</td>\n",
       "      <td>40.0</td>\n",
       "    </tr>\n",
       "    <tr>\n",
       "      <th>6</th>\n",
       "      <td>Показать на главной странице баннеры с актуальными акциями и распродажами, чтобы увеличить конверсию</td>\n",
       "      <td>40.0</td>\n",
       "    </tr>\n",
       "    <tr>\n",
       "      <th>8</th>\n",
       "      <td>Запустить акцию, дающую скидку на товар в день рождения</td>\n",
       "      <td>16.2</td>\n",
       "    </tr>\n",
       "    <tr>\n",
       "      <th>3</th>\n",
       "      <td>Изменить структура категорий, что увеличит конверсию, т.к. пользователи быстрее найдут нужный товар</td>\n",
       "      <td>9.0</td>\n",
       "    </tr>\n",
       "    <tr>\n",
       "      <th>1</th>\n",
       "      <td>Запустить собственную службу доставки, что сократит срок доставки заказов</td>\n",
       "      <td>4.0</td>\n",
       "    </tr>\n",
       "    <tr>\n",
       "      <th>5</th>\n",
       "      <td>Добавить страницу отзывов клиентов о магазине, что позволит увеличить количество заказов</td>\n",
       "      <td>4.0</td>\n",
       "    </tr>\n",
       "    <tr>\n",
       "      <th>4</th>\n",
       "      <td>Изменить цвет фона главной страницы, чтобы увеличить вовлеченность пользователей</td>\n",
       "      <td>3.0</td>\n",
       "    </tr>\n",
       "  </tbody>\n",
       "</table>\n",
       "</div>"
      ],
      "text/plain": [
       "                                                                                                     hypothesis  \\\n",
       "7              Добавить форму подписки на все основные страницы, чтобы собрать базу клиентов для email-рассылок   \n",
       "2  Добавить блоки рекомендаций товаров на сайт интернет магазина, чтобы повысить конверсию и средний чек заказа   \n",
       "0            Добавить два новых канала привлечения трафика, что позволит привлекать на 30% больше пользователей   \n",
       "6          Показать на главной странице баннеры с актуальными акциями и распродажами, чтобы увеличить конверсию   \n",
       "8                                                       Запустить акцию, дающую скидку на товар в день рождения   \n",
       "3           Изменить структура категорий, что увеличит конверсию, т.к. пользователи быстрее найдут нужный товар   \n",
       "1                                     Запустить собственную службу доставки, что сократит срок доставки заказов   \n",
       "5                      Добавить страницу отзывов клиентов о магазине, что позволит увеличить количество заказов   \n",
       "4                              Изменить цвет фона главной страницы, чтобы увеличить вовлеченность пользователей   \n",
       "\n",
       "    RICE  \n",
       "7  112.0  \n",
       "2   56.0  \n",
       "0   40.0  \n",
       "6   40.0  \n",
       "8   16.2  \n",
       "3    9.0  \n",
       "1    4.0  \n",
       "5    4.0  \n",
       "4    3.0  "
      ]
     },
     "execution_count": 21,
     "metadata": {},
     "output_type": "execute_result"
    }
   ],
   "source": [
    "#посчитаем RICE для гипотез\n",
    "hypothesis['RICE'] = (hypothesis['reach']*hypothesis['impact']*hypothesis['confidence'])/hypothesis['efforts']\n",
    "display(hypothesis)\n",
    "hypothesis[['hypothesis', 'RICE']].sort_values(by='RICE', ascending=False)"
   ]
  },
  {
   "cell_type": "markdown",
   "metadata": {},
   "source": [
    "Наиболее перспективными гипотезами, согласно ICE,стали гипотезы под номерами 8, 0, 7 и 6. По RICE перспективными гипотезами стали 7,2,0 и 6.8-ая гипотеза не вошла в 4-ку, так как у данной гипотезы параметр Reach равен 1, то есть небольшое количество пользователей затронет данное изменение, а вот в гипотезах 7 и 2 охват пользователей оценен как 10 и 8 соответственно, поэтому при расчете RICE они вырвались вперед. Стоит заметить, что гипотеза 4 при обоих расчетах заняла последнее место, так как кроме Reach(охвата пользователей),остальные параметры оценены в 1 балл."
   ]
  },
  {
   "cell_type": "markdown",
   "metadata": {},
   "source": [
    "### Анализ A/B-теста"
   ]
  },
  {
   "cell_type": "markdown",
   "metadata": {},
   "source": [
    "#### Построим график кумулятивной выручки по группам"
   ]
  },
  {
   "cell_type": "code",
   "execution_count": 22,
   "metadata": {},
   "outputs": [],
   "source": [
    "# создаем массив уникальных пар значений дат и групп теста\n",
    "datesGroups = orders[['date','group']].drop_duplicates()"
   ]
  },
  {
   "cell_type": "code",
   "execution_count": 23,
   "metadata": {},
   "outputs": [],
   "source": [
    "# получаем агрегированные кумулятивные по дням данные о заказах \n",
    "ordersAggregated = datesGroups.apply(lambda x: orders[np.logical_and(orders['date'] <= x['date'], orders['group'] == x['group'])].agg({'date' : 'max', 'group' : 'max', 'transaction_id' : 'nunique', 'visitor_id' : 'nunique', 'revenue' : 'sum'}), axis=1).sort_values(by=['date','group'])"
   ]
  },
  {
   "cell_type": "code",
   "execution_count": 24,
   "metadata": {},
   "outputs": [],
   "source": [
    "# получаем агрегированные кумулятивные по дням данные о посетителях интернет-магазина \n",
    "visitorsAggregated = datesGroups.apply(lambda x: visitors[np.logical_and(visitors['date'] <= x['date'], visitors['group'] == x['group'])].agg({'date' : 'max', 'group' : 'max', 'visitors' : 'sum'}), axis=1).sort_values(by=['date','group'])\n"
   ]
  },
  {
   "cell_type": "code",
   "execution_count": 25,
   "metadata": {},
   "outputs": [],
   "source": [
    "# объединяем кумулятивные данные в одной таблице и изменим название столбцов\n",
    "cumulativeData = ordersAggregated.merge(visitorsAggregated, left_on=['date', 'group'], right_on=['date', 'group'])\n",
    "cumulativeData.columns = ['date', 'group', 'orders', 'buyers', 'revenue', 'visitors']"
   ]
  },
  {
   "cell_type": "code",
   "execution_count": 26,
   "metadata": {},
   "outputs": [],
   "source": [
    "# датафрейм с кумулятивным количеством заказов и кумулятивной выручкой по дням в группе А\n",
    "cumulativeRevenueA = cumulativeData[cumulativeData['group']=='A'][['date','revenue', 'orders']]"
   ]
  },
  {
   "cell_type": "code",
   "execution_count": 27,
   "metadata": {},
   "outputs": [],
   "source": [
    "# датафрейм с кумулятивным количеством заказов и кумулятивной выручкой по дням в группе B\n",
    "cumulativeRevenueB = cumulativeData[cumulativeData['group']=='B'][['date','revenue', 'orders']]"
   ]
  },
  {
   "cell_type": "code",
   "execution_count": 28,
   "metadata": {},
   "outputs": [
    {
     "data": {
      "image/png": "[encoded data removed]",
      "text/plain": [
       "<Figure size 720x360 with 1 Axes>"
      ]
     },
     "metadata": {
      "needs_background": "light"
     },
     "output_type": "display_data"
    }
   ],
   "source": [
    "# Строим график выручки группы А и B\n",
    "plt.figure(figsize=(10,5))\n",
    "plt.xticks(rotation=45)\n",
    "plt.plot(cumulativeRevenueA['date'], cumulativeRevenueA['revenue'], label='A')\n",
    "\n",
    "plt.plot(cumulativeRevenueB['date'], cumulativeRevenueB['revenue'], label='B')\n",
    "plt.legend()\n",
    "plt.title('Графики кумулятивной выручки по группам')\n",
    "plt.xlabel('Дата')\n",
    "plt.ylabel('Выручка')\n",
    "plt.grid()\n",
    "\n"
   ]
  },
  {
   "cell_type": "markdown",
   "metadata": {},
   "source": [
    "Выручка увеличивается на протяжении всего теста, но в группе B это происходит более выраженно. 13 августа 2019 выручки по группам сравнялись.\n",
    "Также по группе В мы видим резкий скачок на графике в районе 18-19 августа 2019, возможно, это свидетельствует о резком увеличении заказов либо о дорогих заказах."
   ]
  },
  {
   "cell_type": "markdown",
   "metadata": {},
   "source": [
    "#### Построим график кумулятивного среднего чека по группам"
   ]
  },
  {
   "cell_type": "code",
   "execution_count": 29,
   "metadata": {},
   "outputs": [
    {
     "data": {
      "image/png": "[encoded data removed]",
      "text/plain": [
       "<Figure size 720x360 with 1 Axes>"
      ]
     },
     "metadata": {
      "needs_background": "light"
     },
     "output_type": "display_data"
    }
   ],
   "source": [
    "# Строим график кумулятивного среднего чека по группам\n",
    "plt.figure(figsize=(10,5))\n",
    "plt.xticks(rotation=45)\n",
    "plt.plot(cumulativeRevenueA['date'], cumulativeRevenueA['revenue']/cumulativeRevenueA['orders'], label='A')\n",
    "plt.plot(cumulativeRevenueB['date'], cumulativeRevenueB['revenue']/cumulativeRevenueB['orders'], label='B')\n",
    "plt.legend()\n",
    "plt.title('Графики кумулятивного среднего чека по группам')\n",
    "plt.xlabel('Дата')\n",
    "plt.ylabel('Средний чек')\n",
    "plt.grid()\n",
    "plt.show()"
   ]
  },
  {
   "cell_type": "markdown",
   "metadata": {},
   "source": [
    "Средний чек колеблется, особенно в начале тестирования, и примерно в середине по группе А начинает выравниваться.  \n",
    "В группе В видно резкое падения 4, 13 августа, далее, 18-19 августа наблюдается резкий скачок, как и по графику с выручкой,то есть было место крупным заказам либо очень дорогим, и под конец тестирования средний чек постепенно снижается."
   ]
  },
  {
   "cell_type": "markdown",
   "metadata": {},
   "source": [
    "#### Построим график относительного изменения кумулятивного среднего чека группы B к группе A. "
   ]
  },
  {
   "cell_type": "code",
   "execution_count": 30,
   "metadata": {},
   "outputs": [
    {
     "data": {
      "image/png": "[encoded data removed]",
      "text/plain": [
       "<Figure size 720x360 with 1 Axes>"
      ]
     },
     "metadata": {
      "needs_background": "light"
     },
     "output_type": "display_data"
    }
   ],
   "source": [
    "# собираем данные в одном датафрейме\n",
    "mergedCumulativeRevenue = cumulativeRevenueA.merge(cumulativeRevenueB, left_on='date', right_on='date', how='left', suffixes=['A', 'B'])\n",
    "\n",
    "# cтроим отношение средних чеков\n",
    "plt.figure(figsize=(10,5))\n",
    "plt.plot(mergedCumulativeRevenue['date'], (mergedCumulativeRevenue['revenueB']/mergedCumulativeRevenue['ordersB'])/(mergedCumulativeRevenue['revenueA']/mergedCumulativeRevenue['ordersA'])-1)\n",
    "\n",
    "plt.title('Графики  относительного изменения кумулятивного среднего чека группы B к группе A')\n",
    "plt.xlabel('Дата')\n",
    "plt.grid()\n",
    "\n",
    "# добавляем ось X\n",
    "plt.axhline(y=0, color='black', linestyle='--') \n",
    "plt.show()"
   ]
  },
  {
   "cell_type": "markdown",
   "metadata": {},
   "source": [
    "График нестабилен и наблюдаются то резкие падения, то всплески,что говорит нам о том, что в данных присутствуют большие или дорогие заказы.\n",
    " \n"
   ]
  },
  {
   "cell_type": "markdown",
   "metadata": {},
   "source": [
    "#### Построим график кумулятивного среднего количества заказов на посетителя по группам"
   ]
  },
  {
   "cell_type": "code",
   "execution_count": 31,
   "metadata": {
    "scrolled": true
   },
   "outputs": [
    {
     "data": {
      "image/png": "[encoded data removed]",
      "text/plain": [
       "<Figure size 720x360 with 1 Axes>"
      ]
     },
     "metadata": {
      "needs_background": "light"
     },
     "output_type": "display_data"
    }
   ],
   "source": [
    "# считаем кумулятивную конверсию\n",
    "cumulativeData['conversion'] = cumulativeData['orders']/cumulativeData['visitors']\n",
    "\n",
    "# отделяем данные по группе A\n",
    "cumulativeDataA = cumulativeData[cumulativeData['group']=='A']\n",
    "\n",
    "# отделяем данные по группе B\n",
    "cumulativeDataB = cumulativeData[cumulativeData['group']=='B']\n",
    "\n",
    "# строим графики\n",
    "plt.figure(figsize=(10,5))\n",
    "plt.plot(cumulativeDataA['date'], cumulativeDataA['conversion'], label='A')\n",
    "plt.plot(cumulativeDataB['date'], cumulativeDataB['conversion'], label='B')\n",
    "\n",
    "plt.legend()\n",
    "plt.title('График кумулятивного среднего количества заказов на посетителя по группам')\n",
    "plt.xlabel('Дата')\n",
    "plt.ylabel('Заказы')\n",
    "plt.grid()\n",
    "\n",
    "# задаем масштаб осей\n",
    "plt.axis([dt.datetime(2019, 8, 1), dt.datetime(2019, 8, 31), 0.025, 0.04])\n",
    "plt.show()"
   ]
  },
  {
   "cell_type": "markdown",
   "metadata": {},
   "source": [
    "Изначально, кумулятивное среднее количество заказов больше у группы А и до 6 августа 2019 держит свою позицию, далее начинается постепенный спад. В группе В обратная картина: до 6 августа среднее количество заказов было меньше, чем в группе А, но потом начинается рост и опережение данного показателя группы А.\n"
   ]
  },
  {
   "cell_type": "markdown",
   "metadata": {},
   "source": [
    "#### Построить график относительного изменения кумулятивного среднего количества заказов на посетителя группы B к группе A"
   ]
  },
  {
   "cell_type": "code",
   "execution_count": 32,
   "metadata": {},
   "outputs": [
    {
     "data": {
      "image/png": "[encoded data removed]",
      "text/plain": [
       "<Figure size 720x360 with 1 Axes>"
      ]
     },
     "metadata": {
      "needs_background": "light"
     },
     "output_type": "display_data"
    }
   ],
   "source": [
    "# собираем данные в одном датафрейме\n",
    "mergedCumulativeConversions = cumulativeDataA[['date','conversion']].merge(cumulativeDataB[['date','conversion']], left_on='date', right_on='date', how='left', suffixes=['A', 'B'])\n",
    "\n",
    "# cтроим график\n",
    "plt.figure(figsize=(10,5))\n",
    "plt.plot(mergedCumulativeConversions['date'], mergedCumulativeConversions['conversionB']/mergedCumulativeConversions['conversionA']-1, label=\"Относительный прирост конверсии группы B относительно группы A\")\n",
    "\n",
    "\n",
    "plt.axhline(y=0, color='black', linestyle='--')\n",
    "plt.axhline(y=0.1, color='grey', linestyle='--')\n",
    "plt.axis([dt.datetime(2019, 8, 1), dt.datetime(2019, 8, 31), -0.2, 0.4])\n",
    "plt.title('График относительного изменения кумулятивного среднего количества заказов на посетителя группы B к группе A')\n",
    "plt.xlabel('Дата')\n",
    "plt.grid()\n",
    "plt.show()"
   ]
  },
  {
   "cell_type": "markdown",
   "metadata": {},
   "source": [
    "Также, как и на предыдущем графике, мы видим, что со 2 августа относительное изменение кумулятивного среднего заказов выше у группы А, но после 6 августа начинается рост данного показателя у группы В вплоть до окончания теста."
   ]
  },
  {
   "cell_type": "markdown",
   "metadata": {},
   "source": [
    "#### Построить точечный график количества заказов по пользователям"
   ]
  },
  {
   "cell_type": "code",
   "execution_count": 33,
   "metadata": {},
   "outputs": [],
   "source": [
    "# посчитаем количество заказов по пользователям\n",
    "ordersByUsers = (\n",
    "    orders.groupby('visitor_id', as_index=False)\n",
    "    .agg({'transaction_id': 'nunique'})\n",
    ")\n",
    "ordersByUsers.columns = ['user_id', 'orders']"
   ]
  },
  {
   "cell_type": "code",
   "execution_count": 34,
   "metadata": {
    "scrolled": true
   },
   "outputs": [
    {
     "data": {
      "image/png": "[encoded data removed]",
      "text/plain": [
       "<Figure size 432x288 with 1 Axes>"
      ]
     },
     "metadata": {
      "needs_background": "light"
     },
     "output_type": "display_data"
    }
   ],
   "source": [
    "#строим график\n",
    "\n",
    "x_values = pd.Series(range(0,len(ordersByUsers)))\n",
    "\n",
    "plt.scatter(x_values, ordersByUsers['orders'])\n",
    "plt.title('Точечный график количества заказов по пользователям')\n",
    "plt.ylabel('Количество заказов')\n",
    "plt.xlabel('Пользователи')\n",
    "plt.show()"
   ]
  },
  {
   "cell_type": "markdown",
   "metadata": {},
   "source": [
    "Много пользователей с 1-2 заказами, 3 заказа уже делают намного реже. Подсчет перцентилей поможет определить, сколько именно заказов считать уже аномалией."
   ]
  },
  {
   "cell_type": "markdown",
   "metadata": {},
   "source": [
    "#### Посчитать 95-й и 99-й перцентили количества заказов на пользователя. Выбрать границу для определения аномальных пользователей"
   ]
  },
  {
   "cell_type": "code",
   "execution_count": 35,
   "metadata": {},
   "outputs": [
    {
     "data": {
      "text/plain": [
       "array([2., 4.])"
      ]
     },
     "execution_count": 35,
     "metadata": {},
     "output_type": "execute_result"
    }
   ],
   "source": [
    "np.percentile(ordersByUsers['orders'], [95, 99])"
   ]
  },
  {
   "cell_type": "markdown",
   "metadata": {},
   "source": [
    "Не более 5% пользователей оформляли больше, чем 2 заказа. Поэтому возьмем за верхнюю границу число заказов 3 и более и будем считать их аномалиями.\n"
   ]
  },
  {
   "cell_type": "markdown",
   "metadata": {},
   "source": [
    "#### Построить точечный график стоимостей заказов"
   ]
  },
  {
   "cell_type": "code",
   "execution_count": 36,
   "metadata": {},
   "outputs": [
    {
     "data": {
      "image/png": "[encoded data removed]",
      "text/plain": [
       "<Figure size 432x288 with 1 Axes>"
      ]
     },
     "metadata": {
      "needs_background": "light"
     },
     "output_type": "display_data"
    }
   ],
   "source": [
    "#строим график\n",
    "\n",
    "x_values = pd.Series(range(0, len(orders['revenue'])))\n",
    "\n",
    "plt.scatter(x_values, orders['revenue'])\n",
    "plt.title('Точечный график стоимости заказов')\n",
    "plt.ylabel('Стоимость заказов')\n",
    "plt.xlabel('Количество заказов')\n",
    "plt.show()"
   ]
  },
  {
   "cell_type": "markdown",
   "metadata": {},
   "source": [
    "На графике явно заметны лишь два аномальных заказа: стоимостью около 200 000 рублей и 1 300 000 рублей. Для более четкого понимания аномалий по стоимости также расчитаем перцентили."
   ]
  },
  {
   "cell_type": "markdown",
   "metadata": {},
   "source": [
    "#### Посчитать 95-й и 99-й перцентили стоимости заказов. Выбрать границу для определения аномальных заказов."
   ]
  },
  {
   "cell_type": "code",
   "execution_count": 37,
   "metadata": {
    "scrolled": false
   },
   "outputs": [
    {
     "data": {
      "text/plain": [
       "array([28000. , 58233.2])"
      ]
     },
     "execution_count": 37,
     "metadata": {},
     "output_type": "execute_result"
    }
   ],
   "source": [
    "np.percentile(orders['revenue'], [95, 99])"
   ]
  },
  {
   "cell_type": "markdown",
   "metadata": {},
   "source": [
    " Не более 5% заказов дороже 28 000 рублей и не более 1% дороже 58 233.2 рублей. Аномалиями будем считать стоимость заказов выше 28 000 руб. "
   ]
  },
  {
   "cell_type": "markdown",
   "metadata": {},
   "source": [
    "#### Посчитать статистическую значимость различий в среднем количестве заказов на посетителя между группами по «сырым» данным."
   ]
  },
  {
   "cell_type": "markdown",
   "metadata": {},
   "source": [
    "Сформулируем гипотезы:  \n",
    "Н0 = различий в среднем количестве заказов между группами нет  \n",
    "Н1 = различия в среднем количестве заказов между группами есть"
   ]
  },
  {
   "cell_type": "code",
   "execution_count": 38,
   "metadata": {},
   "outputs": [],
   "source": [
    "# определим количество пользователей группы А в день\n",
    "visitorsADaily = visitors[visitors['group'] == 'A'][['date', 'visitors']]\n",
    "visitorsADaily.columns = ['date', 'visitorsPerDateA']\n",
    "\n",
    "# определим количество пользователей группы В в день\n",
    "visitorsBDaily = visitors[visitors['group'] == 'B'][['date', 'visitors']]\n",
    "visitorsBDaily.columns = ['date', 'visitorsPerDateB']"
   ]
  },
  {
   "cell_type": "code",
   "execution_count": 39,
   "metadata": {},
   "outputs": [],
   "source": [
    "# найдем кумулятивное количество пользователей группы А в день\n",
    "visitorsACummulative = visitorsADaily.apply(\n",
    "    lambda x: visitorsADaily[visitorsADaily['date'] <= x['date']].agg(\n",
    "        {'date': 'max', 'visitorsPerDateA': 'sum'}\n",
    "    ),\n",
    "    axis=1,\n",
    ")\n",
    "visitorsACummulative.columns = ['date', 'visitorsCummulativeA']\n",
    "\n",
    "# найдем кумулятивное количество пользователей группы В в день\n",
    "visitorsBCummulative = visitorsBDaily.apply(\n",
    "    lambda x: visitorsBDaily[visitorsBDaily['date'] <= x['date']].agg(\n",
    "        {'date': 'max', 'visitorsPerDateB': 'sum'}\n",
    "    ),\n",
    "    axis=1,\n",
    ")\n",
    "visitorsBCummulative.columns = ['date', 'visitorsCummulativeB']\n"
   ]
  },
  {
   "cell_type": "code",
   "execution_count": 40,
   "metadata": {},
   "outputs": [],
   "source": [
    "# определим количество заказов и суммарную выручку группы А в день\n",
    "ordersADaily = (\n",
    "    orders[orders['group'] == 'A'][['date', 'transaction_id', 'visitor_id', 'revenue']]\n",
    "    .groupby('date', as_index=False)\n",
    "    .agg({'transaction_id': pd.Series.nunique, 'revenue': 'sum'})\n",
    ")\n",
    "ordersADaily.columns = ['date', 'ordersPerDateA', 'revenuePerDateA']\n",
    "\n",
    "# определим количество заказов и суммарную выручку группы В в день\n",
    "ordersBDaily = (\n",
    "    orders[orders['group'] == 'B'][['date', 'transaction_id', 'visitor_id', 'revenue']]\n",
    "    .groupby('date', as_index=False)\n",
    "    .agg({'transaction_id': pd.Series.nunique, 'revenue': 'sum'})\n",
    ")\n",
    "ordersBDaily.columns = ['date', 'ordersPerDateB', 'revenuePerDateB']"
   ]
  },
  {
   "cell_type": "code",
   "execution_count": 41,
   "metadata": {},
   "outputs": [],
   "source": [
    "# вычислим кумулятивное количество заказов и суммарную выручку группы А в день\n",
    "\n",
    "ordersACummulative = ordersADaily.apply(\n",
    "    lambda x: ordersADaily[ordersADaily['date'] <= x['date']].agg(\n",
    "        {'date': 'max', 'ordersPerDateA': 'sum', 'revenuePerDateA': 'sum'}\n",
    "    ),\n",
    "    axis=1,\n",
    ").sort_values(by=['date'])\n",
    "ordersACummulative.columns = [\n",
    "    'date',\n",
    "    'ordersCummulativeA',\n",
    "    'revenueCummulativeA',\n",
    "]\n",
    "\n",
    "# вычислим кумулятивное количество заказов и суммарную выручку группы В в день\n",
    "ordersBCummulative = ordersBDaily.apply(\n",
    "    lambda x: ordersBDaily[ordersBDaily['date'] <= x['date']].agg(\n",
    "        {'date': 'max', 'ordersPerDateB': 'sum', 'revenuePerDateB': 'sum'}\n",
    "    ),\n",
    "    axis=1,\n",
    ").sort_values(by=['date'])\n",
    "ordersBCummulative.columns = [\n",
    "    'date',\n",
    "    'ordersCummulativeB',\n",
    "    'revenueCummulativeB',\n",
    "]"
   ]
  },
  {
   "cell_type": "code",
   "execution_count": 42,
   "metadata": {},
   "outputs": [],
   "source": [
    "# объединим найденные данные в одну таблицу\n",
    "data = (\n",
    "    ordersADaily.merge(\n",
    "        ordersBDaily, left_on='date', right_on='date', how='left'\n",
    "    )\n",
    "    .merge(ordersACummulative, left_on='date', right_on='date', how='left')\n",
    "    .merge(ordersBCummulative, left_on='date', right_on='date', how='left')\n",
    "    .merge(visitorsADaily, left_on='date', right_on='date', how='left')\n",
    "    .merge(visitorsBDaily, left_on='date', right_on='date', how='left')\n",
    "    .merge(visitorsACummulative, left_on='date', right_on='date', how='left')\n",
    "    .merge(visitorsBCummulative, left_on='date', right_on='date', how='left')\n",
    ")\n"
   ]
  },
  {
   "cell_type": "code",
   "execution_count": 43,
   "metadata": {},
   "outputs": [],
   "source": [
    "# Создадим переменные ordersByUsersA и ordersByUsersB, в которых для пользователей, которые заказывали хотя бы 1 раз,\n",
    "#укажем число совершённых заказов\n",
    "ordersByUsersA = (\n",
    "    orders[orders['group'] == 'A']\n",
    "    .groupby('visitor_id', as_index=False)\n",
    "    .agg({'transaction_id': pd.Series.nunique})\n",
    ")\n",
    "ordersByUsersA.columns = ['user_id', 'orders']\n",
    "\n",
    "ordersByUsersB = (\n",
    "    orders[orders['group'] == 'B']\n",
    "    .groupby('visitor_id', as_index=False)\n",
    "    .agg({'transaction_id': pd.Series.nunique})\n",
    ")\n",
    "ordersByUsersB.columns = ['user_id', 'orders']"
   ]
  },
  {
   "cell_type": "code",
   "execution_count": 44,
   "metadata": {},
   "outputs": [],
   "source": [
    "# объявим переменные sampleA и sampleB, в которых пользователям из разных групп будет соответствовать количество заказов\n",
    "\n",
    "sampleA = pd.concat(\n",
    "    [\n",
    "        ordersByUsersA['orders'],\n",
    "        pd.Series(\n",
    "            0,\n",
    "            index=np.arange(\n",
    "                data['visitorsPerDateA'].sum() - len(ordersByUsersA['orders'])\n",
    "            ),\n",
    "            name='orders',\n",
    "        ),\n",
    "    ],\n",
    "    axis=0,\n",
    ")\n",
    "\n",
    "sampleB = pd.concat(\n",
    "    [\n",
    "        ordersByUsersB['orders'],\n",
    "        pd.Series(\n",
    "            0,\n",
    "            index=np.arange(\n",
    "                data['visitorsPerDateB'].sum() - len(ordersByUsersB['orders'])\n",
    "            ),\n",
    "            name='orders',\n",
    "        ),\n",
    "    ],\n",
    "    axis=0,\n",
    ")"
   ]
  },
  {
   "cell_type": "code",
   "execution_count": 45,
   "metadata": {},
   "outputs": [
    {
     "name": "stdout",
     "output_type": "stream",
     "text": [
      "0.017\n",
      "0.138\n"
     ]
    }
   ],
   "source": [
    "# рассчитаем статистическую значимость различия в среднем количестве заказов на посетителя  \n",
    "# выведем относительный прирост среднего числа заказов группы B\n",
    "\n",
    "print(\"{0:.3f}\".format(stats.mannwhitneyu(sampleA, sampleB)[1]))\n",
    "\n",
    "print(\"{0:.3f}\".format(sampleB.mean() / sampleA.mean() - 1))\n",
    " "
   ]
  },
  {
   "cell_type": "markdown",
   "metadata": {},
   "source": [
    "p-value< 0.05, соответственно, отвергаем нулевую гипотезу : по «сырым» данным различия в среднем количестве заказов на посетителя между группами A и B есть.   \n",
    "Относительный прирост среднего числа заказов группы B составляет 13.8%"
   ]
  },
  {
   "cell_type": "markdown",
   "metadata": {},
   "source": [
    "#### Посчитать статистическую значимость различий в среднем чеке заказа между группами по «сырым» данным"
   ]
  },
  {
   "cell_type": "markdown",
   "metadata": {},
   "source": [
    "Сформулируем гипотезы:  \n",
    "Н0 = различий в среднем чеке заказа между группами нет  \n",
    "Н1 = различия в среднем чеке заказа между группами есть"
   ]
  },
  {
   "cell_type": "code",
   "execution_count": 46,
   "metadata": {},
   "outputs": [
    {
     "name": "stdout",
     "output_type": "stream",
     "text": [
      "0.729\n",
      "0.259\n"
     ]
    }
   ],
   "source": [
    "# рассчитаем статистическую значимость различия в среднем чеке заказа на посетителя  \n",
    "# выведем относительный прирост среднего чека заказа группы B\n",
    "\n",
    "print('{0:.3f}'.format(stats.mannwhitneyu(orders[orders['group']=='A']['revenue'], orders[orders['group']=='B']['revenue'])[1]))\n",
    "print('{0:.3f}'.format(orders[orders['group']=='B']['revenue'].mean()/orders[orders['group']=='A']['revenue'].mean()-1)) "
   ]
  },
  {
   "cell_type": "markdown",
   "metadata": {},
   "source": [
    "P-value значительно больше 0.05. Значит, причин отвергать нулевую гипотезу по 'сырым' данным и считать, что в среднем чеке есть различия, нет. Впрочем, средний чек группы B значительно выше среднего чека группы A, практически на 26%."
   ]
  },
  {
   "cell_type": "markdown",
   "metadata": {},
   "source": [
    "#### Посчитать статистическую значимость различий в среднем количестве заказов на посетителя между группами по «очищенным» данным"
   ]
  },
  {
   "cell_type": "markdown",
   "metadata": {},
   "source": [
    "При подсчете перцентилей, мы определели, что аномальными являются более 2 заказов на пользователя, а так же суммой более 28 000 руб.Сделаем срез, согласно этим данным, и посчитаем статистическую значимость различий в среднем количестве заказов на посетителя между группами по «очищенным» данным \n"
   ]
  },
  {
   "cell_type": "code",
   "execution_count": 47,
   "metadata": {},
   "outputs": [
    {
     "name": "stdout",
     "output_type": "stream",
     "text": [
      "1099    148427295\n",
      "18      199603092\n",
      "928     204675465\n",
      "23      237748145\n",
      "37      249864742\n",
      "dtype: int64\n",
      "74\n"
     ]
    }
   ],
   "source": [
    "# выделим \"аномальных\" пользователей\n",
    "\n",
    "usersWithManyOrders = pd.concat(\n",
    "    [\n",
    "        ordersByUsersA[ordersByUsersA['orders'] > 2]['user_id'],\n",
    "        ordersByUsersB[ordersByUsersB['orders'] > 2]['user_id'],\n",
    "    ],\n",
    "    axis=0,\n",
    ")\n",
    "usersWithExpensiveOrders = orders[orders['revenue'] > 28000]['visitor_id']\n",
    "abnormalUsers = (\n",
    "    pd.concat([usersWithManyOrders, usersWithExpensiveOrders], axis=0)\n",
    "    .drop_duplicates()\n",
    "    .sort_values()\n",
    ")\n",
    "print(abnormalUsers.head(5))\n",
    "print(abnormalUsers.shape[0]) "
   ]
  },
  {
   "cell_type": "markdown",
   "metadata": {},
   "source": [
    "Сформулируем гипотезы:  \n",
    "Н0 = различий в среднем количестве заказов между группами нет  \n",
    "Н1 = различия в среднем количестве заказов между группами есть"
   ]
  },
  {
   "cell_type": "code",
   "execution_count": 48,
   "metadata": {},
   "outputs": [],
   "source": [
    "# проведем очистку от \"аномальных\" пользователей для расчета статистической значимости\n",
    "\n",
    "sampleAFiltered = pd.concat(\n",
    "    [\n",
    "        ordersByUsersA[\n",
    "            np.logical_not(ordersByUsersA['user_id'].isin(abnormalUsers))\n",
    "        ]['orders'],\n",
    "        pd.Series(\n",
    "            0,\n",
    "            index=np.arange(\n",
    "                data['visitorsPerDateA'].sum() - len(ordersByUsersA['orders'])\n",
    "            ),\n",
    "            name='orders',\n",
    "        ),\n",
    "    ],\n",
    "    axis=0,\n",
    ")\n",
    "\n",
    "sampleBFiltered = pd.concat(\n",
    "    [\n",
    "        ordersByUsersB[\n",
    "            np.logical_not(ordersByUsersB['user_id'].isin(abnormalUsers))\n",
    "        ]['orders'],\n",
    "        pd.Series(\n",
    "            0,\n",
    "            index=np.arange(\n",
    "                data['visitorsPerDateB'].sum() - len(ordersByUsersB['orders'])\n",
    "            ),\n",
    "            name='orders',\n",
    "        ),\n",
    "    ],\n",
    "    axis=0,\n",
    ") "
   ]
  },
  {
   "cell_type": "code",
   "execution_count": 49,
   "metadata": {},
   "outputs": [
    {
     "name": "stdout",
     "output_type": "stream",
     "text": [
      "0.013\n",
      "0.173\n"
     ]
    }
   ],
   "source": [
    "# рассчитаем статистическую значимость различия в среднем количестве заказов на посетителя между группами\n",
    "# выведем относительный прирост среднего числа заказов группы B\n",
    "\n",
    "print('{0:.3f}'.format(stats.mannwhitneyu(sampleAFiltered, sampleBFiltered)[1]))\n",
    "print('{0:.3f}'.format(sampleBFiltered.mean()/sampleAFiltered.mean()-1)) "
   ]
  },
  {
   "cell_type": "markdown",
   "metadata": {},
   "source": [
    "Результаты по среднему количеству заказов  практически не изменились, по сравнению с «сырыми» данными.  \n",
    "p-value< 0.05, соответственно, не принимаем нулевую гипотезу : различия в среднем количестве заказов на посетителя между группами A и B есть.\n",
    "Относительный прирост среднего числа заказов группы B составляет 17.3%, больше , чем по «сырым» данными( было 13.8%)."
   ]
  },
  {
   "cell_type": "markdown",
   "metadata": {},
   "source": [
    "#### Посчитать статистическую значимость различий в среднем чеке заказа между группами по «очищенным» данным. "
   ]
  },
  {
   "cell_type": "code",
   "execution_count": 50,
   "metadata": {},
   "outputs": [
    {
     "name": "stdout",
     "output_type": "stream",
     "text": [
      "0.738\n",
      "-0.020\n"
     ]
    }
   ],
   "source": [
    "# рассчитаем статистическую значимость различия в среднем чеке заказа между группами\n",
    "# выведем относительный прирост среднего числа заказов группы B\n",
    "\n",
    "print(\n",
    "    '{0:.3f}'.format(\n",
    "        stats.mannwhitneyu(\n",
    "            orders[\n",
    "                np.logical_and(\n",
    "                    orders['group'] == 'A',\n",
    "                    np.logical_not(orders['visitor_id'].isin(abnormalUsers)),\n",
    "                )\n",
    "            ]['revenue'],\n",
    "            orders[\n",
    "                np.logical_and(\n",
    "                    orders['group'] == 'B',\n",
    "                    np.logical_not(orders['visitor_id'].isin(abnormalUsers)),\n",
    "                )\n",
    "            ]['revenue'],\n",
    "        )[1]\n",
    "    )\n",
    ")\n",
    "\n",
    "print(\n",
    "    \"{0:.3f}\".format(\n",
    "        orders[\n",
    "            np.logical_and(\n",
    "                orders['group'] == 'B',\n",
    "                np.logical_not(orders['visitor_id'].isin(abnormalUsers)),\n",
    "            )\n",
    "        ]['revenue'].mean()\n",
    "        / orders[\n",
    "            np.logical_and(\n",
    "                orders['group'] == 'A',\n",
    "                np.logical_not(orders['visitor_id'].isin(abnormalUsers)),\n",
    "            )\n",
    "        ]['revenue'].mean()\n",
    "        - 1\n",
    "    )\n",
    ") "
   ]
  },
  {
   "cell_type": "markdown",
   "metadata": {},
   "source": [
    "Результаты p-value по среднему чеку также практически не изменились. Так же как и по \"сырым\" данным, не отвергаем нулевую гипотезу о том, что статистически значимых различий в среднем чеке между группами нет. Но, средний чек группы B стал ниже среднего чека группы A на 2 %."
   ]
  },
  {
   "cell_type": "markdown",
   "metadata": {},
   "source": [
    "#### Принять решение по результатам теста и объясните его"
   ]
  },
  {
   "cell_type": "markdown",
   "metadata": {},
   "source": [
    "После проверки гипотез мы выяснили, что:  \n",
    "Есть статистически значимое различие в среднем количестве заказов на посетителя между группами как по сырым данным, так и после фильтрации аномалий.Прирост среднего числа заказов группы В составил  13.8% по «сырым» данными и  17.3% по «очищенным».\n",
    "\n",
    "Статистически значимого различия по среднему чеку , как по «сырым»,так и по «очищенным», не обнаружено.А после удаления аномалий средний чек группы В стал меньше на 2 % по сравнению с группой А.\n",
    "\n",
    "Графики различия выручки между группами сообщает, что результаты группы B значительно лучше группы A и наблюдается тенденция к росту.\n",
    "\n",
    "Исходя из вышеизложенных фактов стоит остановить тест и признать его успешным, если было необходимо подтвердить улучшение в среднем количестве заказов на посетителя между группами, тут явно группа В является лидером. \n",
    "Если же было необходимо увеличение и среднего числа заказов и среднего чека, то тест стоит продолжить, и понаблюдать за колебаниями среднего чека в группе В, возможно еще будут изменения. "
   ]
  },
  {
   "cell_type": "code",
   "execution_count": null,
   "metadata": {},
   "outputs": [],
   "source": []
  }
 ],
 "metadata": {
  "ExecuteTimeLog": [
   {
    "duration": 1272,
    "start_time": "2023-02-18T20:49:31.243Z"
   },
   {
    "duration": 134,
    "start_time": "2023-02-18T20:50:23.328Z"
   },
   {
    "duration": 60,
    "start_time": "2023-02-18T20:50:37.393Z"
   },
   {
    "duration": 9,
    "start_time": "2023-02-18T20:50:47.143Z"
   },
   {
    "duration": 12,
    "start_time": "2023-02-18T20:50:54.863Z"
   },
   {
    "duration": 8,
    "start_time": "2023-02-18T20:51:46.477Z"
   },
   {
    "duration": 3,
    "start_time": "2023-02-18T20:51:55.097Z"
   },
   {
    "duration": 10,
    "start_time": "2023-02-18T20:51:56.520Z"
   },
   {
    "duration": 7,
    "start_time": "2023-02-18T20:52:34.023Z"
   },
   {
    "duration": 10,
    "start_time": "2023-02-18T20:54:35.877Z"
   },
   {
    "duration": 8,
    "start_time": "2023-02-18T20:55:31.923Z"
   },
   {
    "duration": 51,
    "start_time": "2023-02-18T20:58:04.506Z"
   },
   {
    "duration": 46,
    "start_time": "2023-02-18T20:58:11.112Z"
   },
   {
    "duration": 47,
    "start_time": "2023-02-18T20:58:47.404Z"
   },
   {
    "duration": 43,
    "start_time": "2023-02-18T20:59:04.124Z"
   },
   {
    "duration": 159,
    "start_time": "2023-02-18T20:59:13.991Z"
   },
   {
    "duration": 14,
    "start_time": "2023-02-18T20:59:32.772Z"
   },
   {
    "duration": 10,
    "start_time": "2023-02-18T20:59:36.687Z"
   },
   {
    "duration": 8,
    "start_time": "2023-02-18T21:00:16.377Z"
   },
   {
    "duration": 5,
    "start_time": "2023-02-18T21:01:04.455Z"
   },
   {
    "duration": 6,
    "start_time": "2023-02-18T21:01:34.870Z"
   },
   {
    "duration": 3,
    "start_time": "2023-02-18T21:04:43.667Z"
   },
   {
    "duration": 6,
    "start_time": "2023-02-18T21:05:23.666Z"
   },
   {
    "duration": 39,
    "start_time": "2023-02-18T21:05:39.462Z"
   },
   {
    "duration": 730,
    "start_time": "2023-02-19T07:42:16.156Z"
   },
   {
    "duration": 208,
    "start_time": "2023-02-19T07:43:35.661Z"
   },
   {
    "duration": 69,
    "start_time": "2023-02-19T07:45:08.520Z"
   },
   {
    "duration": 11,
    "start_time": "2023-02-19T07:45:18.223Z"
   },
   {
    "duration": 11,
    "start_time": "2023-02-19T07:47:24.346Z"
   },
   {
    "duration": 11,
    "start_time": "2023-02-19T07:47:42.664Z"
   },
   {
    "duration": 8,
    "start_time": "2023-02-19T07:49:14.265Z"
   },
   {
    "duration": 4,
    "start_time": "2023-02-19T07:49:25.026Z"
   },
   {
    "duration": 7,
    "start_time": "2023-02-19T07:49:27.042Z"
   },
   {
    "duration": 13,
    "start_time": "2023-02-19T07:50:05.954Z"
   },
   {
    "duration": 10,
    "start_time": "2023-02-19T07:50:27.875Z"
   },
   {
    "duration": 9,
    "start_time": "2023-02-19T07:50:50.098Z"
   },
   {
    "duration": 3,
    "start_time": "2023-02-19T07:55:02.682Z"
   },
   {
    "duration": 11,
    "start_time": "2023-02-19T07:55:19.234Z"
   },
   {
    "duration": 10,
    "start_time": "2023-02-19T07:56:59.913Z"
   },
   {
    "duration": 9,
    "start_time": "2023-02-19T07:58:22.112Z"
   },
   {
    "duration": 5,
    "start_time": "2023-02-19T07:59:15.738Z"
   },
   {
    "duration": 4,
    "start_time": "2023-02-19T07:59:24.065Z"
   },
   {
    "duration": 4,
    "start_time": "2023-02-19T07:59:47.117Z"
   },
   {
    "duration": 42,
    "start_time": "2023-02-19T08:01:24.570Z"
   },
   {
    "duration": 43,
    "start_time": "2023-02-19T08:02:35.272Z"
   },
   {
    "duration": 8,
    "start_time": "2023-02-19T08:02:40.306Z"
   },
   {
    "duration": 9,
    "start_time": "2023-02-19T08:03:14.587Z"
   },
   {
    "duration": 10,
    "start_time": "2023-02-19T08:05:07.712Z"
   },
   {
    "duration": 12,
    "start_time": "2023-02-19T08:06:24.954Z"
   },
   {
    "duration": 12,
    "start_time": "2023-02-19T08:09:10.146Z"
   },
   {
    "duration": 13,
    "start_time": "2023-02-19T08:10:45.229Z"
   },
   {
    "duration": 16,
    "start_time": "2023-02-19T08:10:51.391Z"
   },
   {
    "duration": 11,
    "start_time": "2023-02-19T08:11:21.169Z"
   },
   {
    "duration": 12,
    "start_time": "2023-02-19T08:16:24.755Z"
   },
   {
    "duration": 14,
    "start_time": "2023-02-19T08:16:45.473Z"
   },
   {
    "duration": 16,
    "start_time": "2023-02-19T08:17:06.744Z"
   },
   {
    "duration": 19,
    "start_time": "2023-02-19T08:17:16.695Z"
   },
   {
    "duration": 24,
    "start_time": "2023-02-19T08:17:26.431Z"
   },
   {
    "duration": 12,
    "start_time": "2023-02-19T08:27:43.172Z"
   },
   {
    "duration": 728,
    "start_time": "2023-02-19T08:28:33.921Z"
   },
   {
    "duration": 3,
    "start_time": "2023-02-19T08:28:54.467Z"
   },
   {
    "duration": 24,
    "start_time": "2023-02-19T08:28:58.951Z"
   },
   {
    "duration": 172,
    "start_time": "2023-02-19T08:29:10.209Z"
   },
   {
    "duration": 859,
    "start_time": "2023-02-19T08:32:30.106Z"
   },
   {
    "duration": 10,
    "start_time": "2023-02-19T08:32:51.954Z"
   },
   {
    "duration": 6,
    "start_time": "2023-02-19T08:33:19.620Z"
   },
   {
    "duration": 5,
    "start_time": "2023-02-19T08:33:43.172Z"
   },
   {
    "duration": 22,
    "start_time": "2023-02-19T08:34:29.013Z"
   },
   {
    "duration": 22,
    "start_time": "2023-02-19T08:35:09.559Z"
   },
   {
    "duration": 162,
    "start_time": "2023-02-19T08:35:37.153Z"
   },
   {
    "duration": 126,
    "start_time": "2023-02-19T08:36:47.561Z"
   },
   {
    "duration": 8,
    "start_time": "2023-02-19T08:37:24.355Z"
   },
   {
    "duration": 7,
    "start_time": "2023-02-19T08:39:18.467Z"
   },
   {
    "duration": 4,
    "start_time": "2023-02-19T08:39:21.600Z"
   },
   {
    "duration": 317,
    "start_time": "2023-02-19T08:39:22.817Z"
   },
   {
    "duration": 224,
    "start_time": "2023-02-19T08:41:14.200Z"
   },
   {
    "duration": 208,
    "start_time": "2023-02-19T08:41:24.786Z"
   },
   {
    "duration": 260,
    "start_time": "2023-02-19T08:41:33.260Z"
   },
   {
    "duration": 12,
    "start_time": "2023-02-19T08:42:06.969Z"
   },
   {
    "duration": 8,
    "start_time": "2023-02-19T08:42:14.764Z"
   },
   {
    "duration": 227,
    "start_time": "2023-02-19T08:45:21.454Z"
   },
   {
    "duration": 193,
    "start_time": "2023-02-19T08:56:02.916Z"
   },
   {
    "duration": 212,
    "start_time": "2023-02-19T08:56:15.885Z"
   },
   {
    "duration": 234,
    "start_time": "2023-02-19T08:56:30.367Z"
   },
   {
    "duration": 890,
    "start_time": "2023-02-19T12:48:48.948Z"
   },
   {
    "duration": 177,
    "start_time": "2023-02-19T12:48:50.641Z"
   },
   {
    "duration": 13,
    "start_time": "2023-02-19T12:48:51.580Z"
   },
   {
    "duration": 16,
    "start_time": "2023-02-19T12:48:52.897Z"
   },
   {
    "duration": 10,
    "start_time": "2023-02-19T12:48:53.721Z"
   },
   {
    "duration": 13,
    "start_time": "2023-02-19T12:48:55.547Z"
   },
   {
    "duration": 3,
    "start_time": "2023-02-19T12:48:58.992Z"
   },
   {
    "duration": 5,
    "start_time": "2023-02-19T12:49:00.694Z"
   },
   {
    "duration": 7,
    "start_time": "2023-02-19T12:49:04.078Z"
   },
   {
    "duration": 4,
    "start_time": "2023-02-19T12:49:07.052Z"
   },
   {
    "duration": 4,
    "start_time": "2023-02-19T12:49:08.606Z"
   },
   {
    "duration": 11,
    "start_time": "2023-02-19T12:49:53.105Z"
   },
   {
    "duration": 11,
    "start_time": "2023-02-19T12:49:53.965Z"
   },
   {
    "duration": 11,
    "start_time": "2023-02-19T12:49:58.020Z"
   },
   {
    "duration": 6,
    "start_time": "2023-02-19T12:49:59.401Z"
   },
   {
    "duration": 7,
    "start_time": "2023-02-19T12:50:48.488Z"
   },
   {
    "duration": 9,
    "start_time": "2023-02-19T12:51:47.985Z"
   },
   {
    "duration": 19,
    "start_time": "2023-02-19T12:51:48.426Z"
   },
   {
    "duration": 18,
    "start_time": "2023-02-19T12:51:48.660Z"
   },
   {
    "duration": 10,
    "start_time": "2023-02-19T12:52:24.404Z"
   },
   {
    "duration": 10,
    "start_time": "2023-02-19T12:52:28.439Z"
   },
   {
    "duration": 13,
    "start_time": "2023-02-19T12:52:41.432Z"
   },
   {
    "duration": 9,
    "start_time": "2023-02-19T12:57:49.408Z"
   },
   {
    "duration": 9,
    "start_time": "2023-02-19T12:58:03.494Z"
   },
   {
    "duration": 3,
    "start_time": "2023-02-19T12:58:27.016Z"
   },
   {
    "duration": 3,
    "start_time": "2023-02-19T13:02:01.833Z"
   },
   {
    "duration": 3,
    "start_time": "2023-02-19T13:03:18.377Z"
   },
   {
    "duration": 11,
    "start_time": "2023-02-19T13:04:22.442Z"
   },
   {
    "duration": 11,
    "start_time": "2023-02-19T13:05:36.418Z"
   },
   {
    "duration": 8,
    "start_time": "2023-02-19T13:06:18.635Z"
   },
   {
    "duration": 76,
    "start_time": "2023-02-19T13:06:20.330Z"
   },
   {
    "duration": 10,
    "start_time": "2023-02-19T13:06:33.628Z"
   },
   {
    "duration": 9,
    "start_time": "2023-02-19T13:14:23.892Z"
   },
   {
    "duration": 60,
    "start_time": "2023-02-19T13:14:41.558Z"
   },
   {
    "duration": 11,
    "start_time": "2023-02-19T13:14:46.882Z"
   },
   {
    "duration": 7,
    "start_time": "2023-02-19T13:14:57.533Z"
   },
   {
    "duration": 8,
    "start_time": "2023-02-19T13:15:04.789Z"
   },
   {
    "duration": 13,
    "start_time": "2023-02-19T13:15:13.813Z"
   },
   {
    "duration": 4,
    "start_time": "2023-02-19T13:15:18.647Z"
   },
   {
    "duration": 9,
    "start_time": "2023-02-19T13:15:24.597Z"
   },
   {
    "duration": 6,
    "start_time": "2023-02-19T13:15:26.791Z"
   },
   {
    "duration": 8,
    "start_time": "2023-02-19T13:15:43.255Z"
   },
   {
    "duration": 10,
    "start_time": "2023-02-19T13:29:02.292Z"
   },
   {
    "duration": 12,
    "start_time": "2023-02-19T13:29:06.069Z"
   },
   {
    "duration": 41,
    "start_time": "2023-02-19T13:36:36.138Z"
   },
   {
    "duration": 44,
    "start_time": "2023-02-19T13:37:02.635Z"
   },
   {
    "duration": 9,
    "start_time": "2023-02-19T13:37:18.705Z"
   },
   {
    "duration": 8,
    "start_time": "2023-02-19T13:38:59.159Z"
   },
   {
    "duration": 8,
    "start_time": "2023-02-19T13:48:25.390Z"
   },
   {
    "duration": 24,
    "start_time": "2023-02-19T13:48:46.709Z"
   },
   {
    "duration": 6,
    "start_time": "2023-02-19T13:48:49.808Z"
   },
   {
    "duration": 31,
    "start_time": "2023-02-19T13:48:51.395Z"
   },
   {
    "duration": 4,
    "start_time": "2023-02-19T13:48:59.467Z"
   },
   {
    "duration": 62,
    "start_time": "2023-02-19T13:48:59.999Z"
   },
   {
    "duration": 11,
    "start_time": "2023-02-19T13:49:00.794Z"
   },
   {
    "duration": 16,
    "start_time": "2023-02-19T13:49:01.731Z"
   },
   {
    "duration": 11,
    "start_time": "2023-02-19T13:49:02.739Z"
   },
   {
    "duration": 7,
    "start_time": "2023-02-19T13:49:03.781Z"
   },
   {
    "duration": 12,
    "start_time": "2023-02-19T13:49:04.869Z"
   },
   {
    "duration": 14,
    "start_time": "2023-02-19T13:49:06.448Z"
   },
   {
    "duration": 13,
    "start_time": "2023-02-19T13:49:07.720Z"
   },
   {
    "duration": 4,
    "start_time": "2023-02-19T13:49:08.748Z"
   },
   {
    "duration": 5,
    "start_time": "2023-02-19T13:49:09.498Z"
   },
   {
    "duration": 16,
    "start_time": "2023-02-19T13:49:10.359Z"
   },
   {
    "duration": 6,
    "start_time": "2023-02-19T13:49:11.020Z"
   },
   {
    "duration": 6,
    "start_time": "2023-02-19T13:49:11.606Z"
   },
   {
    "duration": 10,
    "start_time": "2023-02-19T13:49:12.416Z"
   },
   {
    "duration": 9,
    "start_time": "2023-02-19T13:49:13.184Z"
   },
   {
    "duration": 13,
    "start_time": "2023-02-19T13:49:14.785Z"
   },
   {
    "duration": 20,
    "start_time": "2023-02-19T13:49:17.463Z"
   },
   {
    "duration": 25,
    "start_time": "2023-02-19T13:49:18.851Z"
   },
   {
    "duration": 5,
    "start_time": "2023-02-19T13:49:22.335Z"
   },
   {
    "duration": 162,
    "start_time": "2023-02-19T13:49:23.204Z"
   },
   {
    "duration": 124,
    "start_time": "2023-02-19T13:49:35.288Z"
   },
   {
    "duration": 8,
    "start_time": "2023-02-19T13:49:42.143Z"
   },
   {
    "duration": 5,
    "start_time": "2023-02-19T13:49:43.592Z"
   },
   {
    "duration": 4,
    "start_time": "2023-02-19T13:49:44.390Z"
   },
   {
    "duration": 288,
    "start_time": "2023-02-19T13:49:45.909Z"
   },
   {
    "duration": 191,
    "start_time": "2023-02-19T13:49:52.721Z"
   },
   {
    "duration": 373,
    "start_time": "2023-02-19T13:59:26.599Z"
   },
   {
    "duration": 286,
    "start_time": "2023-02-19T14:00:45.209Z"
   },
   {
    "duration": 340,
    "start_time": "2023-02-19T14:00:50.916Z"
   },
   {
    "duration": 302,
    "start_time": "2023-02-19T14:00:58.625Z"
   },
   {
    "duration": 308,
    "start_time": "2023-02-19T14:01:46.591Z"
   },
   {
    "duration": 312,
    "start_time": "2023-02-19T14:01:55.366Z"
   },
   {
    "duration": 295,
    "start_time": "2023-02-19T14:02:11.779Z"
   },
   {
    "duration": 201,
    "start_time": "2023-02-19T14:02:29.958Z"
   },
   {
    "duration": 363,
    "start_time": "2023-02-19T14:02:32.815Z"
   },
   {
    "duration": 218,
    "start_time": "2023-02-19T14:05:48.779Z"
   },
   {
    "duration": 9,
    "start_time": "2023-02-19T14:06:35.436Z"
   },
   {
    "duration": 375,
    "start_time": "2023-02-19T14:08:19.612Z"
   },
   {
    "duration": 327,
    "start_time": "2023-02-19T14:08:35.606Z"
   },
   {
    "duration": 51,
    "start_time": "2023-02-19T14:10:13.736Z"
   },
   {
    "duration": 69,
    "start_time": "2023-02-19T14:10:23.039Z"
   },
   {
    "duration": 50,
    "start_time": "2023-02-19T14:10:27.182Z"
   },
   {
    "duration": 201,
    "start_time": "2023-02-19T14:10:39.477Z"
   },
   {
    "duration": 69,
    "start_time": "2023-02-19T14:11:01.554Z"
   },
   {
    "duration": 12,
    "start_time": "2023-02-19T14:11:05.616Z"
   },
   {
    "duration": 13,
    "start_time": "2023-02-19T14:11:06.586Z"
   },
   {
    "duration": 200,
    "start_time": "2023-02-19T14:11:09.777Z"
   },
   {
    "duration": 210,
    "start_time": "2023-02-19T14:11:35.760Z"
   },
   {
    "duration": 12,
    "start_time": "2023-02-19T14:12:00.892Z"
   },
   {
    "duration": 988,
    "start_time": "2023-02-19T14:12:10.849Z"
   },
   {
    "duration": 70,
    "start_time": "2023-02-19T14:12:11.841Z"
   },
   {
    "duration": 27,
    "start_time": "2023-02-19T14:12:11.914Z"
   },
   {
    "duration": 36,
    "start_time": "2023-02-19T14:12:11.943Z"
   },
   {
    "duration": 17,
    "start_time": "2023-02-19T14:12:11.983Z"
   },
   {
    "duration": 17,
    "start_time": "2023-02-19T14:12:12.003Z"
   },
   {
    "duration": 30,
    "start_time": "2023-02-19T14:12:12.023Z"
   },
   {
    "duration": 21,
    "start_time": "2023-02-19T14:12:12.056Z"
   },
   {
    "duration": 18,
    "start_time": "2023-02-19T14:12:12.079Z"
   },
   {
    "duration": 9,
    "start_time": "2023-02-19T14:12:12.103Z"
   },
   {
    "duration": 13,
    "start_time": "2023-02-19T14:12:12.115Z"
   },
   {
    "duration": 40,
    "start_time": "2023-02-19T14:12:12.131Z"
   },
   {
    "duration": 5,
    "start_time": "2023-02-19T14:12:12.173Z"
   },
   {
    "duration": 11,
    "start_time": "2023-02-19T14:12:12.182Z"
   },
   {
    "duration": 26,
    "start_time": "2023-02-19T14:12:12.197Z"
   },
   {
    "duration": 15,
    "start_time": "2023-02-19T14:12:12.226Z"
   },
   {
    "duration": 19,
    "start_time": "2023-02-19T14:12:12.242Z"
   },
   {
    "duration": 18,
    "start_time": "2023-02-19T14:12:12.264Z"
   },
   {
    "duration": 30,
    "start_time": "2023-02-19T14:12:12.285Z"
   },
   {
    "duration": 40,
    "start_time": "2023-02-19T14:12:12.318Z"
   },
   {
    "duration": 7,
    "start_time": "2023-02-19T14:12:12.361Z"
   },
   {
    "duration": 220,
    "start_time": "2023-02-19T14:12:12.371Z"
   },
   {
    "duration": 112,
    "start_time": "2023-02-19T14:12:12.593Z"
   },
   {
    "duration": 0,
    "start_time": "2023-02-19T14:12:12.707Z"
   },
   {
    "duration": 0,
    "start_time": "2023-02-19T14:12:12.709Z"
   },
   {
    "duration": 0,
    "start_time": "2023-02-19T14:12:12.710Z"
   },
   {
    "duration": 0,
    "start_time": "2023-02-19T14:12:12.717Z"
   },
   {
    "duration": 1,
    "start_time": "2023-02-19T14:12:12.718Z"
   },
   {
    "duration": 0,
    "start_time": "2023-02-19T14:12:12.720Z"
   },
   {
    "duration": 0,
    "start_time": "2023-02-19T14:12:12.721Z"
   },
   {
    "duration": 0,
    "start_time": "2023-02-19T14:12:12.723Z"
   },
   {
    "duration": 17,
    "start_time": "2023-02-19T14:12:31.937Z"
   },
   {
    "duration": 28,
    "start_time": "2023-02-19T14:12:56.810Z"
   },
   {
    "duration": 18,
    "start_time": "2023-02-19T14:13:30.142Z"
   },
   {
    "duration": 128,
    "start_time": "2023-02-19T14:15:22.775Z"
   },
   {
    "duration": 10,
    "start_time": "2023-02-19T14:15:34.465Z"
   },
   {
    "duration": 6,
    "start_time": "2023-02-19T14:15:36.909Z"
   },
   {
    "duration": 6,
    "start_time": "2023-02-19T14:15:37.455Z"
   },
   {
    "duration": 289,
    "start_time": "2023-02-19T14:15:38.325Z"
   },
   {
    "duration": 205,
    "start_time": "2023-02-19T14:15:48.169Z"
   },
   {
    "duration": 352,
    "start_time": "2023-02-19T14:15:54.037Z"
   },
   {
    "duration": 284,
    "start_time": "2023-02-19T14:15:59.997Z"
   },
   {
    "duration": 175,
    "start_time": "2023-02-19T14:17:40.753Z"
   },
   {
    "duration": 331,
    "start_time": "2023-02-19T14:17:55.640Z"
   },
   {
    "duration": 120,
    "start_time": "2023-02-19T14:21:54.238Z"
   },
   {
    "duration": 232,
    "start_time": "2023-02-19T14:24:03.646Z"
   },
   {
    "duration": 254,
    "start_time": "2023-02-19T14:24:11.386Z"
   },
   {
    "duration": 214,
    "start_time": "2023-02-19T14:25:11.683Z"
   },
   {
    "duration": 193,
    "start_time": "2023-02-19T14:26:57.351Z"
   },
   {
    "duration": 189,
    "start_time": "2023-02-19T14:28:34.700Z"
   },
   {
    "duration": 182,
    "start_time": "2023-02-19T14:28:40.798Z"
   },
   {
    "duration": 202,
    "start_time": "2023-02-19T14:29:48.220Z"
   },
   {
    "duration": 424,
    "start_time": "2023-02-19T14:30:04.476Z"
   },
   {
    "duration": 331,
    "start_time": "2023-02-19T14:31:14.840Z"
   },
   {
    "duration": 316,
    "start_time": "2023-02-19T14:31:21.456Z"
   },
   {
    "duration": 323,
    "start_time": "2023-02-19T14:31:33.306Z"
   },
   {
    "duration": 337,
    "start_time": "2023-02-19T14:31:48.939Z"
   },
   {
    "duration": 343,
    "start_time": "2023-02-19T14:32:49.910Z"
   },
   {
    "duration": 140,
    "start_time": "2023-02-19T14:33:04.793Z"
   },
   {
    "duration": 9,
    "start_time": "2023-02-19T14:35:32.262Z"
   },
   {
    "duration": 45,
    "start_time": "2023-02-19T14:36:32.225Z"
   },
   {
    "duration": 43,
    "start_time": "2023-02-19T14:36:51.741Z"
   },
   {
    "duration": 15,
    "start_time": "2023-02-19T14:37:05.555Z"
   },
   {
    "duration": 6,
    "start_time": "2023-02-19T14:37:30.128Z"
   },
   {
    "duration": 52,
    "start_time": "2023-02-19T14:37:36.488Z"
   },
   {
    "duration": 167,
    "start_time": "2023-02-19T14:37:58.026Z"
   },
   {
    "duration": 128,
    "start_time": "2023-02-19T14:38:32.881Z"
   },
   {
    "duration": 134,
    "start_time": "2023-02-19T14:39:21.860Z"
   },
   {
    "duration": 143,
    "start_time": "2023-02-19T14:39:56.177Z"
   },
   {
    "duration": 5,
    "start_time": "2023-02-19T14:41:22.743Z"
   },
   {
    "duration": 49,
    "start_time": "2023-02-19T19:09:54.965Z"
   },
   {
    "duration": 898,
    "start_time": "2023-02-19T19:10:20.860Z"
   },
   {
    "duration": 171,
    "start_time": "2023-02-19T19:10:21.760Z"
   },
   {
    "duration": 13,
    "start_time": "2023-02-19T19:10:21.932Z"
   },
   {
    "duration": 13,
    "start_time": "2023-02-19T19:10:21.946Z"
   },
   {
    "duration": 14,
    "start_time": "2023-02-19T19:10:21.962Z"
   },
   {
    "duration": 10,
    "start_time": "2023-02-19T19:10:21.978Z"
   },
   {
    "duration": 18,
    "start_time": "2023-02-19T19:10:21.990Z"
   },
   {
    "duration": 13,
    "start_time": "2023-02-19T19:10:22.010Z"
   },
   {
    "duration": 36,
    "start_time": "2023-02-19T19:10:22.025Z"
   },
   {
    "duration": 5,
    "start_time": "2023-02-19T19:10:22.063Z"
   },
   {
    "duration": 10,
    "start_time": "2023-02-19T19:10:22.069Z"
   },
   {
    "duration": 17,
    "start_time": "2023-02-19T19:10:22.081Z"
   },
   {
    "duration": 5,
    "start_time": "2023-02-19T19:10:22.099Z"
   },
   {
    "duration": 11,
    "start_time": "2023-02-19T19:10:22.107Z"
   },
   {
    "duration": 35,
    "start_time": "2023-02-19T19:10:22.120Z"
   },
   {
    "duration": 15,
    "start_time": "2023-02-19T19:10:22.157Z"
   },
   {
    "duration": 13,
    "start_time": "2023-02-19T19:10:22.174Z"
   },
   {
    "duration": 11,
    "start_time": "2023-02-19T19:10:22.189Z"
   },
   {
    "duration": 16,
    "start_time": "2023-02-19T19:10:22.202Z"
   },
   {
    "duration": 49,
    "start_time": "2023-02-19T19:10:22.220Z"
   },
   {
    "duration": 6,
    "start_time": "2023-02-19T19:10:22.271Z"
   },
   {
    "duration": 197,
    "start_time": "2023-02-19T19:10:22.278Z"
   },
   {
    "duration": 133,
    "start_time": "2023-02-19T19:10:22.477Z"
   },
   {
    "duration": 7,
    "start_time": "2023-02-19T19:10:22.612Z"
   },
   {
    "duration": 12,
    "start_time": "2023-02-19T19:10:22.620Z"
   },
   {
    "duration": 20,
    "start_time": "2023-02-19T19:10:22.634Z"
   },
   {
    "duration": 315,
    "start_time": "2023-02-19T19:10:22.656Z"
   },
   {
    "duration": 229,
    "start_time": "2023-02-19T19:10:22.973Z"
   },
   {
    "duration": 452,
    "start_time": "2023-02-19T19:10:23.204Z"
   },
   {
    "duration": 239,
    "start_time": "2023-02-19T19:10:23.658Z"
   },
   {
    "duration": 315,
    "start_time": "2023-02-19T19:10:23.899Z"
   },
   {
    "duration": 7,
    "start_time": "2023-02-19T19:10:24.216Z"
   },
   {
    "duration": 170,
    "start_time": "2023-02-19T19:10:24.224Z"
   },
   {
    "duration": 5,
    "start_time": "2023-02-19T19:10:24.396Z"
   },
   {
    "duration": 165,
    "start_time": "2023-02-19T19:10:24.403Z"
   },
   {
    "duration": 5,
    "start_time": "2023-02-19T19:12:45.436Z"
   },
   {
    "duration": 82,
    "start_time": "2023-02-19T19:18:43.595Z"
   },
   {
    "duration": 143,
    "start_time": "2023-02-19T19:19:11.759Z"
   },
   {
    "duration": 110,
    "start_time": "2023-02-19T19:21:53.720Z"
   },
   {
    "duration": 336,
    "start_time": "2023-02-19T19:23:13.859Z"
   },
   {
    "duration": 503,
    "start_time": "2023-02-19T19:23:37.918Z"
   },
   {
    "duration": 363,
    "start_time": "2023-02-19T19:23:41.837Z"
   },
   {
    "duration": 13,
    "start_time": "2023-02-19T19:26:15.502Z"
   },
   {
    "duration": 787,
    "start_time": "2023-02-19T19:31:17.413Z"
   },
   {
    "duration": 9,
    "start_time": "2023-02-19T19:33:19.631Z"
   },
   {
    "duration": 9,
    "start_time": "2023-02-19T19:34:11.731Z"
   },
   {
    "duration": 25,
    "start_time": "2023-02-19T19:34:20.929Z"
   },
   {
    "duration": 14,
    "start_time": "2023-02-19T19:36:08.389Z"
   },
   {
    "duration": 1219,
    "start_time": "2023-02-20T05:12:20.339Z"
   },
   {
    "duration": 243,
    "start_time": "2023-02-20T05:12:21.560Z"
   },
   {
    "duration": 12,
    "start_time": "2023-02-20T05:12:25.840Z"
   },
   {
    "duration": 11,
    "start_time": "2023-02-20T05:12:26.709Z"
   },
   {
    "duration": 10,
    "start_time": "2023-02-20T05:12:28.266Z"
   },
   {
    "duration": 6,
    "start_time": "2023-02-20T05:12:31.484Z"
   },
   {
    "duration": 16,
    "start_time": "2023-02-20T05:12:34.886Z"
   },
   {
    "duration": 8,
    "start_time": "2023-02-20T05:12:43.956Z"
   },
   {
    "duration": 9,
    "start_time": "2023-02-20T05:12:44.911Z"
   },
   {
    "duration": 3,
    "start_time": "2023-02-20T05:13:53.598Z"
   },
   {
    "duration": 3,
    "start_time": "2023-02-20T05:13:57.634Z"
   },
   {
    "duration": 11,
    "start_time": "2023-02-20T05:14:02.046Z"
   },
   {
    "duration": 5,
    "start_time": "2023-02-20T05:14:06.520Z"
   },
   {
    "duration": 4,
    "start_time": "2023-02-20T05:14:09.467Z"
   },
   {
    "duration": 10,
    "start_time": "2023-02-20T05:14:17.458Z"
   },
   {
    "duration": 9,
    "start_time": "2023-02-20T05:14:32.570Z"
   },
   {
    "duration": 10,
    "start_time": "2023-02-20T05:15:19.040Z"
   },
   {
    "duration": 4,
    "start_time": "2023-02-20T05:19:03.048Z"
   },
   {
    "duration": 83,
    "start_time": "2023-02-20T05:19:03.586Z"
   },
   {
    "duration": 12,
    "start_time": "2023-02-20T05:19:04.404Z"
   },
   {
    "duration": 15,
    "start_time": "2023-02-20T05:19:06.346Z"
   },
   {
    "duration": 13,
    "start_time": "2023-02-20T05:19:08.444Z"
   },
   {
    "duration": 11,
    "start_time": "2023-02-20T05:19:17.907Z"
   },
   {
    "duration": 368,
    "start_time": "2023-02-20T05:19:48.765Z"
   },
   {
    "duration": 3,
    "start_time": "2023-02-20T05:20:10.826Z"
   },
   {
    "duration": 77,
    "start_time": "2023-02-20T05:20:11.299Z"
   },
   {
    "duration": 9,
    "start_time": "2023-02-20T05:20:11.776Z"
   },
   {
    "duration": 12,
    "start_time": "2023-02-20T05:20:12.291Z"
   },
   {
    "duration": 11,
    "start_time": "2023-02-20T05:20:12.875Z"
   },
   {
    "duration": 11,
    "start_time": "2023-02-20T05:20:13.957Z"
   },
   {
    "duration": 4,
    "start_time": "2023-02-20T05:20:15.205Z"
   },
   {
    "duration": 11,
    "start_time": "2023-02-20T05:20:23.411Z"
   },
   {
    "duration": 11,
    "start_time": "2023-02-20T05:20:24.310Z"
   },
   {
    "duration": 11,
    "start_time": "2023-02-20T05:20:41.818Z"
   },
   {
    "duration": 9,
    "start_time": "2023-02-20T05:20:43.652Z"
   },
   {
    "duration": 8,
    "start_time": "2023-02-20T05:20:44.304Z"
   },
   {
    "duration": 3,
    "start_time": "2023-02-20T05:20:49.356Z"
   },
   {
    "duration": 3,
    "start_time": "2023-02-20T05:20:50.908Z"
   },
   {
    "duration": 12,
    "start_time": "2023-02-20T05:20:51.778Z"
   },
   {
    "duration": 5,
    "start_time": "2023-02-20T05:20:53.807Z"
   },
   {
    "duration": 5,
    "start_time": "2023-02-20T05:20:54.307Z"
   },
   {
    "duration": 9,
    "start_time": "2023-02-20T05:21:44.716Z"
   },
   {
    "duration": 8,
    "start_time": "2023-02-20T05:22:24.612Z"
   },
   {
    "duration": 13,
    "start_time": "2023-02-20T05:39:45.550Z"
   },
   {
    "duration": 4,
    "start_time": "2023-02-20T05:39:53.316Z"
   },
   {
    "duration": 76,
    "start_time": "2023-02-20T05:39:54.011Z"
   },
   {
    "duration": 11,
    "start_time": "2023-02-20T05:39:54.742Z"
   },
   {
    "duration": 10,
    "start_time": "2023-02-20T05:39:55.556Z"
   },
   {
    "duration": 13,
    "start_time": "2023-02-20T05:39:56.405Z"
   },
   {
    "duration": 11,
    "start_time": "2023-02-20T05:39:57.177Z"
   },
   {
    "duration": 8,
    "start_time": "2023-02-20T05:39:58.100Z"
   },
   {
    "duration": 11,
    "start_time": "2023-02-20T05:39:58.934Z"
   },
   {
    "duration": 7,
    "start_time": "2023-02-20T05:39:59.726Z"
   },
   {
    "duration": 4,
    "start_time": "2023-02-20T05:40:00.870Z"
   },
   {
    "duration": 3,
    "start_time": "2023-02-20T05:40:02.625Z"
   },
   {
    "duration": 12,
    "start_time": "2023-02-20T05:40:04.880Z"
   },
   {
    "duration": 4,
    "start_time": "2023-02-20T05:40:05.781Z"
   },
   {
    "duration": 4,
    "start_time": "2023-02-20T05:40:06.631Z"
   },
   {
    "duration": 8,
    "start_time": "2023-02-20T05:40:07.193Z"
   },
   {
    "duration": 7,
    "start_time": "2023-02-20T05:40:08.043Z"
   },
   {
    "duration": 12,
    "start_time": "2023-02-20T05:40:13.710Z"
   },
   {
    "duration": 8,
    "start_time": "2023-02-20T05:40:26.595Z"
   },
   {
    "duration": 10,
    "start_time": "2023-02-20T05:49:55.298Z"
   },
   {
    "duration": 19,
    "start_time": "2023-02-20T05:55:09.645Z"
   },
   {
    "duration": 11,
    "start_time": "2023-02-20T05:55:16.878Z"
   },
   {
    "duration": 10,
    "start_time": "2023-02-20T05:55:23.969Z"
   },
   {
    "duration": 6,
    "start_time": "2023-02-20T05:55:49.988Z"
   },
   {
    "duration": 11,
    "start_time": "2023-02-20T05:55:58.466Z"
   },
   {
    "duration": 10,
    "start_time": "2023-02-20T05:56:38.380Z"
   },
   {
    "duration": 8,
    "start_time": "2023-02-20T05:57:02.466Z"
   },
   {
    "duration": 8,
    "start_time": "2023-02-20T06:02:10.450Z"
   },
   {
    "duration": 7,
    "start_time": "2023-02-20T06:02:25.502Z"
   },
   {
    "duration": 9,
    "start_time": "2023-02-20T06:02:33.172Z"
   },
   {
    "duration": 4,
    "start_time": "2023-02-20T06:03:42.099Z"
   },
   {
    "duration": 10,
    "start_time": "2023-02-20T06:04:00.016Z"
   },
   {
    "duration": 9,
    "start_time": "2023-02-20T06:04:10.067Z"
   },
   {
    "duration": 6,
    "start_time": "2023-02-20T06:26:26.025Z"
   },
   {
    "duration": 160,
    "start_time": "2023-02-20T06:26:26.677Z"
   },
   {
    "duration": 10,
    "start_time": "2023-02-20T06:27:44.920Z"
   },
   {
    "duration": 120,
    "start_time": "2023-02-20T06:27:48.553Z"
   },
   {
    "duration": 16,
    "start_time": "2023-02-20T06:27:56.786Z"
   },
   {
    "duration": 7,
    "start_time": "2023-02-20T06:28:10.495Z"
   },
   {
    "duration": 5,
    "start_time": "2023-02-20T06:28:35.082Z"
   },
   {
    "duration": 4,
    "start_time": "2023-02-20T06:28:35.617Z"
   },
   {
    "duration": 253,
    "start_time": "2023-02-20T06:28:36.572Z"
   },
   {
    "duration": 174,
    "start_time": "2023-02-20T06:29:17.735Z"
   },
   {
    "duration": 204,
    "start_time": "2023-02-20T06:29:22.023Z"
   },
   {
    "duration": 191,
    "start_time": "2023-02-20T06:31:53.300Z"
   },
   {
    "duration": 359,
    "start_time": "2023-02-20T06:36:10.885Z"
   },
   {
    "duration": 324,
    "start_time": "2023-02-20T06:36:43.374Z"
   },
   {
    "duration": 274,
    "start_time": "2023-02-20T06:37:01.690Z"
   },
   {
    "duration": 334,
    "start_time": "2023-02-20T06:37:26.769Z"
   },
   {
    "duration": 174,
    "start_time": "2023-02-20T06:38:12.691Z"
   },
   {
    "duration": 186,
    "start_time": "2023-02-20T06:38:51.601Z"
   },
   {
    "duration": 330,
    "start_time": "2023-02-20T06:39:05.815Z"
   },
   {
    "duration": 320,
    "start_time": "2023-02-20T06:39:08.537Z"
   },
   {
    "duration": 173,
    "start_time": "2023-02-20T06:39:18.528Z"
   },
   {
    "duration": 326,
    "start_time": "2023-02-20T06:39:24.783Z"
   },
   {
    "duration": 191,
    "start_time": "2023-02-20T06:39:28.355Z"
   },
   {
    "duration": 252,
    "start_time": "2023-02-20T06:40:37.028Z"
   },
   {
    "duration": 371,
    "start_time": "2023-02-20T06:40:46.874Z"
   },
   {
    "duration": 285,
    "start_time": "2023-02-20T06:40:56.221Z"
   },
   {
    "duration": 198,
    "start_time": "2023-02-20T06:42:01.750Z"
   },
   {
    "duration": 195,
    "start_time": "2023-02-20T06:42:13.709Z"
   },
   {
    "duration": 335,
    "start_time": "2023-02-20T06:43:13.301Z"
   },
   {
    "duration": 281,
    "start_time": "2023-02-20T06:43:19.920Z"
   },
   {
    "duration": 353,
    "start_time": "2023-02-20T06:43:33.445Z"
   },
   {
    "duration": 304,
    "start_time": "2023-02-20T06:43:45.666Z"
   },
   {
    "duration": 250,
    "start_time": "2023-02-20T06:44:03.929Z"
   },
   {
    "duration": 183,
    "start_time": "2023-02-20T07:06:55.649Z"
   },
   {
    "duration": 310,
    "start_time": "2023-02-20T07:07:19.394Z"
   },
   {
    "duration": 376,
    "start_time": "2023-02-20T07:27:24.118Z"
   },
   {
    "duration": 291,
    "start_time": "2023-02-20T07:27:29.556Z"
   },
   {
    "duration": 7,
    "start_time": "2023-02-20T07:35:07.811Z"
   },
   {
    "duration": 128,
    "start_time": "2023-02-20T07:35:08.503Z"
   },
   {
    "duration": 129,
    "start_time": "2023-02-20T09:12:52.891Z"
   },
   {
    "duration": 136,
    "start_time": "2023-02-20T09:13:56.794Z"
   },
   {
    "duration": 7,
    "start_time": "2023-02-20T09:19:16.282Z"
   },
   {
    "duration": 6,
    "start_time": "2023-02-20T09:23:04.590Z"
   },
   {
    "duration": 140,
    "start_time": "2023-02-20T09:24:30.010Z"
   },
   {
    "duration": 5,
    "start_time": "2023-02-20T09:26:48.200Z"
   },
   {
    "duration": 5,
    "start_time": "2023-02-20T09:27:17.843Z"
   },
   {
    "duration": 1080,
    "start_time": "2023-02-20T09:35:22.358Z"
   },
   {
    "duration": 78,
    "start_time": "2023-02-20T09:35:23.440Z"
   },
   {
    "duration": 11,
    "start_time": "2023-02-20T09:35:23.520Z"
   },
   {
    "duration": 11,
    "start_time": "2023-02-20T09:35:23.532Z"
   },
   {
    "duration": 10,
    "start_time": "2023-02-20T09:35:23.544Z"
   },
   {
    "duration": 15,
    "start_time": "2023-02-20T09:35:23.556Z"
   },
   {
    "duration": 14,
    "start_time": "2023-02-20T09:35:23.572Z"
   },
   {
    "duration": 7,
    "start_time": "2023-02-20T09:35:23.587Z"
   },
   {
    "duration": 9,
    "start_time": "2023-02-20T09:35:23.595Z"
   },
   {
    "duration": 5,
    "start_time": "2023-02-20T09:35:23.606Z"
   },
   {
    "duration": 11,
    "start_time": "2023-02-20T09:35:23.613Z"
   },
   {
    "duration": 12,
    "start_time": "2023-02-20T09:35:23.625Z"
   },
   {
    "duration": 3,
    "start_time": "2023-02-20T09:35:23.639Z"
   },
   {
    "duration": 7,
    "start_time": "2023-02-20T09:35:23.645Z"
   },
   {
    "duration": 10,
    "start_time": "2023-02-20T09:35:23.654Z"
   },
   {
    "duration": 27,
    "start_time": "2023-02-20T09:35:23.665Z"
   },
   {
    "duration": 16,
    "start_time": "2023-02-20T09:35:23.694Z"
   },
   {
    "duration": 10,
    "start_time": "2023-02-20T09:35:23.711Z"
   },
   {
    "duration": 7,
    "start_time": "2023-02-20T09:35:23.722Z"
   },
   {
    "duration": 11,
    "start_time": "2023-02-20T09:35:23.730Z"
   },
   {
    "duration": 15,
    "start_time": "2023-02-20T09:35:23.742Z"
   },
   {
    "duration": 55,
    "start_time": "2023-02-20T09:35:23.759Z"
   },
   {
    "duration": 6,
    "start_time": "2023-02-20T09:35:23.816Z"
   },
   {
    "duration": 179,
    "start_time": "2023-02-20T09:35:23.824Z"
   },
   {
    "duration": 129,
    "start_time": "2023-02-20T09:35:24.005Z"
   },
   {
    "duration": 11,
    "start_time": "2023-02-20T09:35:24.136Z"
   },
   {
    "duration": 7,
    "start_time": "2023-02-20T09:35:24.148Z"
   },
   {
    "duration": 21,
    "start_time": "2023-02-20T09:35:24.156Z"
   },
   {
    "duration": 278,
    "start_time": "2023-02-20T09:35:24.179Z"
   },
   {
    "duration": 218,
    "start_time": "2023-02-20T09:35:24.458Z"
   },
   {
    "duration": 318,
    "start_time": "2023-02-20T09:35:24.678Z"
   },
   {
    "duration": 204,
    "start_time": "2023-02-20T09:35:24.998Z"
   },
   {
    "duration": 295,
    "start_time": "2023-02-20T09:35:25.203Z"
   },
   {
    "duration": 7,
    "start_time": "2023-02-20T09:35:25.500Z"
   },
   {
    "duration": 135,
    "start_time": "2023-02-20T09:35:25.508Z"
   },
   {
    "duration": 5,
    "start_time": "2023-02-20T09:35:25.645Z"
   },
   {
    "duration": 149,
    "start_time": "2023-02-20T09:35:25.651Z"
   },
   {
    "duration": 5,
    "start_time": "2023-02-20T09:35:25.801Z"
   },
   {
    "duration": 368,
    "start_time": "2023-02-20T09:35:25.807Z"
   },
   {
    "duration": 20,
    "start_time": "2023-02-20T09:35:26.177Z"
   },
   {
    "duration": 10,
    "start_time": "2023-02-20T09:35:26.200Z"
   },
   {
    "duration": 9,
    "start_time": "2023-02-20T09:35:26.212Z"
   },
   {
    "duration": 29,
    "start_time": "2023-02-20T09:35:26.222Z"
   },
   {
    "duration": 39,
    "start_time": "2023-02-20T09:35:26.253Z"
   },
   {
    "duration": 46,
    "start_time": "2023-02-20T14:35:35.101Z"
   },
   {
    "duration": 1327,
    "start_time": "2023-02-20T14:35:43.001Z"
   },
   {
    "duration": 203,
    "start_time": "2023-02-20T14:35:44.330Z"
   },
   {
    "duration": 12,
    "start_time": "2023-02-20T14:35:44.534Z"
   },
   {
    "duration": 72,
    "start_time": "2023-02-20T14:35:44.548Z"
   },
   {
    "duration": 11,
    "start_time": "2023-02-20T14:35:44.622Z"
   },
   {
    "duration": 14,
    "start_time": "2023-02-20T14:35:44.635Z"
   },
   {
    "duration": 33,
    "start_time": "2023-02-20T14:35:44.651Z"
   },
   {
    "duration": 8,
    "start_time": "2023-02-20T14:35:44.685Z"
   },
   {
    "duration": 10,
    "start_time": "2023-02-20T14:35:44.695Z"
   },
   {
    "duration": 7,
    "start_time": "2023-02-20T14:35:44.707Z"
   },
   {
    "duration": 6,
    "start_time": "2023-02-20T14:35:44.716Z"
   },
   {
    "duration": 12,
    "start_time": "2023-02-20T14:35:44.724Z"
   },
   {
    "duration": 4,
    "start_time": "2023-02-20T14:35:44.737Z"
   },
   {
    "duration": 23,
    "start_time": "2023-02-20T14:35:44.743Z"
   },
   {
    "duration": 18,
    "start_time": "2023-02-20T14:35:44.767Z"
   },
   {
    "duration": 8,
    "start_time": "2023-02-20T14:35:44.786Z"
   },
   {
    "duration": 13,
    "start_time": "2023-02-20T14:35:44.795Z"
   },
   {
    "duration": 11,
    "start_time": "2023-02-20T14:35:44.809Z"
   },
   {
    "duration": 7,
    "start_time": "2023-02-20T14:35:44.821Z"
   },
   {
    "duration": 8,
    "start_time": "2023-02-20T14:35:44.829Z"
   },
   {
    "duration": 21,
    "start_time": "2023-02-20T14:35:44.839Z"
   },
   {
    "duration": 17,
    "start_time": "2023-02-20T14:35:44.862Z"
   },
   {
    "duration": 15,
    "start_time": "2023-02-20T14:35:44.880Z"
   },
   {
    "duration": 6,
    "start_time": "2023-02-20T14:35:44.896Z"
   },
   {
    "duration": 187,
    "start_time": "2023-02-20T14:35:44.904Z"
   },
   {
    "duration": 129,
    "start_time": "2023-02-20T14:35:45.092Z"
   },
   {
    "duration": 7,
    "start_time": "2023-02-20T14:35:45.223Z"
   },
   {
    "duration": 24,
    "start_time": "2023-02-20T14:35:45.233Z"
   },
   {
    "duration": 7,
    "start_time": "2023-02-20T14:35:45.262Z"
   },
   {
    "duration": 333,
    "start_time": "2023-02-20T14:35:45.271Z"
   },
   {
    "duration": 205,
    "start_time": "2023-02-20T14:35:45.605Z"
   },
   {
    "duration": 385,
    "start_time": "2023-02-20T14:35:45.812Z"
   },
   {
    "duration": 230,
    "start_time": "2023-02-20T14:35:46.199Z"
   },
   {
    "duration": 357,
    "start_time": "2023-02-20T14:35:46.431Z"
   },
   {
    "duration": 6,
    "start_time": "2023-02-20T14:35:46.790Z"
   },
   {
    "duration": 134,
    "start_time": "2023-02-20T14:35:46.798Z"
   },
   {
    "duration": 5,
    "start_time": "2023-02-20T14:35:46.933Z"
   },
   {
    "duration": 153,
    "start_time": "2023-02-20T14:35:46.939Z"
   },
   {
    "duration": 6,
    "start_time": "2023-02-20T14:35:47.094Z"
   },
   {
    "duration": 389,
    "start_time": "2023-02-20T14:35:47.102Z"
   },
   {
    "duration": 13,
    "start_time": "2023-02-20T14:35:47.493Z"
   },
   {
    "duration": 15,
    "start_time": "2023-02-20T14:35:47.508Z"
   },
   {
    "duration": 40,
    "start_time": "2023-02-20T14:35:47.525Z"
   },
   {
    "duration": 30,
    "start_time": "2023-02-20T14:35:47.568Z"
   },
   {
    "duration": 14,
    "start_time": "2023-02-20T14:35:47.600Z"
   },
   {
    "duration": 372,
    "start_time": "2023-02-20T14:48:43.270Z"
   },
   {
    "duration": 7,
    "start_time": "2023-02-20T14:50:04.168Z"
   },
   {
    "duration": 125,
    "start_time": "2023-02-20T14:51:00.738Z"
   },
   {
    "duration": 7,
    "start_time": "2023-02-20T14:53:00.662Z"
   },
   {
    "duration": 204,
    "start_time": "2023-02-20T14:53:15.949Z"
   },
   {
    "duration": 26,
    "start_time": "2023-02-20T14:55:07.983Z"
   },
   {
    "duration": 89,
    "start_time": "2023-02-20T14:56:11.883Z"
   },
   {
    "duration": 21,
    "start_time": "2023-02-20T14:58:18.332Z"
   },
   {
    "duration": 3,
    "start_time": "2023-02-20T15:00:27.899Z"
   },
   {
    "duration": 132,
    "start_time": "2023-02-20T15:01:59.592Z"
   },
   {
    "duration": 9,
    "start_time": "2023-02-20T15:03:57.669Z"
   },
   {
    "duration": 24,
    "start_time": "2023-02-20T15:13:36.287Z"
   },
   {
    "duration": 23,
    "start_time": "2023-02-20T15:13:38.253Z"
   },
   {
    "duration": 31,
    "start_time": "2023-02-20T15:14:48.005Z"
   },
   {
    "duration": 22,
    "start_time": "2023-02-20T15:20:23.468Z"
   },
   {
    "duration": 11,
    "start_time": "2023-02-20T15:24:20.990Z"
   },
   {
    "duration": 9,
    "start_time": "2023-02-20T15:26:54.811Z"
   },
   {
    "duration": 8,
    "start_time": "2023-02-20T15:28:01.662Z"
   },
   {
    "duration": 9,
    "start_time": "2023-02-20T15:28:06.637Z"
   },
   {
    "duration": 22,
    "start_time": "2023-02-20T15:28:08.836Z"
   },
   {
    "duration": 9,
    "start_time": "2023-02-20T15:28:31.222Z"
   },
   {
    "duration": 8,
    "start_time": "2023-02-20T15:28:31.995Z"
   },
   {
    "duration": 22,
    "start_time": "2023-02-20T15:28:32.831Z"
   },
   {
    "duration": 8,
    "start_time": "2023-02-20T15:41:40.809Z"
   },
   {
    "duration": 23,
    "start_time": "2023-02-20T15:41:41.812Z"
   },
   {
    "duration": 9,
    "start_time": "2023-02-20T16:44:04.091Z"
   },
   {
    "duration": 49,
    "start_time": "2023-02-21T08:14:42.566Z"
   },
   {
    "duration": 1357,
    "start_time": "2023-02-21T08:14:49.372Z"
   },
   {
    "duration": 260,
    "start_time": "2023-02-21T08:14:50.732Z"
   },
   {
    "duration": 18,
    "start_time": "2023-02-21T08:14:50.994Z"
   },
   {
    "duration": 11,
    "start_time": "2023-02-21T08:14:51.026Z"
   },
   {
    "duration": 11,
    "start_time": "2023-02-21T08:14:52.128Z"
   },
   {
    "duration": 15,
    "start_time": "2023-02-21T08:14:52.627Z"
   },
   {
    "duration": 13,
    "start_time": "2023-02-21T08:14:53.117Z"
   },
   {
    "duration": 10,
    "start_time": "2023-02-21T08:14:53.624Z"
   },
   {
    "duration": 18,
    "start_time": "2023-02-21T08:14:56.652Z"
   },
   {
    "duration": 4,
    "start_time": "2023-02-21T08:14:57.031Z"
   },
   {
    "duration": 4,
    "start_time": "2023-02-21T08:14:57.585Z"
   },
   {
    "duration": 13,
    "start_time": "2023-02-21T08:14:59.078Z"
   },
   {
    "duration": 5,
    "start_time": "2023-02-21T08:14:59.520Z"
   },
   {
    "duration": 4,
    "start_time": "2023-02-21T08:14:59.849Z"
   },
   {
    "duration": 16,
    "start_time": "2023-02-21T08:15:00.258Z"
   },
   {
    "duration": 13,
    "start_time": "2023-02-21T08:15:01.023Z"
   },
   {
    "duration": 12,
    "start_time": "2023-02-21T08:15:04.169Z"
   },
   {
    "duration": 11,
    "start_time": "2023-02-21T08:15:06.173Z"
   },
   {
    "duration": 12,
    "start_time": "2023-02-21T08:15:10.381Z"
   },
   {
    "duration": 103,
    "start_time": "2023-02-21T08:15:11.383Z"
   },
   {
    "duration": 11,
    "start_time": "2023-02-21T08:15:27.067Z"
   },
   {
    "duration": 12,
    "start_time": "2023-02-21T08:16:32.873Z"
   },
   {
    "duration": 21,
    "start_time": "2023-02-21T08:17:20.290Z"
   },
   {
    "duration": 33,
    "start_time": "2023-02-21T08:17:25.061Z"
   },
   {
    "duration": 7,
    "start_time": "2023-02-21T08:18:15.436Z"
   },
   {
    "duration": 179,
    "start_time": "2023-02-21T08:18:19.397Z"
   },
   {
    "duration": 137,
    "start_time": "2023-02-21T08:18:23.709Z"
   },
   {
    "duration": 9,
    "start_time": "2023-02-21T08:18:27.313Z"
   },
   {
    "duration": 9,
    "start_time": "2023-02-21T08:18:48.496Z"
   },
   {
    "duration": 7,
    "start_time": "2023-02-21T08:18:57.115Z"
   },
   {
    "duration": 6,
    "start_time": "2023-02-21T08:19:02.737Z"
   },
   {
    "duration": 361,
    "start_time": "2023-02-21T08:19:08.269Z"
   },
   {
    "duration": 226,
    "start_time": "2023-02-21T08:20:11.284Z"
   },
   {
    "duration": 405,
    "start_time": "2023-02-21T08:21:48.849Z"
   },
   {
    "duration": 237,
    "start_time": "2023-02-21T08:22:58.644Z"
   },
   {
    "duration": 345,
    "start_time": "2023-02-21T08:24:13.036Z"
   },
   {
    "duration": 10,
    "start_time": "2023-02-21T08:25:07.486Z"
   },
   {
    "duration": 180,
    "start_time": "2023-02-21T08:25:25.204Z"
   },
   {
    "duration": 5,
    "start_time": "2023-02-21T08:25:34.326Z"
   },
   {
    "duration": 166,
    "start_time": "2023-02-21T08:26:03.221Z"
   },
   {
    "duration": 6,
    "start_time": "2023-02-21T08:26:32.525Z"
   },
   {
    "duration": 10,
    "start_time": "2023-02-21T08:27:03.962Z"
   },
   {
    "duration": 126,
    "start_time": "2023-02-21T08:27:16.173Z"
   },
   {
    "duration": 25,
    "start_time": "2023-02-21T08:27:42.274Z"
   },
   {
    "duration": 127,
    "start_time": "2023-02-21T08:27:46.655Z"
   },
   {
    "duration": 29,
    "start_time": "2023-02-21T08:27:49.386Z"
   },
   {
    "duration": 147,
    "start_time": "2023-02-21T08:27:57.829Z"
   },
   {
    "duration": 8,
    "start_time": "2023-02-21T08:28:00.837Z"
   },
   {
    "duration": 46,
    "start_time": "2023-02-21T08:28:26.707Z"
   },
   {
    "duration": 11,
    "start_time": "2023-02-21T08:29:56.741Z"
   },
   {
    "duration": 14,
    "start_time": "2023-02-21T08:37:13.526Z"
   },
   {
    "duration": 10,
    "start_time": "2023-02-21T08:38:40.876Z"
   },
   {
    "duration": 10,
    "start_time": "2023-02-21T08:43:08.077Z"
   },
   {
    "duration": 8,
    "start_time": "2023-02-21T08:43:11.131Z"
   },
   {
    "duration": 38,
    "start_time": "2023-02-21T08:43:11.837Z"
   },
   {
    "duration": 9,
    "start_time": "2023-02-21T08:45:08.069Z"
   },
   {
    "duration": 12,
    "start_time": "2023-02-21T08:49:00.225Z"
   },
   {
    "duration": 9,
    "start_time": "2023-02-21T08:49:08.961Z"
   },
   {
    "duration": 13,
    "start_time": "2023-02-21T08:49:11.562Z"
   },
   {
    "duration": 17,
    "start_time": "2023-02-21T08:54:13.781Z"
   },
   {
    "duration": 1159,
    "start_time": "2023-02-21T09:28:06.575Z"
   },
   {
    "duration": 93,
    "start_time": "2023-02-21T09:28:07.736Z"
   },
   {
    "duration": 14,
    "start_time": "2023-02-21T09:28:07.831Z"
   },
   {
    "duration": 33,
    "start_time": "2023-02-21T09:28:07.847Z"
   },
   {
    "duration": 18,
    "start_time": "2023-02-21T09:28:07.883Z"
   },
   {
    "duration": 18,
    "start_time": "2023-02-21T09:28:07.903Z"
   },
   {
    "duration": 18,
    "start_time": "2023-02-21T09:28:07.923Z"
   },
   {
    "duration": 22,
    "start_time": "2023-02-21T09:28:07.943Z"
   },
   {
    "duration": 20,
    "start_time": "2023-02-21T09:28:07.968Z"
   },
   {
    "duration": 6,
    "start_time": "2023-02-21T09:28:07.990Z"
   },
   {
    "duration": 13,
    "start_time": "2023-02-21T09:28:07.997Z"
   },
   {
    "duration": 20,
    "start_time": "2023-02-21T09:28:08.012Z"
   },
   {
    "duration": 6,
    "start_time": "2023-02-21T09:28:08.033Z"
   },
   {
    "duration": 25,
    "start_time": "2023-02-21T09:28:08.043Z"
   },
   {
    "duration": 17,
    "start_time": "2023-02-21T09:28:08.070Z"
   },
   {
    "duration": 8,
    "start_time": "2023-02-21T09:28:08.090Z"
   },
   {
    "duration": 17,
    "start_time": "2023-02-21T09:28:08.100Z"
   },
   {
    "duration": 12,
    "start_time": "2023-02-21T09:28:08.119Z"
   },
   {
    "duration": 34,
    "start_time": "2023-02-21T09:28:08.133Z"
   },
   {
    "duration": 36,
    "start_time": "2023-02-21T09:28:08.169Z"
   },
   {
    "duration": 24,
    "start_time": "2023-02-21T09:28:08.207Z"
   },
   {
    "duration": 34,
    "start_time": "2023-02-21T09:28:08.233Z"
   },
   {
    "duration": 202,
    "start_time": "2023-02-21T09:28:08.269Z"
   },
   {
    "duration": 136,
    "start_time": "2023-02-21T09:28:08.473Z"
   },
   {
    "duration": 7,
    "start_time": "2023-02-21T09:28:08.611Z"
   },
   {
    "duration": 7,
    "start_time": "2023-02-21T09:28:08.620Z"
   },
   {
    "duration": 45,
    "start_time": "2023-02-21T09:28:08.629Z"
   },
   {
    "duration": 325,
    "start_time": "2023-02-21T09:28:08.676Z"
   },
   {
    "duration": 255,
    "start_time": "2023-02-21T09:28:09.003Z"
   },
   {
    "duration": 333,
    "start_time": "2023-02-21T09:28:09.260Z"
   },
   {
    "duration": 247,
    "start_time": "2023-02-21T09:28:09.594Z"
   },
   {
    "duration": 343,
    "start_time": "2023-02-21T09:28:09.842Z"
   },
   {
    "duration": 6,
    "start_time": "2023-02-21T09:28:10.187Z"
   },
   {
    "duration": 177,
    "start_time": "2023-02-21T09:28:10.195Z"
   },
   {
    "duration": 6,
    "start_time": "2023-02-21T09:28:10.373Z"
   },
   {
    "duration": 161,
    "start_time": "2023-02-21T09:28:10.380Z"
   },
   {
    "duration": 12,
    "start_time": "2023-02-21T09:28:10.548Z"
   },
   {
    "duration": 8,
    "start_time": "2023-02-21T09:28:10.566Z"
   },
   {
    "duration": 102,
    "start_time": "2023-02-21T09:28:10.575Z"
   },
   {
    "duration": 25,
    "start_time": "2023-02-21T09:28:10.678Z"
   },
   {
    "duration": 120,
    "start_time": "2023-02-21T09:28:10.707Z"
   },
   {
    "duration": 38,
    "start_time": "2023-02-21T09:28:10.829Z"
   },
   {
    "duration": 182,
    "start_time": "2023-02-21T09:28:10.870Z"
   },
   {
    "duration": 14,
    "start_time": "2023-02-21T09:28:11.054Z"
   },
   {
    "duration": 28,
    "start_time": "2023-02-21T09:28:11.070Z"
   },
   {
    "duration": 11,
    "start_time": "2023-02-21T09:28:11.100Z"
   },
   {
    "duration": 21,
    "start_time": "2023-02-21T09:28:11.113Z"
   },
   {
    "duration": 22,
    "start_time": "2023-02-21T09:28:11.136Z"
   },
   {
    "duration": 41,
    "start_time": "2023-02-21T09:28:11.164Z"
   },
   {
    "duration": 15,
    "start_time": "2023-02-21T09:28:11.206Z"
   },
   {
    "duration": 1369,
    "start_time": "2023-02-21T12:25:37.518Z"
   },
   {
    "duration": 182,
    "start_time": "2023-02-21T12:25:38.889Z"
   },
   {
    "duration": 13,
    "start_time": "2023-02-21T12:25:39.073Z"
   },
   {
    "duration": 13,
    "start_time": "2023-02-21T12:25:39.089Z"
   },
   {
    "duration": 14,
    "start_time": "2023-02-21T12:25:39.104Z"
   },
   {
    "duration": 30,
    "start_time": "2023-02-21T12:25:39.120Z"
   },
   {
    "duration": 29,
    "start_time": "2023-02-21T12:25:39.151Z"
   },
   {
    "duration": 8,
    "start_time": "2023-02-21T12:25:39.182Z"
   },
   {
    "duration": 12,
    "start_time": "2023-02-21T12:25:39.192Z"
   },
   {
    "duration": 5,
    "start_time": "2023-02-21T12:25:39.206Z"
   },
   {
    "duration": 5,
    "start_time": "2023-02-21T12:25:39.213Z"
   },
   {
    "duration": 18,
    "start_time": "2023-02-21T12:25:39.220Z"
   },
   {
    "duration": 4,
    "start_time": "2023-02-21T12:25:39.240Z"
   },
   {
    "duration": 7,
    "start_time": "2023-02-21T12:25:39.246Z"
   },
   {
    "duration": 13,
    "start_time": "2023-02-21T12:25:39.254Z"
   },
   {
    "duration": 35,
    "start_time": "2023-02-21T12:25:39.269Z"
   },
   {
    "duration": 37,
    "start_time": "2023-02-21T12:25:39.306Z"
   },
   {
    "duration": 30,
    "start_time": "2023-02-21T12:25:39.345Z"
   },
   {
    "duration": 11,
    "start_time": "2023-02-21T12:25:39.377Z"
   },
   {
    "duration": 22,
    "start_time": "2023-02-21T12:25:39.390Z"
   },
   {
    "duration": 18,
    "start_time": "2023-02-21T12:25:39.413Z"
   },
   {
    "duration": 5,
    "start_time": "2023-02-21T12:25:39.432Z"
   },
   {
    "duration": 199,
    "start_time": "2023-02-21T12:25:39.439Z"
   },
   {
    "duration": 131,
    "start_time": "2023-02-21T12:25:39.640Z"
   },
   {
    "duration": 7,
    "start_time": "2023-02-21T12:25:39.772Z"
   },
   {
    "duration": 18,
    "start_time": "2023-02-21T12:25:39.781Z"
   },
   {
    "duration": 4,
    "start_time": "2023-02-21T12:25:39.801Z"
   },
   {
    "duration": 306,
    "start_time": "2023-02-21T12:25:39.808Z"
   },
   {
    "duration": 211,
    "start_time": "2023-02-21T12:25:40.116Z"
   },
   {
    "duration": 353,
    "start_time": "2023-02-21T12:25:40.341Z"
   },
   {
    "duration": 217,
    "start_time": "2023-02-21T12:25:40.699Z"
   },
   {
    "duration": 305,
    "start_time": "2023-02-21T12:25:40.918Z"
   },
   {
    "duration": 7,
    "start_time": "2023-02-21T12:25:41.225Z"
   },
   {
    "duration": 134,
    "start_time": "2023-02-21T12:25:41.234Z"
   },
   {
    "duration": 5,
    "start_time": "2023-02-21T12:25:41.369Z"
   },
   {
    "duration": 139,
    "start_time": "2023-02-21T12:25:41.375Z"
   },
   {
    "duration": 5,
    "start_time": "2023-02-21T12:25:41.515Z"
   },
   {
    "duration": 14,
    "start_time": "2023-02-21T12:25:41.522Z"
   },
   {
    "duration": 162,
    "start_time": "2023-02-21T12:25:41.537Z"
   },
   {
    "duration": 29,
    "start_time": "2023-02-21T12:25:41.701Z"
   },
   {
    "duration": 94,
    "start_time": "2023-02-21T12:25:41.731Z"
   },
   {
    "duration": 19,
    "start_time": "2023-02-21T12:25:41.826Z"
   },
   {
    "duration": 132,
    "start_time": "2023-02-21T12:25:41.847Z"
   },
   {
    "duration": 7,
    "start_time": "2023-02-21T12:25:41.980Z"
   },
   {
    "duration": 28,
    "start_time": "2023-02-21T12:25:41.988Z"
   },
   {
    "duration": 9,
    "start_time": "2023-02-21T12:25:42.018Z"
   },
   {
    "duration": 11,
    "start_time": "2023-02-21T12:25:42.029Z"
   },
   {
    "duration": 19,
    "start_time": "2023-02-21T12:25:42.042Z"
   },
   {
    "duration": 45,
    "start_time": "2023-02-21T12:25:42.063Z"
   },
   {
    "duration": 15,
    "start_time": "2023-02-21T12:25:42.110Z"
   },
   {
    "duration": 120,
    "start_time": "2023-04-19T08:59:18.365Z"
   },
   {
    "duration": 1149,
    "start_time": "2023-05-14T09:30:46.096Z"
   },
   {
    "duration": 72,
    "start_time": "2023-05-14T09:30:47.844Z"
   },
   {
    "duration": 81,
    "start_time": "2023-05-14T09:30:57.011Z"
   },
   {
    "duration": 135,
    "start_time": "2023-05-14T09:31:22.588Z"
   },
   {
    "duration": 74,
    "start_time": "2023-05-14T09:32:48.907Z"
   },
   {
    "duration": 292,
    "start_time": "2023-05-14T09:33:41.923Z"
   },
   {
    "duration": 1078,
    "start_time": "2023-05-14T09:33:53.612Z"
   },
   {
    "duration": 114,
    "start_time": "2023-05-14T09:33:54.692Z"
   },
   {
    "duration": 12,
    "start_time": "2023-05-14T09:33:54.808Z"
   },
   {
    "duration": 12,
    "start_time": "2023-05-14T09:33:54.822Z"
   },
   {
    "duration": 18,
    "start_time": "2023-05-14T09:33:54.836Z"
   },
   {
    "duration": 24,
    "start_time": "2023-05-14T09:33:54.855Z"
   },
   {
    "duration": 16,
    "start_time": "2023-05-14T09:33:54.881Z"
   },
   {
    "duration": 9,
    "start_time": "2023-05-14T09:33:54.898Z"
   },
   {
    "duration": 9,
    "start_time": "2023-05-14T09:33:54.908Z"
   },
   {
    "duration": 5,
    "start_time": "2023-05-14T09:33:54.920Z"
   },
   {
    "duration": 12,
    "start_time": "2023-05-14T09:33:54.926Z"
   },
   {
    "duration": 32,
    "start_time": "2023-05-14T09:33:54.940Z"
   },
   {
    "duration": 5,
    "start_time": "2023-05-14T09:33:54.973Z"
   },
   {
    "duration": 10,
    "start_time": "2023-05-14T09:33:54.980Z"
   },
   {
    "duration": 14,
    "start_time": "2023-05-14T09:33:54.992Z"
   },
   {
    "duration": 10,
    "start_time": "2023-05-14T09:33:55.008Z"
   },
   {
    "duration": 14,
    "start_time": "2023-05-14T09:33:55.020Z"
   },
   {
    "duration": 37,
    "start_time": "2023-05-14T09:33:55.035Z"
   },
   {
    "duration": 10,
    "start_time": "2023-05-14T09:33:55.074Z"
   },
   {
    "duration": 22,
    "start_time": "2023-05-14T09:33:55.085Z"
   },
   {
    "duration": 21,
    "start_time": "2023-05-14T09:33:55.109Z"
   },
   {
    "duration": 6,
    "start_time": "2023-05-14T09:33:55.132Z"
   },
   {
    "duration": 207,
    "start_time": "2023-05-14T09:33:55.140Z"
   },
   {
    "duration": 139,
    "start_time": "2023-05-14T09:33:55.349Z"
   },
   {
    "duration": 7,
    "start_time": "2023-05-14T09:33:55.489Z"
   },
   {
    "duration": 8,
    "start_time": "2023-05-14T09:33:55.497Z"
   },
   {
    "duration": 19,
    "start_time": "2023-05-14T09:33:55.507Z"
   },
   {
    "duration": 315,
    "start_time": "2023-05-14T09:33:55.530Z"
   },
   {
    "duration": 296,
    "start_time": "2023-05-14T09:33:55.847Z"
   },
   {
    "duration": 347,
    "start_time": "2023-05-14T09:33:56.145Z"
   },
   {
    "duration": 220,
    "start_time": "2023-05-14T09:33:56.494Z"
   },
   {
    "duration": 286,
    "start_time": "2023-05-14T09:33:56.716Z"
   },
   {
    "duration": 9,
    "start_time": "2023-05-14T09:33:57.004Z"
   },
   {
    "duration": 142,
    "start_time": "2023-05-14T09:33:57.014Z"
   },
   {
    "duration": 13,
    "start_time": "2023-05-14T09:33:57.158Z"
   },
   {
    "duration": 156,
    "start_time": "2023-05-14T09:33:57.172Z"
   },
   {
    "duration": 5,
    "start_time": "2023-05-14T09:33:57.329Z"
   },
   {
    "duration": 17,
    "start_time": "2023-05-14T09:33:57.336Z"
   },
   {
    "duration": 91,
    "start_time": "2023-05-14T09:33:57.355Z"
   },
   {
    "duration": 41,
    "start_time": "2023-05-14T09:33:57.448Z"
   },
   {
    "duration": 101,
    "start_time": "2023-05-14T09:33:57.491Z"
   },
   {
    "duration": 25,
    "start_time": "2023-05-14T09:33:57.594Z"
   },
   {
    "duration": 150,
    "start_time": "2023-05-14T09:33:57.621Z"
   },
   {
    "duration": 9,
    "start_time": "2023-05-14T09:33:57.773Z"
   },
   {
    "duration": 25,
    "start_time": "2023-05-14T09:33:57.784Z"
   },
   {
    "duration": 13,
    "start_time": "2023-05-14T09:33:57.811Z"
   },
   {
    "duration": 16,
    "start_time": "2023-05-14T09:33:57.826Z"
   },
   {
    "duration": 11,
    "start_time": "2023-05-14T09:33:57.872Z"
   },
   {
    "duration": 37,
    "start_time": "2023-05-14T09:33:57.885Z"
   },
   {
    "duration": 16,
    "start_time": "2023-05-14T09:33:57.924Z"
   },
   {
    "duration": 10,
    "start_time": "2023-05-14T09:36:44.456Z"
   },
   {
    "duration": 1142,
    "start_time": "2023-05-14T09:36:49.916Z"
   },
   {
    "duration": 132,
    "start_time": "2023-05-14T09:36:51.060Z"
   },
   {
    "duration": 13,
    "start_time": "2023-05-14T09:36:51.194Z"
   },
   {
    "duration": 32,
    "start_time": "2023-05-14T09:36:51.209Z"
   },
   {
    "duration": 510,
    "start_time": "2023-05-14T09:36:51.243Z"
   },
   {
    "duration": 40,
    "start_time": "2023-05-14T09:36:51.754Z"
   },
   {
    "duration": 66,
    "start_time": "2023-05-14T09:36:51.796Z"
   },
   {
    "duration": 78,
    "start_time": "2023-05-14T09:36:51.864Z"
   },
   {
    "duration": 58,
    "start_time": "2023-05-14T09:36:51.943Z"
   },
   {
    "duration": 132,
    "start_time": "2023-05-14T09:36:52.003Z"
   },
   {
    "duration": 187,
    "start_time": "2023-05-14T09:36:52.137Z"
   },
   {
    "duration": 113,
    "start_time": "2023-05-14T09:36:52.326Z"
   },
   {
    "duration": 56,
    "start_time": "2023-05-14T09:36:52.441Z"
   },
   {
    "duration": 43,
    "start_time": "2023-05-14T09:36:52.499Z"
   },
   {
    "duration": 23,
    "start_time": "2023-05-14T09:36:52.544Z"
   },
   {
    "duration": 27,
    "start_time": "2023-05-14T09:36:52.568Z"
   },
   {
    "duration": 26,
    "start_time": "2023-05-14T09:36:52.597Z"
   },
   {
    "duration": 40,
    "start_time": "2023-05-14T09:36:52.625Z"
   },
   {
    "duration": 35,
    "start_time": "2023-05-14T09:36:52.666Z"
   },
   {
    "duration": 28,
    "start_time": "2023-05-14T09:36:52.703Z"
   },
   {
    "duration": 25,
    "start_time": "2023-05-14T09:36:52.733Z"
   },
   {
    "duration": 20,
    "start_time": "2023-05-14T09:36:52.760Z"
   },
   {
    "duration": 183,
    "start_time": "2023-05-14T09:36:52.782Z"
   },
   {
    "duration": 145,
    "start_time": "2023-05-14T09:36:52.967Z"
   },
   {
    "duration": 9,
    "start_time": "2023-05-14T09:36:53.114Z"
   },
   {
    "duration": 19,
    "start_time": "2023-05-14T09:36:53.124Z"
   },
   {
    "duration": 49,
    "start_time": "2023-05-14T09:36:53.145Z"
   },
   {
    "duration": 336,
    "start_time": "2023-05-14T09:36:53.198Z"
   },
   {
    "duration": 253,
    "start_time": "2023-05-14T09:36:53.537Z"
   },
   {
    "duration": 323,
    "start_time": "2023-05-14T09:36:53.792Z"
   },
   {
    "duration": 232,
    "start_time": "2023-05-14T09:36:54.116Z"
   },
   {
    "duration": 351,
    "start_time": "2023-05-14T09:36:54.350Z"
   },
   {
    "duration": 8,
    "start_time": "2023-05-14T09:36:54.703Z"
   },
   {
    "duration": 178,
    "start_time": "2023-05-14T09:36:54.712Z"
   },
   {
    "duration": 6,
    "start_time": "2023-05-14T09:36:54.891Z"
   },
   {
    "duration": 164,
    "start_time": "2023-05-14T09:36:54.898Z"
   },
   {
    "duration": 15,
    "start_time": "2023-05-14T09:36:55.070Z"
   },
   {
    "duration": 14,
    "start_time": "2023-05-14T09:36:55.087Z"
   },
   {
    "duration": 97,
    "start_time": "2023-05-14T09:36:55.102Z"
   },
   {
    "duration": 44,
    "start_time": "2023-05-14T09:36:55.201Z"
   },
   {
    "duration": 110,
    "start_time": "2023-05-14T09:36:55.246Z"
   },
   {
    "duration": 28,
    "start_time": "2023-05-14T09:36:55.358Z"
   },
   {
    "duration": 151,
    "start_time": "2023-05-14T09:36:55.388Z"
   },
   {
    "duration": 8,
    "start_time": "2023-05-14T09:36:55.541Z"
   },
   {
    "duration": 42,
    "start_time": "2023-05-14T09:36:55.551Z"
   },
   {
    "duration": 23,
    "start_time": "2023-05-14T09:36:55.596Z"
   },
   {
    "duration": 27,
    "start_time": "2023-05-14T09:36:55.620Z"
   },
   {
    "duration": 39,
    "start_time": "2023-05-14T09:36:55.649Z"
   },
   {
    "duration": 28,
    "start_time": "2023-05-14T09:36:55.690Z"
   },
   {
    "duration": 19,
    "start_time": "2023-05-14T09:36:55.720Z"
   }
  ],
  "kernelspec": {
   "display_name": "Python 3 (ipykernel)",
   "language": "python",
   "name": "python3"
  },
  "language_info": {
   "codemirror_mode": {
    "name": "ipython",
    "version": 3
   },
   "file_extension": ".py",
   "mimetype": "text/x-python",
   "name": "python",
   "nbconvert_exporter": "python",
   "pygments_lexer": "ipython3",
   "version": "3.9.12"
  },
  "toc": {
   "base_numbering": 1,
   "nav_menu": {},
   "number_sections": true,
   "sideBar": true,
   "skip_h1_title": true,
   "title_cell": "Table of Contents",
   "title_sidebar": "Contents",
   "toc_cell": false,
   "toc_position": {},
   "toc_section_display": true,
   "toc_window_display": false
  }
 },
 "nbformat": 4,
 "nbformat_minor": 2
}
